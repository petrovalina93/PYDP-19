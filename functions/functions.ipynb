{
 "cells": [
  {
   "cell_type": "markdown",
   "metadata": {},
   "source": [
    "## Домашнее задание к лекции \"Функции\""
   ]
  },
  {
   "cell_type": "code",
   "execution_count": 1,
   "metadata": {},
   "outputs": [],
   "source": [
    "documents = [\n",
    " {'type': 'passport', 'number': '2207 876234', 'name': 'Василий Гупкин'},\n",
    " {'type': 'invoice', 'number': '11-2', 'name': 'Геннадий Покемонов'},\n",
    " {'type': 'insurance', 'number': '10006', 'name': 'Аристарх Павлов'}\n",
    "]"
   ]
  },
  {
   "cell_type": "code",
   "execution_count": 2,
   "metadata": {},
   "outputs": [],
   "source": [
    "directories = {\n",
    " '1': ['2207 876234', '11-2'],\n",
    " '2': ['10006'],\n",
    " '3': []\n",
    "}"
   ]
  },
  {
   "cell_type": "markdown",
   "metadata": {},
   "source": [
    "### Программа"
   ]
  },
  {
   "cell_type": "code",
   "execution_count": 13,
   "metadata": {},
   "outputs": [
    {
     "name": "stdout",
     "output_type": "stream",
     "text": [
      "Введите команду:  p\n",
      "Введите номер документа:  10006\n",
      "Владелец документа: Аристарх Павлов\n",
      "Введите команду:  p\n",
      "Введите номер документа:  12345\n",
      "Документ не найден в базе\n",
      "Введите команду:  s\n",
      "Введите номер документа:  10006\n",
      "Документ хранится на полке:  2\n",
      "Введите команду:  s\n",
      "Введите номер документа:  12345\n",
      "Документ не найден в базе\n",
      "Введите команду:  l\n",
      "№: 2207 876234, тип: passport, владелец: Василий Гупкин, полка хранения: 1\n",
      "№: 11-2, тип: invoice, владелец: Геннадий Покемонов, полка хранения: 1\n",
      "№: 10006, тип: insurance, владелец: Аристарх Павлов, полка хранения: 2\n",
      "Введите команду:  ads\n",
      "Введите номер полки:  10\n",
      "Полка добавлена. Текущий перечень полок: 1, 2, 3, 10\n",
      "Введите команду:  ads\n",
      "Введите номер полки:  1\n",
      "Такая полка уже существует. Текущий перечень полок: 1, 2, 3, 10\n",
      "Введите команду:  ds\n",
      "Введите номер полки:  10\n",
      "Полка удалена. Текущий перечень полок: 1, 2, 3\n",
      "Введите команду:  ds\n",
      "Введите номер полки:  1\n",
      "На полке есть документы, удалите их перед удалением полки. Текущий перечень полок: 1, 2, 3\n",
      "Введите команду:  ds\n",
      "Введите номер полки:  4\n",
      "Такой полки не существует. Текущий перечень полок: 1, 2, 3\n",
      "Введите команду:  ad\n",
      "Введите номер документа:  42\n",
      "Введите тип документа:  multipass\n",
      "Введите владельца документа:  rrr\n",
      "Введите полку для хранения:  3\n",
      "№: 2207 876234, тип: passport, владелец: Василий Гупкин, полка хранения: 1\n",
      "№: 11-2, тип: invoice, владелец: Геннадий Покемонов, полка хранения: 1\n",
      "№: 10006, тип: insurance, владелец: Аристарх Павлов, полка хранения: 2\n",
      "№: 42, тип: multipass, владелец: rrr, полка хранения: 3\n",
      "Документ добавлен. Текущий список документов:  см.выше\n",
      "Введите команду:  ad\n",
      "Введите номер документа:  58\n",
      "Введите тип документа:  pass\n",
      "Введите владельца документа:  ttt\n",
      "Введите полку для хранения:  4\n",
      "Такой полки не существует. Добавьте полку командой \"as\" \n",
      "Введите команду:  d\n",
      "Введите номер документа:  10006\n",
      "№: 2207 876234, тип: passport, владелец: Василий Гупкин, полка хранения: 1\n",
      "№: 11-2, тип: invoice, владелец: Геннадий Покемонов, полка хранения: 1\n",
      "№: 42, тип: multipass, владелец: rrr, полка хранения: 3\n",
      "Документ удален. Текущий список документов: см.выше\n",
      "Введите команду:  d\n",
      "Введите номер документа:  12356\n",
      "№: 2207 876234, тип: passport, владелец: Василий Гупкин, полка хранения: 1\n",
      "№: 11-2, тип: invoice, владелец: Геннадий Покемонов, полка хранения: 1\n",
      "№: 42, тип: multipass, владелец: rrr, полка хранения: 3\n",
      "Документ не найден в базе. Текущий список документов: см.выше\n",
      "Введите команду:  m\n",
      "Введите номер документа:  11-2\n",
      "Введите номер полки:  3\n",
      "№: 2207 876234, тип: passport, владелец: Василий Гупкин, полка хранения: 1\n",
      "№: 11-2, тип: invoice, владелец: Геннадий Покемонов, полка хранения: 3\n",
      "№: 42, тип: multipass, владелец: rrr, полка хранения: 3\n",
      "Документ перемещен. Текущий список документов: см.выше\n",
      "Введите команду:  m\n",
      "Введите номер документа:  11-2\n",
      "Введите номер полки:  10\n",
      "Такой полки не существует. Текущий перечень полок: 1, 2, 3\n",
      "Введите команду:  q\n",
      "Завершено\n"
     ]
    }
   ],
   "source": [
    "comand = ''\n",
    "while comand != 'q':\n",
    "    comand = input('Введите команду:  ')\n",
    "    if comand == 'p': result = print(doc_name())\n",
    "    elif comand == 's': result = print(doc_directorie())\n",
    "    elif comand == 'l': all_doc_info()\n",
    "    elif comand == 'ads': result = print(new_directorie())\n",
    "    elif comand == 'ds': result = print(del_directorie())\n",
    "    elif comand == 'ad': result = print(add_document())\n",
    "    elif comand == 'd': result = print(del_document())\n",
    "    elif comand == 'm': result = print(match_directorie())  \n",
    "print('Завершено')"
   ]
  },
  {
   "cell_type": "code",
   "execution_count": null,
   "metadata": {},
   "outputs": [],
   "source": [
    "?doc_name"
   ]
  },
  {
   "cell_type": "markdown",
   "metadata": {},
   "source": [
    "### Задание 1\n",
    "\n",
    "**Пункт 1. Пользователь по команде \"p\" может узнать владельца документа по его номеру**"
   ]
  },
  {
   "cell_type": "code",
   "execution_count": 3,
   "metadata": {},
   "outputs": [],
   "source": [
    "def doc_name():\n",
    "    \"\"\"\n",
    "    Пользователь по команде “p” может узнать владельца документа по его номеру\n",
    "    \"\"\"\n",
    "    doc_num = input('Введите номер документа:  ')\n",
    "    for line in documents:\n",
    "        if doc_num == line['number']:\n",
    "            return f\"Владелец документа: {line['name']}\"\n",
    "            break\n",
    "        else: \n",
    "            continue  \n",
    "    return 'Документ не найден в базе'"
   ]
  },
  {
   "cell_type": "code",
   "execution_count": null,
   "metadata": {},
   "outputs": [],
   "source": [
    "doc_name()"
   ]
  },
  {
   "cell_type": "markdown",
   "metadata": {},
   "source": [
    "**Пункт 2. Пользователь по команде \"s\" может по номеру документа узнать на какой полке он хранится**"
   ]
  },
  {
   "cell_type": "code",
   "execution_count": 4,
   "metadata": {},
   "outputs": [],
   "source": [
    "def doc_directorie():\n",
    "    \"\"\"\n",
    "    Пользователь по команде “s” может по номеру документа узнать на какой полке он хранится\n",
    "    \"\"\"\n",
    "    doc_num = input('Введите номер документа:  ')\n",
    "    for dir_num in directories:\n",
    "        if doc_num in directories[dir_num]:\n",
    "            return f'Документ хранится на полке:  {dir_num}'\n",
    "            break\n",
    "        else: \n",
    "            continue  \n",
    "    return 'Документ не найден в базе'"
   ]
  },
  {
   "cell_type": "code",
   "execution_count": null,
   "metadata": {},
   "outputs": [],
   "source": [
    "directories.values()"
   ]
  },
  {
   "cell_type": "code",
   "execution_count": null,
   "metadata": {},
   "outputs": [],
   "source": [
    "for dir_num in directories:\n",
    "    print(dir_num)\n",
    "    print(directories[dir_num])"
   ]
  },
  {
   "cell_type": "code",
   "execution_count": null,
   "metadata": {},
   "outputs": [],
   "source": [
    "doc_directorie()"
   ]
  },
  {
   "cell_type": "markdown",
   "metadata": {},
   "source": [
    "**Пункт 3. Пользователь по команде \"l\" может увидеть полную информацию по всем документам**"
   ]
  },
  {
   "cell_type": "code",
   "execution_count": null,
   "metadata": {},
   "outputs": [],
   "source": [
    "for line in documents:\n",
    "    print(f\"№: {line['number']}, тип: {line['type']}, владелец: {line['name']}\")"
   ]
  },
  {
   "cell_type": "code",
   "execution_count": 6,
   "metadata": {},
   "outputs": [
    {
     "name": "stdout",
     "output_type": "stream",
     "text": [
      "№: 2207 876234, тип: passport, владелец: Василий Гупкин, полка хранения: 1\n",
      "№: 11-2, тип: invoice, владелец: Геннадий Покемонов, полка хранения: 1\n",
      "№: 10006, тип: insurance, владелец: Аристарх Павлов, полка хранения: 2\n"
     ]
    },
    {
     "data": {
      "text/plain": [
       "'см.выше'"
      ]
     },
     "execution_count": 6,
     "metadata": {},
     "output_type": "execute_result"
    }
   ],
   "source": [
    "def all_doc_info():\n",
    "    \"\"\"\n",
    "    Пользователь по команде “l” может увидеть полную информацию по всем документам\n",
    "    \"\"\"\n",
    "    for line in documents:\n",
    "        for dir_num in directories:\n",
    "            if line['number'] in directories[dir_num]: \n",
    "                print(f\"№: {line['number']}, тип: {line['type']}, владелец: {line['name']}, полка хранения: {dir_num}\")\n",
    "    return('см.выше')\n",
    "    \n",
    "all_doc_info()\n",
    "    "
   ]
  },
  {
   "cell_type": "code",
   "execution_count": 5,
   "metadata": {},
   "outputs": [
    {
     "data": {
      "text/plain": [
       "'№: 2207 876234, тип: passport, владелец: Василий Гупкин, полка хранения: 1   №: 11-2, тип: invoice, владелец: Геннадий Покемонов, полка хранения: 1   №: 10006, тип: insurance, владелец: Аристарх Павлов, полка хранения: 2'"
      ]
     },
     "execution_count": 5,
     "metadata": {},
     "output_type": "execute_result"
    }
   ],
   "source": [
    "# с return\n",
    "\n",
    "def all_doc_info():\n",
    "    \"\"\"\n",
    "    Пользователь по команде “l” может увидеть полную информацию по всем документам\n",
    "    \"\"\"\n",
    "    res_ = []\n",
    "    for line in documents:\n",
    "        for dir_num in directories:\n",
    "            if line['number'] in directories[dir_num]:\n",
    "                    res_.append(f\"№: {line['number']}, тип: {line['type']}, владелец: {line['name']}, полка хранения: {dir_num}\")\n",
    "    return '   '.join(res_)   # как вставить перенос строки   '\\n' не работает ???\n",
    "#     return res_\n",
    "\n",
    "all_doc_info()"
   ]
  },
  {
   "cell_type": "markdown",
   "metadata": {},
   "source": [
    "**Пункт 4. Пользователь по команде \"ads\" может добавить новую полку**"
   ]
  },
  {
   "cell_type": "code",
   "execution_count": 7,
   "metadata": {},
   "outputs": [],
   "source": [
    "def new_directorie():\n",
    "    \"\"\"\n",
    "    Пользователь по команде “ads” может добавить новую полку\n",
    "    \"\"\"\n",
    "    dir_num = input('Введите номер полки:  ')\n",
    "    if dir_num not in list(directories.keys()):\n",
    "#         directories.update({dir_num: []}) \n",
    "        directories[dir_num] = []\n",
    "        return f'Полка добавлена. Текущий перечень полок: {(\", \".join(list(directories.keys())))}' \n",
    "    else:\n",
    "        return f'Такая полка уже существует. Текущий перечень полок: {(\", \".join(list(directories.keys())))}' "
   ]
  },
  {
   "cell_type": "code",
   "execution_count": null,
   "metadata": {},
   "outputs": [],
   "source": [
    "new_directorie()"
   ]
  },
  {
   "cell_type": "markdown",
   "metadata": {},
   "source": [
    "**Пункт 5. Пользователь по команде \"ds\" может удалить существующую полку из данных (только если она пустая)**"
   ]
  },
  {
   "cell_type": "code",
   "execution_count": 8,
   "metadata": {},
   "outputs": [],
   "source": [
    "def del_directorie():\n",
    "    \"\"\"\n",
    "    Пользователь по команде “ds” может удалить существующую полку из данных (только если она пустая)\n",
    "    \"\"\"\n",
    "    dir_num = input('Введите номер полки:  ')\n",
    "    if dir_num not in directories.keys():\n",
    "        return f'Такой полки не существует. Текущий перечень полок: {(\", \".join(list(directories.keys())))}'\n",
    "    elif directories[dir_num] != []:\n",
    "        return f'На полке есть документы, удалите их перед удалением полки. Текущий перечень полок: {(\", \".join(list(directories.keys())))}' \n",
    "    else:\n",
    "        directories.pop(dir_num)\n",
    "        return f'Полка удалена. Текущий перечень полок: {(\", \".join(list(directories.keys())))}'"
   ]
  },
  {
   "cell_type": "code",
   "execution_count": null,
   "metadata": {},
   "outputs": [],
   "source": [
    "directories"
   ]
  },
  {
   "cell_type": "code",
   "execution_count": null,
   "metadata": {},
   "outputs": [],
   "source": [
    "del_directorie()"
   ]
  },
  {
   "cell_type": "markdown",
   "metadata": {},
   "source": [
    "### Задание 2 (необязательное)\n",
    "Вам необходимо дополнить программу из задания 1 более продвинутыми командами.\n",
    "\n",
    "**Пункт 1. Пользователь по команде \"ad\" может добавить новый документ в данные**"
   ]
  },
  {
   "cell_type": "code",
   "execution_count": 9,
   "metadata": {},
   "outputs": [],
   "source": [
    "def add_document():\n",
    "    \"\"\"\n",
    "    Пользователь по команде “ad” может добавить новый документ в данные\n",
    "    \"\"\"\n",
    "    doc_num = input('Введите номер документа:  ')\n",
    "    doc_type = input('Введите тип документа:  ')\n",
    "    doc_name = input('Введите владельца документа:  ')\n",
    "    dir_num = input('Введите полку для хранения:  ')\n",
    "    if dir_num not in directories.keys():\n",
    "        return f'Такой полки не существует. Добавьте полку командой \"as\" '\n",
    "    else:\n",
    "        documents.append({'type': doc_type, 'number': doc_num, 'name': doc_name})\n",
    "        directories[dir_num] += [doc_num] \n",
    "        return f'Документ добавлен. Текущий список документов:  {all_doc_info()}'"
   ]
  },
  {
   "cell_type": "code",
   "execution_count": null,
   "metadata": {},
   "outputs": [],
   "source": [
    "add_document()"
   ]
  },
  {
   "cell_type": "code",
   "execution_count": null,
   "metadata": {},
   "outputs": [],
   "source": [
    "all_doc_info()"
   ]
  },
  {
   "cell_type": "code",
   "execution_count": null,
   "metadata": {},
   "outputs": [],
   "source": [
    "documents"
   ]
  },
  {
   "cell_type": "code",
   "execution_count": null,
   "metadata": {},
   "outputs": [],
   "source": [
    "directories"
   ]
  },
  {
   "cell_type": "markdown",
   "metadata": {},
   "source": [
    "**Пункт 2. Пользователь по команде \"d\" может удалить документ из данных**"
   ]
  },
  {
   "cell_type": "code",
   "execution_count": 10,
   "metadata": {},
   "outputs": [],
   "source": [
    "def del_document():\n",
    "    \"\"\"\n",
    "    Пользователь по команде “d” может удалить документ из данных\n",
    "    \"\"\"\n",
    "    doc_num = input('Введите номер документа:  ')\n",
    "    for doc_list in list(directories.values()): # удаляем сначала документ с полки\n",
    "                if doc_num in doc_list:\n",
    "                    doc_list.remove(doc_num)\n",
    "    for line in documents:\n",
    "        if doc_num == line['number']: \n",
    "            documents.remove(line) \n",
    "            return f'Документ удален. Текущий список документов: {all_doc_info()}'\n",
    "            break\n",
    "        else:\n",
    "            continue\n",
    "    return f'Документ не найден в базе. Текущий список документов: {all_doc_info()}'\n",
    "    "
   ]
  },
  {
   "cell_type": "code",
   "execution_count": null,
   "metadata": {},
   "outputs": [],
   "source": [
    "del_document()"
   ]
  },
  {
   "cell_type": "code",
   "execution_count": null,
   "metadata": {},
   "outputs": [],
   "source": [
    "doc_num = '5'\n",
    "for doc_list in list(directories.values()):\n",
    "                if doc_num in doc_list:\n",
    "                    doc_list.remove(doc_num) \n",
    "                else: print('не найдено')\n",
    "directories.values()"
   ]
  },
  {
   "cell_type": "markdown",
   "metadata": {},
   "source": [
    "**Пункт 3. Пользователь по команде \"m\" может переместить документ с полки на полку**"
   ]
  },
  {
   "cell_type": "code",
   "execution_count": 11,
   "metadata": {},
   "outputs": [],
   "source": [
    "def match_directorie():\n",
    "    \"\"\"\n",
    "    Пользователь по команде \"m\" может переместить документ с полки на полку\n",
    "    \"\"\"\n",
    "    doc_num = input('Введите номер документа:  ')\n",
    "    dir_num = input('Введите номер полки:  ')\n",
    "    if dir_num not in directories.keys():\n",
    "        return f'Такой полки не существует. Текущий перечень полок: {(\", \".join(list(directories.keys())))}'\n",
    "    for line in documents:\n",
    "        if doc_num == line['number']: \n",
    "            #\n",
    "            for doc_list in list(directories.values()): # удаляем сначала документ с полки\n",
    "                if doc_num in doc_list:\n",
    "                    doc_list.remove(doc_num)\n",
    "                    directories[dir_num] += [doc_num]\n",
    "            return f'Документ перемещен. Текущий список документов: {all_doc_info()}'\n",
    "            break\n",
    "        else:\n",
    "            continue\n",
    "    return f'Документ не найден в базе. Текущий список документов: {all_doc_info()}'\n",
    "            "
   ]
  },
  {
   "cell_type": "code",
   "execution_count": null,
   "metadata": {},
   "outputs": [],
   "source": [
    "add_document()"
   ]
  },
  {
   "cell_type": "code",
   "execution_count": null,
   "metadata": {},
   "outputs": [],
   "source": [
    "documents"
   ]
  },
  {
   "cell_type": "code",
   "execution_count": null,
   "metadata": {},
   "outputs": [],
   "source": [
    "directories"
   ]
  },
  {
   "cell_type": "code",
   "execution_count": null,
   "metadata": {},
   "outputs": [],
   "source": [
    "all_doc_info()"
   ]
  },
  {
   "cell_type": "code",
   "execution_count": null,
   "metadata": {},
   "outputs": [],
   "source": [
    "match_directorie()"
   ]
  }
 ],
 "metadata": {
  "kernelspec": {
   "display_name": "Python 3",
   "language": "python",
   "name": "python3"
  },
  "language_info": {
   "codemirror_mode": {
    "name": "ipython",
    "version": 3
   },
   "file_extension": ".py",
   "mimetype": "text/x-python",
   "name": "python",
   "nbconvert_exporter": "python",
   "pygments_lexer": "ipython3",
   "version": "3.8.5"
  }
 },
 "nbformat": 4,
 "nbformat_minor": 4
}
