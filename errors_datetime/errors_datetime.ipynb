{
 "cells": [
  {
   "cell_type": "markdown",
   "metadata": {},
   "source": [
    "## Домашнее задание к лекции «Исключения и обработка ошибок»"
   ]
  },
  {
   "cell_type": "markdown",
   "metadata": {},
   "source": [
    "### Задание 1\n",
    "**Печатные газеты использовали свой формат дат для каждого выпуска. Для каждой газеты из списка напишите формат указанной даты для перевода в объект datetime:\n",
    "The Moscow Times - Wednesday, October 2, 2002\n",
    "The Guardian - Friday, 11.10.13\n",
    "Daily News - Thursday, 18 August 1977**"
   ]
  },
  {
   "cell_type": "code",
   "execution_count": 6,
   "metadata": {},
   "outputs": [
    {
     "name": "stdout",
     "output_type": "stream",
     "text": [
      "2002-10-02 00:00:00\n",
      "2013-10-11 00:00:00\n",
      "1977-08-18 00:00:00\n"
     ]
    }
   ],
   "source": [
    "from datetime import datetime\n",
    "\n",
    "print(datetime.strptime('Wednesday, October 2, 2002', '%A, %B %d, %Y'))\n",
    "print(datetime.strptime('Friday, 11.10.13', '%A, %d.%m.%y'))\n",
    "print(datetime.strptime('Thursday, 18 August 1977', '%A, %d %B %Y'))"
   ]
  },
  {
   "cell_type": "markdown",
   "metadata": {},
   "source": [
    "### Задание 2\n",
    "**Дан поток дат в формате YYYY-MM-DD, в которых встречаются некорректные значения:\n",
    "stream = [‘2018-04-02’, ‘2018-02-29’, ‘2018-19-02’]**\n",
    "**Напишите функцию, которая проверяет эти даты на корректность. Т. е. для каждой даты возвращает True (дата корректна) или False (некорректная дата).**"
   ]
  },
  {
   "cell_type": "code",
   "execution_count": 58,
   "metadata": {},
   "outputs": [
    {
     "name": "stdout",
     "output_type": "stream",
     "text": [
      "0 True\n",
      "1 False\n",
      "2 False\n",
      "Всего некорректных дат -  2 шт. или 66.67 %\n"
     ]
    }
   ],
   "source": [
    "stream = ['2018-04-02', '2018-02-29', '2018-19-02']\n",
    "\n",
    "def date_check(stream):\n",
    "    bag = 0\n",
    "    for i, date in enumerate(stream):\n",
    "        try:\n",
    "            datetime.strptime(date, '%Y-%m-%d')\n",
    "            print(i, 'True')\n",
    "        except:\n",
    "            print(i, 'False')\n",
    "            bag += 1\n",
    "    print('Всего некорректных дат - ', bag, 'шт. или',  round((100*bag/len(stream)), 2), '%')\n",
    "\n",
    "date_check(stream)"
   ]
  },
  {
   "cell_type": "markdown",
   "metadata": {},
   "source": [
    "### Задание 3\n",
    "**Напишите функцию date_range, которая возвращает список дат за период от start_date до end_date. Даты должны вводиться в формате YYYY-MM-DD. В случае неверного формата или при start_date > end_date должен возвращаться пустой список.**"
   ]
  },
  {
   "cell_type": "code",
   "execution_count": 57,
   "metadata": {},
   "outputs": [
    {
     "name": "stdout",
     "output_type": "stream",
     "text": [
      "Введите начальную дату в формате YYYY-MM-DD   2021-01-01\n",
      "Введите конечную дату в формате YYYY-MM-DD   2021-01-10\n"
     ]
    },
    {
     "data": {
      "text/plain": [
       "['2021-01-01',\n",
       " '2021-01-02',\n",
       " '2021-01-03',\n",
       " '2021-01-04',\n",
       " '2021-01-05',\n",
       " '2021-01-06',\n",
       " '2021-01-07',\n",
       " '2021-01-08',\n",
       " '2021-01-09',\n",
       " '2021-01-10']"
      ]
     },
     "execution_count": 57,
     "metadata": {},
     "output_type": "execute_result"
    }
   ],
   "source": [
    "from datetime import timedelta\n",
    "\n",
    "def date_range():\n",
    "    date_range = []\n",
    "    start_date = input('Введите начальную дату в формате YYYY-MM-DD   ')\n",
    "    end_date = input('Введите конечную дату в формате YYYY-MM-DD   ')\n",
    "    try:\n",
    "        datetime.strptime(start_date, '%Y-%m-%d') and datetime.strptime(end_date, '%Y-%m-%d')\n",
    "        current_dt = datetime.strptime(start_date, '%Y-%m-%d')\n",
    "        if start_date <= end_date:\n",
    "            while current_dt.strftime('%Y-%m-%d') <= end_date:\n",
    "                date_range.append(current_dt.strftime('%Y-%m-%d'))\n",
    "                current_dt += timedelta(days=1) \n",
    "        else:\n",
    "            print('Дата начала больше конечной даты!')\n",
    "    except:\n",
    "        print('Некорректный ввод дат!')\n",
    "    return(date_range)\n",
    "\n",
    "date_range()"
   ]
  },
  {
   "cell_type": "code",
   "execution_count": 90,
   "metadata": {},
   "outputs": [
    {
     "name": "stdout",
     "output_type": "stream",
     "text": [
      "Введите начальную дату в формате YYYY-MM-DD   2021-10-01\n",
      "Введите конечную дату в формате YYYY-MM-DD   2021-01-01\n",
      "Дата начала больше конечной даты!\n"
     ]
    },
    {
     "data": {
      "text/plain": [
       "[]"
      ]
     },
     "execution_count": 90,
     "metadata": {},
     "output_type": "execute_result"
    }
   ],
   "source": [
    "date_range()"
   ]
  },
  {
   "cell_type": "code",
   "execution_count": 91,
   "metadata": {},
   "outputs": [
    {
     "name": "stdout",
     "output_type": "stream",
     "text": [
      "Введите начальную дату в формате YYYY-MM-DD   2021-01-01\n",
      "Введите конечную дату в формате YYYY-MM-DD   5\n",
      "Некорректный ввод дат!\n"
     ]
    },
    {
     "data": {
      "text/plain": [
       "[]"
      ]
     },
     "execution_count": 91,
     "metadata": {},
     "output_type": "execute_result"
    }
   ],
   "source": [
    "date_range()"
   ]
  },
  {
   "cell_type": "markdown",
   "metadata": {},
   "source": [
    "### Задание 4 (необязательное)\n",
    "**Ваш коллега прислал код функции:**\n",
    "\n",
    "DEFAULT_USER_COUNT = 3\n",
    "\n",
    "def delete_and_return_last_user(region, default_list=[‘A100’, ‘A101’, ‘A102’]):\n",
    "\"\"“\n",
    "Удаляет из списка default_list последнего пользователя\n",
    "и возвращает ID нового последнего пользователя.\n",
    "”\"\"\n",
    "element_to_delete = default_list[-1]\n",
    "default_list.remove(element_to_delete)\n",
    "\n",
    "1\n",
    "return default_list[DEFAULT_USER_COUNT-2]\n",
    "\n",
    "**При однократном вызове этой функции все работает корректно:\n",
    "delete_and_return_last_user(1)\n",
    "‘A101’**\n",
    "\n",
    "**Однако, при повторном вызове получается ошибка IndexError: list index out of range.**\n",
    "\n",
    "**Задание:**\n",
    "\n",
    "**Что значит ошибка list index out of range? \n",
    "Почему при первом запуске функция работает корректно, а при втором - нет?**"
   ]
  },
  {
   "cell_type": "markdown",
   "metadata": {},
   "source": [
    "Ответ:\n",
    "1. list index out of range - буквально Индекс списка вне диапазона, т.е. интерпретатор не может найти элемент с таким индексом при текущем состоянии списка\n",
    "2. ошибка возникает, т.к. в теле функции есть операция удаления элемента списка, что приводит к изменению его длины.\n",
    "при втором вызове команды возврат функции return пытается найти  элемент с индексом [1], но его в изменненном списке уже нет, поэтому ввыдается ошибка индекса списка.\n",
    " для решения проблемы нужно после основных действий, выполняемых функцией, делать поправку на изменение длины списка пользователей на единицу, но значение DEFAULT_USER_COUNT уменьшать на единицу не совсем удобно, т.к. эта переменная глобальная,\n",
    " лучше оперировать внутри функции непосредственно с текущей длиной списка и возвращать default_list[len(default_list)-1]\n"
   ]
  },
  {
   "cell_type": "code",
   "execution_count": 84,
   "metadata": {},
   "outputs": [],
   "source": [
    "DEFAULT_USER_COUNT = 3\n",
    "def delete_and_return_last_user(region, default_list=['A100', 'A101', 'A102']):\n",
    "    \"\"\"\n",
    "    Удаляет из списка default_list последнего пользователя\n",
    "    и возвращает ID нового последнего пользователя.\n",
    "    \"\"\"\n",
    "    element_to_delete = default_list[-1]\n",
    "    default_list.remove(element_to_delete)\n",
    "    while len(default_list) >= 1:\n",
    "        return default_list[len(default_list)-1]\n",
    "    return('Вы удалили последний элемент')"
   ]
  },
  {
   "cell_type": "code",
   "execution_count": 85,
   "metadata": {},
   "outputs": [
    {
     "data": {
      "text/plain": [
       "'A101'"
      ]
     },
     "execution_count": 85,
     "metadata": {},
     "output_type": "execute_result"
    }
   ],
   "source": [
    "delete_and_return_last_user(1)"
   ]
  },
  {
   "cell_type": "code",
   "execution_count": 86,
   "metadata": {},
   "outputs": [
    {
     "data": {
      "text/plain": [
       "'A100'"
      ]
     },
     "execution_count": 86,
     "metadata": {},
     "output_type": "execute_result"
    }
   ],
   "source": [
    "delete_and_return_last_user(1)"
   ]
  },
  {
   "cell_type": "code",
   "execution_count": 87,
   "metadata": {},
   "outputs": [
    {
     "data": {
      "text/plain": [
       "'Вы удалили последний элемент'"
      ]
     },
     "execution_count": 87,
     "metadata": {},
     "output_type": "execute_result"
    }
   ],
   "source": [
    "delete_and_return_last_user(1)"
   ]
  }
 ],
 "metadata": {
  "kernelspec": {
   "display_name": "Python 3",
   "language": "python",
   "name": "python3"
  },
  "language_info": {
   "codemirror_mode": {
    "name": "ipython",
    "version": 3
   },
   "file_extension": ".py",
   "mimetype": "text/x-python",
   "name": "python",
   "nbconvert_exporter": "python",
   "pygments_lexer": "ipython3",
   "version": "3.8.5"
  }
 },
 "nbformat": 4,
 "nbformat_minor": 4
}
