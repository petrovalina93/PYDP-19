{
 "cells": [
  {
   "cell_type": "markdown",
   "metadata": {},
   "source": [
    "## Сделаем оглавление со ссылками"
   ]
  },
  {
   "cell_type": "markdown",
   "metadata": {},
   "source": [
    "### Оглавление\n",
    "\n",
    "1. [Задача 1](#task1)  \n",
    "   1.1 [Подзадача 1.1](#task11)  \n",
    "   1.2 [Подзадача 1.2](#task12)  \n",
    "2. [Задача 2](#task2)"
   ]
  },
  {
   "cell_type": "markdown",
   "metadata": {},
   "source": [
    "### Как можно \"разгладить\" список"
   ]
  },
  {
   "cell_type": "code",
   "execution_count": 18,
   "metadata": {},
   "outputs": [],
   "source": [
    "my_list = [['Екатеринбург', 'Москва'], ['Санкт-Петербург', 'Норильск'], ['Пермь', 'Астрахань']]"
   ]
  },
  {
   "cell_type": "code",
   "execution_count": 3,
   "metadata": {},
   "outputs": [
    {
     "data": {
      "text/plain": [
       "['Екатеринбург', 'Москва', 'Санкт-Петербург', 'Норильск', 'Пермь', 'Астрахань']"
      ]
     },
     "execution_count": 3,
     "metadata": {},
     "output_type": "execute_result"
    }
   ],
   "source": [
    "res = []\n",
    "\n",
    "for el in my_list:\n",
    "    for i in el:\n",
    "        res.append(i)\n",
    "res"
   ]
  },
  {
   "cell_type": "code",
   "execution_count": 2,
   "metadata": {},
   "outputs": [
    {
     "data": {
      "text/plain": [
       "['Екатеринбург', 'Москва', 'Санкт-Петербург', 'Норильск', 'Пермь', 'Астрахань']"
      ]
     },
     "execution_count": 2,
     "metadata": {},
     "output_type": "execute_result"
    }
   ],
   "source": [
    "res = []\n",
    "\n",
    "for el in my_list:\n",
    "    res += el\n",
    "res"
   ]
  },
  {
   "cell_type": "code",
   "execution_count": 4,
   "metadata": {},
   "outputs": [
    {
     "data": {
      "text/plain": [
       "['Екатеринбург', 'Москва', 'Санкт-Петербург', 'Норильск', 'Пермь', 'Астрахань']"
      ]
     },
     "execution_count": 4,
     "metadata": {},
     "output_type": "execute_result"
    }
   ],
   "source": [
    "res = []\n",
    "\n",
    "for el in my_list:\n",
    "    res.extend(el)\n",
    "res"
   ]
  },
  {
   "cell_type": "code",
   "execution_count": 12,
   "metadata": {},
   "outputs": [
    {
     "data": {
      "text/plain": [
       "[['Екатеринбург', 'Москва'],\n",
       " ['Санкт-Петербург', 'Норильск'],\n",
       " ['Пермь', 'Астрахань']]"
      ]
     },
     "execution_count": 12,
     "metadata": {},
     "output_type": "execute_result"
    }
   ],
   "source": [
    "# res = []\n",
    "# [res+el for el in my_list]"
   ]
  },
  {
   "cell_type": "code",
   "execution_count": 15,
   "metadata": {},
   "outputs": [
    {
     "name": "stdout",
     "output_type": "stream",
     "text": [
      "['Екатеринбург', 'Москва', 'Санкт-Петербург', 'Норильск', 'Пермь', 'Астрахань']\n",
      "[None, None, None]\n"
     ]
    }
   ],
   "source": [
    "# res = []\n",
    "# new_list = [res.extend(el) for el in my_list]\n",
    "# print(res)\n",
    "# print(new_list)"
   ]
  },
  {
   "cell_type": "code",
   "execution_count": 14,
   "metadata": {},
   "outputs": [
    {
     "name": "stdout",
     "output_type": "stream",
     "text": [
      "1\n",
      "2\n",
      "3\n",
      "4\n"
     ]
    },
    {
     "data": {
      "text/plain": [
       "[None, None, None, None]"
      ]
     },
     "execution_count": 14,
     "metadata": {},
     "output_type": "execute_result"
    }
   ],
   "source": [
    "# [print(el) for el in range(1, 5)]"
   ]
  },
  {
   "cell_type": "code",
   "execution_count": 20,
   "metadata": {},
   "outputs": [
    {
     "data": {
      "text/plain": [
       "18"
      ]
     },
     "execution_count": 20,
     "metadata": {},
     "output_type": "execute_result"
    }
   ],
   "source": [
    "sum([5, 6, 7])"
   ]
  },
  {
   "cell_type": "code",
   "execution_count": 21,
   "metadata": {},
   "outputs": [
    {
     "data": {
      "text/plain": [
       "18"
      ]
     },
     "execution_count": 21,
     "metadata": {},
     "output_type": "execute_result"
    }
   ],
   "source": [
    "res = 0\n",
    "for number in [5, 6, 7]:\n",
    "    res += number\n",
    "res"
   ]
  },
  {
   "cell_type": "code",
   "execution_count": 22,
   "metadata": {},
   "outputs": [],
   "source": [
    "?sum"
   ]
  },
  {
   "cell_type": "code",
   "execution_count": 23,
   "metadata": {},
   "outputs": [
    {
     "data": {
      "text/plain": [
       "['Екатеринбург', 'Москва', 'Санкт-Петербург', 'Норильск', 'Пермь', 'Астрахань']"
      ]
     },
     "execution_count": 23,
     "metadata": {},
     "output_type": "execute_result"
    }
   ],
   "source": [
    "my_list = [['Екатеринбург', 'Москва'], ['Санкт-Петербург', 'Норильск'], ['Пермь', 'Астрахань']]\n",
    "sum(my_list, [])"
   ]
  },
  {
   "cell_type": "markdown",
   "metadata": {},
   "source": [
    "### Разница между append и extend"
   ]
  },
  {
   "cell_type": "code",
   "execution_count": 24,
   "metadata": {},
   "outputs": [],
   "source": [
    "new_list = [5, 6]\n",
    "new_item = 5"
   ]
  },
  {
   "cell_type": "code",
   "execution_count": 25,
   "metadata": {},
   "outputs": [
    {
     "data": {
      "text/plain": [
       "[1, 2, 3, 4, [5, 6]]"
      ]
     },
     "execution_count": 25,
     "metadata": {},
     "output_type": "execute_result"
    }
   ],
   "source": [
    "my_list = [1, 2, 3, 4]\n",
    "my_list.append(new_list)\n",
    "my_list"
   ]
  },
  {
   "cell_type": "code",
   "execution_count": 26,
   "metadata": {},
   "outputs": [
    {
     "data": {
      "text/plain": [
       "[1, 2, 3, 4, 5]"
      ]
     },
     "execution_count": 26,
     "metadata": {},
     "output_type": "execute_result"
    }
   ],
   "source": [
    "my_list = [1, 2, 3, 4]\n",
    "my_list.append(new_item)\n",
    "my_list"
   ]
  },
  {
   "cell_type": "code",
   "execution_count": 27,
   "metadata": {},
   "outputs": [
    {
     "data": {
      "text/plain": [
       "[1, 2, 3, 4, 5, 6]"
      ]
     },
     "execution_count": 27,
     "metadata": {},
     "output_type": "execute_result"
    }
   ],
   "source": [
    "my_list = [1, 2, 3, 4]\n",
    "my_list.extend(new_list)\n",
    "my_list"
   ]
  },
  {
   "cell_type": "code",
   "execution_count": 28,
   "metadata": {},
   "outputs": [
    {
     "ename": "TypeError",
     "evalue": "'int' object is not iterable",
     "output_type": "error",
     "traceback": [
      "\u001b[1;31m---------------------------------------------------------------------------\u001b[0m",
      "\u001b[1;31mTypeError\u001b[0m                                 Traceback (most recent call last)",
      "\u001b[1;32m<ipython-input-28-cd6c1a591d80>\u001b[0m in \u001b[0;36m<module>\u001b[1;34m\u001b[0m\n\u001b[0;32m      1\u001b[0m \u001b[0mmy_list\u001b[0m \u001b[1;33m=\u001b[0m \u001b[1;33m[\u001b[0m\u001b[1;36m1\u001b[0m\u001b[1;33m,\u001b[0m \u001b[1;36m2\u001b[0m\u001b[1;33m,\u001b[0m \u001b[1;36m3\u001b[0m\u001b[1;33m,\u001b[0m \u001b[1;36m4\u001b[0m\u001b[1;33m]\u001b[0m\u001b[1;33m\u001b[0m\u001b[1;33m\u001b[0m\u001b[0m\n\u001b[1;32m----> 2\u001b[1;33m \u001b[0mmy_list\u001b[0m\u001b[1;33m.\u001b[0m\u001b[0mextend\u001b[0m\u001b[1;33m(\u001b[0m\u001b[0mnew_item\u001b[0m\u001b[1;33m)\u001b[0m\u001b[1;33m\u001b[0m\u001b[1;33m\u001b[0m\u001b[0m\n\u001b[0m\u001b[0;32m      3\u001b[0m \u001b[0mmy_list\u001b[0m\u001b[1;33m\u001b[0m\u001b[1;33m\u001b[0m\u001b[0m\n",
      "\u001b[1;31mTypeError\u001b[0m: 'int' object is not iterable"
     ]
    }
   ],
   "source": [
    "my_list = [1, 2, 3, 4]\n",
    "my_list.extend(new_item)\n",
    "my_list"
   ]
  },
  {
   "cell_type": "markdown",
   "metadata": {},
   "source": [
    "### Изменение структуры во время итерации по ней \n",
    "\n",
    "Дан список с визитами по городам и странам. \n",
    "Напишем код, который возвращает отфильтрованный список geo_logs, содержащий только визиты из России.\n"
   ]
  },
  {
   "cell_type": "code",
   "execution_count": 52,
   "metadata": {},
   "outputs": [],
   "source": [
    "geo_logs = [\n",
    "    {'visit1': ['Москва', 'Россия']},\n",
    "    {'visit2': ['Дели', 'Индия']},\n",
    "    {'visit3': ['Владимир', 'Россия']},\n",
    "    {'visit4': ['Лиссабон', 'Португалия']},\n",
    "    {'visit5': ['Париж', 'Франция']},\n",
    "    {'visit7': ['Тула', 'Россия']},\n",
    "    {'visit9': ['Курск', 'Россия']},\n",
    "    {'visit10': ['Архангельск', 'Россия']}\n",
    "]"
   ]
  },
  {
   "cell_type": "code",
   "execution_count": 41,
   "metadata": {},
   "outputs": [
    {
     "data": {
      "text/plain": [
       "[{'visit1': ['Москва', 'Россия']},\n",
       " {'visit3': ['Владимир', 'Россия']},\n",
       " {'visit5': ['Париж', 'Франция']},\n",
       " {'visit7': ['Тула', 'Россия']},\n",
       " {'visit9': ['Курск', 'Россия']},\n",
       " {'visit10': ['Архангельск', 'Россия']}]"
      ]
     },
     "execution_count": 41,
     "metadata": {},
     "output_type": "execute_result"
    }
   ],
   "source": [
    "for log in geo_logs:\n",
    "    for el in log.values():\n",
    "        if el[1] != 'Россия':\n",
    "            geo_logs.remove(log)\n",
    "\n",
    "geo_logs"
   ]
  },
  {
   "cell_type": "code",
   "execution_count": 46,
   "metadata": {},
   "outputs": [
    {
     "data": {
      "text/plain": [
       "[{'visit1': ['Москва', 'Россия']},\n",
       " {'visit3': ['Владимир', 'Россия']},\n",
       " {'visit7': ['Тула', 'Россия']},\n",
       " {'visit9': ['Курск', 'Россия']},\n",
       " {'visit10': ['Архангельск', 'Россия']}]"
      ]
     },
     "execution_count": 46,
     "metadata": {},
     "output_type": "execute_result"
    }
   ],
   "source": [
    "res = []\n",
    "\n",
    "for log in geo_logs: \n",
    "#     print(list(log.values()))\n",
    "    if 'Россия' == list(log.values())[0][1]:\n",
    "        res.append(log)\n",
    "\n",
    "res"
   ]
  },
  {
   "cell_type": "code",
   "execution_count": 48,
   "metadata": {},
   "outputs": [],
   "source": [
    "geo_logs_copy = geo_logs.copy()\n",
    "for log in geo_logs_copy: \n",
    "    if 'Россия' != list(log.values())[0][1]:\n",
    "        geo_logs.remove(log)"
   ]
  },
  {
   "cell_type": "code",
   "execution_count": 49,
   "metadata": {},
   "outputs": [
    {
     "data": {
      "text/plain": [
       "[{'visit1': ['Москва', 'Россия']},\n",
       " {'visit3': ['Владимир', 'Россия']},\n",
       " {'visit7': ['Тула', 'Россия']},\n",
       " {'visit9': ['Курск', 'Россия']},\n",
       " {'visit10': ['Архангельск', 'Россия']}]"
      ]
     },
     "execution_count": 49,
     "metadata": {},
     "output_type": "execute_result"
    }
   ],
   "source": [
    "# geo_logs"
   ]
  },
  {
   "cell_type": "code",
   "execution_count": 53,
   "metadata": {},
   "outputs": [
    {
     "data": {
      "text/plain": [
       "[{'visit1': ['Москва', 'Россия']},\n",
       " {'visit3': ['Владимир', 'Россия']},\n",
       " {'visit7': ['Тула', 'Россия']},\n",
       " {'visit9': ['Курск', 'Россия']},\n",
       " {'visit10': ['Архангельск', 'Россия']}]"
      ]
     },
     "execution_count": 53,
     "metadata": {},
     "output_type": "execute_result"
    }
   ],
   "source": [
    "list(filter(lambda log: 'Россия' == list(log.values())[0][1], geo_logs))"
   ]
  },
  {
   "cell_type": "markdown",
   "metadata": {},
   "source": [
    "### Как можно отсоритровать словарь?"
   ]
  },
  {
   "cell_type": "code",
   "execution_count": 61,
   "metadata": {},
   "outputs": [],
   "source": [
    "my_dict = {\n",
    "    'id1': 654321, \n",
    "    'id2': 123456, \n",
    "    'id3': 777777\n",
    "}"
   ]
  },
  {
   "cell_type": "code",
   "execution_count": 63,
   "metadata": {},
   "outputs": [
    {
     "data": {
      "text/plain": [
       "{'id2': 123456, 'id1': 654321, 'id3': 777777}"
      ]
     },
     "execution_count": 63,
     "metadata": {},
     "output_type": "execute_result"
    }
   ],
   "source": [
    "{key: my_dict[key] for key in sorted(my_dict, key=my_dict.get)} "
   ]
  },
  {
   "cell_type": "markdown",
   "metadata": {},
   "source": [
    "### Задача из ДЗ какого-то"
   ]
  },
  {
   "cell_type": "code",
   "execution_count": 64,
   "metadata": {},
   "outputs": [],
   "source": [
    "stream = [\n",
    "    '2018-01-01,user1,3',\n",
    "    '2018-01-07,user1,4',\n",
    "    '2018-03-29,user1,1',\n",
    "    '2018-04-04,user1,13',\n",
    "    '2018-01-05,user2,7',\n",
    "    '2018-06-14,user3,4',\n",
    "    '2018-07-02,user3,10',\n",
    "    '2018-03-21,user4,19',\n",
    "    '2018-03-22,user4,4',\n",
    "    '2018-04-22,user4,8',\n",
    "    '2018-05-03,user4,9',\n",
    "    '2018-05-11,user4,11',\n",
    "]"
   ]
  },
  {
   "cell_type": "code",
   "execution_count": 65,
   "metadata": {},
   "outputs": [
    {
     "ename": "SyntaxError",
     "evalue": "unexpected EOF while parsing (<ipython-input-65-1c09b0d4d600>, line 1)",
     "output_type": "error",
     "traceback": [
      "\u001b[1;36m  File \u001b[1;32m\"<ipython-input-65-1c09b0d4d600>\"\u001b[1;36m, line \u001b[1;32m1\u001b[0m\n\u001b[1;33m    for el in stream:\u001b[0m\n\u001b[1;37m                     ^\u001b[0m\n\u001b[1;31mSyntaxError\u001b[0m\u001b[1;31m:\u001b[0m unexpected EOF while parsing\n"
     ]
    }
   ],
   "source": [
    "views = 0\n",
    "unique_u = []\n",
    "\n",
    "for el in stream:\n",
    "    splitted_el = el.split(',')\n",
    "    views += splitted_el[...]\n",
    "    if splitted_el[...] not in unique_u:\n",
    "        ..."
   ]
  },
  {
   "cell_type": "markdown",
   "metadata": {},
   "source": [
    "### Посчитаем средний возраст в коллективе"
   ]
  },
  {
   "cell_type": "code",
   "execution_count": 66,
   "metadata": {},
   "outputs": [],
   "source": [
    "people = {1: {'name': 'Oleg', 'age': '29', 'sex': 'Male'},\n",
    "          2: {'name': 'Kate', 'age': '21', 'sex': 'Female'},\n",
    "          3: {'name': 'Liza', 'age': '24', 'sex': 'Female'},\n",
    "          4: {'name': 'Pavel', 'age': '36', 'sex': 'Male'}}"
   ]
  },
  {
   "cell_type": "code",
   "execution_count": 67,
   "metadata": {},
   "outputs": [
    {
     "name": "stdout",
     "output_type": "stream",
     "text": [
      "27.5\n"
     ]
    }
   ],
   "source": [
    "age = 0\n",
    "\n",
    "for person in people:\n",
    "    age += int(people[person]['age'])\n",
    "    \n",
    "age = age/len(people)\n",
    "print(age)"
   ]
  },
  {
   "cell_type": "code",
   "execution_count": 68,
   "metadata": {},
   "outputs": [
    {
     "name": "stdout",
     "output_type": "stream",
     "text": [
      "27.5\n"
     ]
    }
   ],
   "source": [
    "res = sum([int(value['age']) for value in people.values()]) / len(people)\n",
    "print(res)"
   ]
  },
  {
   "cell_type": "code",
   "execution_count": 71,
   "metadata": {},
   "outputs": [
    {
     "name": "stdout",
     "output_type": "stream",
     "text": [
      "27.5\n"
     ]
    }
   ],
   "source": [
    "vozrast = 0\n",
    "for i in range(0, len(people)):\n",
    "    vozrast += int(people[i+1]['age'])\n",
    "    \n",
    "print(vozrast / len(people))"
   ]
  },
  {
   "cell_type": "code",
   "execution_count": 72,
   "metadata": {},
   "outputs": [
    {
     "name": "stdout",
     "output_type": "stream",
     "text": [
      "27.5\n"
     ]
    }
   ],
   "source": [
    "age = 0\n",
    "\n",
    "for person in people.values():\n",
    "    age += int(person['age'])\n",
    "    \n",
    "age = age / len(people)\n",
    "print(age)"
   ]
  },
  {
   "cell_type": "markdown",
   "metadata": {},
   "source": [
    "### Практика. Посчитаем сколько раз каждое слово встречалось в тексте \n",
    "Вывести в формате: \"слово\": \"количество вхождений\"\n",
    "\n",
    "За разделитель считаем пробел, все слова приводим к нижнему регистру"
   ]
  },
  {
   "cell_type": "code",
   "execution_count": 78,
   "metadata": {},
   "outputs": [],
   "source": [
    "some_oxy_text = '''\n",
    "Весь мой рэп, если коротко, про то, что\n",
    "Уж который год который город под подошвой\n",
    "В гору, когда прет. Потом под гору, когда тошно\n",
    "Я не то, что Гулливер, но все же город под подошвой\n",
    "Город под подошвой, город под подошвой\n",
    "Светофоры, госпошлины, сборы и таможни\n",
    "Я не знаю, вброд или на дно эта дорожка\n",
    "Ты живешь под каблуком, у меня - город под подошвой\n",
    "'''\n",
    "\n"
   ]
  },
  {
   "cell_type": "code",
   "execution_count": 81,
   "metadata": {},
   "outputs": [
    {
     "data": {
      "text/plain": [
       "{'Весь': 1,\n",
       " 'мой': 1,\n",
       " 'рэп,': 1,\n",
       " 'если': 1,\n",
       " 'коротко,': 1,\n",
       " 'про': 1,\n",
       " 'то,': 2,\n",
       " 'что': 2,\n",
       " 'Уж': 1,\n",
       " 'который': 2,\n",
       " 'год': 1,\n",
       " 'город': 4,\n",
       " 'под': 7,\n",
       " 'подошвой': 4,\n",
       " 'В': 1,\n",
       " 'гору,': 2,\n",
       " 'когда': 2,\n",
       " 'прет.': 1,\n",
       " 'Потом': 1,\n",
       " 'тошно': 1,\n",
       " 'Я': 2,\n",
       " 'не': 2,\n",
       " 'Гулливер,': 1,\n",
       " 'но': 1,\n",
       " 'все': 1,\n",
       " 'же': 1,\n",
       " 'Город': 1,\n",
       " 'подошвой,': 1,\n",
       " 'Светофоры,': 1,\n",
       " 'госпошлины,': 1,\n",
       " 'сборы': 1,\n",
       " 'и': 1,\n",
       " 'таможни': 1,\n",
       " 'знаю,': 1,\n",
       " 'вброд': 1,\n",
       " 'или': 1,\n",
       " 'на': 1,\n",
       " 'дно': 1,\n",
       " 'эта': 1,\n",
       " 'дорожка': 1,\n",
       " 'Ты': 1,\n",
       " 'живешь': 1,\n",
       " 'каблуком,': 1,\n",
       " 'у': 1,\n",
       " 'меня': 1,\n",
       " '-': 1}"
      ]
     },
     "execution_count": 81,
     "metadata": {},
     "output_type": "execute_result"
    }
   ],
   "source": [
    "dictinary_world = {}\n",
    "for world in some_oxy_text.split() :\n",
    "    if world not in dictinary_world.keys() :\n",
    "        dictinary_world[world] = 1\n",
    "    else:\n",
    "        dictinary_world[world] += 1 \n",
    "dictinary_world"
   ]
  },
  {
   "cell_type": "code",
   "execution_count": 82,
   "metadata": {},
   "outputs": [
    {
     "data": {
      "text/plain": [
       "{'Весь': 1,\n",
       " 'мой': 1,\n",
       " 'рэп': 1,\n",
       " 'если': 1,\n",
       " 'коротко': 1,\n",
       " 'про': 1,\n",
       " 'то': 2,\n",
       " 'что': 2,\n",
       " 'Уж': 1,\n",
       " 'который': 2,\n",
       " 'год': 1,\n",
       " 'город': 4,\n",
       " 'под': 7,\n",
       " 'подошвой': 5,\n",
       " 'В': 1,\n",
       " 'гору': 2,\n",
       " 'когда': 2,\n",
       " 'прет': 1,\n",
       " 'Потом': 1,\n",
       " 'тошно': 1,\n",
       " 'Я': 2,\n",
       " 'не': 2,\n",
       " 'Гулливер': 1,\n",
       " 'но': 1,\n",
       " 'все': 1,\n",
       " 'же': 1,\n",
       " 'Город': 1,\n",
       " 'Светофоры': 1,\n",
       " 'госпошлины': 1,\n",
       " 'сборы': 1,\n",
       " 'и': 1,\n",
       " 'таможни': 1,\n",
       " 'знаю': 1,\n",
       " 'вброд': 1,\n",
       " 'или': 1,\n",
       " 'на': 1,\n",
       " 'дно': 1,\n",
       " 'эта': 1,\n",
       " 'дорожка': 1,\n",
       " 'Ты': 1,\n",
       " 'живешь': 1,\n",
       " 'каблуком': 1,\n",
       " 'у': 1,\n",
       " 'меня': 1,\n",
       " '-': 1}"
      ]
     },
     "execution_count": 82,
     "metadata": {},
     "output_type": "execute_result"
    }
   ],
   "source": [
    "list_ = some_oxy_text.replace(',', '').replace('.', '').split()\n",
    "\n",
    "dict_ = {}\n",
    "for word in list_:\n",
    "    if word in dict_:\n",
    "        \n",
    "        dict_[word] += 1\n",
    "    else:\n",
    "        dict_[word] = 1\n",
    "        \n",
    "dict_"
   ]
  },
  {
   "cell_type": "code",
   "execution_count": 83,
   "metadata": {},
   "outputs": [
    {
     "name": "stdout",
     "output_type": "stream",
     "text": [
      "введите словогород\n",
      "4\n"
     ]
    }
   ],
   "source": [
    "a = input('введите слово')\n",
    "d = list(some_oxy_text.split(' '))\n",
    "c = 0\n",
    "for i in d:\n",
    "    if a in i: c +=1\n",
    "print(c)"
   ]
  },
  {
   "cell_type": "code",
   "execution_count": 87,
   "metadata": {
    "scrolled": true
   },
   "outputs": [
    {
     "name": "stdout",
     "output_type": "stream",
     "text": [
      "эта : 1\n",
      "весь : 1\n",
      "тошно : 1\n",
      "что : 2\n",
      "год : 1\n",
      "светофоры : 1\n",
      "на : 1\n",
      "город : 5\n",
      "все : 1\n",
      "уж : 1\n",
      "меня : 1\n",
      "я : 2\n",
      "мой : 1\n",
      "ты : 1\n",
      "если : 1\n",
      "дорожка : 1\n",
      "каблуком : 1\n",
      "прет : 1\n",
      "живешь : 1\n",
      "же : 1\n",
      "госпошлины : 1\n",
      "у : 1\n",
      "когда : 2\n",
      "который : 2\n",
      "сборы : 1\n",
      "про : 1\n",
      "рэп : 1\n",
      "знаю : 1\n",
      "дно : 1\n",
      "потом : 1\n",
      "то : 2\n",
      "гору : 2\n",
      "не : 2\n",
      "коротко : 1\n",
      "и : 1\n",
      "таможни : 1\n",
      "вброд : 1\n",
      "подошвой : 5\n",
      "под : 7\n",
      "в : 1\n",
      "но : 1\n",
      "или : 1\n",
      "гулливер : 1\n"
     ]
    }
   ],
   "source": [
    "list_oxy = some_oxy_text.replace(',', '').replace('.', '').replace('-', '').lower().split()\n",
    "# print(list_oxy)\n",
    "\n",
    "set_oxy = set(list_oxy)\n",
    "for i in set_oxy:\n",
    "  n = list_oxy.count(i)\n",
    "  print(i, ':', n)"
   ]
  },
  {
   "cell_type": "markdown",
   "metadata": {},
   "source": [
    "### Практика. Удалим из словаря все пустые элементы (со значением None)"
   ]
  },
  {
   "cell_type": "code",
   "execution_count": 97,
   "metadata": {},
   "outputs": [],
   "source": [
    "my_dict = {\n",
    "    'id1': 123456, \n",
    "    'id2': 654321, \n",
    "    'id3': None,\n",
    "    'id4': 777777\n",
    "}"
   ]
  },
  {
   "cell_type": "code",
   "execution_count": 91,
   "metadata": {},
   "outputs": [
    {
     "data": {
      "text/plain": [
       "{'id1': 123456, 'id2': 654321, 'id4': 777777}"
      ]
     },
     "execution_count": 91,
     "metadata": {},
     "output_type": "execute_result"
    }
   ],
   "source": [
    "new_dict = {key: value for key, value in my_dict.items() if value}\n",
    "new_dict"
   ]
  },
  {
   "cell_type": "code",
   "execution_count": 92,
   "metadata": {},
   "outputs": [
    {
     "ename": "RuntimeError",
     "evalue": "dictionary changed size during iteration",
     "output_type": "error",
     "traceback": [
      "\u001b[1;31m---------------------------------------------------------------------------\u001b[0m",
      "\u001b[1;31mRuntimeError\u001b[0m                              Traceback (most recent call last)",
      "\u001b[1;32m<ipython-input-92-10f1c9ac0107>\u001b[0m in \u001b[0;36m<module>\u001b[1;34m\u001b[0m\n\u001b[1;32m----> 1\u001b[1;33m \u001b[1;32mfor\u001b[0m \u001b[0mkey\u001b[0m\u001b[1;33m,\u001b[0m \u001b[0mvl\u001b[0m \u001b[1;32min\u001b[0m \u001b[0mmy_dict\u001b[0m\u001b[1;33m.\u001b[0m\u001b[0mitems\u001b[0m\u001b[1;33m(\u001b[0m\u001b[1;33m)\u001b[0m \u001b[1;33m:\u001b[0m\u001b[1;33m\u001b[0m\u001b[1;33m\u001b[0m\u001b[0m\n\u001b[0m\u001b[0;32m      2\u001b[0m     \u001b[1;32mif\u001b[0m \u001b[0mvl\u001b[0m \u001b[1;32mis\u001b[0m \u001b[1;32mNone\u001b[0m\u001b[1;33m:\u001b[0m\u001b[1;33m\u001b[0m\u001b[1;33m\u001b[0m\u001b[0m\n\u001b[0;32m      3\u001b[0m         \u001b[1;32mdel\u001b[0m\u001b[1;33m(\u001b[0m\u001b[0mmy_dict\u001b[0m\u001b[1;33m[\u001b[0m\u001b[0mkey\u001b[0m\u001b[1;33m]\u001b[0m\u001b[1;33m)\u001b[0m\u001b[1;33m\u001b[0m\u001b[1;33m\u001b[0m\u001b[0m\n\u001b[0;32m      4\u001b[0m \u001b[0mmy_dict\u001b[0m\u001b[1;33m\u001b[0m\u001b[1;33m\u001b[0m\u001b[0m\n",
      "\u001b[1;31mRuntimeError\u001b[0m: dictionary changed size during iteration"
     ]
    }
   ],
   "source": [
    "# for key, vl in my_dict.items() :\n",
    "#     if vl is None:\n",
    "#         del(my_dict[key])\n",
    "# my_dict"
   ]
  },
  {
   "cell_type": "code",
   "execution_count": 98,
   "metadata": {},
   "outputs": [
    {
     "name": "stdout",
     "output_type": "stream",
     "text": [
      "{'id1': 123456, 'id2': 654321, 'id4': 777777}\n"
     ]
    }
   ],
   "source": [
    "my_dict_copy = my_dict.copy()\n",
    "for num, el in my_dict_copy.items():\n",
    "    if not(el):\n",
    "          del(my_dict[num])\n",
    "print(my_dict)"
   ]
  },
  {
   "cell_type": "markdown",
   "metadata": {},
   "source": [
    "## Задача 1\n",
    "<a id='task1'></a>"
   ]
  },
  {
   "cell_type": "code",
   "execution_count": null,
   "metadata": {},
   "outputs": [],
   "source": []
  },
  {
   "cell_type": "code",
   "execution_count": null,
   "metadata": {},
   "outputs": [],
   "source": []
  },
  {
   "cell_type": "code",
   "execution_count": null,
   "metadata": {},
   "outputs": [],
   "source": []
  },
  {
   "cell_type": "code",
   "execution_count": null,
   "metadata": {},
   "outputs": [],
   "source": []
  },
  {
   "cell_type": "code",
   "execution_count": null,
   "metadata": {},
   "outputs": [],
   "source": []
  },
  {
   "cell_type": "code",
   "execution_count": null,
   "metadata": {},
   "outputs": [],
   "source": []
  },
  {
   "cell_type": "code",
   "execution_count": null,
   "metadata": {},
   "outputs": [],
   "source": []
  },
  {
   "cell_type": "code",
   "execution_count": null,
   "metadata": {},
   "outputs": [],
   "source": []
  },
  {
   "cell_type": "code",
   "execution_count": null,
   "metadata": {},
   "outputs": [],
   "source": []
  },
  {
   "cell_type": "markdown",
   "metadata": {},
   "source": [
    "## Задача 2\n",
    "<a id='task2'></a>"
   ]
  },
  {
   "cell_type": "code",
   "execution_count": null,
   "metadata": {},
   "outputs": [],
   "source": []
  }
 ],
 "metadata": {
  "kernelspec": {
   "display_name": "Python 3",
   "language": "python",
   "name": "python3"
  },
  "language_info": {
   "codemirror_mode": {
    "name": "ipython",
    "version": 3
   },
   "file_extension": ".py",
   "mimetype": "text/x-python",
   "name": "python",
   "nbconvert_exporter": "python",
   "pygments_lexer": "ipython3",
   "version": "3.8.5"
  }
 },
 "nbformat": 4,
 "nbformat_minor": 4
}
