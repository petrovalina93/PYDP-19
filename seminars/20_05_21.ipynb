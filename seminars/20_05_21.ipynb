{
 "cells": [
  {
   "cell_type": "markdown",
   "metadata": {},
   "source": [
    "### Напишем функцию, которая определяет является ли слово палиндромом"
   ]
  },
  {
   "cell_type": "code",
   "execution_count": 7,
   "metadata": {},
   "outputs": [
    {
     "name": "stdout",
     "output_type": "stream",
     "text": [
      "Введите словоРадар\n",
      "Да\n"
     ]
    }
   ],
   "source": [
    "word = input('Введите слово')\n",
    "\n",
    "def palindrom(word):\n",
    "    word = word.upper()\n",
    "    if word == word[::-1]:\n",
    "        print('Да')\n",
    "    else:\n",
    "        print('Нет')\n",
    "\n",
    "palindrom(word)"
   ]
  },
  {
   "cell_type": "code",
   "execution_count": 5,
   "metadata": {},
   "outputs": [
    {
     "name": "stdout",
     "output_type": "stream",
     "text": [
      "введите слово:Радар\n",
      "нет\n"
     ]
    }
   ],
   "source": [
    "def reverse(text):\n",
    "    return text[::-1]\n",
    "\n",
    "def is_palindrome(text):\n",
    "    return text == reverse(text)\n",
    "\n",
    "something = input('введите слово:')\n",
    "if is_palindrome(something):\n",
    "    print('палиндром')\n",
    "else:\n",
    "    print('нет')"
   ]
  },
  {
   "cell_type": "markdown",
   "metadata": {},
   "source": [
    "### Напишем функцию, которая будет находить среднюю цену квартиры по всем данным"
   ]
  },
  {
   "cell_type": "code",
   "execution_count": 9,
   "metadata": {},
   "outputs": [],
   "source": [
    "dict_1 = {'flat_1': 10500, 'flat_2': 11000}\n",
    "dict_2 = {'flat_3': 15000}\n",
    "dict_3 = {'flat_4': 6500, 'flat_5': 7000, 'flat_6': 6000}   "
   ]
  },
  {
   "cell_type": "code",
   "execution_count": 15,
   "metadata": {},
   "outputs": [
    {
     "name": "stdout",
     "output_type": "stream",
     "text": [
      "({'flat_1': 10500, 'flat_2': 11000}, {'flat_3': 15000})\n"
     ]
    },
    {
     "data": {
      "text/plain": [
       "12166.67"
      ]
     },
     "execution_count": 15,
     "metadata": {},
     "output_type": "execute_result"
    }
   ],
   "source": [
    "def mean_cost(*datas):\n",
    "    \n",
    "    mean_cost = 0\n",
    "    houses = 0\n",
    "    print(datas)\n",
    "    for data in datas:\n",
    "        for v in data.values():\n",
    "            mean_cost += v\n",
    "            houses += 1\n",
    "            \n",
    "    return round(mean_cost / houses, 2)\n",
    "\n",
    "mean_cost(dict_1, dict_2)"
   ]
  },
  {
   "cell_type": "markdown",
   "metadata": {},
   "source": [
    "### Как объединить словари"
   ]
  },
  {
   "cell_type": "code",
   "execution_count": 20,
   "metadata": {},
   "outputs": [],
   "source": [
    "# способ 1, update\n",
    "dict_1.update(dict_2)"
   ]
  },
  {
   "cell_type": "code",
   "execution_count": 22,
   "metadata": {},
   "outputs": [
    {
     "data": {
      "text/plain": [
       "{'flat_1': 10500, 'flat_2': 11000, 'flat_3': 15000}"
      ]
     },
     "execution_count": 22,
     "metadata": {},
     "output_type": "execute_result"
    }
   ],
   "source": [
    "dict_1"
   ]
  },
  {
   "cell_type": "code",
   "execution_count": 23,
   "metadata": {},
   "outputs": [
    {
     "data": {
      "text/plain": [
       "{'flat_3': 15000, 'flat_4': 6500, 'flat_5': 7000, 'flat_6': 6000}"
      ]
     },
     "execution_count": 23,
     "metadata": {},
     "output_type": "execute_result"
    }
   ],
   "source": [
    "# способ 2, через kwargs\n",
    "res = {**dict_2, **dict_3}\n",
    "res"
   ]
  },
  {
   "cell_type": "markdown",
   "metadata": {},
   "source": [
    "### Получим список из средних цен в каждой категории товаров"
   ]
  },
  {
   "cell_type": "code",
   "execution_count": 25,
   "metadata": {},
   "outputs": [],
   "source": [
    "prices = [[100, 200, 400, 600], [200, 500], [100, 200, 100, 100], [800, 900]]"
   ]
  },
  {
   "cell_type": "code",
   "execution_count": 28,
   "metadata": {},
   "outputs": [
    {
     "data": {
      "text/plain": [
       "[325.0, 350.0, 125.0, 850.0]"
      ]
     },
     "execution_count": 28,
     "metadata": {},
     "output_type": "execute_result"
    }
   ],
   "source": [
    "[sum(i) / len(i) for i in prices]"
   ]
  },
  {
   "cell_type": "code",
   "execution_count": 29,
   "metadata": {},
   "outputs": [
    {
     "name": "stdout",
     "output_type": "stream",
     "text": [
      "[325.0, 350.0, 125.0, 850.0]\n"
     ]
    }
   ],
   "source": [
    "prices = [[100, 200, 400, 600], [200, 500], [100, 200, 100, 100], [800, 900]]\n",
    "prices2 = []\n",
    "for i in prices:\n",
    "    prices2.append(sum(i) / len(i))\n",
    "print(prices2)"
   ]
  },
  {
   "cell_type": "code",
   "execution_count": 31,
   "metadata": {},
   "outputs": [
    {
     "data": {
      "text/plain": [
       "[325.0, 350.0, 125.0, 850.0]"
      ]
     },
     "execution_count": 31,
     "metadata": {},
     "output_type": "execute_result"
    }
   ],
   "source": [
    "prices = [[100, 200, 400, 600], [200, 500], [100, 200, 100, 100], [800, 900]]\n",
    "average = []\n",
    "for i in prices:\n",
    "    average.append(sum(i) / len(i))\n",
    "average"
   ]
  },
  {
   "cell_type": "code",
   "execution_count": 32,
   "metadata": {},
   "outputs": [
    {
     "name": "stdout",
     "output_type": "stream",
     "text": [
      "325.0\n",
      "350.0\n",
      "125.0\n",
      "850.0\n"
     ]
    }
   ],
   "source": [
    "for group in prices:\n",
    "    mean_group_price = 0\n",
    "    for p in group:\n",
    "        mean_group_price += p\n",
    "    mean_group_price /= len(group)\n",
    "    print(mean_group_price)"
   ]
  },
  {
   "cell_type": "code",
   "execution_count": 33,
   "metadata": {},
   "outputs": [
    {
     "data": {
      "text/plain": [
       "[325.0, 350.0, 125.0, 850.0]"
      ]
     },
     "execution_count": 33,
     "metadata": {},
     "output_type": "execute_result"
    }
   ],
   "source": [
    "[sum(x) / len(x) for x in prices]"
   ]
  },
  {
   "cell_type": "code",
   "execution_count": 35,
   "metadata": {},
   "outputs": [
    {
     "name": "stdout",
     "output_type": "stream",
     "text": [
      "325.0\n",
      "350.0\n",
      "125.0\n",
      "850.0\n"
     ]
    }
   ],
   "source": [
    "for price in prices:\n",
    "    print(sum(price) / len(price))"
   ]
  },
  {
   "cell_type": "code",
   "execution_count": 38,
   "metadata": {},
   "outputs": [
    {
     "name": "stdout",
     "output_type": "stream",
     "text": [
      "325.0\n",
      "350.0\n",
      "125.0\n",
      "850.0\n"
     ]
    }
   ],
   "source": [
    "for category in prices: \n",
    "    print(sum([price for price in category]) / len(category))"
   ]
  },
  {
   "cell_type": "code",
   "execution_count": 40,
   "metadata": {},
   "outputs": [
    {
     "data": {
      "text/plain": [
       "[325.0, 350.0, 125.0, 850.0]"
      ]
     },
     "execution_count": 40,
     "metadata": {},
     "output_type": "execute_result"
    }
   ],
   "source": [
    "list(map(lambda x: sum(x) / len(x), prices))"
   ]
  },
  {
   "cell_type": "markdown",
   "metadata": {},
   "source": [
    "### Практика"
   ]
  },
  {
   "cell_type": "code",
   "execution_count": 59,
   "metadata": {},
   "outputs": [],
   "source": [
    "students_list = [\n",
    "    {\"name\": \"Василий\", \"surname\": \"Теркин\", \"gender\": \"м\", \"program_exp\": True, \"grade\": [8, 8, 9, 10, 9], \"exam\": 8},\n",
    "    {\"name\": \"Мария\", \"surname\": \"Павлова\", \"gender\": \"ж\", \"program_exp\": True, \"grade\": [7, 8, 9, 7, 9], \"exam\": 9},\n",
    "    {\"name\": \"Ирина\", \"surname\": \"Андреева\", \"gender\": \"ж\", \"program_exp\": False, \"grade\": [10, 9, 8, 10, 10], \"exam\": 7},\n",
    "    {\"name\": \"Татьяна\", \"surname\": \"Сидорова\", \"gender\": \"ж\", \"program_exp\": False, \"grade\": [7, 8, 8, 9, 8],\"exam\": 10},\n",
    "    {\"name\": \"Иван\", \"surname\": \"Васильев\", \"gender\": \"м\", \"program_exp\": True, \"grade\": [9, 8, 9, 6, 9], \"exam\": 5},\n",
    "    {\"name\": \"Роман\", \"surname\": \"Золотарев\", \"gender\": \"м\", \"program_exp\": False, \"grade\": [8, 9, 9, 6, 9], \"exam\": 6}\n",
    "]"
   ]
  },
  {
   "cell_type": "code",
   "execution_count": 60,
   "metadata": {},
   "outputs": [
    {
     "data": {
      "text/plain": [
       "7.5"
      ]
     },
     "execution_count": 60,
     "metadata": {},
     "output_type": "execute_result"
    }
   ],
   "source": [
    "def get_avg_ex_grade(students):\n",
    "    sum_ex = 0\n",
    "    for student in students:\n",
    "        sum_ex += student['exam']\n",
    "    return round(sum_ex / len(students), 2)\n",
    "\n",
    "get_avg_ex_grade(students_list)"
   ]
  },
  {
   "cell_type": "code",
   "execution_count": 61,
   "metadata": {},
   "outputs": [
    {
     "name": "stdout",
     "output_type": "stream",
     "text": [
      "7.5\n",
      "8.33\n",
      "8.53\n",
      "8.4\n",
      "8.4\n",
      "8.47\n",
      "8.0\n",
      "8.2\n"
     ]
    }
   ],
   "source": [
    "def get_avg_hw_grade(students, exp=None, gender=None):\n",
    "    sum_hw = 0\n",
    "    counter = 0\n",
    "    for student in students:\n",
    "        if (student['program_exp'] == exp or exp is None) and (student['gender'] == gender or gender is None):\n",
    "            sum_hw += sum(student['grade']) / len(student['grade'])\n",
    "            counter += 1\n",
    "    return round(sum_hw / counter, 2)\n",
    "\n",
    "print(get_avg_ex_grade(students_list))\n",
    "print(get_avg_hw_grade(students_list, True))\n",
    "print(get_avg_hw_grade(students_list, False))\n",
    "print(get_avg_hw_grade(students_list, None, 'м'))\n",
    "print(get_avg_hw_grade(students_list, gender='м'))\n",
    "print(get_avg_hw_grade(students_list, gender='ж'))\n",
    "print(get_avg_hw_grade(students_list, True, 'ж'))\n",
    "print(get_avg_hw_grade(students_list, False, 'м'))"
   ]
  },
  {
   "cell_type": "code",
   "execution_count": 64,
   "metadata": {},
   "outputs": [],
   "source": [
    "def main(students):\n",
    "    while True:\n",
    "        user_input = input('Введите команду')\n",
    "        if user_input == '1':\n",
    "            print(get_avg_ex_grade(students))\n",
    "        elif user_input == '2':\n",
    "            print(get_avg_hw_grade(students))\n",
    "        elif user_input == '3':\n",
    "            print(get_avg_hw_grade(students, True))\n",
    "        elif user_input == '4':\n",
    "            print(get_avg_hw_grade(students, False))\n",
    "        elif user_input == 'q':\n",
    "            print('До свидания!')\n",
    "            break"
   ]
  },
  {
   "cell_type": "code",
   "execution_count": 67,
   "metadata": {},
   "outputs": [
    {
     "ename": "NameError",
     "evalue": "name 'students_list_2' is not defined",
     "output_type": "error",
     "traceback": [
      "\u001b[1;31m---------------------------------------------------------------------------\u001b[0m",
      "\u001b[1;31mNameError\u001b[0m                                 Traceback (most recent call last)",
      "\u001b[1;32m<ipython-input-67-a39dd0b3e223>\u001b[0m in \u001b[0;36m<module>\u001b[1;34m\u001b[0m\n\u001b[1;32m----> 1\u001b[1;33m \u001b[0mmain\u001b[0m\u001b[1;33m(\u001b[0m\u001b[0mstudents_list_2\u001b[0m\u001b[1;33m)\u001b[0m\u001b[1;33m\u001b[0m\u001b[1;33m\u001b[0m\u001b[0m\n\u001b[0m",
      "\u001b[1;31mNameError\u001b[0m: name 'students_list_2' is not defined"
     ]
    }
   ],
   "source": [
    "main(students_list)"
   ]
  },
  {
   "cell_type": "code",
   "execution_count": 73,
   "metadata": {},
   "outputs": [],
   "source": [
    "def main(students):\n",
    "    commands_list = {\n",
    "        '1': get_avg_ex_grade,\n",
    "        '2': get_avg_hw_grade\n",
    "    }\n",
    "    while True:\n",
    "        user_input = input('Введите команду')\n",
    "        if user_input in commands_list:\n",
    "            res = commands_list[user_input](students, True)\n",
    "            print(res)\n",
    "        elif user_input == 'q':\n",
    "            print('До свидания!')\n",
    "            break"
   ]
  },
  {
   "cell_type": "code",
   "execution_count": 74,
   "metadata": {},
   "outputs": [
    {
     "name": "stdout",
     "output_type": "stream",
     "text": [
      "Введите команду2\n",
      "8.33\n",
      "Введите команду1\n"
     ]
    },
    {
     "ename": "TypeError",
     "evalue": "get_avg_ex_grade() takes 1 positional argument but 2 were given",
     "output_type": "error",
     "traceback": [
      "\u001b[1;31m---------------------------------------------------------------------------\u001b[0m",
      "\u001b[1;31mTypeError\u001b[0m                                 Traceback (most recent call last)",
      "\u001b[1;32m<ipython-input-74-e81006d6b528>\u001b[0m in \u001b[0;36m<module>\u001b[1;34m\u001b[0m\n\u001b[1;32m----> 1\u001b[1;33m \u001b[0mmain\u001b[0m\u001b[1;33m(\u001b[0m\u001b[0mstudents_list\u001b[0m\u001b[1;33m)\u001b[0m\u001b[1;33m\u001b[0m\u001b[1;33m\u001b[0m\u001b[0m\n\u001b[0m",
      "\u001b[1;32m<ipython-input-73-7c8c7d97f424>\u001b[0m in \u001b[0;36mmain\u001b[1;34m(students)\u001b[0m\n\u001b[0;32m      7\u001b[0m         \u001b[0muser_input\u001b[0m \u001b[1;33m=\u001b[0m \u001b[0minput\u001b[0m\u001b[1;33m(\u001b[0m\u001b[1;34m'Введите команду'\u001b[0m\u001b[1;33m)\u001b[0m\u001b[1;33m\u001b[0m\u001b[1;33m\u001b[0m\u001b[0m\n\u001b[0;32m      8\u001b[0m         \u001b[1;32mif\u001b[0m \u001b[0muser_input\u001b[0m \u001b[1;32min\u001b[0m \u001b[0mcommands_list\u001b[0m\u001b[1;33m:\u001b[0m\u001b[1;33m\u001b[0m\u001b[1;33m\u001b[0m\u001b[0m\n\u001b[1;32m----> 9\u001b[1;33m             \u001b[0mres\u001b[0m \u001b[1;33m=\u001b[0m \u001b[0mcommands_list\u001b[0m\u001b[1;33m[\u001b[0m\u001b[0muser_input\u001b[0m\u001b[1;33m]\u001b[0m\u001b[1;33m(\u001b[0m\u001b[0mstudents\u001b[0m\u001b[1;33m,\u001b[0m \u001b[1;32mTrue\u001b[0m\u001b[1;33m)\u001b[0m\u001b[1;33m\u001b[0m\u001b[1;33m\u001b[0m\u001b[0m\n\u001b[0m\u001b[0;32m     10\u001b[0m             \u001b[0mprint\u001b[0m\u001b[1;33m(\u001b[0m\u001b[0mres\u001b[0m\u001b[1;33m)\u001b[0m\u001b[1;33m\u001b[0m\u001b[1;33m\u001b[0m\u001b[0m\n\u001b[0;32m     11\u001b[0m         \u001b[1;32melif\u001b[0m \u001b[0muser_input\u001b[0m \u001b[1;33m==\u001b[0m \u001b[1;34m'q'\u001b[0m\u001b[1;33m:\u001b[0m\u001b[1;33m\u001b[0m\u001b[1;33m\u001b[0m\u001b[0m\n",
      "\u001b[1;31mTypeError\u001b[0m: get_avg_ex_grade() takes 1 positional argument but 2 were given"
     ]
    }
   ],
   "source": [
    "main(students_list)"
   ]
  },
  {
   "cell_type": "code",
   "execution_count": null,
   "metadata": {},
   "outputs": [],
   "source": []
  }
 ],
 "metadata": {
  "kernelspec": {
   "display_name": "Python 3",
   "language": "python",
   "name": "python3"
  },
  "language_info": {
   "codemirror_mode": {
    "name": "ipython",
    "version": 3
   },
   "file_extension": ".py",
   "mimetype": "text/x-python",
   "name": "python",
   "nbconvert_exporter": "python",
   "pygments_lexer": "ipython3",
   "version": "3.8.5"
  }
 },
 "nbformat": 4,
 "nbformat_minor": 4
}
