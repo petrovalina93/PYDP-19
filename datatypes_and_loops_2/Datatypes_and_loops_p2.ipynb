{
 "cells": [
  {
   "cell_type": "markdown",
   "metadata": {},
   "source": [
    "## Домашнее задание к лекции \"Введение в типы данных и циклы. Часть 2\""
   ]
  },
  {
   "cell_type": "markdown",
   "metadata": {},
   "source": [
    "### Задание 1\n",
    "\n",
    "Дана переменная, в которой хранится словарь, содержащий гео-метки для каждого пользователя (пример структуры данных приведен ниже). Вам необходимо написать программу, которая выведет на экран множество уникальных гео-меток всех пользователей."
   ]
  },
  {
   "cell_type": "code",
   "execution_count": 73,
   "metadata": {},
   "outputs": [],
   "source": [
    "ids = {'user1': [213, 213, 213, 15, 213], \n",
    "       'user2': [54, 54, 119, 119, 119], \n",
    "       'user3': [213, 98, 98, 35]}"
   ]
  },
  {
   "cell_type": "code",
   "execution_count": 74,
   "metadata": {},
   "outputs": [
    {
     "data": {
      "text/plain": [
       "{15, 35, 54, 98, 119, 213}"
      ]
     },
     "execution_count": 74,
     "metadata": {},
     "output_type": "execute_result"
    }
   ],
   "source": [
    "points = []\n",
    "for i in ids.values(): # идем по значениям словаря\n",
    "    for j in range(len(i)): # т.к. каждое значение - это список, идем в цикле по его элементам\n",
    "        points.append(i[j]) # записываем каждый элемент в список\n",
    "set(points)    # убираем повторы"
   ]
  },
  {
   "cell_type": "markdown",
   "metadata": {},
   "source": [
    "### Задание 2\n",
    "\n",
    "Дана переменная, в которой хранится список поисковых запросов пользователя (пример структуры данных приведен ниже). Вам необходимо написать программу, которая выведет на экран распределение количества слов в запросах в требуемом виде."
   ]
  },
  {
   "cell_type": "code",
   "execution_count": 2,
   "metadata": {},
   "outputs": [],
   "source": [
    "queries = [\n",
    "    'смотреть сериалы онлайн',\n",
    "    'новости спорта',\n",
    "    'афиша кино',\n",
    "    'курс доллара',\n",
    "    'сериалы этим летом',\n",
    "    'курс по питону',\n",
    "    'сериалы про спорт',\n",
    "]"
   ]
  },
  {
   "cell_type": "code",
   "execution_count": 164,
   "metadata": {},
   "outputs": [
    {
     "name": "stdout",
     "output_type": "stream",
     "text": [
      "кол-во слов в запросах  \n",
      "3\n",
      "2\n",
      "2\n",
      "2\n",
      "3\n",
      "3\n",
      "3\n"
     ]
    }
   ],
   "source": [
    "print('кол-во слов в запросах  ')\n",
    "for i in queries:\n",
    "    print(len(i.split(' ')))"
   ]
  },
  {
   "cell_type": "code",
   "execution_count": 165,
   "metadata": {},
   "outputs": [
    {
     "name": "stdout",
     "output_type": "stream",
     "text": [
      "слов в запросах   [3, 2, 2, 2, 3, 3, 3]\n",
      "возможное кол-во слов в запросе [2, 3]\n"
     ]
    }
   ],
   "source": [
    "j = []\n",
    "for i in queries:\n",
    "    j.append(len(i.split(' ')))\n",
    "k = list(set(j))   \n",
    "print('слов в запросах  ',j)\n",
    "print('возможное кол-во слов в запросе', k)"
   ]
  },
  {
   "cell_type": "code",
   "execution_count": 13,
   "metadata": {},
   "outputs": [
    {
     "name": "stdout",
     "output_type": "stream",
     "text": [
      "Поисковых запросов, содержащих 2 слов(а): 42.86 %\n",
      "Поисковых запросов, содержащих 3 слов(а): 57.14 %\n"
     ]
    }
   ],
   "source": [
    "j = []\n",
    "for i in queries:\n",
    "    j.append(len(i.split(' ')))\n",
    "k = set(j)   \n",
    "for number in k:\n",
    "    print('Поисковых запросов, содержащих {} слов(а): {} %'.format(number, round(j.count(number)*100/len(queries),2)))"
   ]
  },
  {
   "cell_type": "code",
   "execution_count": 17,
   "metadata": {},
   "outputs": [
    {
     "name": "stdout",
     "output_type": "stream",
     "text": [
      "Поисковых запрос)ов, содержащих 2 слов(а): 42.86 %\n",
      "Поисковых запрос)ов, содержащих 3 слов(а): 57.14 %\n"
     ]
    }
   ],
   "source": [
    "# с list comprehension\n",
    "j = [len(i.split(' ')) for i in queries]\n",
    "for number in set(j):\n",
    "    print('Поисковых запрос)ов, содержащих {} слов(а): {} %'.format(number, round(j.count(number)*100/len(queries),2)))"
   ]
  },
  {
   "cell_type": "markdown",
   "metadata": {},
   "source": [
    "### Задание 3\n",
    "\n",
    "Дана переменная, в которой хранится информация о затратах и доходе рекламных кампаний по различным источникам. Необходимо дополнить исходную структуру показателем ROI, который рассчитаем по формуле: **(revenue / cost - 1) * 100**"
   ]
  },
  {
   "cell_type": "code",
   "execution_count": 179,
   "metadata": {},
   "outputs": [],
   "source": [
    "results = {\n",
    "    'vk': {'revenue': 103, 'cost': 98},\n",
    "    'yandex': {'revenue': 179, 'cost': 153},\n",
    "    'facebook': {'revenue': 103, 'cost': 110},\n",
    "    'adwords': {'revenue': 35, 'cost': 34},\n",
    "    'twitter': {'revenue': 11, 'cost': 24},\n",
    "}"
   ]
  },
  {
   "cell_type": "code",
   "execution_count": 183,
   "metadata": {},
   "outputs": [
    {
     "data": {
      "text/plain": [
       "dict_items([('vk', {'revenue': 103, 'cost': 98}), ('yandex', {'revenue': 179, 'cost': 153}), ('facebook', {'revenue': 103, 'cost': 110}), ('adwords', {'revenue': 35, 'cost': 34}), ('twitter', {'revenue': 11, 'cost': 24})])"
      ]
     },
     "execution_count": 183,
     "metadata": {},
     "output_type": "execute_result"
    }
   ],
   "source": [
    "results.items()"
   ]
  },
  {
   "cell_type": "code",
   "execution_count": 186,
   "metadata": {},
   "outputs": [
    {
     "data": {
      "text/plain": [
       "{'vk': {'revenue': 103, 'cost': 98, 'ROI': 5.1},\n",
       " 'yandex': {'revenue': 179, 'cost': 153, 'ROI': 16.99},\n",
       " 'facebook': {'revenue': 103, 'cost': 110, 'ROI': -6.36},\n",
       " 'adwords': {'revenue': 35, 'cost': 34, 'ROI': 2.94},\n",
       " 'twitter': {'revenue': 11, 'cost': 24, 'ROI': -54.17}}"
      ]
     },
     "execution_count": 186,
     "metadata": {},
     "output_type": "execute_result"
    }
   ],
   "source": [
    "for origin, info in results.items():\n",
    "    info['ROI'] = round((info['revenue'] / info['cost'] - 1) * 100, 2)\n",
    "results"
   ]
  },
  {
   "cell_type": "markdown",
   "metadata": {},
   "source": [
    "### Задание 4\n",
    "Дана переменная, в которой хранится статистика рекламных каналов по объемам продаж (пример структуры данных приведен ниже). Напишите программу, которая возвращает название канала с максимальным объемом продаж."
   ]
  },
  {
   "cell_type": "code",
   "execution_count": 2,
   "metadata": {},
   "outputs": [],
   "source": [
    "stats = {'facebook': 55, 'yandex': 115, 'vk': 120, 'google': 99, 'email': 42, 'ok': 98}"
   ]
  },
  {
   "cell_type": "code",
   "execution_count": 92,
   "metadata": {},
   "outputs": [
    {
     "data": {
      "text/plain": [
       "dict_items([('facebook', 55), ('yandex', 115), ('vk', 120), ('google', 99), ('email', 42), ('ok', 98)])"
      ]
     },
     "execution_count": 92,
     "metadata": {},
     "output_type": "execute_result"
    }
   ],
   "source": [
    "stats.items()"
   ]
  },
  {
   "cell_type": "code",
   "execution_count": 93,
   "metadata": {},
   "outputs": [
    {
     "name": "stdout",
     "output_type": "stream",
     "text": [
      "[55, 115, 120, 99, 42, 98]\n",
      "vk\n"
     ]
    }
   ],
   "source": [
    "val = []\n",
    "for i in stats.items(): # идем по словарю, вычленяя и записывая в список только значения\n",
    "    val.append(i[1])\n",
    "print(val)\n",
    "for j in stats.items(): # снова идем по словарю и для максимального значения выводим ключ\n",
    "    if j[1] == max(val):\n",
    "        print(j[0])"
   ]
  },
  {
   "cell_type": "code",
   "execution_count": 101,
   "metadata": {},
   "outputs": [
    {
     "name": "stdout",
     "output_type": "stream",
     "text": [
      "Максимальный объем продаж на рекламном канале: vk\n"
     ]
    }
   ],
   "source": [
    "val = []\n",
    "for i in stats.items():\n",
    "    val.append(i[1])\n",
    "for j in stats.items():\n",
    "    if j[1] == max(val):\n",
    "        print('Максимальный объем продаж на рекламном канале: {}'.format(j[0]))"
   ]
  },
  {
   "cell_type": "markdown",
   "metadata": {},
   "source": [
    "### Задание 5 (необязательно)\n",
    "\n",
    "Дан список произвольной длины. Необходимо написать код, который на основе исходного списка составит словарь такого уровня вложенности, какова длина исхондого списка."
   ]
  },
  {
   "cell_type": "code",
   "execution_count": 77,
   "metadata": {},
   "outputs": [],
   "source": [
    "my_list = ['2018-01-01', 'yandex', 'cpc', 100]"
   ]
  },
  {
   "cell_type": "code",
   "execution_count": 79,
   "metadata": {},
   "outputs": [],
   "source": [
    "my_list = ['a', 'b', 'c', 'd', 'e', 'f']"
   ]
  },
  {
   "cell_type": "code",
   "execution_count": null,
   "metadata": {},
   "outputs": [],
   "source": [
    "#попробуем написать вручную"
   ]
  },
  {
   "cell_type": "code",
   "execution_count": null,
   "metadata": {},
   "outputs": [],
   "source": [
    "#в одну строку"
   ]
  },
  {
   "cell_type": "code",
   "execution_count": 78,
   "metadata": {},
   "outputs": [
    {
     "name": "stdout",
     "output_type": "stream",
     "text": [
      "{'2018-01-01': {'yandex': {'cpc': 100}}}\n"
     ]
    }
   ],
   "source": [
    "dict_ = {}\n",
    "dict_[my_list[0]] = {my_list[1] : {my_list[2] : my_list[3]}}\n",
    "print(dict_)"
   ]
  },
  {
   "cell_type": "code",
   "execution_count": null,
   "metadata": {},
   "outputs": [],
   "source": [
    "# итерациями"
   ]
  },
  {
   "cell_type": "code",
   "execution_count": 80,
   "metadata": {},
   "outputs": [
    {
     "name": "stdout",
     "output_type": "stream",
     "text": [
      "['a', 'b', 'c', 'd', 'e', 'f']\n",
      "{'e': 'f'}\n",
      "{'d': {'e': 'f'}}\n",
      "{'c': {'d': {'e': 'f'}}}\n",
      "{'b': {'c': {'d': {'e': 'f'}}}}\n",
      "{'a': {'b': {'c': {'d': {'e': 'f'}}}}}\n"
     ]
    }
   ],
   "source": [
    "print(my_list)\n",
    "#первый шаг - создаем словарь, где ключ предпоследний элемент списка, значение - последний элемент списка\n",
    "dict_ = {my_list[len(my_list)-2] : my_list[len(my_list)-1]} \n",
    "print(dict_)\n",
    "# полученный словарь последовательно начинаем вкладывать как значение по ключу предыдущего слева элемента исходного списка\n",
    "dict_1 = {my_list[len(my_list)-3] : dict_}\n",
    "print(dict_1)\n",
    "dict_2 = {my_list[len(my_list)-4] : dict_1}\n",
    "print(dict_2)\n",
    "dict_3 = {my_list[len(my_list)-5] : dict_2}\n",
    "print(dict_3)\n",
    "dict_4 = {my_list[len(my_list)-6] : dict_3}\n",
    "print(dict_4)\n"
   ]
  },
  {
   "cell_type": "code",
   "execution_count": null,
   "metadata": {},
   "outputs": [],
   "source": [
    "#заводим в цикл"
   ]
  },
  {
   "cell_type": "code",
   "execution_count": 106,
   "metadata": {},
   "outputs": [
    {
     "name": "stdout",
     "output_type": "stream",
     "text": [
      "{'a': {'b': {'c': {'d': {'e': 'f'}}}}}\n"
     ]
    }
   ],
   "source": [
    "dict_ = {my_list[-2] : my_list[-1]}\n",
    "for i in range(2,len(my_list)):\n",
    "        dict_ = {my_list[-1-i] : dict_}\n",
    "print(dict_)"
   ]
  },
  {
   "cell_type": "markdown",
   "metadata": {},
   "source": [
    "### Задание 6 (необязательно)\n",
    "\n",
    "Дана книга рецептов с информацией о том, сколько ингредиентов нужно для приготовления блюда в расчете на одну порцию (пример данных представлен ниже).\n",
    "Напишите программу, которая будет запрашивать у пользователя количество порций для приготовления этих блюд и отображать информацию о суммарном количестве требуемых ингредиентов в указанном виде.\n",
    "Внимание! Одинаковые ингридиенты с разными размерностями нужно считать раздельно!"
   ]
  },
  {
   "cell_type": "code",
   "execution_count": 64,
   "metadata": {},
   "outputs": [],
   "source": [
    "cook_book = {\n",
    "  'салат': [\n",
    "     {'ingridient_name': 'сыр', 'quantity': 50, 'measure': 'гр'},\n",
    "     {'ingridient_name': 'томаты', 'quantity': 2, 'measure': 'шт'},\n",
    "     {'ingridient_name': 'огурцы', 'quantity': 20, 'measure': 'гр'},\n",
    "     {'ingridient_name': 'маслины', 'quantity': 10, 'measure': 'гр'},\n",
    "     {'ingridient_name': 'оливковое масло', 'quantity': 20, 'measure': 'мл'},\n",
    "     {'ingridient_name': 'салат', 'quantity': 10, 'measure': 'гр'},\n",
    "     {'ingridient_name': 'перец', 'quantity': 20, 'measure': 'гр'}\n",
    "    ],\n",
    "  'пицца': [\n",
    "     {'ingridient_name': 'сыр', 'quantity': 20, 'measure': 'гр'},\n",
    "     {'ingridient_name': 'колбаса', 'quantity': 30, 'measure': 'гр'},\n",
    "     {'ingridient_name': 'бекон', 'quantity': 30, 'measure': 'гр'},\n",
    "     {'ingridient_name': 'оливки', 'quantity': 10, 'measure': 'гр'},\n",
    "     {'ingridient_name': 'томаты', 'quantity': 20, 'measure': 'гр'},\n",
    "     {'ingridient_name': 'тесто', 'quantity': 100, 'measure': 'гр'},   \n",
    "    ],\n",
    "  'лимонад': [\n",
    "     {'ingridient_name': 'лимон', 'quantity': 1, 'measure': 'шт'},\n",
    "     {'ingridient_name': 'вода', 'quantity': 200, 'measure': 'мл'},\n",
    "     {'ingridient_name': 'сахар', 'quantity': 10, 'measure': 'гр'},\n",
    "     {'ingridient_name': 'лайм', 'quantity': 20, 'measure': 'гр'},    \n",
    "    ]\n",
    "}"
   ]
  },
  {
   "cell_type": "code",
   "execution_count": 24,
   "metadata": {},
   "outputs": [
    {
     "data": {
      "text/plain": [
       "[{'ingridient_name': 'сыр', 'quantity': 20, 'measure': 'гр'},\n",
       " {'ingridient_name': 'колбаса', 'quantity': 30, 'measure': 'гр'},\n",
       " {'ingridient_name': 'бекон', 'quantity': 30, 'measure': 'гр'},\n",
       " {'ingridient_name': 'оливки', 'quantity': 10, 'measure': 'гр'},\n",
       " {'ingridient_name': 'томаты', 'quantity': 20, 'measure': 'гр'},\n",
       " {'ingridient_name': 'тесто', 'quantity': 100, 'measure': 'гр'}]"
      ]
     },
     "execution_count": 24,
     "metadata": {},
     "output_type": "execute_result"
    }
   ],
   "source": [
    "cook_book['пицца']"
   ]
  },
  {
   "cell_type": "code",
   "execution_count": null,
   "metadata": {},
   "outputs": [],
   "source": [
    "#выведем весь список необходимых ингредиентов с повторами"
   ]
  },
  {
   "cell_type": "code",
   "execution_count": 65,
   "metadata": {},
   "outputs": [
    {
     "name": "stdout",
     "output_type": "stream",
     "text": [
      "Введите количество порций:  3\n",
      "сыр : 150 гр\n",
      "томаты : 6 шт\n",
      "огурцы : 60 гр\n",
      "маслины : 30 гр\n",
      "оливковое масло : 60 мл\n",
      "салат : 30 гр\n",
      "перец : 60 гр\n",
      "сыр : 60 гр\n",
      "колбаса : 90 гр\n",
      "бекон : 90 гр\n",
      "оливки : 30 гр\n",
      "томаты : 60 гр\n",
      "тесто : 300 гр\n",
      "лимон : 3 шт\n",
      "вода : 600 мл\n",
      "сахар : 30 гр\n",
      "лайм : 60 гр\n"
     ]
    }
   ],
   "source": [
    "x = int(input('Введите количество порций:  '))\n",
    "for item, set in cook_book.items():\n",
    "    for line in set:\n",
    "        print(line['ingridient_name'],':',line['quantity']*x, line['measure'])"
   ]
  },
  {
   "cell_type": "code",
   "execution_count": null,
   "metadata": {},
   "outputs": [],
   "source": [
    "#добавим проверку на повторы"
   ]
  },
  {
   "cell_type": "code",
   "execution_count": 66,
   "metadata": {},
   "outputs": [
    {
     "name": "stdout",
     "output_type": "stream",
     "text": [
      "Введите количество порций:  3\n",
      "сыр : 210 гр\n",
      "томаты : 6 шт\n",
      "огурцы : 60 гр\n",
      "маслины : 30 гр\n",
      "оливковое масло : 60 мл\n",
      "салат : 30 гр\n",
      "перец : 60 гр\n",
      "колбаса : 90 гр\n",
      "бекон : 90 гр\n",
      "оливки : 30 гр\n",
      "томаты : 60 гр\n",
      "тесто : 300 гр\n",
      "лимон : 3 шт\n",
      "вода : 600 мл\n",
      "сахар : 30 гр\n",
      "лайм : 60 гр\n"
     ]
    }
   ],
   "source": [
    "sum_set =[] \n",
    "ing = [] # для корректного суммирования формируем отдельный список из пар ингридиент-мера\n",
    "x = int(input('Введите количество порций:  '))\n",
    "for item, set in cook_book.items():\n",
    "    for line in set:\n",
    "        if [line['ingridient_name'],line['measure']] not in ing: \n",
    "            sum_set.append(line)\n",
    "            ing.append([line['ingridient_name'],line['measure']])\n",
    "        else:\n",
    "            for i in sum_set:\n",
    "                if i['ingridient_name'] == line['ingridient_name']:\n",
    "                    i['quantity'] += line['quantity']          \n",
    "#print(sum_set)\n",
    "#print(ing)\n",
    "for line in sum_set:\n",
    "     print(line['ingridient_name'],':',line['quantity']*x, line['measure'])"
   ]
  }
 ],
 "metadata": {
  "kernelspec": {
   "display_name": "Python 3",
   "language": "python",
   "name": "python3"
  },
  "language_info": {
   "codemirror_mode": {
    "name": "ipython",
    "version": 3
   },
   "file_extension": ".py",
   "mimetype": "text/x-python",
   "name": "python",
   "nbconvert_exporter": "python",
   "pygments_lexer": "ipython3",
   "version": "3.8.5"
  }
 },
 "nbformat": 4,
 "nbformat_minor": 4
}
