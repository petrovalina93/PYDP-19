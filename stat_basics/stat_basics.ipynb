{
 "cells": [
  {
   "cell_type": "markdown",
   "metadata": {},
   "source": [
    "# Домашнее задание к лекции \"Базовые понятия статистики\""
   ]
  },
  {
   "cell_type": "markdown",
   "metadata": {},
   "source": [
    "## Обязательная часть\n",
    "\n",
    "Будем осуществлять работу с непростым [набором данных](https://raw.githubusercontent.com/obulygin/pyda_homeworks/master/statistics_basics/horse_data.csv) о состоянии здоровья лошадей, испытывающих кишечные колики. \n",
    "\n",
    "### Задание 1. Базовое изучение\n",
    "\n",
    "Изучить представленный набор данных на основе [описания его столбцов](https://raw.githubusercontent.com/obulygin/pyda_homeworks/master/statistics_basics/horse_data.names) и выбрать 8 столбцов для дальнейшего изучения (среди них должны быть как числовые, так и категориальные). Провести расчет базовых метрик для них, кратко описать результаты.\n",
    "\n",
    "### Задание 2. Работа с выбросами\n",
    "\n",
    "В выбранных числовых столбцах найти выбросы, выдвинуть гипотезы об их причинах и проинтерпретировать результаты. Принять и обосновать решение о дальнейшей работе с ними.\n",
    "\n",
    "### Задание 3. Работа с пропусками\n",
    "\n",
    "Рассчитать количество выбросов для всех выбранных столбцов. Принять и обосновать решение о методе работы с пропусками по каждому столбцу, сформировать датафрейм, в котором пропуски будут отсутствовать."
   ]
  },
  {
   "cell_type": "markdown",
   "metadata": {},
   "source": [
    "### Задание 1"
   ]
  },
  {
   "cell_type": "code",
   "execution_count": 2,
   "metadata": {},
   "outputs": [],
   "source": [
    "import pandas as pd"
   ]
  },
  {
   "cell_type": "code",
   "execution_count": 8,
   "metadata": {},
   "outputs": [],
   "source": [
    "?pd.read_csv"
   ]
  },
  {
   "cell_type": "code",
   "execution_count": 92,
   "metadata": {},
   "outputs": [
    {
     "data": {
      "text/html": [
       "<div>\n",
       "<style scoped>\n",
       "    .dataframe tbody tr th:only-of-type {\n",
       "        vertical-align: middle;\n",
       "    }\n",
       "\n",
       "    .dataframe tbody tr th {\n",
       "        vertical-align: top;\n",
       "    }\n",
       "\n",
       "    .dataframe thead th {\n",
       "        text-align: right;\n",
       "    }\n",
       "</style>\n",
       "<table border=\"1\" class=\"dataframe\">\n",
       "  <thead>\n",
       "    <tr style=\"text-align: right;\">\n",
       "      <th></th>\n",
       "      <th>0</th>\n",
       "      <th>1</th>\n",
       "      <th>2</th>\n",
       "      <th>3</th>\n",
       "      <th>4</th>\n",
       "      <th>5</th>\n",
       "      <th>6</th>\n",
       "      <th>7</th>\n",
       "      <th>8</th>\n",
       "      <th>9</th>\n",
       "      <th>...</th>\n",
       "      <th>18</th>\n",
       "      <th>19</th>\n",
       "      <th>20</th>\n",
       "      <th>21</th>\n",
       "      <th>22</th>\n",
       "      <th>23</th>\n",
       "      <th>24</th>\n",
       "      <th>25</th>\n",
       "      <th>26</th>\n",
       "      <th>27</th>\n",
       "    </tr>\n",
       "  </thead>\n",
       "  <tbody>\n",
       "    <tr>\n",
       "      <th>0</th>\n",
       "      <td>2.0</td>\n",
       "      <td>1</td>\n",
       "      <td>530101</td>\n",
       "      <td>38.5</td>\n",
       "      <td>66.0</td>\n",
       "      <td>28.0</td>\n",
       "      <td>3.0</td>\n",
       "      <td>3.0</td>\n",
       "      <td>NaN</td>\n",
       "      <td>2.0</td>\n",
       "      <td>...</td>\n",
       "      <td>45.0</td>\n",
       "      <td>8.4</td>\n",
       "      <td>NaN</td>\n",
       "      <td>NaN</td>\n",
       "      <td>2.0</td>\n",
       "      <td>2</td>\n",
       "      <td>11300</td>\n",
       "      <td>0</td>\n",
       "      <td>0</td>\n",
       "      <td>2</td>\n",
       "    </tr>\n",
       "    <tr>\n",
       "      <th>1</th>\n",
       "      <td>1.0</td>\n",
       "      <td>1</td>\n",
       "      <td>534817</td>\n",
       "      <td>39.2</td>\n",
       "      <td>88.0</td>\n",
       "      <td>20.0</td>\n",
       "      <td>NaN</td>\n",
       "      <td>NaN</td>\n",
       "      <td>4.0</td>\n",
       "      <td>1.0</td>\n",
       "      <td>...</td>\n",
       "      <td>50.0</td>\n",
       "      <td>85.0</td>\n",
       "      <td>2.0</td>\n",
       "      <td>2.0</td>\n",
       "      <td>3.0</td>\n",
       "      <td>2</td>\n",
       "      <td>2208</td>\n",
       "      <td>0</td>\n",
       "      <td>0</td>\n",
       "      <td>2</td>\n",
       "    </tr>\n",
       "    <tr>\n",
       "      <th>2</th>\n",
       "      <td>2.0</td>\n",
       "      <td>1</td>\n",
       "      <td>530334</td>\n",
       "      <td>38.3</td>\n",
       "      <td>40.0</td>\n",
       "      <td>24.0</td>\n",
       "      <td>1.0</td>\n",
       "      <td>1.0</td>\n",
       "      <td>3.0</td>\n",
       "      <td>1.0</td>\n",
       "      <td>...</td>\n",
       "      <td>33.0</td>\n",
       "      <td>6.7</td>\n",
       "      <td>NaN</td>\n",
       "      <td>NaN</td>\n",
       "      <td>1.0</td>\n",
       "      <td>2</td>\n",
       "      <td>0</td>\n",
       "      <td>0</td>\n",
       "      <td>0</td>\n",
       "      <td>1</td>\n",
       "    </tr>\n",
       "    <tr>\n",
       "      <th>3</th>\n",
       "      <td>1.0</td>\n",
       "      <td>9</td>\n",
       "      <td>5290409</td>\n",
       "      <td>39.1</td>\n",
       "      <td>164.0</td>\n",
       "      <td>84.0</td>\n",
       "      <td>4.0</td>\n",
       "      <td>1.0</td>\n",
       "      <td>6.0</td>\n",
       "      <td>2.0</td>\n",
       "      <td>...</td>\n",
       "      <td>48.0</td>\n",
       "      <td>7.2</td>\n",
       "      <td>3.0</td>\n",
       "      <td>5.3</td>\n",
       "      <td>2.0</td>\n",
       "      <td>1</td>\n",
       "      <td>2208</td>\n",
       "      <td>0</td>\n",
       "      <td>0</td>\n",
       "      <td>1</td>\n",
       "    </tr>\n",
       "    <tr>\n",
       "      <th>4</th>\n",
       "      <td>2.0</td>\n",
       "      <td>1</td>\n",
       "      <td>530255</td>\n",
       "      <td>37.3</td>\n",
       "      <td>104.0</td>\n",
       "      <td>35.0</td>\n",
       "      <td>NaN</td>\n",
       "      <td>NaN</td>\n",
       "      <td>6.0</td>\n",
       "      <td>2.0</td>\n",
       "      <td>...</td>\n",
       "      <td>74.0</td>\n",
       "      <td>7.4</td>\n",
       "      <td>NaN</td>\n",
       "      <td>NaN</td>\n",
       "      <td>2.0</td>\n",
       "      <td>2</td>\n",
       "      <td>4300</td>\n",
       "      <td>0</td>\n",
       "      <td>0</td>\n",
       "      <td>2</td>\n",
       "    </tr>\n",
       "  </tbody>\n",
       "</table>\n",
       "<p>5 rows × 28 columns</p>\n",
       "</div>"
      ],
      "text/plain": [
       "    0   1        2     3      4     5    6    7    8    9   ...    18    19  \\\n",
       "0  2.0   1   530101  38.5   66.0  28.0  3.0  3.0  NaN  2.0  ...  45.0   8.4   \n",
       "1  1.0   1   534817  39.2   88.0  20.0  NaN  NaN  4.0  1.0  ...  50.0  85.0   \n",
       "2  2.0   1   530334  38.3   40.0  24.0  1.0  1.0  3.0  1.0  ...  33.0   6.7   \n",
       "3  1.0   9  5290409  39.1  164.0  84.0  4.0  1.0  6.0  2.0  ...  48.0   7.2   \n",
       "4  2.0   1   530255  37.3  104.0  35.0  NaN  NaN  6.0  2.0  ...  74.0   7.4   \n",
       "\n",
       "    20   21   22  23     24  25  26  27  \n",
       "0  NaN  NaN  2.0   2  11300   0   0   2  \n",
       "1  2.0  2.0  3.0   2   2208   0   0   2  \n",
       "2  NaN  NaN  1.0   2      0   0   0   1  \n",
       "3  3.0  5.3  2.0   1   2208   0   0   1  \n",
       "4  NaN  NaN  2.0   2   4300   0   0   2  \n",
       "\n",
       "[5 rows x 28 columns]"
      ]
     },
     "execution_count": 92,
     "metadata": {},
     "output_type": "execute_result"
    }
   ],
   "source": [
    "data = pd.read_csv(r'C:\\Users\\Лина\\OneDrive\\Рабочий стол\\study\\PYDP-19\\stat_basics\\horse_data.csv', sep = ',', header=None, na_values='?')\n",
    "data.head()"
   ]
  },
  {
   "cell_type": "code",
   "execution_count": 93,
   "metadata": {},
   "outputs": [
    {
     "name": "stdout",
     "output_type": "stream",
     "text": [
      "<class 'pandas.core.frame.DataFrame'>\n",
      "RangeIndex: 300 entries, 0 to 299\n",
      "Data columns (total 28 columns):\n",
      " #   Column  Non-Null Count  Dtype  \n",
      "---  ------  --------------  -----  \n",
      " 0   0       299 non-null    float64\n",
      " 1   1       300 non-null    int64  \n",
      " 2   2       300 non-null    int64  \n",
      " 3   3       240 non-null    float64\n",
      " 4   4       276 non-null    float64\n",
      " 5   5       242 non-null    float64\n",
      " 6   6       244 non-null    float64\n",
      " 7   7       231 non-null    float64\n",
      " 8   8       253 non-null    float64\n",
      " 9   9       268 non-null    float64\n",
      " 10  10      245 non-null    float64\n",
      " 11  11      256 non-null    float64\n",
      " 12  12      244 non-null    float64\n",
      " 13  13      196 non-null    float64\n",
      " 14  14      194 non-null    float64\n",
      " 15  15      53 non-null     float64\n",
      " 16  16      198 non-null    float64\n",
      " 17  17      182 non-null    float64\n",
      " 18  18      271 non-null    float64\n",
      " 19  19      267 non-null    float64\n",
      " 20  20      135 non-null    float64\n",
      " 21  21      102 non-null    float64\n",
      " 22  22      299 non-null    float64\n",
      " 23  23      300 non-null    int64  \n",
      " 24  24      300 non-null    int64  \n",
      " 25  25      300 non-null    int64  \n",
      " 26  26      300 non-null    int64  \n",
      " 27  27      300 non-null    int64  \n",
      "dtypes: float64(21), int64(7)\n",
      "memory usage: 65.8 KB\n"
     ]
    }
   ],
   "source": [
    "data.info()"
   ]
  },
  {
   "cell_type": "code",
   "execution_count": 350,
   "metadata": {},
   "outputs": [],
   "source": [
    "data_short = data.drop(data.columns[[2,5,6,7,8,9,11,13,14,15,16,17,18,20,21,23,24,25,26,27]], axis=1)"
   ]
  },
  {
   "cell_type": "code",
   "execution_count": 351,
   "metadata": {},
   "outputs": [],
   "source": [
    "column_names = ['surgery?', 'Age', 'rectal temperature', 'pulse', 'pain', 'abdominal distension', 'total protein', 'outcome']"
   ]
  },
  {
   "cell_type": "code",
   "execution_count": 352,
   "metadata": {},
   "outputs": [
    {
     "data": {
      "text/html": [
       "<div>\n",
       "<style scoped>\n",
       "    .dataframe tbody tr th:only-of-type {\n",
       "        vertical-align: middle;\n",
       "    }\n",
       "\n",
       "    .dataframe tbody tr th {\n",
       "        vertical-align: top;\n",
       "    }\n",
       "\n",
       "    .dataframe thead th {\n",
       "        text-align: right;\n",
       "    }\n",
       "</style>\n",
       "<table border=\"1\" class=\"dataframe\">\n",
       "  <thead>\n",
       "    <tr style=\"text-align: right;\">\n",
       "      <th></th>\n",
       "      <th>surgery?</th>\n",
       "      <th>Age</th>\n",
       "      <th>rectal temperature</th>\n",
       "      <th>pulse</th>\n",
       "      <th>pain</th>\n",
       "      <th>abdominal distension</th>\n",
       "      <th>total protein</th>\n",
       "      <th>outcome</th>\n",
       "    </tr>\n",
       "  </thead>\n",
       "  <tbody>\n",
       "    <tr>\n",
       "      <th>0</th>\n",
       "      <td>2.0</td>\n",
       "      <td>1</td>\n",
       "      <td>38.5</td>\n",
       "      <td>66.0</td>\n",
       "      <td>5.0</td>\n",
       "      <td>4.0</td>\n",
       "      <td>8.4</td>\n",
       "      <td>2.0</td>\n",
       "    </tr>\n",
       "    <tr>\n",
       "      <th>1</th>\n",
       "      <td>1.0</td>\n",
       "      <td>1</td>\n",
       "      <td>39.2</td>\n",
       "      <td>88.0</td>\n",
       "      <td>3.0</td>\n",
       "      <td>2.0</td>\n",
       "      <td>85.0</td>\n",
       "      <td>3.0</td>\n",
       "    </tr>\n",
       "    <tr>\n",
       "      <th>2</th>\n",
       "      <td>2.0</td>\n",
       "      <td>1</td>\n",
       "      <td>38.3</td>\n",
       "      <td>40.0</td>\n",
       "      <td>3.0</td>\n",
       "      <td>1.0</td>\n",
       "      <td>6.7</td>\n",
       "      <td>1.0</td>\n",
       "    </tr>\n",
       "    <tr>\n",
       "      <th>3</th>\n",
       "      <td>1.0</td>\n",
       "      <td>9</td>\n",
       "      <td>39.1</td>\n",
       "      <td>164.0</td>\n",
       "      <td>2.0</td>\n",
       "      <td>4.0</td>\n",
       "      <td>7.2</td>\n",
       "      <td>2.0</td>\n",
       "    </tr>\n",
       "    <tr>\n",
       "      <th>4</th>\n",
       "      <td>2.0</td>\n",
       "      <td>1</td>\n",
       "      <td>37.3</td>\n",
       "      <td>104.0</td>\n",
       "      <td>NaN</td>\n",
       "      <td>NaN</td>\n",
       "      <td>7.4</td>\n",
       "      <td>2.0</td>\n",
       "    </tr>\n",
       "  </tbody>\n",
       "</table>\n",
       "</div>"
      ],
      "text/plain": [
       "   surgery?  Age  rectal temperature  pulse  pain  abdominal distension  \\\n",
       "0       2.0    1                38.5   66.0   5.0                   4.0   \n",
       "1       1.0    1                39.2   88.0   3.0                   2.0   \n",
       "2       2.0    1                38.3   40.0   3.0                   1.0   \n",
       "3       1.0    9                39.1  164.0   2.0                   4.0   \n",
       "4       2.0    1                37.3  104.0   NaN                   NaN   \n",
       "\n",
       "   total protein  outcome  \n",
       "0            8.4      2.0  \n",
       "1           85.0      3.0  \n",
       "2            6.7      1.0  \n",
       "3            7.2      2.0  \n",
       "4            7.4      2.0  "
      ]
     },
     "execution_count": 352,
     "metadata": {},
     "output_type": "execute_result"
    }
   ],
   "source": [
    "data_short.set_axis(column_names, axis = 'columns', inplace = True)\n",
    "data_short.head()"
   ]
  },
  {
   "cell_type": "code",
   "execution_count": 323,
   "metadata": {},
   "outputs": [
    {
     "data": {
      "text/html": [
       "<div>\n",
       "<style scoped>\n",
       "    .dataframe tbody tr th:only-of-type {\n",
       "        vertical-align: middle;\n",
       "    }\n",
       "\n",
       "    .dataframe tbody tr th {\n",
       "        vertical-align: top;\n",
       "    }\n",
       "\n",
       "    .dataframe thead th {\n",
       "        text-align: right;\n",
       "    }\n",
       "</style>\n",
       "<table border=\"1\" class=\"dataframe\">\n",
       "  <thead>\n",
       "    <tr style=\"text-align: right;\">\n",
       "      <th></th>\n",
       "      <th>surgery?</th>\n",
       "      <th>Age</th>\n",
       "      <th>rectal temperature</th>\n",
       "      <th>pulse</th>\n",
       "      <th>pain</th>\n",
       "      <th>abdominal distension</th>\n",
       "      <th>total protein</th>\n",
       "      <th>outcome</th>\n",
       "    </tr>\n",
       "  </thead>\n",
       "  <tbody>\n",
       "    <tr>\n",
       "      <th>count</th>\n",
       "      <td>299.000000</td>\n",
       "      <td>300.000000</td>\n",
       "      <td>240.000000</td>\n",
       "      <td>276.000000</td>\n",
       "      <td>245.00000</td>\n",
       "      <td>244.000000</td>\n",
       "      <td>267.000000</td>\n",
       "      <td>299.000000</td>\n",
       "    </tr>\n",
       "    <tr>\n",
       "      <th>mean</th>\n",
       "      <td>1.397993</td>\n",
       "      <td>1.640000</td>\n",
       "      <td>38.167917</td>\n",
       "      <td>71.913043</td>\n",
       "      <td>2.95102</td>\n",
       "      <td>2.266393</td>\n",
       "      <td>24.456929</td>\n",
       "      <td>1.551839</td>\n",
       "    </tr>\n",
       "    <tr>\n",
       "      <th>std</th>\n",
       "      <td>0.490305</td>\n",
       "      <td>2.173972</td>\n",
       "      <td>0.732289</td>\n",
       "      <td>28.630557</td>\n",
       "      <td>1.30794</td>\n",
       "      <td>1.065131</td>\n",
       "      <td>27.475009</td>\n",
       "      <td>0.737187</td>\n",
       "    </tr>\n",
       "    <tr>\n",
       "      <th>min</th>\n",
       "      <td>1.000000</td>\n",
       "      <td>1.000000</td>\n",
       "      <td>35.400000</td>\n",
       "      <td>30.000000</td>\n",
       "      <td>1.00000</td>\n",
       "      <td>1.000000</td>\n",
       "      <td>3.300000</td>\n",
       "      <td>1.000000</td>\n",
       "    </tr>\n",
       "    <tr>\n",
       "      <th>25%</th>\n",
       "      <td>1.000000</td>\n",
       "      <td>1.000000</td>\n",
       "      <td>37.800000</td>\n",
       "      <td>48.000000</td>\n",
       "      <td>2.00000</td>\n",
       "      <td>1.000000</td>\n",
       "      <td>6.500000</td>\n",
       "      <td>1.000000</td>\n",
       "    </tr>\n",
       "    <tr>\n",
       "      <th>50%</th>\n",
       "      <td>1.000000</td>\n",
       "      <td>1.000000</td>\n",
       "      <td>38.200000</td>\n",
       "      <td>64.000000</td>\n",
       "      <td>3.00000</td>\n",
       "      <td>2.000000</td>\n",
       "      <td>7.500000</td>\n",
       "      <td>1.000000</td>\n",
       "    </tr>\n",
       "    <tr>\n",
       "      <th>75%</th>\n",
       "      <td>2.000000</td>\n",
       "      <td>1.000000</td>\n",
       "      <td>38.500000</td>\n",
       "      <td>88.000000</td>\n",
       "      <td>4.00000</td>\n",
       "      <td>3.000000</td>\n",
       "      <td>57.000000</td>\n",
       "      <td>2.000000</td>\n",
       "    </tr>\n",
       "    <tr>\n",
       "      <th>max</th>\n",
       "      <td>2.000000</td>\n",
       "      <td>9.000000</td>\n",
       "      <td>40.800000</td>\n",
       "      <td>184.000000</td>\n",
       "      <td>5.00000</td>\n",
       "      <td>4.000000</td>\n",
       "      <td>89.000000</td>\n",
       "      <td>3.000000</td>\n",
       "    </tr>\n",
       "  </tbody>\n",
       "</table>\n",
       "</div>"
      ],
      "text/plain": [
       "         surgery?         Age  rectal temperature       pulse       pain  \\\n",
       "count  299.000000  300.000000          240.000000  276.000000  245.00000   \n",
       "mean     1.397993    1.640000           38.167917   71.913043    2.95102   \n",
       "std      0.490305    2.173972            0.732289   28.630557    1.30794   \n",
       "min      1.000000    1.000000           35.400000   30.000000    1.00000   \n",
       "25%      1.000000    1.000000           37.800000   48.000000    2.00000   \n",
       "50%      1.000000    1.000000           38.200000   64.000000    3.00000   \n",
       "75%      2.000000    1.000000           38.500000   88.000000    4.00000   \n",
       "max      2.000000    9.000000           40.800000  184.000000    5.00000   \n",
       "\n",
       "       abdominal distension  total protein     outcome  \n",
       "count            244.000000     267.000000  299.000000  \n",
       "mean               2.266393      24.456929    1.551839  \n",
       "std                1.065131      27.475009    0.737187  \n",
       "min                1.000000       3.300000    1.000000  \n",
       "25%                1.000000       6.500000    1.000000  \n",
       "50%                2.000000       7.500000    1.000000  \n",
       "75%                3.000000      57.000000    2.000000  \n",
       "max                4.000000      89.000000    3.000000  "
      ]
     },
     "execution_count": 323,
     "metadata": {},
     "output_type": "execute_result"
    }
   ],
   "source": [
    "data_short.describe()"
   ]
  },
  {
   "cell_type": "code",
   "execution_count": 97,
   "metadata": {},
   "outputs": [
    {
     "data": {
      "text/plain": [
       "1    276\n",
       "9     24\n",
       "Name: Age, dtype: int64"
      ]
     },
     "execution_count": 97,
     "metadata": {},
     "output_type": "execute_result"
    }
   ],
   "source": [
    "data_short['Age'].value_counts() #  в описании возможных значений столбца ошибка"
   ]
  },
  {
   "cell_type": "code",
   "execution_count": 98,
   "metadata": {},
   "outputs": [
    {
     "data": {
      "text/plain": [
       "1.0    178\n",
       "2.0     77\n",
       "3.0     44\n",
       "Name: outcome, dtype: int64"
      ]
     },
     "execution_count": 98,
     "metadata": {},
     "output_type": "execute_result"
    }
   ],
   "source": [
    "data_short['outcome'].value_counts()"
   ]
  },
  {
   "cell_type": "markdown",
   "metadata": {},
   "source": [
    "**Выводы**: \n",
    "\n",
    "-в датасете представлено инфо о 300 случаях заболевания лошадей, подавляющие большинство относится к взрослым особям, в 40% случаев потребовалась операция, больше половины лошадей в итоге выжило;  \n",
    "\n",
    "-при заболевании у более 75% лошадей присутствовала повышенная температура, свидетельствующая о наличии инфекции  \n",
    "\n",
    "-показатели пульса и  общего белка сильно разбросаны и смещены в стороному выше от нормальных значений этих параметров, что в целом характерно для животных страдающих от поражений и боли  \n",
    "\n",
    "-параметр характеризующий уровень боли лошади довольно равномерно распределен по принятым категориям, что говорит о вариантивности случаев течения заболевани и  отсутствии единого сценария развития болевого синдрома  \n",
    "\n",
    "-такой важный параметр как вздутие также разбит на 4 возможные категории и также как и в случае боли распределен достаточно равномерно, данный параметр лучше всего рассматривать в купе с другими, характеризиющими  боль, моторику, давление и пр. для выявления взаимосвязей с результатами о применении хирургического вмешательства. \n"
   ]
  },
  {
   "cell_type": "markdown",
   "metadata": {},
   "source": [
    "### Задание 2"
   ]
  },
  {
   "cell_type": "code",
   "execution_count": 101,
   "metadata": {},
   "outputs": [
    {
     "data": {
      "text/plain": [
       "rectal temperature\n",
       "40.3    2\n",
       "36.5    2\n",
       "40.8    1\n",
       "40.0    1\n",
       "39.9    1\n",
       "39.7    1\n",
       "39.6    1\n",
       "36.6    1\n",
       "36.4    1\n",
       "36.1    1\n",
       "36.0    1\n",
       "35.4    1\n",
       "dtype: int64"
      ]
     },
     "execution_count": 101,
     "metadata": {},
     "output_type": "execute_result"
    }
   ],
   "source": [
    "q1 = data_short['rectal temperature'].quantile(0.25)\n",
    "q3 = data_short['rectal temperature'].quantile(0.75)\n",
    "iqr = q3 - q1\n",
    "lower_bound = q1 - (1.5 * iqr) \n",
    "upper_bound = q3 + (1.5 * iqr)\n",
    "data_outliers = data_short[data_short['rectal temperature'].between(lower_bound, upper_bound, inclusive=True)]\n",
    "pd.concat([data_short, data_outliers]).drop_duplicates(keep=False).value_counts(data_short['rectal temperature'])"
   ]
  },
  {
   "cell_type": "markdown",
   "metadata": {},
   "source": [
    "выбросов немного, а учитывая довольно компактную группировку всех значений (небольшое значение среднеквадратичного отклонения) они не сильно искажают базовые статистики, поэтому для дальнейшего анализа можем ничего с ними не делать, ни одно из значений скорее всего не является ошибочным"
   ]
  },
  {
   "cell_type": "code",
   "execution_count": 102,
   "metadata": {},
   "outputs": [
    {
     "data": {
      "text/plain": [
       "pulse\n",
       "150.0    2\n",
       "184.0    1\n",
       "164.0    1\n",
       "160.0    1\n",
       "dtype: int64"
      ]
     },
     "execution_count": 102,
     "metadata": {},
     "output_type": "execute_result"
    }
   ],
   "source": [
    "q1 = data_short['pulse'].quantile(0.25)\n",
    "q3 = data_short['pulse'].quantile(0.75)\n",
    "iqr = q3 - q1\n",
    "lower_bound = q1 - (1.5 * iqr) \n",
    "upper_bound = q3 + (1.5 * iqr)\n",
    "data_outliers = data_short[data_short['pulse'].between(lower_bound, upper_bound, inclusive=True)]\n",
    "pd.concat([data_short, data_outliers]).drop_duplicates(keep=False).value_counts(data_short['pulse'])"
   ]
  },
  {
   "cell_type": "code",
   "execution_count": 103,
   "metadata": {},
   "outputs": [
    {
     "data": {
      "text/plain": [
       "143.0"
      ]
     },
     "execution_count": 103,
     "metadata": {},
     "output_type": "execute_result"
    }
   ],
   "source": [
    "data_short['pulse'].quantile(0.98)"
   ]
  },
  {
   "cell_type": "markdown",
   "metadata": {},
   "source": [
    "выбросов крайне мало, все они приближены к максимальному значению, случаи явно нестандартные и требуют дополнительного изучения. Т.к. их наличие приводит к искажению базовых статистик следует выделить в отдельный дата фрейм и проанализировать являются ли значения ошибочными или закономерными для конкретных случаев"
   ]
  },
  {
   "cell_type": "code",
   "execution_count": 104,
   "metadata": {},
   "outputs": [
    {
     "data": {
      "text/plain": [
       "Series([], dtype: int64)"
      ]
     },
     "execution_count": 104,
     "metadata": {},
     "output_type": "execute_result"
    }
   ],
   "source": [
    "q1 = data_short['total protein'].quantile(0.25)\n",
    "q3 = data_short['total protein'].quantile(0.75)\n",
    "iqr = q3 - q1\n",
    "lower_bound = q1 - (1.5 * iqr) \n",
    "upper_bound = q3 + (1.5 * iqr)\n",
    "data_outliers = data_short[data_short['total protein'].between(lower_bound, upper_bound, inclusive=True)]\n",
    "pd.concat([data_short, data_outliers]).drop_duplicates(keep=False).value_counts(data_short['total protein'])"
   ]
  },
  {
   "cell_type": "markdown",
   "metadata": {},
   "source": [
    "значения показателя изначально очень сильно разбросаны, поэтому межквартльный размах перекрывает весь имеющийся диапазон значений и выбросов по факту не получаем, возможно для более корректного анализа следует ввести категориальный показатель для значения белка разбив диапазон на несколько интервалов и изучать данный параметр в купе с другими"
   ]
  },
  {
   "cell_type": "markdown",
   "metadata": {},
   "source": [
    "### Задание 3"
   ]
  },
  {
   "cell_type": "code",
   "execution_count": 374,
   "metadata": {},
   "outputs": [
    {
     "name": "stdout",
     "output_type": "stream",
     "text": [
      "<class 'pandas.core.frame.DataFrame'>\n",
      "RangeIndex: 300 entries, 0 to 299\n",
      "Data columns (total 8 columns):\n",
      " #   Column                Non-Null Count  Dtype  \n",
      "---  ------                --------------  -----  \n",
      " 0   surgery?              299 non-null    float64\n",
      " 1   Age                   300 non-null    int64  \n",
      " 2   rectal temperature    240 non-null    float64\n",
      " 3   pulse                 276 non-null    float64\n",
      " 4   pain                  245 non-null    float64\n",
      " 5   abdominal distension  244 non-null    float64\n",
      " 6   total protein         267 non-null    float64\n",
      " 7   outcome               299 non-null    float64\n",
      "dtypes: float64(7), int64(1)\n",
      "memory usage: 18.9 KB\n"
     ]
    }
   ],
   "source": [
    "data_short.info()"
   ]
  },
  {
   "cell_type": "code",
   "execution_count": 373,
   "metadata": {},
   "outputs": [
    {
     "data": {
      "text/plain": [
       "surgery?                 0.33\n",
       "Age                      0.00\n",
       "rectal temperature      20.00\n",
       "pulse                    8.00\n",
       "pain                    18.33\n",
       "abdominal distension    18.67\n",
       "total protein           11.00\n",
       "outcome                  0.33\n",
       "dtype: float64"
      ]
     },
     "execution_count": 373,
     "metadata": {},
     "output_type": "execute_result"
    }
   ],
   "source": [
    "(data_short.isna().mean() * 100).round(2) # % выбросов по каждому столбцу"
   ]
  },
  {
   "cell_type": "markdown",
   "metadata": {},
   "source": [
    "**пропуски в столбцах:**  \n",
    "\n",
    "-для столбцов с одним пропуском замена не сильно скажется на показателях, поэтому заменим на моду  \n",
    "-**rectal temperature**   учитывая довольно компактную группировку всех значений (небольшое значение среднеквадратичного отклонения) заменим на среднее  \n",
    "-**pulse**  т.к. пропусков немного, но есть значительные выбросы заменим пропуски на среднее значение из размаха  \n",
    "-**pain** пропусков достаточно много. знаем, что чем больнее, тем больше вероятность, что потребуется операция, поэтому сгруппируем и посмотрим показатели               \n",
    "-**abdominal distension**  знаем, что животное с вздутием живота, вероятно, будет болезненным,скорее всего, потребует  \n",
    "хирургического вмешательства, сгруппируем и посмотрим на результаты  \n",
    "-**total protein**  \n"
   ]
  },
  {
   "cell_type": "code",
   "execution_count": 379,
   "metadata": {},
   "outputs": [
    {
     "data": {
      "text/html": [
       "<div>\n",
       "<style scoped>\n",
       "    .dataframe tbody tr th:only-of-type {\n",
       "        vertical-align: middle;\n",
       "    }\n",
       "\n",
       "    .dataframe tbody tr th {\n",
       "        vertical-align: top;\n",
       "    }\n",
       "\n",
       "    .dataframe thead th {\n",
       "        text-align: right;\n",
       "    }\n",
       "</style>\n",
       "<table border=\"1\" class=\"dataframe\">\n",
       "  <thead>\n",
       "    <tr style=\"text-align: right;\">\n",
       "      <th></th>\n",
       "      <th>surgery?</th>\n",
       "      <th>Age</th>\n",
       "      <th>rectal temperature</th>\n",
       "      <th>pulse</th>\n",
       "      <th>pain</th>\n",
       "      <th>abdominal distension</th>\n",
       "      <th>total protein</th>\n",
       "      <th>outcome</th>\n",
       "    </tr>\n",
       "  </thead>\n",
       "  <tbody>\n",
       "    <tr>\n",
       "      <th>0</th>\n",
       "      <td>2.0</td>\n",
       "      <td>1</td>\n",
       "      <td>38.5</td>\n",
       "      <td>66.0</td>\n",
       "      <td>5.0</td>\n",
       "      <td>4.0</td>\n",
       "      <td>8.4</td>\n",
       "      <td>2.0</td>\n",
       "    </tr>\n",
       "    <tr>\n",
       "      <th>1</th>\n",
       "      <td>1.0</td>\n",
       "      <td>1</td>\n",
       "      <td>39.2</td>\n",
       "      <td>88.0</td>\n",
       "      <td>3.0</td>\n",
       "      <td>2.0</td>\n",
       "      <td>85.0</td>\n",
       "      <td>3.0</td>\n",
       "    </tr>\n",
       "    <tr>\n",
       "      <th>2</th>\n",
       "      <td>2.0</td>\n",
       "      <td>1</td>\n",
       "      <td>38.3</td>\n",
       "      <td>40.0</td>\n",
       "      <td>3.0</td>\n",
       "      <td>1.0</td>\n",
       "      <td>6.7</td>\n",
       "      <td>1.0</td>\n",
       "    </tr>\n",
       "    <tr>\n",
       "      <th>3</th>\n",
       "      <td>1.0</td>\n",
       "      <td>9</td>\n",
       "      <td>39.1</td>\n",
       "      <td>164.0</td>\n",
       "      <td>2.0</td>\n",
       "      <td>4.0</td>\n",
       "      <td>7.2</td>\n",
       "      <td>2.0</td>\n",
       "    </tr>\n",
       "    <tr>\n",
       "      <th>4</th>\n",
       "      <td>2.0</td>\n",
       "      <td>1</td>\n",
       "      <td>37.3</td>\n",
       "      <td>104.0</td>\n",
       "      <td>NaN</td>\n",
       "      <td>NaN</td>\n",
       "      <td>7.4</td>\n",
       "      <td>2.0</td>\n",
       "    </tr>\n",
       "    <tr>\n",
       "      <th>...</th>\n",
       "      <td>...</td>\n",
       "      <td>...</td>\n",
       "      <td>...</td>\n",
       "      <td>...</td>\n",
       "      <td>...</td>\n",
       "      <td>...</td>\n",
       "      <td>...</td>\n",
       "      <td>...</td>\n",
       "    </tr>\n",
       "    <tr>\n",
       "      <th>295</th>\n",
       "      <td>1.0</td>\n",
       "      <td>1</td>\n",
       "      <td>NaN</td>\n",
       "      <td>120.0</td>\n",
       "      <td>2.0</td>\n",
       "      <td>NaN</td>\n",
       "      <td>65.0</td>\n",
       "      <td>3.0</td>\n",
       "    </tr>\n",
       "    <tr>\n",
       "      <th>296</th>\n",
       "      <td>2.0</td>\n",
       "      <td>1</td>\n",
       "      <td>37.2</td>\n",
       "      <td>72.0</td>\n",
       "      <td>4.0</td>\n",
       "      <td>3.0</td>\n",
       "      <td>NaN</td>\n",
       "      <td>3.0</td>\n",
       "    </tr>\n",
       "    <tr>\n",
       "      <th>297</th>\n",
       "      <td>1.0</td>\n",
       "      <td>1</td>\n",
       "      <td>37.5</td>\n",
       "      <td>72.0</td>\n",
       "      <td>4.0</td>\n",
       "      <td>3.0</td>\n",
       "      <td>6.8</td>\n",
       "      <td>2.0</td>\n",
       "    </tr>\n",
       "    <tr>\n",
       "      <th>298</th>\n",
       "      <td>1.0</td>\n",
       "      <td>1</td>\n",
       "      <td>36.5</td>\n",
       "      <td>100.0</td>\n",
       "      <td>3.0</td>\n",
       "      <td>3.0</td>\n",
       "      <td>6.0</td>\n",
       "      <td>1.0</td>\n",
       "    </tr>\n",
       "    <tr>\n",
       "      <th>299</th>\n",
       "      <td>1.0</td>\n",
       "      <td>1</td>\n",
       "      <td>37.2</td>\n",
       "      <td>40.0</td>\n",
       "      <td>NaN</td>\n",
       "      <td>NaN</td>\n",
       "      <td>62.0</td>\n",
       "      <td>3.0</td>\n",
       "    </tr>\n",
       "  </tbody>\n",
       "</table>\n",
       "<p>300 rows × 8 columns</p>\n",
       "</div>"
      ],
      "text/plain": [
       "     surgery?  Age  rectal temperature  pulse  pain  abdominal distension  \\\n",
       "0         2.0    1                38.5   66.0   5.0                   4.0   \n",
       "1         1.0    1                39.2   88.0   3.0                   2.0   \n",
       "2         2.0    1                38.3   40.0   3.0                   1.0   \n",
       "3         1.0    9                39.1  164.0   2.0                   4.0   \n",
       "4         2.0    1                37.3  104.0   NaN                   NaN   \n",
       "..        ...  ...                 ...    ...   ...                   ...   \n",
       "295       1.0    1                 NaN  120.0   2.0                   NaN   \n",
       "296       2.0    1                37.2   72.0   4.0                   3.0   \n",
       "297       1.0    1                37.5   72.0   4.0                   3.0   \n",
       "298       1.0    1                36.5  100.0   3.0                   3.0   \n",
       "299       1.0    1                37.2   40.0   NaN                   NaN   \n",
       "\n",
       "     total protein  outcome  \n",
       "0              8.4      2.0  \n",
       "1             85.0      3.0  \n",
       "2              6.7      1.0  \n",
       "3              7.2      2.0  \n",
       "4              7.4      2.0  \n",
       "..             ...      ...  \n",
       "295           65.0      3.0  \n",
       "296            NaN      3.0  \n",
       "297            6.8      2.0  \n",
       "298            6.0      1.0  \n",
       "299           62.0      3.0  \n",
       "\n",
       "[300 rows x 8 columns]"
      ]
     },
     "execution_count": 379,
     "metadata": {},
     "output_type": "execute_result"
    }
   ],
   "source": [
    "data_short_nona = data_short.copy(deep=True)\n",
    "data_short_nona"
   ]
  },
  {
   "cell_type": "code",
   "execution_count": null,
   "metadata": {},
   "outputs": [],
   "source": [
    "# surgery? ,  outcome"
   ]
  },
  {
   "cell_type": "code",
   "execution_count": 381,
   "metadata": {},
   "outputs": [],
   "source": [
    "data_short_nona['surgery?'].fillna(data[0].mode()[0], inplace=True)\n",
    "data_short_nona['outcome'].fillna(data[22].mode()[0], inplace=True)"
   ]
  },
  {
   "cell_type": "code",
   "execution_count": null,
   "metadata": {},
   "outputs": [],
   "source": [
    "# rectal temperature"
   ]
  },
  {
   "cell_type": "code",
   "execution_count": 382,
   "metadata": {},
   "outputs": [],
   "source": [
    "data_short_nona['rectal temperature'].fillna(data[3].mean(), inplace=True)"
   ]
  },
  {
   "cell_type": "code",
   "execution_count": null,
   "metadata": {},
   "outputs": [],
   "source": [
    "# pulse"
   ]
  },
  {
   "cell_type": "code",
   "execution_count": 383,
   "metadata": {},
   "outputs": [
    {
     "data": {
      "text/plain": [
       "pulse    70.258303\n",
       "dtype: float64"
      ]
     },
     "execution_count": 383,
     "metadata": {},
     "output_type": "execute_result"
    }
   ],
   "source": [
    "q1 = data_short['pulse'].quantile(0.25)\n",
    "q3 = data_short['pulse'].quantile(0.75)\n",
    "iqr = q3 - q1\n",
    "lower_bound = q1 - (1.5 * iqr) \n",
    "upper_bound = q3 + (1.5 * iqr)\n",
    "pulse_na = data_short[data_short['pulse'].between(lower_bound, upper_bound, inclusive=True)][['pulse']].mean()\n",
    "pulse_na"
   ]
  },
  {
   "cell_type": "code",
   "execution_count": 384,
   "metadata": {},
   "outputs": [],
   "source": [
    "data_short_nona['pulse'].fillna(round(float(pulse_na)), inplace=True)"
   ]
  },
  {
   "cell_type": "code",
   "execution_count": 385,
   "metadata": {},
   "outputs": [
    {
     "data": {
      "text/plain": [
       "array([ 66.,  88.,  40., 164., 104.,  70.,  48.,  60.,  80.,  90.,  72.,\n",
       "        42.,  92.,  76.,  96., 128.,  64., 110., 130., 108., 100., 112.,\n",
       "        52., 146., 150., 120., 140.,  84.,  46., 114., 160.,  54.,  56.,\n",
       "        38.,  98.,  50.,  44.,  78.,  49.,  30., 136., 132.,  65.,  86.,\n",
       "       129.,  68.,  36.,  45., 124., 184.,  75.,  82.])"
      ]
     },
     "execution_count": 385,
     "metadata": {},
     "output_type": "execute_result"
    }
   ],
   "source": [
    "data_short_nona['pulse'].unique()"
   ]
  },
  {
   "cell_type": "code",
   "execution_count": null,
   "metadata": {},
   "outputs": [],
   "source": [
    "# pain"
   ]
  },
  {
   "cell_type": "code",
   "execution_count": 386,
   "metadata": {},
   "outputs": [
    {
     "data": {
      "text/plain": [
       "pain\n",
       "3.0     67\n",
       "2.0     59\n",
       "5.0     42\n",
       "4.0     39\n",
       "1.0     38\n",
       "dtype: int64"
      ]
     },
     "execution_count": 386,
     "metadata": {},
     "output_type": "execute_result"
    }
   ],
   "source": [
    "data_short.value_counts(['pain'])\n"
   ]
  },
  {
   "cell_type": "code",
   "execution_count": 387,
   "metadata": {},
   "outputs": [
    {
     "name": "stdout",
     "output_type": "stream",
     "text": [
      "surgery?\n",
      "1.0    3.293706\n",
      "2.0    2.455446\n",
      "Name: pain, dtype: float64\n",
      "surgery?\n",
      "1.0    3.0\n",
      "2.0    2.0\n",
      "Name: pain, dtype: float64\n",
      "surgery?  pain\n",
      "1.0       1.0      9\n",
      "          2.0     34\n",
      "          3.0     39\n",
      "          4.0     28\n",
      "          5.0     33\n",
      "2.0       1.0     29\n",
      "          2.0     25\n",
      "          3.0     28\n",
      "          4.0     10\n",
      "          5.0      9\n",
      "Name: Age, dtype: int64\n",
      "0    3.0\n",
      "dtype: float64\n",
      "0    1.0\n",
      "dtype: float64\n"
     ]
    }
   ],
   "source": [
    "print(data_short.groupby('surgery?').mean()['pain'])\n",
    "print(data_short.groupby('surgery?').median()['pain'])\n",
    "print(data_short.groupby(['surgery?', 'pain']).count()['Age'])\n",
    "print(data_short[data_short['surgery?'] == 1]['pain'].mode())\n",
    "print(data_short[data_short['surgery?'] == 2]['pain'].mode())"
   ]
  },
  {
   "cell_type": "markdown",
   "metadata": {},
   "source": [
    "однозначного соответствия нет, проанализировав метрики предварительно заменим медианой"
   ]
  },
  {
   "cell_type": "code",
   "execution_count": 388,
   "metadata": {},
   "outputs": [],
   "source": [
    "data_short_nona['pain'].fillna(data_short.groupby(['surgery?'])['pain'].transform('median'), inplace=True)"
   ]
  },
  {
   "cell_type": "code",
   "execution_count": null,
   "metadata": {},
   "outputs": [],
   "source": [
    "# abdominal distension"
   ]
  },
  {
   "cell_type": "code",
   "execution_count": 402,
   "metadata": {},
   "outputs": [
    {
     "data": {
      "text/plain": [
       "surgery?  pain\n",
       "1.0       1.0     1.0\n",
       "          2.0     2.0\n",
       "          3.0     2.0\n",
       "          4.0     3.0\n",
       "          5.0     3.0\n",
       "2.0       1.0     1.0\n",
       "          2.0     2.0\n",
       "          3.0     2.0\n",
       "          4.0     3.0\n",
       "          5.0     4.0\n",
       "Name: abdominal distension, dtype: float64"
      ]
     },
     "execution_count": 402,
     "metadata": {},
     "output_type": "execute_result"
    }
   ],
   "source": [
    "data_short_nona.groupby(['surgery?','pain']).median()['abdominal distension']"
   ]
  },
  {
   "cell_type": "code",
   "execution_count": 403,
   "metadata": {},
   "outputs": [
    {
     "data": {
      "text/html": [
       "<div>\n",
       "<style scoped>\n",
       "    .dataframe tbody tr th:only-of-type {\n",
       "        vertical-align: middle;\n",
       "    }\n",
       "\n",
       "    .dataframe tbody tr th {\n",
       "        vertical-align: top;\n",
       "    }\n",
       "\n",
       "    .dataframe thead th {\n",
       "        text-align: right;\n",
       "    }\n",
       "</style>\n",
       "<table border=\"1\" class=\"dataframe\">\n",
       "  <thead>\n",
       "    <tr style=\"text-align: right;\">\n",
       "      <th>pain</th>\n",
       "      <th>1.0</th>\n",
       "      <th>2.0</th>\n",
       "      <th>3.0</th>\n",
       "      <th>4.0</th>\n",
       "      <th>5.0</th>\n",
       "    </tr>\n",
       "    <tr>\n",
       "      <th>surgery?</th>\n",
       "      <th></th>\n",
       "      <th></th>\n",
       "      <th></th>\n",
       "      <th></th>\n",
       "      <th></th>\n",
       "    </tr>\n",
       "  </thead>\n",
       "  <tbody>\n",
       "    <tr>\n",
       "      <th>1.0</th>\n",
       "      <td>1.0</td>\n",
       "      <td>2.0</td>\n",
       "      <td>2.0</td>\n",
       "      <td>3.0</td>\n",
       "      <td>3.0</td>\n",
       "    </tr>\n",
       "    <tr>\n",
       "      <th>2.0</th>\n",
       "      <td>1.0</td>\n",
       "      <td>2.0</td>\n",
       "      <td>2.0</td>\n",
       "      <td>3.0</td>\n",
       "      <td>4.0</td>\n",
       "    </tr>\n",
       "  </tbody>\n",
       "</table>\n",
       "</div>"
      ],
      "text/plain": [
       "pain      1.0  2.0  3.0  4.0  5.0\n",
       "surgery?                         \n",
       "1.0       1.0  2.0  2.0  3.0  3.0\n",
       "2.0       1.0  2.0  2.0  3.0  4.0"
      ]
     },
     "execution_count": 403,
     "metadata": {},
     "output_type": "execute_result"
    }
   ],
   "source": [
    "data_short_nona.pivot_table(index = 'surgery?', columns = 'pain', values = 'abdominal distension', aggfunc = 'median')"
   ]
  },
  {
   "cell_type": "code",
   "execution_count": 407,
   "metadata": {},
   "outputs": [],
   "source": [
    "data_short_nona['abdominal distension'].fillna(data_short_nona.groupby(['surgery?', 'pain'])['abdominal distension'].transform('median'), inplace=True)"
   ]
  },
  {
   "cell_type": "code",
   "execution_count": 408,
   "metadata": {},
   "outputs": [
    {
     "data": {
      "text/plain": [
       "array([4., 2., 1., 3.])"
      ]
     },
     "execution_count": 408,
     "metadata": {},
     "output_type": "execute_result"
    }
   ],
   "source": [
    "data_short_nona['abdominal distension'].unique()"
   ]
  },
  {
   "cell_type": "code",
   "execution_count": null,
   "metadata": {},
   "outputs": [],
   "source": [
    "# total protein"
   ]
  },
  {
   "cell_type": "code",
   "execution_count": 428,
   "metadata": {},
   "outputs": [
    {
     "name": "stdout",
     "output_type": "stream",
     "text": [
      "24.456928838951317\n",
      "pain\n",
      "1.0    29.018919\n",
      "2.0    27.516071\n",
      "3.0    22.809375\n",
      "4.0    24.641935\n",
      "5.0    19.070270\n",
      "Name: total protein, dtype: float64\n",
      "abdominal distension\n",
      "1.0    25.750667\n",
      "2.0    20.337705\n",
      "3.0    20.609677\n",
      "4.0    29.775000\n",
      "Name: total protein, dtype: float64\n",
      "surgery?\n",
      "1.0    25.286709\n",
      "2.0    22.793519\n",
      "Name: total protein, dtype: float64\n"
     ]
    }
   ],
   "source": [
    "print(data_short['total protein'].mean())\n",
    "print(data_short.groupby('pain').mean()['total protein'])\n",
    "print(data_short.groupby('abdominal distension').mean()['total protein'])\n",
    "print(data_short.groupby('surgery?').mean()['total protein'])"
   ]
  },
  {
   "cell_type": "code",
   "execution_count": 423,
   "metadata": {},
   "outputs": [
    {
     "data": {
      "text/html": [
       "<div>\n",
       "<style scoped>\n",
       "    .dataframe tbody tr th:only-of-type {\n",
       "        vertical-align: middle;\n",
       "    }\n",
       "\n",
       "    .dataframe tbody tr th {\n",
       "        vertical-align: top;\n",
       "    }\n",
       "\n",
       "    .dataframe thead th {\n",
       "        text-align: right;\n",
       "    }\n",
       "</style>\n",
       "<table border=\"1\" class=\"dataframe\">\n",
       "  <thead>\n",
       "    <tr style=\"text-align: right;\">\n",
       "      <th>surgery?</th>\n",
       "      <th>1.0</th>\n",
       "      <th>2.0</th>\n",
       "    </tr>\n",
       "    <tr>\n",
       "      <th>pain</th>\n",
       "      <th></th>\n",
       "      <th></th>\n",
       "    </tr>\n",
       "  </thead>\n",
       "  <tbody>\n",
       "    <tr>\n",
       "      <th>1.0</th>\n",
       "      <td>34.237500</td>\n",
       "      <td>27.579310</td>\n",
       "    </tr>\n",
       "    <tr>\n",
       "      <th>2.0</th>\n",
       "      <td>23.693750</td>\n",
       "      <td>24.320513</td>\n",
       "    </tr>\n",
       "    <tr>\n",
       "      <th>3.0</th>\n",
       "      <td>26.785938</td>\n",
       "      <td>20.955556</td>\n",
       "    </tr>\n",
       "    <tr>\n",
       "      <th>4.0</th>\n",
       "      <td>26.524000</td>\n",
       "      <td>16.800000</td>\n",
       "    </tr>\n",
       "    <tr>\n",
       "      <th>5.0</th>\n",
       "      <td>21.960000</td>\n",
       "      <td>6.685714</td>\n",
       "    </tr>\n",
       "  </tbody>\n",
       "</table>\n",
       "</div>"
      ],
      "text/plain": [
       "surgery?        1.0        2.0\n",
       "pain                          \n",
       "1.0       34.237500  27.579310\n",
       "2.0       23.693750  24.320513\n",
       "3.0       26.785938  20.955556\n",
       "4.0       26.524000  16.800000\n",
       "5.0       21.960000   6.685714"
      ]
     },
     "execution_count": 423,
     "metadata": {},
     "output_type": "execute_result"
    }
   ],
   "source": [
    "data_short_nona.pivot_table(index = 'pain', columns = 'surgery?', values = 'total protein', aggfunc = 'mean')"
   ]
  },
  {
   "cell_type": "code",
   "execution_count": 424,
   "metadata": {},
   "outputs": [
    {
     "data": {
      "text/html": [
       "<div>\n",
       "<style scoped>\n",
       "    .dataframe tbody tr th:only-of-type {\n",
       "        vertical-align: middle;\n",
       "    }\n",
       "\n",
       "    .dataframe tbody tr th {\n",
       "        vertical-align: top;\n",
       "    }\n",
       "\n",
       "    .dataframe thead th {\n",
       "        text-align: right;\n",
       "    }\n",
       "</style>\n",
       "<table border=\"1\" class=\"dataframe\">\n",
       "  <thead>\n",
       "    <tr style=\"text-align: right;\">\n",
       "      <th>abdominal distension</th>\n",
       "      <th>1.0</th>\n",
       "      <th>2.0</th>\n",
       "      <th>3.0</th>\n",
       "      <th>4.0</th>\n",
       "    </tr>\n",
       "    <tr>\n",
       "      <th>pain</th>\n",
       "      <th></th>\n",
       "      <th></th>\n",
       "      <th></th>\n",
       "      <th></th>\n",
       "    </tr>\n",
       "  </thead>\n",
       "  <tbody>\n",
       "    <tr>\n",
       "      <th>1.0</th>\n",
       "      <td>34.296154</td>\n",
       "      <td>17.650000</td>\n",
       "      <td>5.500000</td>\n",
       "      <td>NaN</td>\n",
       "    </tr>\n",
       "    <tr>\n",
       "      <th>2.0</th>\n",
       "      <td>18.725000</td>\n",
       "      <td>24.396667</td>\n",
       "      <td>27.266667</td>\n",
       "      <td>31.883333</td>\n",
       "    </tr>\n",
       "    <tr>\n",
       "      <th>3.0</th>\n",
       "      <td>25.685714</td>\n",
       "      <td>21.188636</td>\n",
       "      <td>24.245455</td>\n",
       "      <td>68.750000</td>\n",
       "    </tr>\n",
       "    <tr>\n",
       "      <th>4.0</th>\n",
       "      <td>16.771429</td>\n",
       "      <td>28.316667</td>\n",
       "      <td>21.216667</td>\n",
       "      <td>37.000000</td>\n",
       "    </tr>\n",
       "    <tr>\n",
       "      <th>5.0</th>\n",
       "      <td>44.766667</td>\n",
       "      <td>6.000000</td>\n",
       "      <td>17.100000</td>\n",
       "      <td>12.116667</td>\n",
       "    </tr>\n",
       "  </tbody>\n",
       "</table>\n",
       "</div>"
      ],
      "text/plain": [
       "abdominal distension        1.0        2.0        3.0        4.0\n",
       "pain                                                            \n",
       "1.0                   34.296154  17.650000   5.500000        NaN\n",
       "2.0                   18.725000  24.396667  27.266667  31.883333\n",
       "3.0                   25.685714  21.188636  24.245455  68.750000\n",
       "4.0                   16.771429  28.316667  21.216667  37.000000\n",
       "5.0                   44.766667   6.000000  17.100000  12.116667"
      ]
     },
     "execution_count": 424,
     "metadata": {},
     "output_type": "execute_result"
    }
   ],
   "source": [
    "data_short_nona.pivot_table(index = 'pain', columns = 'abdominal distension', values = 'total protein', aggfunc = 'mean')"
   ]
  },
  {
   "cell_type": "markdown",
   "metadata": {},
   "source": [
    " сложно выявить общую тенденцию и закономерность распределения, попробуем в 1ом приближении просто заменить на среднее"
   ]
  },
  {
   "cell_type": "code",
   "execution_count": 429,
   "metadata": {},
   "outputs": [],
   "source": [
    "data_short_nona['total protein'].fillna((data_short['total protein'].mean()), inplace=True)"
   ]
  },
  {
   "cell_type": "code",
   "execution_count": 430,
   "metadata": {},
   "outputs": [
    {
     "data": {
      "text/plain": [
       "surgery?                0.0\n",
       "Age                     0.0\n",
       "rectal temperature      0.0\n",
       "pulse                   0.0\n",
       "pain                    0.0\n",
       "abdominal distension    0.0\n",
       "total protein           0.0\n",
       "outcome                 0.0\n",
       "dtype: float64"
      ]
     },
     "execution_count": 430,
     "metadata": {},
     "output_type": "execute_result"
    }
   ],
   "source": [
    "(data_short_nona.isna().mean() * 100).round(2)"
   ]
  },
  {
   "cell_type": "code",
   "execution_count": 431,
   "metadata": {},
   "outputs": [
    {
     "name": "stdout",
     "output_type": "stream",
     "text": [
      "       rectal temperature       pulse       pain  abdominal distension  \\\n",
      "count          240.000000  276.000000  245.00000            244.000000   \n",
      "mean            38.167917   71.913043    2.95102              2.266393   \n",
      "std              0.732289   28.630557    1.30794              1.065131   \n",
      "min             35.400000   30.000000    1.00000              1.000000   \n",
      "25%             37.800000   48.000000    2.00000              1.000000   \n",
      "50%             38.200000   64.000000    3.00000              2.000000   \n",
      "75%             38.500000   88.000000    4.00000              3.000000   \n",
      "max             40.800000  184.000000    5.00000              4.000000   \n",
      "\n",
      "       total protein  \n",
      "count     267.000000  \n",
      "mean       24.456929  \n",
      "std        27.475009  \n",
      "min         3.300000  \n",
      "25%         6.500000  \n",
      "50%         7.500000  \n",
      "75%        57.000000  \n",
      "max        89.000000  \n",
      "--------------------------\n",
      "       rectal temperature       pulse        pain  abdominal distension  \\\n",
      "count          300.000000  300.000000  300.000000            300.000000   \n",
      "mean            38.167917   71.760000    2.900000              2.223333   \n",
      "std              0.654705   27.462393    1.203395              0.984897   \n",
      "min             35.400000   30.000000    1.000000              1.000000   \n",
      "25%             37.900000   48.000000    2.000000              1.000000   \n",
      "50%             38.167917   68.000000    3.000000              2.000000   \n",
      "75%             38.500000   88.000000    4.000000              3.000000   \n",
      "max             40.800000  184.000000    5.000000              4.000000   \n",
      "\n",
      "       total protein  \n",
      "count     300.000000  \n",
      "mean       24.456929  \n",
      "std        25.914514  \n",
      "min         3.300000  \n",
      "25%         6.600000  \n",
      "50%         7.700000  \n",
      "75%        53.250000  \n",
      "max        89.000000  \n"
     ]
    }
   ],
   "source": [
    "print(data_short[['rectal temperature','pulse', 'pain', 'abdominal distension', 'total protein']].describe())\n",
    "print('--------------------------')\n",
    "print(data_short_nona[['rectal temperature','pulse', 'pain', 'abdominal distension', 'total protein']].describe())"
   ]
  }
 ],
 "metadata": {
  "kernelspec": {
   "display_name": "Python 3",
   "language": "python",
   "name": "python3"
  },
  "language_info": {
   "codemirror_mode": {
    "name": "ipython",
    "version": 3
   },
   "file_extension": ".py",
   "mimetype": "text/x-python",
   "name": "python",
   "nbconvert_exporter": "python",
   "pygments_lexer": "ipython3",
   "version": "3.8.5"
  }
 },
 "nbformat": 4,
 "nbformat_minor": 2
}
