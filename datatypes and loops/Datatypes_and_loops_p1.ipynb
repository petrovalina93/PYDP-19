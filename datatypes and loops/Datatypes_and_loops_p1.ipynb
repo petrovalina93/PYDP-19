{
 "cells": [
  {
   "cell_type": "markdown",
   "metadata": {},
   "source": [
    "## Домашнее задание к лекции \"Введение в типы данных и циклы. Часть 1\n"
   ]
  },
  {
   "cell_type": "markdown",
   "metadata": {},
   "source": [
    "### Задание 1\n",
    "\n",
    "Дана переменная, в которой хранится слово из латинских букв. Напишите код, который выводит на экран:\n",
    "\n",
    "среднюю букву, если число букв в слове нечетное;\n",
    "две средних буквы, если число букв четное."
   ]
  },
  {
   "cell_type": "code",
   "execution_count": 1,
   "metadata": {},
   "outputs": [
    {
     "name": "stdout",
     "output_type": "stream",
     "text": [
      "Введите слово   test\n",
      "es\n"
     ]
    }
   ],
   "source": [
    "word = input('Введите слово   ')\n",
    "if len(word) % 2 == 1:\n",
    "    print(word[(len(word) // 2)])\n",
    "else:\n",
    "    print(word[((len(word) // 2))-1]+word[(len(word) // 2)])"
   ]
  },
  {
   "cell_type": "markdown",
   "metadata": {},
   "source": [
    "### Задание 2\n",
    "\n",
    "Напишите программу, которая последовательно запрашивает у пользователя числа (по одному за раз) и после первого нуля выводит сумму всех ранее введенных чисел."
   ]
  },
  {
   "cell_type": "code",
   "execution_count": 70,
   "metadata": {},
   "outputs": [
    {
     "name": "stdout",
     "output_type": "stream",
     "text": [
      "Введите число   4\n",
      "Введите число   5\n",
      "Введите число   6\n",
      "Введите число   10\n",
      "Введите число   0\n",
      "25\n"
     ]
    }
   ],
   "source": [
    "x = int\n",
    "summ = 0 \n",
    "while x != 0:\n",
    "    x = int(input('Введите число   '))\n",
    "    summ += x\n",
    "print(summ)"
   ]
  },
  {
   "cell_type": "markdown",
   "metadata": {},
   "source": [
    "### Задание 3\n",
    "\n",
    "Мы делаем MVP dating-сервиса, и у нас есть список парней и девушек.\n",
    "Выдвигаем гипотезу: лучшие рекомендации мы получим, если просто отсортируем имена по алфавиту и познакомим людей с одинаковыми индексами после сортировки! Но мы не будем никого знакомить, если кто-то может остаться без пары:"
   ]
  },
  {
   "cell_type": "code",
   "execution_count": 58,
   "metadata": {},
   "outputs": [],
   "source": [
    "boys = ['Peter', 'Alex', 'John', 'Arthur', 'Richard']\n",
    "girls = ['Kate', 'Liza', 'Kira', 'Emma', 'Trisha']"
   ]
  },
  {
   "cell_type": "code",
   "execution_count": 59,
   "metadata": {},
   "outputs": [
    {
     "name": "stdout",
     "output_type": "stream",
     "text": [
      "Идеальные пары:\n",
      "Alex и Emma\n",
      "Arthur и Kate\n",
      "John и Kira\n",
      "Peter и Liza\n",
      "Richard и Trisha\n"
     ]
    }
   ],
   "source": [
    "if len(boys) == len(girls):\n",
    "    print('Идеальные пары:')\n",
    "    for i in range(len(boys)):\n",
    "        print(sorted(boys)[i], 'и', sorted(girls)[i])\n",
    "else:\n",
    "    print('Внимание, кто-то может остаться без пары!')"
   ]
  },
  {
   "cell_type": "code",
   "execution_count": 60,
   "metadata": {},
   "outputs": [],
   "source": [
    "boys.append('Michael')"
   ]
  },
  {
   "cell_type": "code",
   "execution_count": 61,
   "metadata": {},
   "outputs": [
    {
     "name": "stdout",
     "output_type": "stream",
     "text": [
      "Внимание, кто-то может остаться без пары!\n"
     ]
    }
   ],
   "source": [
    "if len(boys) == len(girls):\n",
    "    print('Идеальные пары:')\n",
    "    for i in range(len(boys)):\n",
    "        print(sorted(boys)[i], 'и', sorted(girls)[i])\n",
    "else:\n",
    "    print('Внимание, кто-то может остаться без пары!')"
   ]
  },
  {
   "cell_type": "markdown",
   "metadata": {},
   "source": [
    "###  Задание 4\n",
    "\n",
    "У нас есть список, содержащий информацию о среднедневной температуре в Фаренгейтах за произвольный период по странам (структура данных в примере). Необходимо написать код, который рассчитает среднюю температуру за период в Цельсиях(!) для каждой страны."
   ]
  },
  {
   "cell_type": "code",
   "execution_count": 62,
   "metadata": {},
   "outputs": [],
   "source": [
    "countries_temperature = [\n",
    "    ['Thailand', [75.2, 77, 78.8, 73.4, 68, 75.2, 77]],\n",
    "    ['Germany', [57.2, 55.4, 59, 59, 53.6]],\n",
    "    ['Russia', [35.6, 37.4, 39.2, 41, 42.8, 39.2, 35.6]],\n",
    "    ['Poland', [50, 50, 53.6, 57.2, 55.4, 55.4]]\n",
    "]"
   ]
  },
  {
   "cell_type": "markdown",
   "metadata": {},
   "source": [
    "1ая часть"
   ]
  },
  {
   "cell_type": "code",
   "execution_count": 89,
   "metadata": {},
   "outputs": [
    {
     "name": "stdout",
     "output_type": "stream",
     "text": [
      "Средняя температура в странах:\n",
      "Thailand  -  [75.2, 77, 78.8, 73.4, 68, 75.2, 77]\n",
      "Germany  -  [57.2, 55.4, 59, 59, 53.6]\n",
      "Russia  -  [35.6, 37.4, 39.2, 41, 42.8, 39.2, 35.6]\n",
      "Poland  -  [50, 50, 53.6, 57.2, 55.4, 55.4]\n"
     ]
    }
   ],
   "source": [
    "print('Средняя температура в странах:')\n",
    "for i in range(len(countries_temperature)):\n",
    "    print(countries_temperature[i][0], ' - ',countries_temperature[i][1] )"
   ]
  },
  {
   "cell_type": "markdown",
   "metadata": {},
   "source": [
    "2ая часть"
   ]
  },
  {
   "cell_type": "code",
   "execution_count": 147,
   "metadata": {},
   "outputs": [
    {
     "name": "stdout",
     "output_type": "stream",
     "text": [
      "avr is   23.9\n"
     ]
    }
   ],
   "source": [
    "summ = 0\n",
    "for j in range(len(countries_temperature[0][1])):\n",
    "    summ = summ + round((countries_temperature[0][1][j]-32)*(5/9),2)\n",
    "print('avr is  ', round(summ/len(countries_temperature[0][1]),1) )"
   ]
  },
  {
   "cell_type": "markdown",
   "metadata": {},
   "source": [
    "финальный вариант"
   ]
  },
  {
   "cell_type": "code",
   "execution_count": 156,
   "metadata": {},
   "outputs": [
    {
     "name": "stdout",
     "output_type": "stream",
     "text": [
      "Средняя температура в странах:\n",
      "Thailand  -  23.9\n",
      "Germany  -  13.8\n",
      "Russia  -  3.7\n",
      "Poland  -  12.0\n"
     ]
    }
   ],
   "source": [
    "print('Средняя температура в странах:')\n",
    "for i in range(len(countries_temperature)):\n",
    "    summ = 0\n",
    "    for j in range(len(countries_temperature[i][1])):\n",
    "        summ += (countries_temperature[i][1][j]-32)*5/9\n",
    "    print(countries_temperature[i][0], ' - ',round(summ/len(countries_temperature[i][1]),1) )"
   ]
  },
  {
   "cell_type": "markdown",
   "metadata": {},
   "source": [
    "### Задание 5\n",
    "\n",
    "Дан поток логов по количеству просмотренных страниц для каждого пользователя. Вам необходимо написать алгоритм, который считает среднее значение просмотров на пользователя. Т. е. надо посчитать отношение суммы всех просмотров к количеству уникальных пользователей."
   ]
  },
  {
   "cell_type": "code",
   "execution_count": 27,
   "metadata": {},
   "outputs": [],
   "source": [
    "stream = [\n",
    "    '2018-01-01,user1,3',\n",
    "    '2018-01-07,user1,4',\n",
    "    '2018-03-29,user1,1',\n",
    "    '2018-04-04,user1,13',\n",
    "    '2018-01-05,user2,7',\n",
    "    '2018-06-14,user3,4',\n",
    "    '2018-07-02,user3,10',\n",
    "    '2018-03-21,user4,19',\n",
    "    '2018-03-22,user4,4',\n",
    "    '2018-04-22,user4,8',\n",
    "    '2018-05-03,user4,9',\n",
    "    '2018-05-11,user4,11',\n",
    "]"
   ]
  },
  {
   "cell_type": "code",
   "execution_count": 37,
   "metadata": {},
   "outputs": [],
   "source": [
    "stream = [\n",
    "    '2018-01-01,user100,150',\n",
    "    '2018-01-07,user99,205',\n",
    "    '2018-03-29,user1001,81'\n",
    "]"
   ]
  },
  {
   "cell_type": "code",
   "execution_count": 38,
   "metadata": {},
   "outputs": [
    {
     "name": "stdout",
     "output_type": "stream",
     "text": [
      "Среднее количество просмотров на уникального пользователя:  145.33\n"
     ]
    }
   ],
   "source": [
    "summ = 0\n",
    "users = 0\n",
    "for i in range(len(stream)):\n",
    "    summ += int(stream[i].split(',')[2])\n",
    "    if stream[i].split(',')[1] != stream[i-1].split(',')[1]:\n",
    "        users += 1\n",
    "print('Среднее количество просмотров на уникального пользователя: ', round(summ/users, 2))"
   ]
  },
  {
   "cell_type": "markdown",
   "metadata": {},
   "source": [
    "### Задание 6\n",
    "\n",
    "Необходимо у пользователя запрашивать набор чисел разделенных пробелом. В результате в отсортированном порядке должны выводиться числа, которые повторяются в вводе более одного раза."
   ]
  },
  {
   "cell_type": "code",
   "execution_count": 106,
   "metadata": {},
   "outputs": [
    {
     "name": "stdout",
     "output_type": "stream",
     "text": [
      "Введите числа через пробел   10 15 15 103 200 200 200 1 1 1 1 1 2 2 2\n",
      "[1, 2, 15, 200]\n"
     ]
    }
   ],
   "source": [
    "numbers = input('Введите числа через пробел   ')\n",
    "numbers = numbers.split(' ') #строку превращаем в список чисел\n",
    "double = [] #список для записей дублей\n",
    "for i in range(len(numbers)):\n",
    "    numbers[i] = int(numbers[i]) #преобразуем введенные числа из строки в число, чтобы потом сортировка была корректна\n",
    "    if numbers.count(numbers[i]) > 1 and numbers[i] not in double: \n",
    "        #условие добавления - введено в строке более одного раза, т.е.входит в полученный исходный список несколько раз и ещё не добавлено в список дублей\n",
    "        double.append(numbers[numbers.index(numbers[i],1)])\n",
    "print(sorted(double))"
   ]
  },
  {
   "cell_type": "code",
   "execution_count": 107,
   "metadata": {},
   "outputs": [
    {
     "name": "stdout",
     "output_type": "stream",
     "text": [
      "Введите числа через пробел   10 15 15 103 200 200 200 1 1 1 1 1 2 2 2\n",
      "1 2 15 200\n"
     ]
    }
   ],
   "source": [
    "numbers = input('Введите числа через пробел   ')\n",
    "numbers = numbers.split(' ') #строку превращаем в список чисел\n",
    "double = [] #список для записей дублей\n",
    "for i in range(len(numbers)):\n",
    "    numbers[i] = int(numbers[i]) #преобразуем введенные числа из строки в число, чтобы потом сортировка была корректна\n",
    "    if numbers.count(numbers[i]) > 1 and numbers[i] not in double: \n",
    "        #условие добавления - введено в строке более одного раза, т.е.входит в полученный исходный список несколько раз и ещё не добавлено в список дублей\n",
    "        double.append(numbers[numbers.index(numbers[i],1)])\n",
    "final = sorted(double) \n",
    "for j in range(len(final)): #  для красивого вывода в отсортированном списке элементы снова преобразуем к типу str и выведем одной строкой\n",
    "    final[j] = str(final[j])\n",
    "print(' '.join(final))  "
   ]
  }
 ],
 "metadata": {
  "kernelspec": {
   "display_name": "Python 3",
   "language": "python",
   "name": "python3"
  },
  "language_info": {
   "codemirror_mode": {
    "name": "ipython",
    "version": 3
   },
   "file_extension": ".py",
   "mimetype": "text/x-python",
   "name": "python",
   "nbconvert_exporter": "python",
   "pygments_lexer": "ipython3",
   "version": "3.8.5"
  }
 },
 "nbformat": 4,
 "nbformat_minor": 4
}
