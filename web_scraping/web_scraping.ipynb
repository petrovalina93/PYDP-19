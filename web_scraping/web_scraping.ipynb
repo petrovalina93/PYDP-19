{
 "cells": [
  {
   "cell_type": "markdown",
   "metadata": {},
   "source": [
    "## Домашнее задание к лекции «Основы парсинга и работы с API»"
   ]
  },
  {
   "cell_type": "markdown",
   "metadata": {},
   "source": [
    "### Задание 1.\n",
    "**Обязательная часть**  \n",
    "Будем парсить страницу со свежеми новостям на habr.com/ru/all/.\n",
    "\n",
    "Вам необходимо собирать только те статьи, в которых встречается хотя бы одно требуемое ключевое слово. Эти слова определяем в начале кода в переменной, например:\n",
    "\n",
    "KEYWORDS = [‘python’, ‘парсинг’]\n",
    "\n",
    "Поиск вести по всей доступной preview-информации (это информация, доступная непосредственно с текущей страницы).\n",
    "\n",
    "В итоге должен формироваться датафрейм вида: <дата> - <заголовок> - <ссылка>"
   ]
  },
  {
   "cell_type": "code",
   "execution_count": 1,
   "metadata": {},
   "outputs": [],
   "source": [
    "import requests"
   ]
  },
  {
   "cell_type": "code",
   "execution_count": 2,
   "metadata": {},
   "outputs": [],
   "source": [
    "import time"
   ]
  },
  {
   "cell_type": "code",
   "execution_count": 3,
   "metadata": {},
   "outputs": [],
   "source": [
    "from bs4 import BeautifulSoup"
   ]
  },
  {
   "cell_type": "code",
   "execution_count": 4,
   "metadata": {},
   "outputs": [],
   "source": [
    "req = requests.get('https://habr.com/ru/all/')\n",
    "soup = BeautifulSoup(req.text)"
   ]
  },
  {
   "cell_type": "code",
   "execution_count": 5,
   "metadata": {},
   "outputs": [
    {
     "data": {
      "text/plain": [
       "<!DOCTYPE html>\n",
       "<html data-vue-meta=\"%7B%22lang%22:%7B%22ssr%22:%22ru%22%7D%7D\" lang=\"ru\">\n",
       "<head>\n",
       "<meta charset=\"utf-8\"/>\n",
       "<meta content=\"width=device-width,initial-scale=1.0,viewport-fit=cover\" name=\"viewport\"/>\n",
       "<title>Все публикации подряд / Хабр</title>\n",
       "<style>\n",
       "    /* cyrillic-ext */\n",
       "    @font-face {\n",
       "      font-family: 'Fira Sans';\n",
       "      font-style: normal;\n",
       "      font-weight: 500;\n",
       "      font-display: swap;\n",
       "      src: url(https://fonts.gstatic.com/s/firasans/v11/va9B4kDNxMZdWfMOD5VnZKveSxf6TF0.woff2) format('woff2');\n",
       "      unicode-range: U+0460-052F, U+1C80-1C88, U+20B4, U+2DE0-2DFF, U+A640-A69F, U+FE2E-FE2F;\n",
       "    }\n",
       "\n",
       "    /* cyrillic */\n",
       "    @font-face {\n",
       "      font-family: 'Fira Sans';\n",
       "      font-style: normal;\n",
       "      font-weight: 500;\n",
       "      font-display: swap;\n",
       "      src: url(https://fonts.gstatic.com/s/firasans/v11/va9B4kDNxMZdWfMOD5VnZKveQhf6TF0.woff2) format('woff2');\n",
       "      unicode-range: U+0400-045F, U+0490-0491, U+04B0-04B1, U+2116;\n",
       "    }\n",
       "\n",
       "    /* latin-ext */\n",
       "    @font-face {\n",
       "      font-family: 'Fira Sans';\n",
       "      font-style: normal;\n",
       "      font-weight: 500;\n",
       "      font-display: swap;\n",
       "      src: url(https://fonts.gstatic.com/s/firasans/v11/va9B4kDNxMZdWfMOD5VnZKveSBf6TF0.woff2) format('woff2');\n",
       "      unicode-range: U+0100-024F, U+0259, U+1E00-1EFF, U+2020, U+20A0-20AB, U+20AD-20CF, U+2113, U+2C60-2C7F, U+A720-A7FF;\n",
       "    }\n",
       "\n",
       "    /* latin */\n",
       "    @font-face {\n",
       "      font-family: 'Fira Sans';\n",
       "      font-style: normal;\n",
       "      font-weight: 500;\n",
       "      font-display: swap;\n",
       "      src: url(https://fonts.gstatic.com/s/firasans/v11/va9B4kDNxMZdWfMOD5VnZKveRhf6.woff2) format('woff2');\n",
       "      unicode-range: U+0000-00FF, U+0131, U+0152-0153, U+02BB-02BC, U+02C6, U+02DA, U+02DC, U+2000-206F, U+2074, U+20AC, U+2122, U+2191, U+2193, U+2212, U+2215, U+FEFF, U+FFFD;\n",
       "    }\n",
       "  </style>\n",
       "<link as=\"style\" href=\"https://assets.habr.com/habr-web/css/chunk-vendors.db52f5c6.css\" rel=\"preload\"/><link as=\"script\" href=\"https://assets.habr.com/habr-web/js/chunk-vendors.9e4ba848.js\" rel=\"preload\"/><link as=\"style\" href=\"https://assets.habr.com/habr-web/css/app.ac61f8eb.css\" rel=\"preload\"/><link as=\"script\" href=\"https://assets.habr.com/habr-web/js/app.5d04126c.js\" rel=\"preload\"/><link as=\"style\" href=\"https://assets.habr.com/habr-web/css/page-flows.fba8e213.css\" rel=\"preload\"/><link as=\"script\" href=\"https://assets.habr.com/habr-web/js/page-flows.a3016599.js\" rel=\"preload\"/>\n",
       "<link href=\"https://assets.habr.com/habr-web/css/chunk-vendors.db52f5c6.css\" rel=\"stylesheet\"/><link href=\"https://assets.habr.com/habr-web/css/app.ac61f8eb.css\" rel=\"stylesheet\"/><link href=\"https://assets.habr.com/habr-web/css/page-flows.fba8e213.css\" rel=\"stylesheet\"/>\n",
       "<script>window.i18nFetch = new Promise((res, rej) => {\n",
       "          const xhr = new XMLHttpRequest();\n",
       "          xhr.open('GET', '/js/i18n/ru-compiled.07ab3411a33038d0c6f862dbea0a2c45.json');\n",
       "          xhr.responseType = 'json';\n",
       "          xhr.onload = function(e) {\n",
       "            if (this.status === 200) {\n",
       "              res({ru: xhr.response});\n",
       "            } else {\n",
       "              rej(e);\n",
       "            }\n",
       "          };\n",
       "          xhr.send();\n",
       "        });</script>\n",
       "<script data-vmid=\"checkad\" data-vue-meta=\"ssr\" onload=\"window['zhY4i4nJ9K'] = true\" src=\"/js/ads.js\"></script>\n",
       "<script async=\"\" src=\"//www.googletagservices.com/tag/js/gpt.js\"></script>\n",
       "<style>.grecaptcha-badge{visibility: hidden;}</style>\n",
       "<meta content=\"2.44.0\" name=\"habr-version\"/>\n",
       "<meta content=\"/img/habr_en.png\" data-vmid=\"image:itemprop\" data-vue-meta=\"ssr\" itemprop=\"image\"/><meta content=\"/img/habr_en.png\" data-vmid=\"og:image\" data-vue-meta=\"ssr\" property=\"og:image\"/><meta content=\"/img/habr_en.png\" data-vmid=\"aiturec:image\" data-vue-meta=\"ssr\" property=\"aiturec:image\"/><meta content=\"/img/habr_en.png\" data-vmid=\"twitter:image\" data-vue-meta=\"ssr\" name=\"twitter:image\"/><meta content=\"/img/habr_en.png\" data-vmid=\"vk:image\" data-vue-meta=\"ssr\" property=\"vk:image\"/><meta content=\"444736788986613\" data-vue-meta=\"ssr\" property=\"fb:app_id\"/><meta content=\"472597926099084\" data-vue-meta=\"ssr\" property=\"fb:pages\"/><meta content=\"summary_large_image\" data-vue-meta=\"ssr\" name=\"twitter:card\"/><meta content=\"@habr_eng\" data-vue-meta=\"ssr\" name=\"twitter:site\"/><meta content=\"ru_RU\" data-vmid=\"og:locale\" data-vue-meta=\"ssr\" property=\"og:locale\"/><meta content=\"website\" data-vmid=\"og:type\" data-vue-meta=\"ssr\" property=\"og:type\"/><meta content=\"Хабр — крупнейший в Европе ресурс для IT-специалистов. Сюда приходят обсудить новости индустрии и поделиться опытом.\" data-vmid=\"description\" data-vue-meta=\"ssr\" name=\"description\"/>\n",
       "<link data-vmid=\"image:href\" data-vue-meta=\"ssr\" href=\"/img/habr_en.png\" image_src=\"image\"/><link data-vmid=\"canonical\" data-vue-meta=\"ssr\" href=\"https://habr.com/ru/all/\" rel=\"canonical\"/><link data-vmid=\"hreflang\" data-vue-meta=\"ssr\" href=\"https://habr.com/ru/all/\" hreflang=\"ru\" rel=\"alternate\"/><link data-vmid=\"hreflang\" data-vue-meta=\"ssr\" href=\"https://habr.com/en/all/\" hreflang=\"en\" rel=\"alternate\"/><link data-vue-meta=\"ssr\" href=\"https://habr.com/ru/rss/all/all/?fl=ru\" name=\"rss\" rel=\"alternate\" title=\"Все публикации подряд\" type=\"application/rss+xml\"/>\n",
       "<meta content=\"#303b44\" name=\"apple-mobile-web-app-status-bar-style\"/>\n",
       "<meta content=\"#629FBC\" name=\"msapplication-TileColor\"/>\n",
       "<meta content=\"yes\" name=\"apple-mobile-web-app-capable\"/>\n",
       "<meta content=\"yes\" name=\"mobile-web-app-capable\"/>\n",
       "<link href=\"https://assets.habr.com/habr-web/img/favicons/favicon-16.png\" rel=\"shortcut icon\" sizes=\"16x16\" type=\"image/png\"/>\n",
       "<link href=\"https://assets.habr.com/habr-web/img/favicons/favicon-32.png\" rel=\"shortcut icon\" sizes=\"32x32\" type=\"image/png\"/>\n",
       "<link href=\"https://assets.habr.com/habr-web/img/favicons/apple-touch-icon-76.png\" rel=\"apple-touch-icon\" sizes=\"76x76\" type=\"image/png\"/>\n",
       "<link href=\"https://assets.habr.com/habr-web/img/favicons/apple-touch-icon-120.png\" rel=\"apple-touch-icon\" sizes=\"120x120\" type=\"image/png\"/>\n",
       "<link href=\"https://assets.habr.com/habr-web/img/favicons/apple-touch-icon-152.png\" rel=\"apple-touch-icon\" sizes=\"152x152\" type=\"image/png\"/>\n",
       "<link href=\"https://assets.habr.com/habr-web/img/favicons/apple-touch-icon-180.png\" rel=\"apple-touch-icon\" sizes=\"180x180\" type=\"image/png\"/>\n",
       "<link href=\"https://assets.habr.com/habr-web/img/favicons/apple-touch-icon-256.png\" rel=\"apple-touch-icon\" sizes=\"256x256\" type=\"image/png\"/>\n",
       "<link href=\"https://assets.habr.com/habr-web/img/splashes/splash_1136x640.png\" media=\"screen and (device-width: 320px) and (device-height: 568px) and (-webkit-device-pixel-ratio: 2) and (orientation: landscape)\" rel=\"apple-touch-startup-image\"/>\n",
       "<link href=\"https://assets.habr.com/habr-web/img/splashes/splash_2436x1125.png\" media=\"screen and (device-width: 375px) and (device-height: 812px) and (-webkit-device-pixel-ratio: 3) and (orientation: landscape)\" rel=\"apple-touch-startup-image\"/>\n",
       "<link href=\"https://assets.habr.com/habr-web/img/splashes/splash_1792x828.png\" media=\"screen and (device-width: 414px) and (device-height: 896px) and (-webkit-device-pixel-ratio: 2) and (orientation: landscape)\" rel=\"apple-touch-startup-image\"/>\n",
       "<link href=\"https://assets.habr.com/habr-web/img/splashes/splash_828x1792.png\" media=\"screen and (device-width: 414px) and (device-height: 896px) and (-webkit-device-pixel-ratio: 2) and (orientation: portrait)\" rel=\"apple-touch-startup-image\"/>\n",
       "<link href=\"https://assets.habr.com/habr-web/img/splashes/splash_1334x750.png\" media=\"screen and (device-width: 375px) and (device-height: 667px) and (-webkit-device-pixel-ratio: 2) and (orientation: landscape)\" rel=\"apple-touch-startup-image\"/>\n",
       "<link href=\"https://assets.habr.com/habr-web/img/splashes/splash_1242x2668.png\" media=\"screen and (device-width: 414px) and (device-height: 896px) and (-webkit-device-pixel-ratio: 3) and (orientation: portrait)\" rel=\"apple-touch-startup-image\"/>\n",
       "<link href=\"https://assets.habr.com/habr-web/img/splashes/splash_2208x1242.png\" media=\"screen and (device-width: 414px) and (device-height: 736px) and (-webkit-device-pixel-ratio: 3) and (orientation: landscape)\" rel=\"apple-touch-startup-image\"/>\n",
       "<link href=\"https://assets.habr.com/habr-web/img/splashes/splash_1125x2436.png\" media=\"screen and (device-width: 375px) and (device-height: 812px) and (-webkit-device-pixel-ratio: 3) and (orientation: portrait)\" rel=\"apple-touch-startup-image\"/>\n",
       "<link href=\"https://assets.habr.com/habr-web/img/splashes/splash_1242x2208.png\" media=\"screen and (device-width: 414px) and (device-height: 736px) and (-webkit-device-pixel-ratio: 3) and (orientation: portrait)\" rel=\"apple-touch-startup-image\"/>\n",
       "<link href=\"https://assets.habr.com/habr-web/img/splashes/splash_2732x2048.png\" media=\"screen and (device-width: 1024px) and (device-height: 1366px) and (-webkit-device-pixel-ratio: 2) and (orientation: landscape)\" rel=\"apple-touch-startup-image\"/>\n",
       "<link href=\"https://assets.habr.com/habr-web/img/splashes/splash_2688x1242.png\" media=\"screen and (device-width: 414px) and (device-height: 896px) and (-webkit-device-pixel-ratio: 3) and (orientation: landscape)\" rel=\"apple-touch-startup-image\"/>\n",
       "<link href=\"https://assets.habr.com/habr-web/img/splashes/splash_2224x1668.png\" media=\"screen and (device-width: 834px) and (device-height: 1112px) and (-webkit-device-pixel-ratio: 2) and (orientation: landscape)\" rel=\"apple-touch-startup-image\"/>\n",
       "<link href=\"https://assets.habr.com/habr-web/img/splashes/splash_750x1334.png\" media=\"screen and (device-width: 375px) and (device-height: 667px) and (-webkit-device-pixel-ratio: 2) and (orientation: portrait)\" rel=\"apple-touch-startup-image\"/>\n",
       "<link href=\"https://assets.habr.com/habr-web/img/splashes/splash_2048x2732.png\" media=\"screen and (device-width: 1024px) and (device-height: 1366px) and (-webkit-device-pixel-ratio: 2) and (orientation: portrait)\" rel=\"apple-touch-startup-image\"/>\n",
       "<link href=\"https://assets.habr.com/habr-web/img/splashes/splash_2388x1668.png\" media=\"screen and (device-width: 834px) and (device-height: 1194px) and (-webkit-device-pixel-ratio: 2) and (orientation: landscape)\" rel=\"apple-touch-startup-image\"/>\n",
       "<link href=\"https://assets.habr.com/habr-web/img/splashes/splash_1668x2224.png\" media=\"screen and (device-width: 834px) and (device-height: 1112px) and (-webkit-device-pixel-ratio: 2) and (orientation: portrait)\" rel=\"apple-touch-startup-image\"/>\n",
       "<link href=\"https://assets.habr.com/habr-web/img/splashes/splash_640x1136.png\" media=\"screen and (device-width: 320px) and (device-height: 568px) and (-webkit-device-pixel-ratio: 2) and (orientation: portrait)\" rel=\"apple-touch-startup-image\"/>\n",
       "<link href=\"https://assets.habr.com/habr-web/img/splashes/splash_1668x2388.png\" media=\"screen and (device-width: 834px) and (device-height: 1194px) and (-webkit-device-pixel-ratio: 2) and (orientation: portrait)\" rel=\"apple-touch-startup-image\"/>\n",
       "<link href=\"https://assets.habr.com/habr-web/img/splashes/splash_2048x1536.png\" media=\"screen and (device-width: 768px) and (device-height: 1024px) and (-webkit-device-pixel-ratio: 2) and (orientation: landscape)\" rel=\"apple-touch-startup-image\"/>\n",
       "<link href=\"https://assets.habr.com/habr-web/img/splashes/splash_1536x2048.png\" media=\"screen and (device-width: 768px) and (device-height: 1024px) and (-webkit-device-pixel-ratio: 2) and (orientation: portrait)\" rel=\"apple-touch-startup-image\"/>\n",
       "<link color=\"#77a2b6\" href=\"https://assets.habr.com/habr-web/img/favicons/apple-touch-icon-120.svg\" rel=\"mask-icon\"/>\n",
       "<link crossorigin=\"use-credentials\" href=\"/manifest.webmanifest\" rel=\"manifest\"/>\n",
       "</head>\n",
       "<body>\n",
       "<div data-async-called=\"true\" data-server-rendered=\"true\" id=\"app\"><div class=\"tm-layout__wrapper\"><!-- --><div></div><!-- --><header class=\"tm-header\"><div class=\"tm-page-width\"><div class=\"tm-header__container\"><!-- --><span class=\"tm-header__logo-wrap\"><a class=\"tm-header__logo tm-header__logo_ru\" href=\"/ru/\"><svg class=\"tm-svg-img tm-header__icon\" height=\"16\" width=\"16\"><title>Хабр</title><use xlink:href=\"/img/habr-logo-ru.svg#logo\"></use></svg></a><span class=\"tm-header__beta-sign\" style=\"display:none;\">β</span></span><div class=\"tm-dropdown tm-header__projects\"><div class=\"tm-dropdown__head\"><button class=\"tm-header__dropdown-toggle\"><svg class=\"tm-svg-img tm-header__icon tm-header__icon_dropdown\" height=\"16\" width=\"16\"><title>Открыть список</title><use xlink:href=\"/img/megazord-v24.cee85629.svg#arrow-down\"></use></svg></button></div><!-- --></div><a class=\"tm-header__become-author-btn\" href=\"/ru/sandbox/start/\">\n",
       "              Как стать автором\n",
       "            </a><div class=\"tm-feature tm-header__feature tm-feature_variant-inline\"><!-- --></div><!-- --><!-- --></div></div></header><div class=\"tm-layout\"><div class=\"tm-page-progress-bar\"></div><div class=\"tm-base-layout__header tm-base-layout__header_is-sticky\" data-menu-sticky=\"true\"><div class=\"tm-page-width\"><div class=\"tm-base-layout__header-wrapper\"><div class=\"tm-main-menu\"><div class=\"tm-main-menu__section\"><nav class=\"tm-main-menu__section-content\"><!-- --><a aria-current=\"page\" class=\"tm-main-menu__item router-link-exact-active tm-main-menu__item_active\" href=\"/ru/all/\">\n",
       "        Все потоки\n",
       "      </a><a class=\"tm-main-menu__item\" href=\"/ru/flows/develop/\">\n",
       "          Разработка\n",
       "        </a><a class=\"tm-main-menu__item\" href=\"/ru/flows/admin/\">\n",
       "          Администрирование\n",
       "        </a><a class=\"tm-main-menu__item\" href=\"/ru/flows/design/\">\n",
       "          Дизайн\n",
       "        </a><a class=\"tm-main-menu__item\" href=\"/ru/flows/management/\">\n",
       "          Менеджмент\n",
       "        </a><a class=\"tm-main-menu__item\" href=\"/ru/flows/marketing/\">\n",
       "          Маркетинг\n",
       "        </a><a class=\"tm-main-menu__item\" href=\"/ru/flows/popsci/\">\n",
       "          Научпоп\n",
       "        </a></nav></div></div><div class=\"tm-header-user-menu tm-base-layout__user-menu\"><a class=\"tm-header-user-menu__item tm-header-user-menu__search\" href=\"/ru/search/\"><svg class=\"tm-svg-img tm-header-user-menu__icon tm-header-user-menu__icon_search tm-header-user-menu__icon_dark\" height=\"24\" width=\"24\"><title>Поиск</title><use xlink:href=\"/img/megazord-v24.cee85629.svg#search\"></use></svg></a><!-- --><!-- --><!-- --><div class=\"tm-header-user-menu__item tm-header-user-menu__user_desktop\"><div class=\"tm-dropdown\"><div class=\"tm-dropdown__head\"><svg class=\"tm-svg-img tm-header-user-menu__icon\" data-test-id=\"menu-toggle-guest\" height=\"24\" width=\"24\"><title>Профиль</title><use xlink:href=\"/img/megazord-v24.cee85629.svg#header-user\"></use></svg><!-- --></div><!-- --></div><!-- --></div><!-- --></div></div></div></div><!-- --><div class=\"tm-page-width\"></div><main class=\"tm-layout__container\"><div class=\"tm-page\"><div class=\"tm-page-width\"><!-- --><div class=\"tm-page__wrapper\"><div class=\"tm-page__main tm-page__main_has-sidebar\"><div class=\"pull-down\"><div class=\"pull-down__header\" style=\"height:0px;\"><div class=\"pull-down__content\" style=\"bottom:10px;\"><svg class=\"tm-svg-img pull-down__arrow\" height=\"24\" width=\"24\"><title>Обновить</title><use xlink:href=\"/img/megazord-v24.cee85629.svg#pull-arrow\"></use></svg></div></div><div class=\"tm-page__top\"><div class=\"tm-section-name\"><h1 class=\"tm-section-name__text\">\n",
       "    Все потоки\n",
       "  </h1></div><div class=\"tm-tabs tm-tabs_page-header\"><div class=\"tm-tabs__scroll-area\"><span class=\"tm-tabs__tab-item\"><a aria-current=\"page\" class=\"tm-tabs__tab-link router-link-exact-active tm-tabs__tab-link_active\" href=\"/ru/all/\">\n",
       "        Статьи\n",
       "        <!-- --></a></span><span class=\"tm-tabs__tab-item\"><a class=\"tm-tabs__tab-link\" href=\"/ru/news/\">\n",
       "        Новости\n",
       "        <!-- --></a></span><span class=\"tm-tabs__tab-item\"><a class=\"tm-tabs__tab-link\" href=\"/ru/hubs/\">\n",
       "        Хабы\n",
       "        <!-- --></a></span><span class=\"tm-tabs__tab-item\"><a class=\"tm-tabs__tab-link\" href=\"/ru/users/\">\n",
       "        Авторы\n",
       "        <!-- --></a></span><span class=\"tm-tabs__tab-item\"><a class=\"tm-tabs__tab-link\" href=\"/ru/companies/\">\n",
       "        Компании\n",
       "        <!-- --></a></span></div><!-- --></div><div class=\"tm-navigation-filter\"><div class=\"tm-navigation-filters\"><div class=\"tm-navigation-filters__wrapper\"><button class=\"tm-navigation-filters__button\">\n",
       "      Все подряд\n",
       "      <svg class=\"tm-svg-img icon_dropdown-arrow\" height=\"16\" width=\"16\"><title>Открыть список</title><use xlink:href=\"/img/megazord-v24.cee85629.svg#arrow-down\"></use></svg></button><button class=\"tm-rss-button tm-rss-button_default\"><span class=\"tm-svg-icon__wrapper tm-rss-button__icon\"><svg class=\"tm-svg-img tm-svg-icon\" height=\"16\" width=\"16\"><title>Скопировать ссылку на RSS</title><use xlink:href=\"/img/megazord-v24.cee85629.svg#rss\"></use></svg></span></button></div><div class=\"tm-navigation-filters__options\"><div class=\"tm-navigation-filters__list-label\">\n",
       "      Сначала показывать\n",
       "    </div><ul class=\"tm-navigation-filters__list\"><li class=\"tm-navigation-filters__option tm-navigation-filters__option_active\">\n",
       "        Новые\n",
       "      </li><li class=\"tm-navigation-filters__option\">\n",
       "        Лучшие\n",
       "      </li></ul><div class=\"tm-navigation-filters__list-label\">\n",
       "      Порог рейтинга\n",
       "    </div><ul class=\"tm-navigation-filters__list\"><li class=\"tm-navigation-filters__option tm-navigation-filters__option_active\">\n",
       "        Все\n",
       "      </li><li class=\"tm-navigation-filters__option\">\n",
       "        ≥0\n",
       "      </li><li class=\"tm-navigation-filters__option\">\n",
       "        ≥10\n",
       "      </li><li class=\"tm-navigation-filters__option\">\n",
       "        ≥25\n",
       "      </li><li class=\"tm-navigation-filters__option\">\n",
       "        ≥50\n",
       "      </li><li class=\"tm-navigation-filters__option\">\n",
       "        ≥100\n",
       "      </li></ul><button class=\"tm-navigation-filters__apply btn btn_solid btn_small\" type=\"button\">\n",
       "      Применить\n",
       "    </button></div></div></div><!-- --></div><div class=\"tm-articles-subpage\" data-async-called=\"true\"><!-- --><div><div class=\"tm-articles-list\"><!-- --><article class=\"tm-articles-list__item\" data-navigatable=\"\" id=\"573618\" tabindex=\"0\"><div class=\"tm-article-snippet\"><div class=\"tm-article-snippet__meta-container\"><div class=\"tm-article-snippet__meta\"><span class=\"tm-user-info tm-article-snippet__author\"><a class=\"tm-user-info__userpic\" href=\"/ru/users/third112/\" title=\"third112\"><div class=\"tm-entity-image\"><img alt=\"\" class=\"tm-entity-image__pic\" height=\"24\" loading=\"lazy\" src=\"//habrastorage.org/r/w32/getpro/habr/avatars/4ea/3d6/cba/4ea3d6cbacc7a7b38328ad88cd4110bb.jpg\" width=\"24\"/></div></a><span class=\"tm-user-info__user\"><a class=\"tm-user-info__username\" href=\"/ru/users/third112/\">\n",
       "      third112\n",
       "    </a></span></span><span class=\"tm-article-snippet__datetime-published\"><time datetime=\"2021-08-18T19:18:23.000Z\" title=\"2021-08-18, 22:18\">сегодня в 22:18</time></span></div><!-- --></div><h2 class=\"tm-article-snippet__title tm-article-snippet__title_h2\"><a class=\"tm-article-snippet__title-link\" data-article-link=\"\" href=\"/ru/post/573618/\"><span>Мелкая (?) проблема закрывающих скобок в ЯП</span></a></h2><div class=\"tm-article-snippet__hubs\"><span class=\"tm-article-snippet__hubs-item\"><a class=\"tm-article-snippet__hubs-item-link\" href=\"/ru/hub/programming/\"><span>Программирование</span><span class=\"tm-article-snippet__profiled-hub\" title=\"Профильный хаб\">*</span></a></span></div><div class=\"tm-article-snippet__labels\"><!-- --></div><!-- --><div class=\"tm-article-body tm-article-snippet__lead\">\n",
       "<!-- --><div class=\"article-formatted-body article-formatted-body_version-1\"><img src=\"https://habrastorage.org/webt/72/4b/ac/724bacaqwdn9knndmxwdju8n-1i.jpeg\"/><br/>\n",
       "<br/>\n",
       "Не один десяток лет программирую. И временами наступаю на одни грабли: закрывающие скобки. Всегда нужно соответствие открывающим. Будь то выражение или программные скобки в функции. IDE обязательно укажет на ошибку, но раздражает!<br/></div><a class=\"tm-article-snippet__readmore\" href=\"/ru/post/573618/\"><span>Читать дальше →</span></a></div></div><div class=\"tm-data-icons\"><!-- --><div class=\"tm-votes-meter tm-data-icons__item\"><svg class=\"tm-svg-img tm-votes-meter__icon tm-votes-meter__icon_small\" height=\"16\" width=\"16\"><title>Всего голосов 8: ↑0 и ↓8</title><use xlink:href=\"/img/megazord-v24.cee85629.svg#counter-rating\"></use></svg><span class=\"tm-votes-meter__value tm-votes-meter__value_negative tm-votes-meter__value_small\" title=\"Всего голосов 8: ↑0 и ↓8\">-8</span></div><span class=\"tm-icon-counter tm-data-icons__item\" title=\"Количество просмотров\"><svg class=\"tm-svg-img tm-icon-counter__icon\" height=\"16\" width=\"16\"><title>Просмотры</title><use xlink:href=\"/img/megazord-v24.cee85629.svg#counter-views\"></use></svg><span class=\"tm-icon-counter__value\">348</span></span><button class=\"bookmarks-button tm-data-icons__item\" title=\"Добавить в закладки\" type=\"button\"><span class=\"tm-svg-icon__wrapper bookmarks-button__icon\" title=\"Добавить в закладки\"><svg class=\"tm-svg-img tm-svg-icon\" height=\"16\" width=\"16\"><title>Добавить в закладки</title><use xlink:href=\"/img/megazord-v24.cee85629.svg#counter-favorite\"></use></svg></span><span class=\"bookmarks-button__counter\" title=\"Количество пользователей, добавивших публикацию в закладки\">\n",
       "    0\n",
       "  </span></button><div class=\"tm-article-comments-counter-link tm-data-icons__item\" title=\"Читать комментарии\"><a class=\"tm-article-comments-counter-link__link\" href=\"/ru/post/573618/comments/\"><svg class=\"tm-svg-img tm-article-comments-counter-link__icon\" height=\"16\" width=\"16\"><title>Комментарии</title><use xlink:href=\"/img/megazord-v24.cee85629.svg#counter-comments\"></use></svg><span class=\"tm-article-comments-counter-link__value\">\n",
       "      2\n",
       "    </span></a><!-- --></div><!-- --><div class=\"v-portal\" style=\"display:none;\"></div></div></article><div class=\"tm-articles-list__after-article\"><section class=\"tm-block tm-block_spacing-bottom\" data-navigatable=\"\" data-test-id=\"news_block\" id=\"news_block_1\" tabindex=\"0\"><header class=\"tm-block__header tm-block__header_variant-borderless\"><h2 class=\"tm-block__title\">Новости</h2><!-- --></header><div class=\"tm-block__body\"><ul class=\"tm-news-block__items\"><li class=\"tm-news-block__item\" data-test-id=\"news_block_item_loading\"><div class=\"news-block-item-placeholder\"><div class=\"news-block-item-placeholder__header\" style=\"width:190px;\"></div><div class=\"news-block-item-placeholder__meta\" style=\"width:253px;\"></div></div></li><li class=\"tm-news-block__item\" data-test-id=\"news_block_item_loading\"><div class=\"news-block-item-placeholder\"><div class=\"news-block-item-placeholder__header\" style=\"width:262px;\"></div><div class=\"news-block-item-placeholder__meta\" style=\"width:262px;\"></div></div></li><li class=\"tm-news-block__item\" data-test-id=\"news_block_item_loading\"><div class=\"news-block-item-placeholder\"><div class=\"news-block-item-placeholder__header\" style=\"width:273px;\"></div><div class=\"news-block-item-placeholder__meta\" style=\"width:274px;\"></div></div></li><li class=\"tm-news-block__item\" data-test-id=\"news_block_item_loading\"><div class=\"news-block-item-placeholder\"><div class=\"news-block-item-placeholder__header\" style=\"width:187px;\"></div><div class=\"news-block-item-placeholder__meta\" style=\"width:278px;\"></div></div></li><li class=\"tm-news-block__item\" data-test-id=\"news_block_item_loading\"><div class=\"news-block-item-placeholder\"><div class=\"news-block-item-placeholder__header\" style=\"width:240px;\"></div><div class=\"news-block-item-placeholder__meta\" style=\"width:264px;\"></div></div></li></ul><span class=\"tm-news-block__all\">\n",
       "    Показать еще\n",
       "  </span></div><!-- --></section></div><!-- --><article class=\"tm-articles-list__item\" data-navigatable=\"\" id=\"541876\" tabindex=\"0\"><div class=\"tm-article-snippet\"><div class=\"tm-article-snippet__meta-container\"><div class=\"tm-article-snippet__meta\"><span class=\"tm-user-info tm-article-snippet__author\"><a class=\"tm-user-info__userpic\" href=\"/ru/users/AmigoRRR/\" title=\"AmigoRRR\"><div class=\"tm-entity-image\"><img alt=\"\" class=\"tm-entity-image__pic\" height=\"24\" loading=\"lazy\" src=\"//habrastorage.org/r/w32/getpro/habr/avatars/d7c/043/f01/d7c043f01383d11234d3c6a909b36328.jpg\" width=\"24\"/></div></a><span class=\"tm-user-info__user\"><a class=\"tm-user-info__username\" href=\"/ru/users/AmigoRRR/\">\n",
       "      AmigoRRR\n",
       "    </a></span></span><span class=\"tm-article-snippet__datetime-published\"><time datetime=\"2021-08-18T17:45:47.000Z\" title=\"2021-08-18, 20:45\">сегодня в 20:45</time></span></div><!-- --></div><h2 class=\"tm-article-snippet__title tm-article-snippet__title_h2\"><a class=\"tm-article-snippet__title-link\" data-article-link=\"\" href=\"/ru/post/541876/\"><span>Результаты конкурса разработки open-source пакетов на Robot Operating System</span></a></h2><div class=\"tm-article-snippet__hubs\"><span class=\"tm-article-snippet__hubs-item\"><a class=\"tm-article-snippet__hubs-item-link\" href=\"/ru/hub/open_source/\"><span>Open source</span><span class=\"tm-article-snippet__profiled-hub\" title=\"Профильный хаб\">*</span></a></span><span class=\"tm-article-snippet__hubs-item\"><a class=\"tm-article-snippet__hubs-item-link\" href=\"/ru/hub/programming/\"><span>Программирование</span><span class=\"tm-article-snippet__profiled-hub\" title=\"Профильный хаб\">*</span></a></span><span class=\"tm-article-snippet__hubs-item\"><a class=\"tm-article-snippet__hubs-item-link\" href=\"/ru/hub/robo_dev/\"><span>Разработка робототехники</span><span class=\"tm-article-snippet__profiled-hub\" title=\"Профильный хаб\">*</span></a></span><span class=\"tm-article-snippet__hubs-item\"><a class=\"tm-article-snippet__hubs-item-link\" href=\"/ru/hub/robot/\"><span>Робототехника</span><!-- --></a></span><span class=\"tm-article-snippet__hubs-item\"><a class=\"tm-article-snippet__hubs-item-link\" href=\"/ru/hub/artificial_intelligence/\"><span>Искусственный интеллект</span><!-- --></a></span></div><div class=\"tm-article-snippet__labels\"><!-- --></div><!-- --><div class=\"tm-article-body tm-article-snippet__lead\">\n",
       "<!-- --><div class=\"article-formatted-body article-formatted-body_version-1\">Публикуем исходный код программных пакетов для роботов победивших в конкурсе open-source пакетов на ROS. Вы можете использовать их в своих роботах или продолжить их разработку вместе с авторами. Победители получили призы, одноплатные компьютеры для роботов от NVIDIA: Xavier, TX2, Nano.<br/>\n",
       "<img src=\"https://habrastorage.org/webt/aj/wb/rp/ajwbrpj5byuao7i3kymwslvrz9m.png\"/><br/></div><a class=\"tm-article-snippet__readmore\" href=\"/ru/post/541876/\"><span>Читать дальше →</span></a></div></div><div class=\"tm-data-icons\"><!-- --><div class=\"tm-votes-meter tm-data-icons__item\"><svg class=\"tm-svg-img tm-votes-meter__icon tm-votes-meter__icon_small\" height=\"16\" width=\"16\"><title>Всего голосов 4: ↑4 и ↓0</title><use xlink:href=\"/img/megazord-v24.cee85629.svg#counter-rating\"></use></svg><span class=\"tm-votes-meter__value tm-votes-meter__value_positive tm-votes-meter__value_small\" title=\"Всего голосов 4: ↑4 и ↓0\">+4</span></div><span class=\"tm-icon-counter tm-data-icons__item\" title=\"Количество просмотров\"><svg class=\"tm-svg-img tm-icon-counter__icon\" height=\"16\" width=\"16\"><title>Просмотры</title><use xlink:href=\"/img/megazord-v24.cee85629.svg#counter-views\"></use></svg><span class=\"tm-icon-counter__value\">301</span></span><button class=\"bookmarks-button tm-data-icons__item\" title=\"Добавить в закладки\" type=\"button\"><span class=\"tm-svg-icon__wrapper bookmarks-button__icon\" title=\"Добавить в закладки\"><svg class=\"tm-svg-img tm-svg-icon\" height=\"16\" width=\"16\"><title>Добавить в закладки</title><use xlink:href=\"/img/megazord-v24.cee85629.svg#counter-favorite\"></use></svg></span><span class=\"bookmarks-button__counter\" title=\"Количество пользователей, добавивших публикацию в закладки\">\n",
       "    5\n",
       "  </span></button><div class=\"tm-article-comments-counter-link tm-data-icons__item\" title=\"Читать комментарии\"><a class=\"tm-article-comments-counter-link__link\" href=\"/ru/post/541876/comments/\"><svg class=\"tm-svg-img tm-article-comments-counter-link__icon\" height=\"16\" width=\"16\"><title>Комментарии</title><use xlink:href=\"/img/megazord-v24.cee85629.svg#counter-comments\"></use></svg><span class=\"tm-article-comments-counter-link__value\">\n",
       "      0\n",
       "    </span></a><!-- --></div><!-- --><div class=\"v-portal\" style=\"display:none;\"></div></div></article><div class=\"tm-articles-list__after-article\"><!-- --></div><!-- --><article class=\"tm-articles-list__item\" data-navigatable=\"\" id=\"573606\" tabindex=\"0\"><div class=\"tm-article-snippet\"><div class=\"tm-article-snippet__meta-container\"><div class=\"tm-article-snippet__meta\"><span class=\"tm-user-info tm-article-snippet__author\"><a class=\"tm-user-info__userpic\" href=\"/ru/users/phaser6/\" title=\"phaser6\"><div class=\"tm-entity-image\"><svg class=\"tm-svg-img tm-image-placeholder tm-image-placeholder_pink\" height=\"24\" width=\"24\"><!-- --><use xlink:href=\"/img/megazord-v24.cee85629.svg#placeholder-user\"></use></svg></div></a><span class=\"tm-user-info__user\"><a class=\"tm-user-info__username\" href=\"/ru/users/phaser6/\">\n",
       "      phaser6\n",
       "    </a></span></span><span class=\"tm-article-snippet__datetime-published\"><time datetime=\"2021-08-18T17:17:34.000Z\" title=\"2021-08-18, 20:17\">сегодня в 20:17</time></span></div><!-- --></div><h2 class=\"tm-article-snippet__title tm-article-snippet__title_h2\"><a class=\"tm-article-snippet__title-link\" data-article-link=\"\" href=\"/ru/company/mvideo/blog/573606/\"><span>Большие данные и математические алгоритмы в руках коммерсанта</span></a></h2><div class=\"tm-article-snippet__hubs\"><span class=\"tm-article-snippet__hubs-item\"><a class=\"tm-article-snippet__hubs-item-link\" href=\"/ru/company/mvideo/blog/\"><span>Блог компании М.Видео-Эльдорадо</span><!-- --></a></span><span class=\"tm-article-snippet__hubs-item\"><a class=\"tm-article-snippet__hubs-item-link\" href=\"/ru/hub/analysis_design/\"><span>Анализ и проектирование систем</span><span class=\"tm-article-snippet__profiled-hub\" title=\"Профильный хаб\">*</span></a></span><span class=\"tm-article-snippet__hubs-item\"><a class=\"tm-article-snippet__hubs-item-link\" href=\"/ru/hub/bigdata/\"><span>Big Data</span><span class=\"tm-article-snippet__profiled-hub\" title=\"Профильный хаб\">*</span></a></span><span class=\"tm-article-snippet__hubs-item\"><a class=\"tm-article-snippet__hubs-item-link\" href=\"/ru/hub/machine_learning/\"><span>Машинное обучение</span><span class=\"tm-article-snippet__profiled-hub\" title=\"Профильный хаб\">*</span></a></span><span class=\"tm-article-snippet__hubs-item\"><a class=\"tm-article-snippet__hubs-item-link\" href=\"/ru/hub/data_engineering/\"><span>Data Engineering</span><span class=\"tm-article-snippet__profiled-hub\" title=\"Профильный хаб\">*</span></a></span></div><div class=\"tm-article-snippet__labels\"><!-- --></div><!-- --><div class=\"tm-article-body tm-article-snippet__lead\">\n",
       "<div class=\"tm-article-snippet__cover tm-article-snippet__cover_cover\"><img class=\"tm-article-snippet__lead-image\" src=\"https://habrastorage.org/getpro/habr/upload_files/326/87f/791/32687f7913aa8c2174f28e6be2d7782b.png\" style=\"object-position:0% 0%;\"/></div><div class=\"article-formatted-body article-formatted-body_version-2\"><p>Вы когда-нибудь задумывались, почему на полках любых магазинов — от гипермаркетов электроники до гастрономов — стоят именно эти товары и именно в такой последовательности? А Категорийные Менеджеры (и дата-сайентисты, кстати) думают об этом постоянно. Сегодня мы расскажем, как в М.Видео-Эльдорадо использовали искусственный интеллект для заполнения полок и изучили потребности клиентов при управлении ассортиментом.   </p></div><a class=\"tm-article-snippet__readmore\" href=\"/ru/company/mvideo/blog/573606/\"><span>Читать далее</span></a></div></div><div class=\"tm-data-icons\"><!-- --><div class=\"tm-votes-meter tm-data-icons__item\"><svg class=\"tm-svg-img tm-votes-meter__icon tm-votes-meter__icon_small\" height=\"16\" width=\"16\"><title>Рейтинг</title><use xlink:href=\"/img/megazord-v24.cee85629.svg#counter-rating\"></use></svg><span class=\"tm-votes-meter__value tm-votes-meter__value_small\">0</span></div><span class=\"tm-icon-counter tm-data-icons__item\" title=\"Количество просмотров\"><svg class=\"tm-svg-img tm-icon-counter__icon\" height=\"16\" width=\"16\"><title>Просмотры</title><use xlink:href=\"/img/megazord-v24.cee85629.svg#counter-views\"></use></svg><span class=\"tm-icon-counter__value\">352</span></span><button class=\"bookmarks-button tm-data-icons__item\" title=\"Добавить в закладки\" type=\"button\"><span class=\"tm-svg-icon__wrapper bookmarks-button__icon\" title=\"Добавить в закладки\"><svg class=\"tm-svg-img tm-svg-icon\" height=\"16\" width=\"16\"><title>Добавить в закладки</title><use xlink:href=\"/img/megazord-v24.cee85629.svg#counter-favorite\"></use></svg></span><span class=\"bookmarks-button__counter\" title=\"Количество пользователей, добавивших публикацию в закладки\">\n",
       "    2\n",
       "  </span></button><div class=\"tm-article-comments-counter-link tm-data-icons__item\" title=\"Читать комментарии\"><a class=\"tm-article-comments-counter-link__link\" href=\"/ru/company/mvideo/blog/573606/comments/\"><svg class=\"tm-svg-img tm-article-comments-counter-link__icon\" height=\"16\" width=\"16\"><title>Комментарии</title><use xlink:href=\"/img/megazord-v24.cee85629.svg#counter-comments\"></use></svg><span class=\"tm-article-comments-counter-link__value\">\n",
       "      1\n",
       "    </span></a><!-- --></div><!-- --><div class=\"v-portal\" style=\"display:none;\"></div></div></article><div class=\"tm-articles-list__after-article\"><!-- --></div><!-- --><article class=\"tm-articles-list__item\" data-navigatable=\"\" id=\"573600\" tabindex=\"0\"><div class=\"tm-article-snippet\"><div class=\"tm-article-snippet__meta-container\"><div class=\"tm-article-snippet__meta\"><span class=\"tm-user-info tm-article-snippet__author\"><a class=\"tm-user-info__userpic\" href=\"/ru/users/Femole/\" title=\"Femole\"><div class=\"tm-entity-image\"><img alt=\"\" class=\"tm-entity-image__pic\" height=\"24\" loading=\"lazy\" src=\"//habrastorage.org/r/w32/getpro/habr/avatars/7dc/178/13b/7dc17813b76324a6b202da5263ef5337.jpg\" width=\"24\"/></div></a><span class=\"tm-user-info__user\"><a class=\"tm-user-info__username\" href=\"/ru/users/Femole/\">\n",
       "      Femole\n",
       "    </a></span></span><span class=\"tm-article-snippet__datetime-published\"><time datetime=\"2021-08-18T17:14:56.000Z\" title=\"2021-08-18, 20:14\">сегодня в 20:14</time></span></div><!-- --></div><h2 class=\"tm-article-snippet__title tm-article-snippet__title_h2\"><a class=\"tm-article-snippet__title-link\" data-article-link=\"\" href=\"/ru/company/madrobots/blog/573600/\"><span>В чем носить ноутбук? Плюсы и минусы городских рюкзаков</span></a></h2><div class=\"tm-article-snippet__hubs\"><span class=\"tm-article-snippet__hubs-item\"><a class=\"tm-article-snippet__hubs-item-link\" href=\"/ru/company/madrobots/blog/\"><span>Блог компании Madrobots</span><!-- --></a></span></div><div class=\"tm-article-snippet__labels\"><!-- --></div><!-- --><div class=\"tm-article-body tm-article-snippet__lead\">\n",
       "<div class=\"tm-article-snippet__cover tm-article-snippet__cover_cover\"><img class=\"tm-article-snippet__lead-image\" src=\"https://habrastorage.org/getpro/habr/upload_files/7be/476/d3b/7be476d3bbf673284109c1169701cd0d.jpg\" style=\"object-position:0% 0%;\"/></div><div class=\"article-formatted-body article-formatted-body_version-2\"><p>Городские рюкзаки — одна из любимых тем в Мэдроботс. Половина коллег каждый день приезжает в офис и уезжает домой с ноутбуком за плечами. Традиционно, к осеннему сезону мы пополнили нашу коллекцию рюкзаков и взяли на себя смелость отобрать 7 любопытных моделей. </p></div><a class=\"tm-article-snippet__readmore\" href=\"/ru/company/madrobots/blog/573600/\"><span>Читать далее</span></a></div></div><div class=\"tm-data-icons\"><!-- --><div class=\"tm-votes-meter tm-data-icons__item\"><svg class=\"tm-svg-img tm-votes-meter__icon tm-votes-meter__icon_small\" height=\"16\" width=\"16\"><title>Всего голосов 10: ↑7 и ↓3</title><use xlink:href=\"/img/megazord-v24.cee85629.svg#counter-rating\"></use></svg><span class=\"tm-votes-meter__value tm-votes-meter__value_positive tm-votes-meter__value_small\" title=\"Всего голосов 10: ↑7 и ↓3\">+4</span></div><span class=\"tm-icon-counter tm-data-icons__item\" title=\"Количество просмотров\"><svg class=\"tm-svg-img tm-icon-counter__icon\" height=\"16\" width=\"16\"><title>Просмотры</title><use xlink:href=\"/img/megazord-v24.cee85629.svg#counter-views\"></use></svg><span class=\"tm-icon-counter__value\">1.6K</span></span><button class=\"bookmarks-button tm-data-icons__item\" title=\"Добавить в закладки\" type=\"button\"><span class=\"tm-svg-icon__wrapper bookmarks-button__icon\" title=\"Добавить в закладки\"><svg class=\"tm-svg-img tm-svg-icon\" height=\"16\" width=\"16\"><title>Добавить в закладки</title><use xlink:href=\"/img/megazord-v24.cee85629.svg#counter-favorite\"></use></svg></span><span class=\"bookmarks-button__counter\" title=\"Количество пользователей, добавивших публикацию в закладки\">\n",
       "    5\n",
       "  </span></button><div class=\"tm-article-comments-counter-link tm-data-icons__item\" title=\"Читать комментарии\"><a class=\"tm-article-comments-counter-link__link\" href=\"/ru/company/madrobots/blog/573600/comments/\"><svg class=\"tm-svg-img tm-article-comments-counter-link__icon\" height=\"16\" width=\"16\"><title>Комментарии</title><use xlink:href=\"/img/megazord-v24.cee85629.svg#counter-comments\"></use></svg><span class=\"tm-article-comments-counter-link__value\">\n",
       "      2\n",
       "    </span></a><!-- --></div><!-- --><div class=\"v-portal\" style=\"display:none;\"></div></div></article><div class=\"tm-articles-list__after-article\"><div class=\"tm-article-feed-blocks\"><!-- --></div></div><!-- --><article class=\"tm-articles-list__item\" data-navigatable=\"\" id=\"573582\" tabindex=\"0\"><div class=\"tm-article-snippet\"><div class=\"tm-article-snippet__meta-container\"><div class=\"tm-article-snippet__meta\"><span class=\"tm-user-info tm-article-snippet__author\"><a class=\"tm-user-info__userpic\" href=\"/ru/users/iRumba/\" title=\"iRumba\"><div class=\"tm-entity-image\"><img alt=\"\" class=\"tm-entity-image__pic\" height=\"24\" loading=\"lazy\" src=\"//habrastorage.org/r/w32/getpro/habr/avatars/934/114/ddd/934114ddd0f451ae82636b8fa46a101d.jpg\" width=\"24\"/></div></a><span class=\"tm-user-info__user\"><a class=\"tm-user-info__username\" href=\"/ru/users/iRumba/\">\n",
       "      iRumba\n",
       "    </a></span></span><span class=\"tm-article-snippet__datetime-published\"><time datetime=\"2021-08-18T15:40:04.000Z\" title=\"2021-08-18, 18:40\">сегодня в 18:40</time></span></div><!-- --></div><h2 class=\"tm-article-snippet__title tm-article-snippet__title_h2\"><a class=\"tm-article-snippet__title-link\" data-article-link=\"\" href=\"/ru/post/573582/\"><span>Пользовательские шаблоны и расширения для Visual Studio под проект (Часть 1: шаблоны элементов)</span></a></h2><div class=\"tm-article-snippet__hubs\"><span class=\"tm-article-snippet__hubs-item\"><a class=\"tm-article-snippet__hubs-item-link\" href=\"/ru/hub/net/\"><span>.NET</span><span class=\"tm-article-snippet__profiled-hub\" title=\"Профильный хаб\">*</span></a></span><span class=\"tm-article-snippet__hubs-item\"><a class=\"tm-article-snippet__hubs-item-link\" href=\"/ru/hub/vs/\"><span>Visual Studio</span><span class=\"tm-article-snippet__profiled-hub\" title=\"Профильный хаб\">*</span></a></span></div><div class=\"tm-article-snippet__labels\"><div class=\"tm-article-snippet__label\"><span>\n",
       "          Tutorial\n",
       "        </span></div></div><!-- --><div class=\"tm-article-body tm-article-snippet__lead\">\n",
       "<div class=\"tm-article-snippet__cover tm-article-snippet__cover_cover\"><img class=\"tm-article-snippet__lead-image\" src=\"https://habrastorage.org/getpro/habr/upload_files/2c2/ad5/86b/2c2ad586b5bb36d0bb5385b69018ac2a.png\" style=\"object-position:0% 0%;\"/></div><div class=\"article-formatted-body article-formatted-body_version-2\"><p>В магазине Visual Studio есть множество различных расширений на все случаи жизни. Есть в сети различные их подборки, которые могут упростить жизнь в общих или конкретных случаях. Однако я, почему-то, никогда не встречал шаблоны или расширения заточенные под проект.</p></div><a class=\"tm-article-snippet__readmore\" href=\"/ru/post/573582/\"><span>Читать далее</span></a></div></div><div class=\"tm-data-icons\"><!-- --><div class=\"tm-votes-meter tm-data-icons__item\"><svg class=\"tm-svg-img tm-votes-meter__icon tm-votes-meter__icon_small\" height=\"16\" width=\"16\"><title>Всего голосов 1: ↑1 и ↓0</title><use xlink:href=\"/img/megazord-v24.cee85629.svg#counter-rating\"></use></svg><span class=\"tm-votes-meter__value tm-votes-meter__value_positive tm-votes-meter__value_small\" title=\"Всего голосов 1: ↑1 и ↓0\">+1</span></div><span class=\"tm-icon-counter tm-data-icons__item\" title=\"Количество просмотров\"><svg class=\"tm-svg-img tm-icon-counter__icon\" height=\"16\" width=\"16\"><title>Просмотры</title><use xlink:href=\"/img/megazord-v24.cee85629.svg#counter-views\"></use></svg><span class=\"tm-icon-counter__value\">767</span></span><button class=\"bookmarks-button tm-data-icons__item\" title=\"Добавить в закладки\" type=\"button\"><span class=\"tm-svg-icon__wrapper bookmarks-button__icon\" title=\"Добавить в закладки\"><svg class=\"tm-svg-img tm-svg-icon\" height=\"16\" width=\"16\"><title>Добавить в закладки</title><use xlink:href=\"/img/megazord-v24.cee85629.svg#counter-favorite\"></use></svg></span><span class=\"bookmarks-button__counter\" title=\"Количество пользователей, добавивших публикацию в закладки\">\n",
       "    7\n",
       "  </span></button><div class=\"tm-article-comments-counter-link tm-data-icons__item\" title=\"Читать комментарии\"><a class=\"tm-article-comments-counter-link__link\" href=\"/ru/post/573582/comments/\"><svg class=\"tm-svg-img tm-article-comments-counter-link__icon\" height=\"16\" width=\"16\"><title>Комментарии</title><use xlink:href=\"/img/megazord-v24.cee85629.svg#counter-comments\"></use></svg><span class=\"tm-article-comments-counter-link__value\">\n",
       "      2\n",
       "    </span></a><!-- --></div><!-- --><div class=\"v-portal\" style=\"display:none;\"></div></div></article><div class=\"tm-articles-list__after-article\"><!-- --></div><!-- --><article class=\"tm-articles-list__item\" data-navigatable=\"\" id=\"573584\" tabindex=\"0\"><div class=\"tm-article-snippet\"><div class=\"tm-article-snippet__meta-container\"><div class=\"tm-article-snippet__meta\"><span class=\"tm-user-info tm-article-snippet__author\"><a class=\"tm-user-info__userpic\" href=\"/ru/users/Hiro_Protagonist/\" title=\"Hiro_Protagonist\"><div class=\"tm-entity-image\"><svg class=\"tm-svg-img tm-image-placeholder tm-image-placeholder_green\" height=\"24\" width=\"24\"><!-- --><use xlink:href=\"/img/megazord-v24.cee85629.svg#placeholder-user\"></use></svg></div></a><span class=\"tm-user-info__user\"><a class=\"tm-user-info__username\" href=\"/ru/users/Hiro_Protagonist/\">\n",
       "      Hiro_Protagonist\n",
       "    </a></span></span><span class=\"tm-article-snippet__datetime-published\"><time datetime=\"2021-08-18T15:30:03.000Z\" title=\"2021-08-18, 18:30\">сегодня в 18:30</time></span></div><!-- --></div><h2 class=\"tm-article-snippet__title tm-article-snippet__title_h2\"><a class=\"tm-article-snippet__title-link\" data-article-link=\"\" href=\"/ru/post/573584/\"><span>5 писателей-фантастов, работавших программистами</span></a></h2><div class=\"tm-article-snippet__hubs\"><span class=\"tm-article-snippet__hubs-item\"><a class=\"tm-article-snippet__hubs-item-link\" href=\"/ru/hub/sci-fi/\"><span>Научная фантастика</span><!-- --></a></span></div><div class=\"tm-article-snippet__labels\"><!-- --></div><!-- --><div class=\"tm-article-body tm-article-snippet__lead\">\n",
       "<div class=\"tm-article-snippet__cover tm-article-snippet__cover_cover\"><img class=\"tm-article-snippet__lead-image\" src=\"https://habrastorage.org/getpro/habr/upload_files/186/fe4/09f/186fe409f9c23543db4e00ffbfac08b7.jpg\" style=\"object-position:0% 0%;\"/></div><div class=\"article-formatted-body article-formatted-body_version-2\"><p>Почти все писатели, приходя в литературу, уже имеют за плечами карьеру в той или иной области. Среди авторов встречаются представители самых разных профессий — журналисты, ученые самых разных специализаций, врачи, преподаватели, инженеры, бизнесмены… Список можно продолжать еще долго. Конечно, есть в писательском цехе и выходцы из IT-сферы, и вот несколько примеров программистов, которые сумели прославиться на ниве писательство, а конкретнее — в сфере научной фантастики. </p></div><a class=\"tm-article-snippet__readmore\" href=\"/ru/post/573584/\"><span>Читать далее</span></a></div></div><div class=\"tm-data-icons\"><!-- --><div class=\"tm-votes-meter tm-data-icons__item\"><svg class=\"tm-svg-img tm-votes-meter__icon tm-votes-meter__icon_small\" height=\"16\" width=\"16\"><title>Всего голосов 10: ↑9 и ↓1</title><use xlink:href=\"/img/megazord-v24.cee85629.svg#counter-rating\"></use></svg><span class=\"tm-votes-meter__value tm-votes-meter__value_positive tm-votes-meter__value_small\" title=\"Всего голосов 10: ↑9 и ↓1\">+8</span></div><span class=\"tm-icon-counter tm-data-icons__item\" title=\"Количество просмотров\"><svg class=\"tm-svg-img tm-icon-counter__icon\" height=\"16\" width=\"16\"><title>Просмотры</title><use xlink:href=\"/img/megazord-v24.cee85629.svg#counter-views\"></use></svg><span class=\"tm-icon-counter__value\">2.5K</span></span><button class=\"bookmarks-button tm-data-icons__item\" title=\"Добавить в закладки\" type=\"button\"><span class=\"tm-svg-icon__wrapper bookmarks-button__icon\" title=\"Добавить в закладки\"><svg class=\"tm-svg-img tm-svg-icon\" height=\"16\" width=\"16\"><title>Добавить в закладки</title><use xlink:href=\"/img/megazord-v24.cee85629.svg#counter-favorite\"></use></svg></span><span class=\"bookmarks-button__counter\" title=\"Количество пользователей, добавивших публикацию в закладки\">\n",
       "    35\n",
       "  </span></button><div class=\"tm-article-comments-counter-link tm-data-icons__item\" title=\"Читать комментарии\"><a class=\"tm-article-comments-counter-link__link\" href=\"/ru/post/573584/comments/\"><svg class=\"tm-svg-img tm-article-comments-counter-link__icon\" height=\"16\" width=\"16\"><title>Комментарии</title><use xlink:href=\"/img/megazord-v24.cee85629.svg#counter-comments\"></use></svg><span class=\"tm-article-comments-counter-link__value\">\n",
       "      3\n",
       "    </span></a><!-- --></div><!-- --><div class=\"v-portal\" style=\"display:none;\"></div></div></article><div class=\"tm-articles-list__after-article\"><!-- --></div><!-- --><article class=\"tm-articles-list__item\" data-navigatable=\"\" id=\"573580\" tabindex=\"0\"><div class=\"tm-article-snippet\"><div class=\"tm-article-snippet__meta-container\"><div class=\"tm-article-snippet__meta\"><span class=\"tm-user-info tm-article-snippet__author\"><a class=\"tm-user-info__userpic\" href=\"/ru/users/evage/\" title=\"evage\"><div class=\"tm-entity-image\"><svg class=\"tm-svg-img tm-image-placeholder tm-image-placeholder_blue\" height=\"24\" width=\"24\"><!-- --><use xlink:href=\"/img/megazord-v24.cee85629.svg#placeholder-user\"></use></svg></div></a><span class=\"tm-user-info__user\"><a class=\"tm-user-info__username\" href=\"/ru/users/evage/\">\n",
       "      evage\n",
       "    </a></span></span><span class=\"tm-article-snippet__datetime-published\"><time datetime=\"2021-08-18T15:01:24.000Z\" title=\"2021-08-18, 18:01\">сегодня в 18:01</time></span></div><!-- --></div><h2 class=\"tm-article-snippet__title tm-article-snippet__title_h2\"><a class=\"tm-article-snippet__title-link\" data-article-link=\"\" href=\"/ru/post/573580/\"><span>Первый Компьютерный ЕГЭ 2021</span></a></h2><div class=\"tm-article-snippet__hubs\"><span class=\"tm-article-snippet__hubs-item\"><a class=\"tm-article-snippet__hubs-item-link\" href=\"/ru/hub/study/\"><span>Учебный процесс в IT</span><!-- --></a></span></div><div class=\"tm-article-snippet__labels\"><div class=\"tm-article-snippet__label\"><span>\n",
       "          Из песочницы\n",
       "        </span></div></div><!-- --><div class=\"tm-article-body tm-article-snippet__lead\">\n",
       "<div class=\"tm-article-snippet__cover tm-article-snippet__cover_cover\"><img class=\"tm-article-snippet__lead-image\" src=\"https://habrastorage.org/getpro/habr/upload_files/87a/f98/9a7/87af989a78d03aa7b64694cd8748ae27.jpg\" style=\"object-position:0% 0%;\"/></div><div class=\"article-formatted-body article-formatted-body_version-2\"><p>Всем привет! В этом году я закончил 11 класс и сдавал первый Компьютерный ЕГЭ. Знаю, что довольно поздно пишу статью об этом, но все равно хотелось бы высказать пару мыслей об экзамене и о своем опыте. Хочу рассказать о самом ЕГЭ по информатике, его изменениях, подготовке и о некоторых мелочах.</p></div><a class=\"tm-article-snippet__readmore\" href=\"/ru/post/573580/\"><span>Читать далее</span></a></div></div><div class=\"tm-data-icons\"><!-- --><div class=\"tm-votes-meter tm-data-icons__item\"><svg class=\"tm-svg-img tm-votes-meter__icon tm-votes-meter__icon_small\" height=\"16\" width=\"16\"><title>Всего голосов 9: ↑9 и ↓0</title><use xlink:href=\"/img/megazord-v24.cee85629.svg#counter-rating\"></use></svg><span class=\"tm-votes-meter__value tm-votes-meter__value_positive tm-votes-meter__value_small\" title=\"Всего голосов 9: ↑9 и ↓0\">+9</span></div><span class=\"tm-icon-counter tm-data-icons__item\" title=\"Количество просмотров\"><svg class=\"tm-svg-img tm-icon-counter__icon\" height=\"16\" width=\"16\"><title>Просмотры</title><use xlink:href=\"/img/megazord-v24.cee85629.svg#counter-views\"></use></svg><span class=\"tm-icon-counter__value\">1.5K</span></span><button class=\"bookmarks-button tm-data-icons__item\" title=\"Добавить в закладки\" type=\"button\"><span class=\"tm-svg-icon__wrapper bookmarks-button__icon\" title=\"Добавить в закладки\"><svg class=\"tm-svg-img tm-svg-icon\" height=\"16\" width=\"16\"><title>Добавить в закладки</title><use xlink:href=\"/img/megazord-v24.cee85629.svg#counter-favorite\"></use></svg></span><span class=\"bookmarks-button__counter\" title=\"Количество пользователей, добавивших публикацию в закладки\">\n",
       "    6\n",
       "  </span></button><div class=\"tm-article-comments-counter-link tm-data-icons__item\" title=\"Читать комментарии\"><a class=\"tm-article-comments-counter-link__link\" href=\"/ru/post/573580/comments/\"><svg class=\"tm-svg-img tm-article-comments-counter-link__icon\" height=\"16\" width=\"16\"><title>Комментарии</title><use xlink:href=\"/img/megazord-v24.cee85629.svg#counter-comments\"></use></svg><span class=\"tm-article-comments-counter-link__value\">\n",
       "      7\n",
       "    </span></a><!-- --></div><!-- --><div class=\"v-portal\" style=\"display:none;\"></div></div></article><div class=\"tm-articles-list__after-article\"><div class=\"tm-article-feed-blocks\"><div class=\"tm-ad-banner__container\"><!-- --><div class=\"tm-ad-banner\" id=\"articlesListBanner\"></div></div></div></div><!-- --><article class=\"tm-articles-list__item\" data-navigatable=\"\" id=\"573578\" tabindex=\"0\"><div class=\"tm-article-snippet\"><div class=\"tm-article-snippet__meta-container\"><div class=\"tm-article-snippet__meta\"><span class=\"tm-user-info tm-article-snippet__author\"><a class=\"tm-user-info__userpic\" href=\"/ru/users/severstal/\" title=\"severstal\"><div class=\"tm-entity-image\"><img alt=\"\" class=\"tm-entity-image__pic\" height=\"24\" loading=\"lazy\" src=\"//habrastorage.org/r/w32/getpro/habr/avatars/cb1/8f3/2f5/cb18f32f5fda72291b08ad8bece982ea.jpg\" width=\"24\"/></div></a><span class=\"tm-user-info__user\"><a class=\"tm-user-info__username\" href=\"/ru/users/severstal/\">\n",
       "      severstal\n",
       "    </a></span></span><span class=\"tm-article-snippet__datetime-published\"><time datetime=\"2021-08-18T14:56:52.000Z\" title=\"2021-08-18, 17:56\">сегодня в 17:56</time></span></div><!-- --></div><h2 class=\"tm-article-snippet__title tm-article-snippet__title_h2\"><a class=\"tm-article-snippet__title-link\" data-article-link=\"\" href=\"/ru/company/severstal/blog/573578/\"><span>Смотрим на металлолом глазами Хищника: как это помогает в производстве стали</span></a></h2><div class=\"tm-article-snippet__hubs\"><span class=\"tm-article-snippet__hubs-item\"><a class=\"tm-article-snippet__hubs-item-link\" href=\"/ru/company/severstal/blog/\"><span>Блог компании Северсталь</span><!-- --></a></span></div><div class=\"tm-article-snippet__labels\"><!-- --></div><!-- --><div class=\"tm-article-body tm-article-snippet__lead\">\n",
       "<div class=\"tm-article-snippet__cover tm-article-snippet__cover_cover\"><img class=\"tm-article-snippet__lead-image\" src=\"https://habrastorage.org/getpro/habr/upload_files/ad3/5f1/126/ad35f1126aac3eeb25f8018d8667e95c.JPG\" style=\"object-position:0% 0%;\"/></div><div class=\"article-formatted-body article-formatted-body_version-2\"><p> </p><p>При переплавке металлолома важно, чтобы в нем не было посторонних предметов и жидкостей. Любой опасный предмет в лучшем случае нарушит технологию плавки, а в худшем — приведет к травмам. Например, зимой в металлоломе часто встречается лед, который вовремя плавки вызывает так называемые «хлопки» и может повредить оборудование стоимостью в миллионы рублей.</p><p>Я, Никита Лазарев, сотрудник сервиса Open Innovations в компании «Северсталь». Расскажу, как мы совместно с технологами «Северсталь Вторчермета» и сотрудниками Дирекции по техническому развитию и качеству использовали тепловизор для поиска обледеневшего лома на промплощадке «Северсталь Вторчермета» и каких результатов добились.</p></div><a class=\"tm-article-snippet__readmore\" href=\"/ru/company/severstal/blog/573578/\"><span>Боремся со льдом!</span></a></div></div><div class=\"tm-data-icons\"><!-- --><div class=\"tm-votes-meter tm-data-icons__item\"><svg class=\"tm-svg-img tm-votes-meter__icon tm-votes-meter__icon_small\" height=\"16\" width=\"16\"><title>Всего голосов 14: ↑14 и ↓0</title><use xlink:href=\"/img/megazord-v24.cee85629.svg#counter-rating\"></use></svg><span class=\"tm-votes-meter__value tm-votes-meter__value_positive tm-votes-meter__value_small\" title=\"Всего голосов 14: ↑14 и ↓0\">+14</span></div><span class=\"tm-icon-counter tm-data-icons__item\" title=\"Количество просмотров\"><svg class=\"tm-svg-img tm-icon-counter__icon\" height=\"16\" width=\"16\"><title>Просмотры</title><use xlink:href=\"/img/megazord-v24.cee85629.svg#counter-views\"></use></svg><span class=\"tm-icon-counter__value\">1.4K</span></span><button class=\"bookmarks-button tm-data-icons__item\" title=\"Добавить в закладки\" type=\"button\"><span class=\"tm-svg-icon__wrapper bookmarks-button__icon\" title=\"Добавить в закладки\"><svg class=\"tm-svg-img tm-svg-icon\" height=\"16\" width=\"16\"><title>Добавить в закладки</title><use xlink:href=\"/img/megazord-v24.cee85629.svg#counter-favorite\"></use></svg></span><span class=\"bookmarks-button__counter\" title=\"Количество пользователей, добавивших публикацию в закладки\">\n",
       "    5\n",
       "  </span></button><div class=\"tm-article-comments-counter-link tm-data-icons__item\" title=\"Читать комментарии\"><a class=\"tm-article-comments-counter-link__link\" href=\"/ru/company/severstal/blog/573578/comments/\"><svg class=\"tm-svg-img tm-article-comments-counter-link__icon\" height=\"16\" width=\"16\"><title>Комментарии</title><use xlink:href=\"/img/megazord-v24.cee85629.svg#counter-comments\"></use></svg><span class=\"tm-article-comments-counter-link__value\">\n",
       "      3\n",
       "    </span></a><!-- --></div><!-- --><div class=\"v-portal\" style=\"display:none;\"></div></div></article><div class=\"tm-articles-list__after-article\"><!-- --></div><!-- --><article class=\"tm-articles-list__item\" data-navigatable=\"\" id=\"573572\" tabindex=\"0\"><div class=\"tm-article-snippet\"><div class=\"tm-article-snippet__meta-container\"><div class=\"tm-article-snippet__meta\"><span class=\"tm-user-info tm-article-snippet__author\"><a class=\"tm-user-info__userpic\" href=\"/ru/users/kmoseenk/\" title=\"kmoseenk\"><div class=\"tm-entity-image\"><img alt=\"\" class=\"tm-entity-image__pic\" height=\"24\" loading=\"lazy\" src=\"//habrastorage.org/r/w32/getpro/habr/avatars/9c1/f26/fc3/9c1f26fc3a6df952b80365d8dd4a1642.png\" width=\"24\"/></div></a><span class=\"tm-user-info__user\"><a class=\"tm-user-info__username\" href=\"/ru/users/kmoseenk/\">\n",
       "      kmoseenk\n",
       "    </a></span></span><span class=\"tm-article-snippet__datetime-published\"><time datetime=\"2021-08-18T14:44:57.000Z\" title=\"2021-08-18, 17:44\">сегодня в 17:44</time></span></div><!-- --></div><h2 class=\"tm-article-snippet__title tm-article-snippet__title_h2\"><a class=\"tm-article-snippet__title-link\" data-article-link=\"\" href=\"/ru/post/573572/\"><span>Go: объектный файл и релокация</span></a></h2><div class=\"tm-article-snippet__hubs\"><span class=\"tm-article-snippet__hubs-item\"><a class=\"tm-article-snippet__hubs-item-link\" href=\"/ru/hub/programming/\"><span>Программирование</span><span class=\"tm-article-snippet__profiled-hub\" title=\"Профильный хаб\">*</span></a></span><span class=\"tm-article-snippet__hubs-item\"><a class=\"tm-article-snippet__hubs-item-link\" href=\"/ru/hub/go/\"><span>Go</span><span class=\"tm-article-snippet__profiled-hub\" title=\"Профильный хаб\">*</span></a></span></div><div class=\"tm-article-snippet__labels\"><div class=\"tm-article-snippet__label\"><span>\n",
       "          Перевод\n",
       "        </span></div></div><!-- --><div class=\"tm-article-body tm-article-snippet__lead\">\n",
       "<div class=\"tm-article-snippet__cover tm-article-snippet__cover_cover\"><img class=\"tm-article-snippet__lead-image\" src=\"https://habrastorage.org/getpro/habr/upload_files/7d7/a17/55e/7d7a1755e4337c2c9b742d71304c656d.png\" style=\"object-position:0% 0%;\"/></div><div class=\"article-formatted-body article-formatted-body_version-2\"><p><em>Эта статья оперирует версией Go 1.14.</em></p><p><a href=\"https://en.wikipedia.org/wiki/Relocation_(computing)\" rel=\"noopener noreferrer nofollow\"><u>Релокация</u></a> — это этап процесса линковки, в рамках которого каждому внешнему символу присваиваются соответствующие адреса. Поскольку пакеты компилируются отдельно, они не имеют понятия, где функции или переменные из других пакетов находятся фактически. Начнем с тривиального примера, когда нам потребуется релокация.</p></div><a class=\"tm-article-snippet__readmore\" href=\"/ru/post/573572/\"><span>Читать далее</span></a></div></div><div class=\"tm-data-icons\"><!-- --><div class=\"tm-votes-meter tm-data-icons__item\"><svg class=\"tm-svg-img tm-votes-meter__icon tm-votes-meter__icon_small\" height=\"16\" width=\"16\"><title>Всего голосов 1: ↑1 и ↓0</title><use xlink:href=\"/img/megazord-v24.cee85629.svg#counter-rating\"></use></svg><span class=\"tm-votes-meter__value tm-votes-meter__value_positive tm-votes-meter__value_small\" title=\"Всего голосов 1: ↑1 и ↓0\">+1</span></div><span class=\"tm-icon-counter tm-data-icons__item\" title=\"Количество просмотров\"><svg class=\"tm-svg-img tm-icon-counter__icon\" height=\"16\" width=\"16\"><title>Просмотры</title><use xlink:href=\"/img/megazord-v24.cee85629.svg#counter-views\"></use></svg><span class=\"tm-icon-counter__value\">658</span></span><button class=\"bookmarks-button tm-data-icons__item\" title=\"Добавить в закладки\" type=\"button\"><span class=\"tm-svg-icon__wrapper bookmarks-button__icon\" title=\"Добавить в закладки\"><svg class=\"tm-svg-img tm-svg-icon\" height=\"16\" width=\"16\"><title>Добавить в закладки</title><use xlink:href=\"/img/megazord-v24.cee85629.svg#counter-favorite\"></use></svg></span><span class=\"bookmarks-button__counter\" title=\"Количество пользователей, добавивших публикацию в закладки\">\n",
       "    22\n",
       "  </span></button><div class=\"tm-article-comments-counter-link tm-data-icons__item\" title=\"Читать комментарии\"><a class=\"tm-article-comments-counter-link__link\" href=\"/ru/post/573572/comments/\"><svg class=\"tm-svg-img tm-article-comments-counter-link__icon\" height=\"16\" width=\"16\"><title>Комментарии</title><use xlink:href=\"/img/megazord-v24.cee85629.svg#counter-comments\"></use></svg><span class=\"tm-article-comments-counter-link__value\">\n",
       "      0\n",
       "    </span></a><!-- --></div><!-- --><div class=\"v-portal\" style=\"display:none;\"></div></div></article><div class=\"tm-articles-list__after-article\"><!-- --></div><!-- --><article class=\"tm-articles-list__item\" data-navigatable=\"\" id=\"573560\" tabindex=\"0\"><div class=\"tm-article-snippet\"><div class=\"tm-article-snippet__meta-container\"><div class=\"tm-article-snippet__meta\"><span class=\"tm-user-info tm-article-snippet__author\"><a class=\"tm-user-info__userpic\" href=\"/ru/users/AlexeyR/\" title=\"AlexeyR\"><div class=\"tm-entity-image\"><img alt=\"\" class=\"tm-entity-image__pic\" height=\"24\" loading=\"lazy\" src=\"//habrastorage.org/r/w32/getpro/habr/avatars/5f7/505/ce9/5f7505ce9a529fbc651a7d61c57a1e7b.jpg\" width=\"24\"/></div></a><span class=\"tm-user-info__user\"><a class=\"tm-user-info__username\" href=\"/ru/users/AlexeyR/\">\n",
       "      AlexeyR\n",
       "    </a></span></span><span class=\"tm-article-snippet__datetime-published\"><time datetime=\"2021-08-18T14:44:09.000Z\" title=\"2021-08-18, 17:44\">сегодня в 17:44</time></span></div><!-- --></div><h2 class=\"tm-article-snippet__title tm-article-snippet__title_h2\"><a class=\"tm-article-snippet__title-link\" data-article-link=\"\" href=\"/ru/post/573560/\"><span>Тайна списка шумерских царей. Часть 3. Зодиак</span></a></h2><div class=\"tm-article-snippet__hubs\"><span class=\"tm-article-snippet__hubs-item\"><a class=\"tm-article-snippet__hubs-item-link\" href=\"/ru/hub/maths/\"><span>Математика</span><span class=\"tm-article-snippet__profiled-hub\" title=\"Профильный хаб\">*</span></a></span><span class=\"tm-article-snippet__hubs-item\"><a class=\"tm-article-snippet__hubs-item-link\" href=\"/ru/hub/history/\"><span>История IT</span><!-- --></a></span><span class=\"tm-article-snippet__hubs-item\"><a class=\"tm-article-snippet__hubs-item-link\" href=\"/ru/hub/popular_science/\"><span>Научно-популярное</span><!-- --></a></span><span class=\"tm-article-snippet__hubs-item\"><a class=\"tm-article-snippet__hubs-item-link\" href=\"/ru/hub/astronomy/\"><span>Астрономия</span><!-- --></a></span></div><div class=\"tm-article-snippet__labels\"><!-- --></div><!-- --><div class=\"tm-article-body tm-article-snippet__lead\">\n",
       "<div class=\"tm-article-snippet__cover tm-article-snippet__cover_cover\"><img class=\"tm-article-snippet__lead-image\" src=\"https://habrastorage.org/getpro/habr/upload_files/d22/3bc/a17/d223bca17db3316b2e4f412836f6c8c2.png\" style=\"object-position:0% 0%;\"/></div><div class=\"article-formatted-body article-formatted-body_version-2\"><p>Это продолжение цикла статей о разгадке <a href=\"https://ru.wikipedia.org/wiki/%D0%A1%D0%BF%D0%B8%D1%81%D0%BE%D0%BA_%D1%86%D0%B0%D1%80%D0%B5%D0%B9_%D0%A8%D1%83%D0%BC%D0%B5%D1%80%D0%B0_%D0%B8_%D0%90%D0%BA%D0%BA%D0%B0%D0%B4%D0%B0\" rel=\"noopener noreferrer nofollow\"><u>шумерского царского списка</u></a>. В <a href=\"https://habr.com/ru/post/562898/\" rel=\"noopener noreferrer nofollow\"><u>первой части</u></a> было объяснение важности этой загадки для понимания всей древней истории и описание тех астрономических инструментов, что были созданы по ходу исследования. Во <a href=\"https://habr.com/ru/post/569956/\" rel=\"noopener noreferrer nofollow\"><u>второй</u></a> рассказ о вавилонском звездном каталоге MUL.APIN и предположение, что названиями звезд и созвездий в нем была зашифрована вечная, циклически повторяющаяся история борьбы смысла и закона. Но цепочка переводов аккадских имен, хотя она и создает стройный рассказ, не может быть доказательством сама по себе. Нужны дополнительные, более строгие подтверждения. В этой части мы их и рассмотрим.</p><p>Что вы знаете об <a href=\"https://ru.wikipedia.org/wiki/%D0%90%D1%81%D1%82%D1%80%D0%BE%D0%BB%D0%BE%D0%B3%D0%B8%D1%8F\" rel=\"noopener noreferrer nofollow\"><u>астрологии</u></a>? Название “астрология” происходит от древнегреческого ἀστήρ «звезда» и λόγος «мысль, причина». Сама астрология — это некая древняя практика, которая позволяет гадать по звездам. Дескать, звезды влияют на судьбы людей и по положению звезд можно предсказывать будущее.</p><p>Как вы относитесь к астрологии? Здравомыслящий человек понимает, что астрология — это, как и всякое гадание, шарлатанство. Положение Солнца, планет и созвездий выступает генератором случайных сочетаний, которым астрологи дают свои толкования. Люди, склонные к мистицизму, готовы платить за это деньги. Спрос рождает предложение.  Все так?</p><p>Что такое знаки зодиака? Есть двенадцать созвездий, лежащих на годичном пути Солнца. То, в каком знаке родился человек, по мнению астрологов определяет его характер и судьбу. Зодиак придумали греки, поместив на небо героев своих мифов.</p></div><a class=\"tm-article-snippet__readmore\" href=\"/ru/post/573560/\"><span>Читать далее</span></a></div></div><div class=\"tm-data-icons\"><!-- --><div class=\"tm-votes-meter tm-data-icons__item\"><svg class=\"tm-svg-img tm-votes-meter__icon tm-votes-meter__icon_small\" height=\"16\" width=\"16\"><title>Всего голосов 6: ↑3 и ↓3</title><use xlink:href=\"/img/megazord-v24.cee85629.svg#counter-rating\"></use></svg><span class=\"tm-votes-meter__value tm-votes-meter__value_small\" title=\"Всего голосов 6: ↑3 и ↓3\">0</span></div><span class=\"tm-icon-counter tm-data-icons__item\" title=\"Количество просмотров\"><svg class=\"tm-svg-img tm-icon-counter__icon\" height=\"16\" width=\"16\"><title>Просмотры</title><use xlink:href=\"/img/megazord-v24.cee85629.svg#counter-views\"></use></svg><span class=\"tm-icon-counter__value\">849</span></span><button class=\"bookmarks-button tm-data-icons__item\" title=\"Добавить в закладки\" type=\"button\"><span class=\"tm-svg-icon__wrapper bookmarks-button__icon\" title=\"Добавить в закладки\"><svg class=\"tm-svg-img tm-svg-icon\" height=\"16\" width=\"16\"><title>Добавить в закладки</title><use xlink:href=\"/img/megazord-v24.cee85629.svg#counter-favorite\"></use></svg></span><span class=\"bookmarks-button__counter\" title=\"Количество пользователей, добавивших публикацию в закладки\">\n",
       "    15\n",
       "  </span></button><div class=\"tm-article-comments-counter-link tm-data-icons__item\" title=\"Читать комментарии\"><a class=\"tm-article-comments-counter-link__link\" href=\"/ru/post/573560/comments/\"><svg class=\"tm-svg-img tm-article-comments-counter-link__icon\" height=\"16\" width=\"16\"><title>Комментарии</title><use xlink:href=\"/img/megazord-v24.cee85629.svg#counter-comments\"></use></svg><span class=\"tm-article-comments-counter-link__value\">\n",
       "      0\n",
       "    </span></a><!-- --></div><!-- --><div class=\"v-portal\" style=\"display:none;\"></div></div></article><div class=\"tm-articles-list__after-article\"><div class=\"tm-article-feed-blocks\"><!-- --></div></div><a name=\"more-news\"></a><article class=\"tm-articles-list__item\" data-navigatable=\"\" id=\"573564\" tabindex=\"0\"><div class=\"tm-article-snippet\"><div class=\"tm-article-snippet__meta-container\"><div class=\"tm-article-snippet__meta\"><span class=\"tm-user-info tm-article-snippet__author\"><a class=\"tm-user-info__userpic\" href=\"/ru/users/Elpi/\" title=\"Elpi\"><div class=\"tm-entity-image\"><svg class=\"tm-svg-img tm-image-placeholder tm-image-placeholder_lilac\" height=\"24\" width=\"24\"><!-- --><use xlink:href=\"/img/megazord-v24.cee85629.svg#placeholder-user\"></use></svg></div></a><span class=\"tm-user-info__user\"><a class=\"tm-user-info__username\" href=\"/ru/users/Elpi/\">\n",
       "      Elpi\n",
       "    </a></span></span><span class=\"tm-article-snippet__datetime-published\"><time datetime=\"2021-08-18T14:07:50.000Z\" title=\"2021-08-18, 17:07\">сегодня в 17:07</time></span></div><!-- --></div><h2 class=\"tm-article-snippet__title tm-article-snippet__title_h2\"><a class=\"tm-article-snippet__title-link\" data-article-link=\"\" href=\"/ru/post/573564/\"><span>Компьютерная фотография для фотолюбителя на примере Gigapixel AI</span></a></h2><div class=\"tm-article-snippet__hubs\"><span class=\"tm-article-snippet__hubs-item\"><a class=\"tm-article-snippet__hubs-item-link\" href=\"/ru/hub/popular_science/\"><span>Научно-популярное</span><!-- --></a></span><span class=\"tm-article-snippet__hubs-item\"><a class=\"tm-article-snippet__hubs-item-link\" href=\"/ru/hub/artificial_intelligence/\"><span>Искусственный интеллект</span><!-- --></a></span><span class=\"tm-article-snippet__hubs-item\"><a class=\"tm-article-snippet__hubs-item-link\" href=\"/ru/hub/photo/\"><span>Фототехника</span><!-- --></a></span></div><div class=\"tm-article-snippet__labels\"><div class=\"tm-article-snippet__label\"><span>\n",
       "          Tutorial\n",
       "        </span></div></div><!-- --><div class=\"tm-article-body tm-article-snippet__lead\">\n",
       "<div class=\"tm-article-snippet__cover tm-article-snippet__cover_cover\"><img class=\"tm-article-snippet__lead-image\" src=\"https://habrastorage.org/getpro/habr/upload_files/9c4/afe/1ae/9c4afe1ae0148708805d2089673ce763.jpg\" style=\"object-position:0% 0%;\"/></div><div class=\"article-formatted-body article-formatted-body_version-2\"><p>В статье на конкретном примере проиллюстрировано использование программы для улучшения фотографий на основе нейросетей. Надеюсь, будет полезна как обладателям фотокамер, так и снимающим на смартфон.</p></div><a class=\"tm-article-snippet__readmore\" href=\"/ru/post/573564/\"><span>Читать далее</span></a></div></div><div class=\"tm-data-icons\"><!-- --><div class=\"tm-votes-meter tm-data-icons__item\"><svg class=\"tm-svg-img tm-votes-meter__icon tm-votes-meter__icon_small\" height=\"16\" width=\"16\"><title>Всего голосов 3: ↑2 и ↓1</title><use xlink:href=\"/img/megazord-v24.cee85629.svg#counter-rating\"></use></svg><span class=\"tm-votes-meter__value tm-votes-meter__value_positive tm-votes-meter__value_small\" title=\"Всего голосов 3: ↑2 и ↓1\">+1</span></div><span class=\"tm-icon-counter tm-data-icons__item\" title=\"Количество просмотров\"><svg class=\"tm-svg-img tm-icon-counter__icon\" height=\"16\" width=\"16\"><title>Просмотры</title><use xlink:href=\"/img/megazord-v24.cee85629.svg#counter-views\"></use></svg><span class=\"tm-icon-counter__value\">1.2K</span></span><button class=\"bookmarks-button tm-data-icons__item\" title=\"Добавить в закладки\" type=\"button\"><span class=\"tm-svg-icon__wrapper bookmarks-button__icon\" title=\"Добавить в закладки\"><svg class=\"tm-svg-img tm-svg-icon\" height=\"16\" width=\"16\"><title>Добавить в закладки</title><use xlink:href=\"/img/megazord-v24.cee85629.svg#counter-favorite\"></use></svg></span><span class=\"bookmarks-button__counter\" title=\"Количество пользователей, добавивших публикацию в закладки\">\n",
       "    8\n",
       "  </span></button><div class=\"tm-article-comments-counter-link tm-data-icons__item\" title=\"Читать комментарии\"><a class=\"tm-article-comments-counter-link__link\" href=\"/ru/post/573564/comments/\"><svg class=\"tm-svg-img tm-article-comments-counter-link__icon\" height=\"16\" width=\"16\"><title>Комментарии</title><use xlink:href=\"/img/megazord-v24.cee85629.svg#counter-comments\"></use></svg><span class=\"tm-article-comments-counter-link__value\">\n",
       "      23\n",
       "    </span></a><!-- --></div><!-- --><div class=\"v-portal\" style=\"display:none;\"></div></div></article><div class=\"tm-articles-list__after-article\"><!-- --></div><!-- --><article class=\"tm-articles-list__item\" data-navigatable=\"\" id=\"573556\" tabindex=\"0\"><div class=\"tm-article-snippet\"><div class=\"tm-article-snippet__meta-container\"><div class=\"tm-article-snippet__meta\"><span class=\"tm-user-info tm-article-snippet__author\"><a class=\"tm-user-info__userpic\" href=\"/ru/users/AnalogBytes/\" title=\"AnalogBytes\"><div class=\"tm-entity-image\"><img alt=\"\" class=\"tm-entity-image__pic\" height=\"24\" loading=\"lazy\" src=\"//habrastorage.org/r/w32/getpro/habr/avatars/48f/a9f/3dc/48fa9f3dcdc760fb33219817dea64f8e.png\" width=\"24\"/></div></a><span class=\"tm-user-info__user\"><a class=\"tm-user-info__username\" href=\"/ru/users/AnalogBytes/\">\n",
       "      AnalogBytes\n",
       "    </a></span></span><span class=\"tm-article-snippet__datetime-published\"><time datetime=\"2021-08-18T13:39:54.000Z\" title=\"2021-08-18, 16:39\">сегодня в 16:39</time></span></div><!-- --></div><h2 class=\"tm-article-snippet__title tm-article-snippet__title_h2\"><a class=\"tm-article-snippet__title-link\" data-article-link=\"\" href=\"/ru/post/573556/\"><span>Россия vs Эстония: сравнение электронных голосований</span></a></h2><div class=\"tm-article-snippet__hubs\"><span class=\"tm-article-snippet__hubs-item\"><a class=\"tm-article-snippet__hubs-item-link\" href=\"/ru/hub/infosecurity/\"><span>Информационная безопасность</span><span class=\"tm-article-snippet__profiled-hub\" title=\"Профильный хаб\">*</span></a></span><span class=\"tm-article-snippet__hubs-item\"><a class=\"tm-article-snippet__hubs-item-link\" href=\"/ru/hub/crypto/\"><span>Криптография</span><span class=\"tm-article-snippet__profiled-hub\" title=\"Профильный хаб\">*</span></a></span></div><div class=\"tm-article-snippet__labels\"><!-- --></div><!-- --><div class=\"tm-article-body tm-article-snippet__lead\">\n",
       "<div class=\"tm-article-snippet__cover tm-article-snippet__cover_cover\"><img class=\"tm-article-snippet__lead-image\" src=\"https://habrastorage.org/getpro/habr/upload_files/f71/397/0f9/f713970f97b0f943c87f442927849d95.jpg\" style=\"object-position:0% 0%;\"/></div><div class=\"article-formatted-body article-formatted-body_version-2\"><p>В последнее время про дистанционные электронные голосования (ДЭГ) говорят много — на сентябрьских выборах ДЭГ будет использоваться в семи регионах, в нём ожидают до 2 млн. избирателей, и Москва уже развернула широкую рекламно-информационную кампанию.</p><p>При этом — по очевидной причине — данная кампания, как и большинство других материалов, направлены на обычного избирателя, и в основном подчёркивает удобство ДЭГ для него. Материалов для IT-специалистов и экспертов по-прежнему, прямо скажем, негусто, а те, что есть — например, <a href=\"https://habr.com/ru/company/rostelecom/blog/519178/\" rel=\"noopener noreferrer nofollow\">в блоге «Ростелекома» на Хабре</a> — наоборот, ударяются в другую крайность, будучи переполненными техническими деталями.</p><p>Начиная с сегодняшнего материала, мы попробуем рассказать про то, как работают российские системы ДЭГ (их две!), пытаясь соблюсти баланс между популярностью изложения и техническими подробностями.</p><p>Стартуем с международного опыта: при разговорах о ДЭГ часто всплывает Эстония, как один из пионеров электронных голосований масштаба государства — там ДЭГ применяется с 2005 года, и применяется успешно.</p><p>Как соотносятся российские и эстонские системы с точки зрения концепции реализации, функционала, надёжности в контексте голосования? Изучить этот вопрос мы попросили нашего эксперта <strong>Андрея Филиппова</strong>, так что под катом — его текст.</p></div><a class=\"tm-article-snippet__readmore\" href=\"/ru/post/573556/\"><span>Читать далее</span></a></div></div><div class=\"tm-data-icons\"><!-- --><div class=\"tm-votes-meter tm-data-icons__item\"><svg class=\"tm-svg-img tm-votes-meter__icon tm-votes-meter__icon_small\" height=\"16\" width=\"16\"><title>Всего голосов 13: ↑11 и ↓2</title><use xlink:href=\"/img/megazord-v24.cee85629.svg#counter-rating\"></use></svg><span class=\"tm-votes-meter__value tm-votes-meter__value_positive tm-votes-meter__value_small\" title=\"Всего голосов 13: ↑11 и ↓2\">+9</span></div><span class=\"tm-icon-counter tm-data-icons__item\" title=\"Количество просмотров\"><svg class=\"tm-svg-img tm-icon-counter__icon\" height=\"16\" width=\"16\"><title>Просмотры</title><use xlink:href=\"/img/megazord-v24.cee85629.svg#counter-views\"></use></svg><span class=\"tm-icon-counter__value\">1.5K</span></span><button class=\"bookmarks-button tm-data-icons__item\" title=\"Добавить в закладки\" type=\"button\"><span class=\"tm-svg-icon__wrapper bookmarks-button__icon\" title=\"Добавить в закладки\"><svg class=\"tm-svg-img tm-svg-icon\" height=\"16\" width=\"16\"><title>Добавить в закладки</title><use xlink:href=\"/img/megazord-v24.cee85629.svg#counter-favorite\"></use></svg></span><span class=\"bookmarks-button__counter\" title=\"Количество пользователей, добавивших публикацию в закладки\">\n",
       "    11\n",
       "  </span></button><div class=\"tm-article-comments-counter-link tm-data-icons__item\" title=\"Читать комментарии\"><a class=\"tm-article-comments-counter-link__link\" href=\"/ru/post/573556/comments/\"><svg class=\"tm-svg-img tm-article-comments-counter-link__icon\" height=\"16\" width=\"16\"><title>Комментарии</title><use xlink:href=\"/img/megazord-v24.cee85629.svg#counter-comments\"></use></svg><span class=\"tm-article-comments-counter-link__value\">\n",
       "      5\n",
       "    </span></a><!-- --></div><!-- --><div class=\"v-portal\" style=\"display:none;\"></div></div></article><div class=\"tm-articles-list__after-article\"><!-- --></div><!-- --><article class=\"tm-articles-list__item\" data-navigatable=\"\" id=\"573552\" tabindex=\"0\"><div class=\"tm-article-snippet\"><div class=\"tm-article-snippet__meta-container\"><div class=\"tm-article-snippet__meta\"><span class=\"tm-user-info tm-article-snippet__author\"><a class=\"tm-user-info__userpic\" href=\"/ru/users/Demschwarz/\" title=\"Demschwarz\"><div class=\"tm-entity-image\"><svg class=\"tm-svg-img tm-image-placeholder tm-image-placeholder_blue\" height=\"24\" width=\"24\"><!-- --><use xlink:href=\"/img/megazord-v24.cee85629.svg#placeholder-user\"></use></svg></div></a><span class=\"tm-user-info__user\"><a class=\"tm-user-info__username\" href=\"/ru/users/Demschwarz/\">\n",
       "      Demschwarz\n",
       "    </a></span></span><span class=\"tm-article-snippet__datetime-published\"><time datetime=\"2021-08-18T13:18:52.000Z\" title=\"2021-08-18, 16:18\">сегодня в 16:18</time></span></div><!-- --></div><h2 class=\"tm-article-snippet__title tm-article-snippet__title_h2\"><a class=\"tm-article-snippet__title-link\" data-article-link=\"\" href=\"/ru/post/573552/\"><span>Как я запускал классификацию изображений на домашнем кластере Apache Ignite ML</span></a></h2><div class=\"tm-article-snippet__hubs\"><span class=\"tm-article-snippet__hubs-item\"><a class=\"tm-article-snippet__hubs-item-link\" href=\"/ru/hub/java/\"><span>Java</span><span class=\"tm-article-snippet__profiled-hub\" title=\"Профильный хаб\">*</span></a></span><span class=\"tm-article-snippet__hubs-item\"><a class=\"tm-article-snippet__hubs-item-link\" href=\"/ru/hub/apache/\"><span>Apache</span><span class=\"tm-article-snippet__profiled-hub\" title=\"Профильный хаб\">*</span></a></span><span class=\"tm-article-snippet__hubs-item\"><a class=\"tm-article-snippet__hubs-item-link\" href=\"/ru/hub/machine_learning/\"><span>Машинное обучение</span><span class=\"tm-article-snippet__profiled-hub\" title=\"Профильный хаб\">*</span></a></span></div><div class=\"tm-article-snippet__labels\"><div class=\"tm-article-snippet__label\"><span>\n",
       "          Из песочницы\n",
       "        </span></div></div><!-- --><div class=\"tm-article-body tm-article-snippet__lead\">\n",
       "<div class=\"tm-article-snippet__cover tm-article-snippet__cover_cover\"><img class=\"tm-article-snippet__lead-image\" src=\"https://habrastorage.org/getpro/habr/upload_files/d9e/ab4/ae5/d9eab4ae5a2954cfe8414370f4ab6a9b.jpg\" style=\"object-position:0% 0%;\"/></div><div class=\"article-formatted-body article-formatted-body_version-2\"><p>Я - студент университета, знаком с машинным обучением в рамках пройденного курса, есть интерес к современным кластерным технологиям, конкретно - к Apache Ignite. Под катом — история о том, как я запускал пример <code>OneVsRestClassificationExample</code> из дистрибутива.</p></div><a class=\"tm-article-snippet__readmore\" href=\"/ru/post/573552/\"><span>Читать далее</span></a></div></div><div class=\"tm-data-icons\"><!-- --><div class=\"tm-votes-meter tm-data-icons__item\"><svg class=\"tm-svg-img tm-votes-meter__icon tm-votes-meter__icon_small\" height=\"16\" width=\"16\"><title>Всего голосов 2: ↑2 и ↓0</title><use xlink:href=\"/img/megazord-v24.cee85629.svg#counter-rating\"></use></svg><span class=\"tm-votes-meter__value tm-votes-meter__value_positive tm-votes-meter__value_small\" title=\"Всего голосов 2: ↑2 и ↓0\">+2</span></div><span class=\"tm-icon-counter tm-data-icons__item\" title=\"Количество просмотров\"><svg class=\"tm-svg-img tm-icon-counter__icon\" height=\"16\" width=\"16\"><title>Просмотры</title><use xlink:href=\"/img/megazord-v24.cee85629.svg#counter-views\"></use></svg><span class=\"tm-icon-counter__value\">671</span></span><button class=\"bookmarks-button tm-data-icons__item\" title=\"Добавить в закладки\" type=\"button\"><span class=\"tm-svg-icon__wrapper bookmarks-button__icon\" title=\"Добавить в закладки\"><svg class=\"tm-svg-img tm-svg-icon\" height=\"16\" width=\"16\"><title>Добавить в закладки</title><use xlink:href=\"/img/megazord-v24.cee85629.svg#counter-favorite\"></use></svg></span><span class=\"bookmarks-button__counter\" title=\"Количество пользователей, добавивших публикацию в закладки\">\n",
       "    9\n",
       "  </span></button><div class=\"tm-article-comments-counter-link tm-data-icons__item\" title=\"Читать комментарии\"><a class=\"tm-article-comments-counter-link__link\" href=\"/ru/post/573552/comments/\"><svg class=\"tm-svg-img tm-article-comments-counter-link__icon\" height=\"16\" width=\"16\"><title>Комментарии</title><use xlink:href=\"/img/megazord-v24.cee85629.svg#counter-comments\"></use></svg><span class=\"tm-article-comments-counter-link__value\">\n",
       "      0\n",
       "    </span></a><!-- --></div><!-- --><div class=\"v-portal\" style=\"display:none;\"></div></div></article><div class=\"tm-articles-list__after-article\"><div class=\"tm-article-feed-blocks\"><!-- --></div></div><!-- --><article class=\"tm-articles-list__item\" data-navigatable=\"\" id=\"570778\" tabindex=\"0\"><div class=\"tm-article-snippet\"><div class=\"tm-article-snippet__meta-container\"><div class=\"tm-article-snippet__meta\"><span class=\"tm-user-info tm-article-snippet__author\"><a class=\"tm-user-info__userpic\" href=\"/ru/users/TinyElectronicFriends/\" title=\"TinyElectronicFriends\"><div class=\"tm-entity-image\"><img alt=\"\" class=\"tm-entity-image__pic\" height=\"24\" loading=\"lazy\" src=\"//habrastorage.org/r/w32/getpro/habr/avatars/a66/a42/f33/a66a42f3318aca789139e414ab656b41.png\" width=\"24\"/></div></a><span class=\"tm-user-info__user\"><a class=\"tm-user-info__username\" href=\"/ru/users/TinyElectronicFriends/\">\n",
       "      TinyElectronicFriends\n",
       "    </a></span></span><span class=\"tm-article-snippet__datetime-published\"><time datetime=\"2021-08-18T13:00:02.000Z\" title=\"2021-08-18, 16:00\">сегодня в 16:00</time></span></div><!-- --></div><h2 class=\"tm-article-snippet__title tm-article-snippet__title_h2\"><a class=\"tm-article-snippet__title-link\" data-article-link=\"\" href=\"/ru/company/ruvds/blog/570778/\"><span>«Народный» тестер аккумуляторов Konnwei KW600: подробный обзор с историей обновлений</span></a></h2><div class=\"tm-article-snippet__hubs\"><span class=\"tm-article-snippet__hubs-item\"><a class=\"tm-article-snippet__hubs-item-link\" href=\"/ru/company/ruvds/blog/\"><span>Блог компании RUVDS.com</span><!-- --></a></span><span class=\"tm-article-snippet__hubs-item\"><a class=\"tm-article-snippet__hubs-item-link\" href=\"/ru/hub/energy/\"><span>Энергия и элементы питания</span><!-- --></a></span><span class=\"tm-article-snippet__hubs-item\"><a class=\"tm-article-snippet__hubs-item-link\" href=\"/ru/hub/autogadgets/\"><span>Автомобильные гаджеты</span><!-- --></a></span><span class=\"tm-article-snippet__hubs-item\"><a class=\"tm-article-snippet__hubs-item-link\" href=\"/ru/hub/transport/\"><span>Транспорт</span><!-- --></a></span></div><div class=\"tm-article-snippet__labels\"><!-- --></div><!-- --><div class=\"tm-article-body tm-article-snippet__lead\">\n",
       "<!-- --><div class=\"article-formatted-body article-formatted-body_version-1\"><a href=\"https://habr.com/ru/company/ruvds/blog/570778/\"><div style=\"text-align:center;\"><img src=\"https://habrastorage.org/webt/su/po/cr/supocrt5ier4uhwfhmpy9ftqtey.png\"/></div></a><br/>\n",
       "Привет, Хабр! Когда видим или слышим словосочетание «тестер автомобильных аккумуляторных батарей» (АКБ), на ум приходит карманное устройство с двумя крокодилами и маленьким монохромным экранчиком, измеряющее параметры аккумулятора за несколько томительных секунд. Но уже существуют и доступны более продвинутые приборы, широко известные в узких кругах автомобилистов.<br/></div><a class=\"tm-article-snippet__readmore\" href=\"/ru/company/ruvds/blog/570778/\"><span>Читать дальше →</span></a></div></div><div class=\"tm-data-icons\"><!-- --><div class=\"tm-votes-meter tm-data-icons__item\"><svg class=\"tm-svg-img tm-votes-meter__icon tm-votes-meter__icon_small\" height=\"16\" width=\"16\"><title>Всего голосов 20: ↑20 и ↓0</title><use xlink:href=\"/img/megazord-v24.cee85629.svg#counter-rating\"></use></svg><span class=\"tm-votes-meter__value tm-votes-meter__value_positive tm-votes-meter__value_small\" title=\"Всего голосов 20: ↑20 и ↓0\">+20</span></div><span class=\"tm-icon-counter tm-data-icons__item\" title=\"Количество просмотров\"><svg class=\"tm-svg-img tm-icon-counter__icon\" height=\"16\" width=\"16\"><title>Просмотры</title><use xlink:href=\"/img/megazord-v24.cee85629.svg#counter-views\"></use></svg><span class=\"tm-icon-counter__value\">1.2K</span></span><button class=\"bookmarks-button tm-data-icons__item\" title=\"Добавить в закладки\" type=\"button\"><span class=\"tm-svg-icon__wrapper bookmarks-button__icon\" title=\"Добавить в закладки\"><svg class=\"tm-svg-img tm-svg-icon\" height=\"16\" width=\"16\"><title>Добавить в закладки</title><use xlink:href=\"/img/megazord-v24.cee85629.svg#counter-favorite\"></use></svg></span><span class=\"bookmarks-button__counter\" title=\"Количество пользователей, добавивших публикацию в закладки\">\n",
       "    16\n",
       "  </span></button><div class=\"tm-article-comments-counter-link tm-data-icons__item\" title=\"Читать комментарии\"><a class=\"tm-article-comments-counter-link__link\" href=\"/ru/company/ruvds/blog/570778/comments/\"><svg class=\"tm-svg-img tm-article-comments-counter-link__icon\" height=\"16\" width=\"16\"><title>Комментарии</title><use xlink:href=\"/img/megazord-v24.cee85629.svg#counter-comments\"></use></svg><span class=\"tm-article-comments-counter-link__value\">\n",
       "      5\n",
       "    </span></a><!-- --></div><!-- --><div class=\"v-portal\" style=\"display:none;\"></div></div></article><div class=\"tm-articles-list__after-article\"><!-- --></div><!-- --><article class=\"tm-articles-list__item\" data-navigatable=\"\" id=\"573540\" tabindex=\"0\"><div class=\"tm-article-snippet\"><div class=\"tm-article-snippet__meta-container\"><div class=\"tm-article-snippet__meta\"><span class=\"tm-user-info tm-article-snippet__author\"><a class=\"tm-user-info__userpic\" href=\"/ru/users/ARG89/\" title=\"ARG89\"><div class=\"tm-entity-image\"><img alt=\"\" class=\"tm-entity-image__pic\" height=\"24\" loading=\"lazy\" src=\"//habrastorage.org/r/w32/getpro/habr/avatars/1ec/952/bec/1ec952bec6aca5cc1f87ff12fc4329b7.jpg\" width=\"24\"/></div></a><span class=\"tm-user-info__user\"><a class=\"tm-user-info__username\" href=\"/ru/users/ARG89/\">\n",
       "      ARG89\n",
       "    </a></span></span><span class=\"tm-article-snippet__datetime-published\"><time datetime=\"2021-08-18T12:52:06.000Z\" title=\"2021-08-18, 15:52\">сегодня в 15:52</time></span></div><!-- --></div><h2 class=\"tm-article-snippet__title tm-article-snippet__title_h2\"><a class=\"tm-article-snippet__title-link\" data-article-link=\"\" href=\"/ru/post/573540/\"><span>5 инструментов для удаленной команды Automation QA</span></a></h2><div class=\"tm-article-snippet__hubs\"><span class=\"tm-article-snippet__hubs-item\"><a class=\"tm-article-snippet__hubs-item-link\" href=\"/ru/hub/it_testing/\"><span>Тестирование IT-систем</span><span class=\"tm-article-snippet__profiled-hub\" title=\"Профильный хаб\">*</span></a></span><span class=\"tm-article-snippet__hubs-item\"><a class=\"tm-article-snippet__hubs-item-link\" href=\"/ru/hub/web_testing/\"><span>Тестирование веб-сервисов</span><span class=\"tm-article-snippet__profiled-hub\" title=\"Профильный хаб\">*</span></a></span><span class=\"tm-article-snippet__hubs-item\"><a class=\"tm-article-snippet__hubs-item-link\" href=\"/ru/hub/mobile_testing/\"><span>Тестирование мобильных приложений</span><span class=\"tm-article-snippet__profiled-hub\" title=\"Профильный хаб\">*</span></a></span><span class=\"tm-article-snippet__hubs-item\"><a class=\"tm-article-snippet__hubs-item-link\" href=\"/ru/hub/devops/\"><span>DevOps</span><span class=\"tm-article-snippet__profiled-hub\" title=\"Профильный хаб\">*</span></a></span></div><div class=\"tm-article-snippet__labels\"><div class=\"tm-article-snippet__label\"><span>\n",
       "          Перевод\n",
       "        </span></div></div><!-- --><div class=\"tm-article-body tm-article-snippet__lead\">\n",
       "<div class=\"tm-article-snippet__cover tm-article-snippet__cover_cover\"><img class=\"tm-article-snippet__lead-image\" src=\"https://habrastorage.org/getpro/habr/upload_files/030/a4a/50b/030a4a50ba54f5e2f674a35f4929bbce.jpeg\" style=\"object-position:0% 0%;\"/></div><div class=\"article-formatted-body article-formatted-body_version-2\"><p>Кому-то этот пост покажется запоздавшим, кому-то — очевидным. Однако общаясь с коллегами из QA-сообщества я продолжаю сталкиваться с тем, что удаленная работа вызывает кучу неудобств: количество чатов в мессенджерах зашкаливает, нельзя прийти ногами и объяснить все на пальцах или в деталях передать особенности окружения для воспроизведения бага, — хотя все уже давно было создано и внедрено.</p><p>За последний год появилось куча новых тулов с прицелом на удаленку, но стоит ли бежать и смотреть их, когда есть старые добрые инструменты? В этой короткой подборке я постарался собрать несколько тулов, которые помогут тестировщикам и тестировщицам облегчить работу с коллегами по цеху, опсами и разработчиками.</p><p><strong>ДИСКЛЕЙМЕР: На самом деле у каждого инструмента есть как минимум по несколько альтернатив, выбор из которых может привести к знатному холивару. Если у вас есть свои соображения на тему \"автор дурак, надо было брать не Х, а Y\", приходите в комментарии!</strong></p></div><a class=\"tm-article-snippet__readmore\" href=\"/ru/post/573540/\"><span>Читать далее</span></a></div></div><div class=\"tm-data-icons\"><!-- --><div class=\"tm-votes-meter tm-data-icons__item\"><svg class=\"tm-svg-img tm-votes-meter__icon tm-votes-meter__icon_small\" height=\"16\" width=\"16\"><title>Всего голосов 12: ↑10 и ↓2</title><use xlink:href=\"/img/megazord-v24.cee85629.svg#counter-rating\"></use></svg><span class=\"tm-votes-meter__value tm-votes-meter__value_positive tm-votes-meter__value_small\" title=\"Всего голосов 12: ↑10 и ↓2\">+8</span></div><span class=\"tm-icon-counter tm-data-icons__item\" title=\"Количество просмотров\"><svg class=\"tm-svg-img tm-icon-counter__icon\" height=\"16\" width=\"16\"><title>Просмотры</title><use xlink:href=\"/img/megazord-v24.cee85629.svg#counter-views\"></use></svg><span class=\"tm-icon-counter__value\">813</span></span><button class=\"bookmarks-button tm-data-icons__item\" title=\"Добавить в закладки\" type=\"button\"><span class=\"tm-svg-icon__wrapper bookmarks-button__icon\" title=\"Добавить в закладки\"><svg class=\"tm-svg-img tm-svg-icon\" height=\"16\" width=\"16\"><title>Добавить в закладки</title><use xlink:href=\"/img/megazord-v24.cee85629.svg#counter-favorite\"></use></svg></span><span class=\"bookmarks-button__counter\" title=\"Количество пользователей, добавивших публикацию в закладки\">\n",
       "    15\n",
       "  </span></button><div class=\"tm-article-comments-counter-link tm-data-icons__item\" title=\"Читать комментарии\"><a class=\"tm-article-comments-counter-link__link\" href=\"/ru/post/573540/comments/\"><svg class=\"tm-svg-img tm-article-comments-counter-link__icon\" height=\"16\" width=\"16\"><title>Комментарии</title><use xlink:href=\"/img/megazord-v24.cee85629.svg#counter-comments\"></use></svg><span class=\"tm-article-comments-counter-link__value\">\n",
       "      1\n",
       "    </span></a><!-- --></div><!-- --><div class=\"v-portal\" style=\"display:none;\"></div></div></article><div class=\"tm-articles-list__after-article\"><!-- --></div><!-- --><article class=\"tm-articles-list__item\" data-navigatable=\"\" id=\"571096\" tabindex=\"0\"><div class=\"tm-article-snippet\"><div class=\"tm-article-snippet__meta-container\"><div class=\"tm-article-snippet__meta\"><span class=\"tm-user-info tm-article-snippet__author\"><a class=\"tm-user-info__userpic\" href=\"/ru/users/dvlunin/\" title=\"dvlunin\"><div class=\"tm-entity-image\"><svg class=\"tm-svg-img tm-image-placeholder tm-image-placeholder_blue\" height=\"24\" width=\"24\"><!-- --><use xlink:href=\"/img/megazord-v24.cee85629.svg#placeholder-user\"></use></svg></div></a><span class=\"tm-user-info__user\"><a class=\"tm-user-info__username\" href=\"/ru/users/dvlunin/\">\n",
       "      dvlunin\n",
       "    </a></span></span><span class=\"tm-article-snippet__datetime-published\"><time datetime=\"2021-08-18T12:35:27.000Z\" title=\"2021-08-18, 15:35\">сегодня в 15:35</time></span></div><!-- --></div><h2 class=\"tm-article-snippet__title tm-article-snippet__title_h2\"><a class=\"tm-article-snippet__title-link\" data-article-link=\"\" href=\"/ru/company/avito/blog/571096/\"><span>Как улучшить ваши A/B-тесты: лайфхаки аналитиков Авито. Часть 2</span></a></h2><div class=\"tm-article-snippet__hubs\"><span class=\"tm-article-snippet__hubs-item\"><a class=\"tm-article-snippet__hubs-item-link\" href=\"/ru/company/avito/blog/\"><span>Блог компании Авито</span><!-- --></a></span><span class=\"tm-article-snippet__hubs-item\"><a class=\"tm-article-snippet__hubs-item-link\" href=\"/ru/hub/mobileanalytics/\"><span>Аналитика мобильных приложений</span><span class=\"tm-article-snippet__profiled-hub\" title=\"Профильный хаб\">*</span></a></span><span class=\"tm-article-snippet__hubs-item\"><a class=\"tm-article-snippet__hubs-item-link\" href=\"/ru/hub/productpm/\"><span>Управление продуктом</span><span class=\"tm-article-snippet__profiled-hub\" title=\"Профильный хаб\">*</span></a></span></div><div class=\"tm-article-snippet__labels\"><!-- --></div><!-- --><div class=\"tm-article-body tm-article-snippet__lead\">\n",
       "<div class=\"tm-article-snippet__cover tm-article-snippet__cover_cover\"><img class=\"tm-article-snippet__lead-image\" src=\"https://habrastorage.org/getpro/habr/upload_files/829/a36/036/829a360365657c4dbf43100fa7d6bd2c.png\" style=\"object-position:0% 0%;\"/></div><div class=\"article-formatted-body article-formatted-body_version-2\"><p>Это вторая часть статьи о том, как улучшить A/B-тесты. Здесь я подробно остановлюсь на методах увеличения мощности: поговорим про CUPED, бутстрап-критерии, стратификацию и парную стратификацию.</p></div><a class=\"tm-article-snippet__readmore\" href=\"/ru/company/avito/blog/571096/\"><span>Читать далее</span></a></div></div><div class=\"tm-data-icons\"><!-- --><div class=\"tm-votes-meter tm-data-icons__item\"><svg class=\"tm-svg-img tm-votes-meter__icon tm-votes-meter__icon_small\" height=\"16\" width=\"16\"><title>Всего голосов 4: ↑4 и ↓0</title><use xlink:href=\"/img/megazord-v24.cee85629.svg#counter-rating\"></use></svg><span class=\"tm-votes-meter__value tm-votes-meter__value_positive tm-votes-meter__value_small\" title=\"Всего голосов 4: ↑4 и ↓0\">+4</span></div><span class=\"tm-icon-counter tm-data-icons__item\" title=\"Количество просмотров\"><svg class=\"tm-svg-img tm-icon-counter__icon\" height=\"16\" width=\"16\"><title>Просмотры</title><use xlink:href=\"/img/megazord-v24.cee85629.svg#counter-views\"></use></svg><span class=\"tm-icon-counter__value\">608</span></span><button class=\"bookmarks-button tm-data-icons__item\" title=\"Добавить в закладки\" type=\"button\"><span class=\"tm-svg-icon__wrapper bookmarks-button__icon\" title=\"Добавить в закладки\"><svg class=\"tm-svg-img tm-svg-icon\" height=\"16\" width=\"16\"><title>Добавить в закладки</title><use xlink:href=\"/img/megazord-v24.cee85629.svg#counter-favorite\"></use></svg></span><span class=\"bookmarks-button__counter\" title=\"Количество пользователей, добавивших публикацию в закладки\">\n",
       "    7\n",
       "  </span></button><div class=\"tm-article-comments-counter-link tm-data-icons__item\" title=\"Читать комментарии\"><a class=\"tm-article-comments-counter-link__link\" href=\"/ru/company/avito/blog/571096/comments/\"><svg class=\"tm-svg-img tm-article-comments-counter-link__icon\" height=\"16\" width=\"16\"><title>Комментарии</title><use xlink:href=\"/img/megazord-v24.cee85629.svg#counter-comments\"></use></svg><span class=\"tm-article-comments-counter-link__value\">\n",
       "      0\n",
       "    </span></a><!-- --></div><!-- --><div class=\"v-portal\" style=\"display:none;\"></div></div></article><div class=\"tm-articles-list__after-article\"><div class=\"tm-article-feed-blocks\"><!-- --></div></div><!-- --><article class=\"tm-articles-list__item\" data-navigatable=\"\" id=\"573538\" tabindex=\"0\"><div class=\"tm-article-snippet\"><div class=\"tm-article-snippet__meta-container\"><div class=\"tm-article-snippet__meta\"><span class=\"tm-user-info tm-article-snippet__author\"><a class=\"tm-user-info__userpic\" href=\"/ru/users/ASenterprise/\" title=\"ASenterprise\"><div class=\"tm-entity-image\"><img alt=\"\" class=\"tm-entity-image__pic\" height=\"24\" loading=\"lazy\" src=\"//habrastorage.org/r/w32/getpro/habr/avatars/41b/eb8/c40/41beb8c40ae48201c023a76707bbeb13.jpg\" width=\"24\"/></div></a><span class=\"tm-user-info__user\"><a class=\"tm-user-info__username\" href=\"/ru/users/ASenterprise/\">\n",
       "      ASenterprise\n",
       "    </a></span></span><span class=\"tm-article-snippet__datetime-published\"><time datetime=\"2021-08-18T12:33:37.000Z\" title=\"2021-08-18, 15:33\">сегодня в 15:33</time></span></div><!-- --></div><h2 class=\"tm-article-snippet__title tm-article-snippet__title_h2\"><a class=\"tm-article-snippet__title-link\" data-article-link=\"\" href=\"/ru/post/573538/\"><span>Эра электромобилей или эра мертвых батарей?</span></a></h2><div class=\"tm-article-snippet__hubs\"><span class=\"tm-article-snippet__hubs-item\"><a class=\"tm-article-snippet__hubs-item-link\" href=\"/ru/hub/social_networks/\"><span>Социальные сети и сообщества</span><!-- --></a></span><span class=\"tm-article-snippet__hubs-item\"><a class=\"tm-article-snippet__hubs-item-link\" href=\"/ru/hub/transport/\"><span>Транспорт</span><!-- --></a></span><span class=\"tm-article-snippet__hubs-item\"><a class=\"tm-article-snippet__hubs-item-link\" href=\"/ru/hub/Ecology/\"><span>Экология</span><!-- --></a></span><span class=\"tm-article-snippet__hubs-item\"><a class=\"tm-article-snippet__hubs-item-link\" href=\"/ru/hub/urban/\"><span>Урбанизм</span><!-- --></a></span></div><div class=\"tm-article-snippet__labels\"><!-- --></div><!-- --><div class=\"tm-article-body tm-article-snippet__lead\">\n",
       "<div class=\"tm-article-snippet__cover tm-article-snippet__cover_cover\"><img class=\"tm-article-snippet__lead-image\" src=\"https://habrastorage.org/getpro/habr/upload_files/113/f18/b9a/113f18b9a73cff7b75ec53dad87847ce.jpg\" style=\"object-position:0% 0%;\"/></div><div class=\"article-formatted-body article-formatted-body_version-2\"><p>Если проанализировать существующий поток новостей об автомобильном мире можно отметить, что уже никто не испытывает сомнений в том, что в скором времени мы все с вами будем ездить на полностью электрических автомобиля.</p><p>Европейские правительства заверяют, что к середине столетия полностью откажутся от использования двигателей внутреннего сгорания в своих странах. Знаменитые автоконцерны, вторят им, что в ближайшее время полностью переориентируют производство на электромобили. </p><p>Все действия по переходу на электромобили подаются под соусом заботы об экологии.</p><p>Однако, эта замечательная “зеленая” повестка мало затрагивает вопрос утилизации отработанных батарей. В принципе, до недавнего времени я считал этот вопрос неразрешимым, а точнее решаться он будет только тогда, когда весь мир, в добавок к горам пластика, заполнят отработанные батареи размером со столешницу кухонного стола или даже больше. И только тогда медиа обратит внимание на эту проблему.</p><p>Но тем не менее, не теряя веру в здравомыслие человечества, я решил посмотреть, что пишет по этому вопросу англоязычная пресса и предлагаю вашему вниманию некоторый анализ найденной информации.</p></div><a class=\"tm-article-snippet__readmore\" href=\"/ru/post/573538/\"><span>Читать далее</span></a></div></div><div class=\"tm-data-icons\"><!-- --><div class=\"tm-votes-meter tm-data-icons__item\"><svg class=\"tm-svg-img tm-votes-meter__icon tm-votes-meter__icon_small\" height=\"16\" width=\"16\"><title>Всего голосов 19: ↑13 и ↓6</title><use xlink:href=\"/img/megazord-v24.cee85629.svg#counter-rating\"></use></svg><span class=\"tm-votes-meter__value tm-votes-meter__value_positive tm-votes-meter__value_small\" title=\"Всего голосов 19: ↑13 и ↓6\">+7</span></div><span class=\"tm-icon-counter tm-data-icons__item\" title=\"Количество просмотров\"><svg class=\"tm-svg-img tm-icon-counter__icon\" height=\"16\" width=\"16\"><title>Просмотры</title><use xlink:href=\"/img/megazord-v24.cee85629.svg#counter-views\"></use></svg><span class=\"tm-icon-counter__value\">6.8K</span></span><button class=\"bookmarks-button tm-data-icons__item\" title=\"Добавить в закладки\" type=\"button\"><span class=\"tm-svg-icon__wrapper bookmarks-button__icon\" title=\"Добавить в закладки\"><svg class=\"tm-svg-img tm-svg-icon\" height=\"16\" width=\"16\"><title>Добавить в закладки</title><use xlink:href=\"/img/megazord-v24.cee85629.svg#counter-favorite\"></use></svg></span><span class=\"bookmarks-button__counter\" title=\"Количество пользователей, добавивших публикацию в закладки\">\n",
       "    16\n",
       "  </span></button><div class=\"tm-article-comments-counter-link tm-data-icons__item\" title=\"Читать комментарии\"><a class=\"tm-article-comments-counter-link__link\" href=\"/ru/post/573538/comments/\"><svg class=\"tm-svg-img tm-article-comments-counter-link__icon\" height=\"16\" width=\"16\"><title>Комментарии</title><use xlink:href=\"/img/megazord-v24.cee85629.svg#counter-comments\"></use></svg><span class=\"tm-article-comments-counter-link__value\">\n",
       "      121\n",
       "    </span></a><!-- --></div><!-- --><div class=\"v-portal\" style=\"display:none;\"></div></div></article><div class=\"tm-articles-list__after-article\"><!-- --></div><!-- --><article class=\"tm-articles-list__item\" data-navigatable=\"\" id=\"573536\" tabindex=\"0\"><div class=\"tm-article-snippet\"><div class=\"tm-article-snippet__meta-container\"><div class=\"tm-article-snippet__meta\"><span class=\"tm-user-info tm-article-snippet__author\"><a class=\"tm-user-info__userpic\" href=\"/ru/users/crypter/\" title=\"crypter\"><div class=\"tm-entity-image\"><img alt=\"\" class=\"tm-entity-image__pic\" height=\"24\" loading=\"lazy\" src=\"//habrastorage.org/r/w32/getpro/habr/avatars/f0f/f5d/2c0/f0ff5d2c096fe78830a42f6ef8b75dec.jpg\" width=\"24\"/></div></a><span class=\"tm-user-info__user\"><a class=\"tm-user-info__username\" href=\"/ru/users/crypter/\">\n",
       "      crypter\n",
       "    </a></span></span><span class=\"tm-article-snippet__datetime-published\"><time datetime=\"2021-08-18T12:20:26.000Z\" title=\"2021-08-18, 15:20\">сегодня в 15:20</time></span></div><!-- --></div><h2 class=\"tm-article-snippet__title tm-article-snippet__title_h2\"><a class=\"tm-article-snippet__title-link\" data-article-link=\"\" href=\"/ru/post/573536/\"><span>Токенизация сообществ</span></a></h2><div class=\"tm-article-snippet__hubs\"><span class=\"tm-article-snippet__hubs-item\"><a class=\"tm-article-snippet__hubs-item-link\" href=\"/ru/hub/p2p/\"><span>Децентрализованные сети</span><!-- --></a></span><span class=\"tm-article-snippet__hubs-item\"><a class=\"tm-article-snippet__hubs-item-link\" href=\"/ru/hub/cryptocurrency/\"><span>Криптовалюты</span><!-- --></a></span></div><div class=\"tm-article-snippet__labels\"><!-- --></div><!-- --><div class=\"tm-article-body tm-article-snippet__lead\">\n",
       "<div class=\"tm-article-snippet__cover tm-article-snippet__cover_cover\"><img class=\"tm-article-snippet__lead-image\" src=\"https://habrastorage.org/getpro/habr/upload_files/e4b/0c9/003/e4b0c9003c631722ff9fef52fe2d8e28.jpg\" style=\"object-position:0% 0%;\"/></div><div class=\"article-formatted-body article-formatted-body_version-2\"><p>Токенизировать можно не только коммерческие компании (через ICO) и “цифровое искусство” (<a href=\"https://habr.com/ru/company/timeweb/blog/545620/\" rel=\"noopener noreferrer nofollow\"><u>NFT токены</u></a>) но и онлайн сообщества и их “социальный капитал”. При этом токены сообществ могут быть намного полезнее для их владельцев чем любые другие типы токенов.</p></div><a class=\"tm-article-snippet__readmore\" href=\"/ru/post/573536/\"><span>Читать далее</span></a></div></div><div class=\"tm-data-icons\"><!-- --><div class=\"tm-votes-meter tm-data-icons__item\"><svg class=\"tm-svg-img tm-votes-meter__icon tm-votes-meter__icon_small\" height=\"16\" width=\"16\"><title>Всего голосов 3: ↑3 и ↓0</title><use xlink:href=\"/img/megazord-v24.cee85629.svg#counter-rating\"></use></svg><span class=\"tm-votes-meter__value tm-votes-meter__value_positive tm-votes-meter__value_small\" title=\"Всего голосов 3: ↑3 и ↓0\">+3</span></div><span class=\"tm-icon-counter tm-data-icons__item\" title=\"Количество просмотров\"><svg class=\"tm-svg-img tm-icon-counter__icon\" height=\"16\" width=\"16\"><title>Просмотры</title><use xlink:href=\"/img/megazord-v24.cee85629.svg#counter-views\"></use></svg><span class=\"tm-icon-counter__value\">581</span></span><button class=\"bookmarks-button tm-data-icons__item\" title=\"Добавить в закладки\" type=\"button\"><span class=\"tm-svg-icon__wrapper bookmarks-button__icon\" title=\"Добавить в закладки\"><svg class=\"tm-svg-img tm-svg-icon\" height=\"16\" width=\"16\"><title>Добавить в закладки</title><use xlink:href=\"/img/megazord-v24.cee85629.svg#counter-favorite\"></use></svg></span><span class=\"bookmarks-button__counter\" title=\"Количество пользователей, добавивших публикацию в закладки\">\n",
       "    5\n",
       "  </span></button><div class=\"tm-article-comments-counter-link tm-data-icons__item\" title=\"Читать комментарии\"><a class=\"tm-article-comments-counter-link__link\" href=\"/ru/post/573536/comments/\"><svg class=\"tm-svg-img tm-article-comments-counter-link__icon\" height=\"16\" width=\"16\"><title>Комментарии</title><use xlink:href=\"/img/megazord-v24.cee85629.svg#counter-comments\"></use></svg><span class=\"tm-article-comments-counter-link__value\">\n",
       "      6\n",
       "    </span></a><!-- --></div><!-- --><div class=\"v-portal\" style=\"display:none;\"></div></div></article><div class=\"tm-articles-list__after-article\"><!-- --></div><!-- --><article class=\"tm-articles-list__item\" data-navigatable=\"\" id=\"573534\" tabindex=\"0\"><div class=\"tm-article-snippet\"><div class=\"tm-article-snippet__meta-container\"><div class=\"tm-article-snippet__meta\"><span class=\"tm-user-info tm-article-snippet__author\"><a class=\"tm-user-info__userpic\" href=\"/ru/users/Axelus/\" title=\"Axelus\"><div class=\"tm-entity-image\"><img alt=\"\" class=\"tm-entity-image__pic\" height=\"24\" loading=\"lazy\" src=\"//habrastorage.org/r/w32/getpro/habr/avatars/118/c4f/08f/118c4f08ffa66438ad6be22e205d563d.png\" width=\"24\"/></div></a><span class=\"tm-user-info__user\"><a class=\"tm-user-info__username\" href=\"/ru/users/Axelus/\">\n",
       "      Axelus\n",
       "    </a></span></span><span class=\"tm-article-snippet__datetime-published\"><time datetime=\"2021-08-18T12:16:15.000Z\" title=\"2021-08-18, 15:16\">сегодня в 15:16</time></span></div><!-- --></div><h2 class=\"tm-article-snippet__title tm-article-snippet__title_h2\"><a class=\"tm-article-snippet__title-link\" data-article-link=\"\" href=\"/ru/company/regionsoft/blog/573534/\"><span>CRM: систематизация или автоматизация?</span></a></h2><div class=\"tm-article-snippet__hubs\"><span class=\"tm-article-snippet__hubs-item\"><a class=\"tm-article-snippet__hubs-item-link\" href=\"/ru/company/regionsoft/blog/\"><span>Блог компании RegionSoft</span><!-- --></a></span><span class=\"tm-article-snippet__hubs-item\"><a class=\"tm-article-snippet__hubs-item-link\" href=\"/ru/hub/it-infrastructure/\"><span>IT-инфраструктура</span><span class=\"tm-article-snippet__profiled-hub\" title=\"Профильный хаб\">*</span></a></span><span class=\"tm-article-snippet__hubs-item\"><a class=\"tm-article-snippet__hubs-item-link\" href=\"/ru/hub/crm/\"><span>CRM-системы</span><span class=\"tm-article-snippet__profiled-hub\" title=\"Профильный хаб\">*</span></a></span><span class=\"tm-article-snippet__hubs-item\"><a class=\"tm-article-snippet__hubs-item-link\" href=\"/ru/hub/terminator/\"><span>Терминология IT</span><!-- --></a></span></div><div class=\"tm-article-snippet__labels\"><!-- --></div><!-- --><div class=\"tm-article-body tm-article-snippet__lead\">\n",
       "<div class=\"tm-article-snippet__cover tm-article-snippet__cover_cover\"><img class=\"tm-article-snippet__lead-image\" src=\"https://habrastorage.org/getpro/habr/upload_files/c5e/d77/834/c5ed7783404989239abd33401c854fcd.png\" style=\"object-position:0% 0%;\"/></div><div class=\"article-formatted-body article-formatted-body_version-2\"><p>Вы писали в школе шпаргалки? Наверняка да. Вероятно, замечали, что одни шпоры были монолитным переписыванием учебника, а другие настоящими подсказками: открыл, глазом схватил схемы, списки, пункты и быстро убрал, потому что информация организована идеально. Такие писали те редкие отличники, которые не за уши тянутые и не зубрилки, и крепкие хорошисты с пониманием себя в обучении — это была их страховка, если хотите,  успокоительное. Более того, пока так обрабатываешь, форматируешь и излагаешь информацию, выучиваешь предмет навсегда. Вот это была самая настоящая систематизация.</p><p>А теперь вопрос: стал ли автоматизированным процесс списывания с появлением удобных мобильных телефонов? Как считаете? Формально — да: труд человека минимизирован, информацию передаёт машина, у процесса высокая скорость, задействованы технологии, трудоёмкость операций снижена практически до нуля. Но, с другой стороны, информацию в электронной шпаргалке создал какой-то человек и дальше просто запущен процесс создания безлимитных копий. Получается автоматизация отчасти, да ещё с негативной коннотацией — она лишает человека возможности получить минимальные знания и работает только на целевой «KPI», т.е. оценку. Правда, немного похоже на некоторые формальные офисные процессы, которые направлены на какие-то мнимые цели и ключевые показатели с потолка?  </p><p>Часто дискуссии на Хабре, в социальных сетях, на профильных площадках и в закрытых группах сводятся к обсуждению того, что CRM-система — это не про автоматизацию, потому что она сама за сотрудника работать не может и ему, бедненькому, нужно самому заполнять карточки клиентов с кучей полей, справочники, различные рабочие сущности программы и т.д. Беда да и только — все-то думали, что CRM работать за сотрудников будет, а она даже пальцы не загибает. Ага?</p></div><a class=\"tm-article-snippet__readmore\" href=\"/ru/company/regionsoft/blog/573534/\"><span>Читать далее</span></a></div></div><div class=\"tm-data-icons\"><!-- --><div class=\"tm-votes-meter tm-data-icons__item\"><svg class=\"tm-svg-img tm-votes-meter__icon tm-votes-meter__icon_small\" height=\"16\" width=\"16\"><title>Всего голосов 12: ↑11 и ↓1</title><use xlink:href=\"/img/megazord-v24.cee85629.svg#counter-rating\"></use></svg><span class=\"tm-votes-meter__value tm-votes-meter__value_positive tm-votes-meter__value_small\" title=\"Всего голосов 12: ↑11 и ↓1\">+10</span></div><span class=\"tm-icon-counter tm-data-icons__item\" title=\"Количество просмотров\"><svg class=\"tm-svg-img tm-icon-counter__icon\" height=\"16\" width=\"16\"><title>Просмотры</title><use xlink:href=\"/img/megazord-v24.cee85629.svg#counter-views\"></use></svg><span class=\"tm-icon-counter__value\">668</span></span><button class=\"bookmarks-button tm-data-icons__item\" title=\"Добавить в закладки\" type=\"button\"><span class=\"tm-svg-icon__wrapper bookmarks-button__icon\" title=\"Добавить в закладки\"><svg class=\"tm-svg-img tm-svg-icon\" height=\"16\" width=\"16\"><title>Добавить в закладки</title><use xlink:href=\"/img/megazord-v24.cee85629.svg#counter-favorite\"></use></svg></span><span class=\"bookmarks-button__counter\" title=\"Количество пользователей, добавивших публикацию в закладки\">\n",
       "    4\n",
       "  </span></button><div class=\"tm-article-comments-counter-link tm-data-icons__item\" title=\"Читать комментарии\"><a class=\"tm-article-comments-counter-link__link\" href=\"/ru/company/regionsoft/blog/573534/comments/\"><svg class=\"tm-svg-img tm-article-comments-counter-link__icon\" height=\"16\" width=\"16\"><title>Комментарии</title><use xlink:href=\"/img/megazord-v24.cee85629.svg#counter-comments\"></use></svg><span class=\"tm-article-comments-counter-link__value\">\n",
       "      1\n",
       "    </span></a><!-- --></div><!-- --><div class=\"v-portal\" style=\"display:none;\"></div></div></article><div class=\"tm-articles-list__after-article\"><!-- --></div><!-- --><article class=\"tm-articles-list__item\" data-navigatable=\"\" id=\"573528\" tabindex=\"0\"><div class=\"tm-article-snippet\"><div class=\"tm-article-snippet__meta-container\"><div class=\"tm-article-snippet__meta\"><span class=\"tm-user-info tm-article-snippet__author\"><a class=\"tm-user-info__userpic\" href=\"/ru/users/mxkey/\" title=\"mxkey\"><div class=\"tm-entity-image\"><svg class=\"tm-svg-img tm-image-placeholder tm-image-placeholder_lilac\" height=\"24\" width=\"24\"><!-- --><use xlink:href=\"/img/megazord-v24.cee85629.svg#placeholder-user\"></use></svg></div></a><span class=\"tm-user-info__user\"><a class=\"tm-user-info__username\" href=\"/ru/users/mxkey/\">\n",
       "      mxkey\n",
       "    </a></span></span><span class=\"tm-article-snippet__datetime-published\"><time datetime=\"2021-08-18T11:35:20.000Z\" title=\"2021-08-18, 14:35\">сегодня в 14:35</time></span></div><!-- --></div><h2 class=\"tm-article-snippet__title tm-article-snippet__title_h2\"><a class=\"tm-article-snippet__title-link\" data-article-link=\"\" href=\"/ru/post/573528/\"><span>Сеошка для несеошников</span></a></h2><div class=\"tm-article-snippet__hubs\"><span class=\"tm-article-snippet__hubs-item\"><a class=\"tm-article-snippet__hubs-item-link\" href=\"/ru/hub/seo/\"><span>Поисковая оптимизация</span><!-- --></a></span></div><div class=\"tm-article-snippet__labels\"><div class=\"tm-article-snippet__label\"><span>\n",
       "          Из песочницы\n",
       "        </span></div></div><!-- --><div class=\"tm-article-body tm-article-snippet__lead\">\n",
       "<div class=\"tm-article-snippet__cover tm-article-snippet__cover_cover\"><img class=\"tm-article-snippet__lead-image\" src=\"https://habrastorage.org/getpro/habr/upload_files/346/96b/e24/34696be24bf473948fbb056c03aa3bdd.jpeg\" style=\"object-position:0% 0%;\"/></div><div class=\"article-formatted-body article-formatted-body_version-2\"><p>// Эта статья представляет из себя адаптацию презентации, которую я провел в Govitall. Скринкаст можно посмотреть <a href=\"https://youtu.be/I5oaakDoics\" rel=\"noopener noreferrer nofollow\"><u>тут</u></a>, а сама презентация доступна по <a href=\"https://docs.google.com/presentation/d/1zwVzdIshXZeBCgEt6RsWZw18Ufft2gx6pBM2if_K9sQ/edit#slide=id.p\" rel=\"noopener noreferrer nofollow\"><u>ссылке</u></a>.</p></div><a class=\"tm-article-snippet__readmore\" href=\"/ru/post/573528/\"><span>Читать далее</span></a></div></div><div class=\"tm-data-icons\"><!-- --><div class=\"tm-votes-meter tm-data-icons__item\"><svg class=\"tm-svg-img tm-votes-meter__icon tm-votes-meter__icon_small\" height=\"16\" width=\"16\"><title>Всего голосов 10: ↑3 и ↓7</title><use xlink:href=\"/img/megazord-v24.cee85629.svg#counter-rating\"></use></svg><span class=\"tm-votes-meter__value tm-votes-meter__value_negative tm-votes-meter__value_small\" title=\"Всего голосов 10: ↑3 и ↓7\">-4</span></div><span class=\"tm-icon-counter tm-data-icons__item\" title=\"Количество просмотров\"><svg class=\"tm-svg-img tm-icon-counter__icon\" height=\"16\" width=\"16\"><title>Просмотры</title><use xlink:href=\"/img/megazord-v24.cee85629.svg#counter-views\"></use></svg><span class=\"tm-icon-counter__value\">706</span></span><button class=\"bookmarks-button tm-data-icons__item\" title=\"Добавить в закладки\" type=\"button\"><span class=\"tm-svg-icon__wrapper bookmarks-button__icon\" title=\"Добавить в закладки\"><svg class=\"tm-svg-img tm-svg-icon\" height=\"16\" width=\"16\"><title>Добавить в закладки</title><use xlink:href=\"/img/megazord-v24.cee85629.svg#counter-favorite\"></use></svg></span><span class=\"bookmarks-button__counter\" title=\"Количество пользователей, добавивших публикацию в закладки\">\n",
       "    2\n",
       "  </span></button><div class=\"tm-article-comments-counter-link tm-data-icons__item\" title=\"Читать комментарии\"><a class=\"tm-article-comments-counter-link__link\" href=\"/ru/post/573528/comments/\"><svg class=\"tm-svg-img tm-article-comments-counter-link__icon\" height=\"16\" width=\"16\"><title>Комментарии</title><use xlink:href=\"/img/megazord-v24.cee85629.svg#counter-comments\"></use></svg><span class=\"tm-article-comments-counter-link__value\">\n",
       "      6\n",
       "    </span></a><!-- --></div><!-- --><div class=\"v-portal\" style=\"display:none;\"></div></div></article><div class=\"tm-articles-list__after-article\"><!-- --></div></div><!-- --><div class=\"tm-pagination\"><div class=\"tm-pagination__navigation-link\" data-pagination-prev=\"\" id=\"pagination-prev-page\" rel=\"prev\"><svg class=\"tm-svg-img tm-pagination__arrow tm-pagination__arrow_prev\" height=\"16\" width=\"16\"><title>Назад</title><use xlink:href=\"/img/megazord-v24.cee85629.svg#arrow-back\"></use></svg><span class=\"tm-pagination__navigation-link-title\">\n",
       "      Сюда\n",
       "    </span></div><div class=\"tm-pagination__pages\"><span class=\"tm-pagination__page tm-pagination__page_current\">\n",
       "      1\n",
       "    </span><div class=\"tm-pagination__page-group\"><a class=\"tm-pagination__page\" href=\"/ru/all/page2/\">\n",
       "        2\n",
       "      </a><a class=\"tm-pagination__page\" href=\"/ru/all/page3/\">\n",
       "        3\n",
       "      </a><span class=\"tm-pagination__page tm-pagination__page_skip\">\n",
       "        ...\n",
       "      </span></div><div class=\"tm-pagination__page-group\"><a class=\"tm-pagination__page\" href=\"/ru/all/page49/\">\n",
       "        49\n",
       "      </a><a class=\"tm-pagination__page\" href=\"/ru/all/page50/\">\n",
       "        50\n",
       "      </a><!-- --></div></div><a class=\"tm-pagination__navigation-link tm-pagination__navigation-link_active\" data-pagination-next=\"\" href=\"/ru/all/page2/\" id=\"pagination-next-page\" rel=\"next\"><span class=\"tm-pagination__navigation-link-title\">\n",
       "      Туда\n",
       "    </span><svg class=\"tm-svg-img tm-pagination__arrow tm-pagination__arrow_next\" height=\"16\" width=\"16\"><title>Назад</title><use xlink:href=\"/img/megazord-v24.cee85629.svg#arrow-back\"></use></svg></a></div></div></div></div></div><div class=\"tm-page__sidebar\"><div class=\"tm-layout-sidebar\" data-async-called=\"true\"><div class=\"tm-layout-sidebar__ads tm-layout-sidebar__ads_initial\"><div class=\"tm-ad-banner__container tm-layout-sidebar__banner\"><!-- --><div class=\"tm-ad-banner\" id=\"sidebarBanner\"></div></div></div><div class=\"tm-sexy-sidebar tm-sexy-sidebar_initial\" style=\"margin-top:0px;\"><section class=\"tm-block tm-block_spacing-bottom\"><header class=\"tm-block__header\"><h2 class=\"tm-block__title\">Лучшие блоги</h2><!-- --></header><div class=\"tm-block__body\"><div class=\"tm-companies-rating\"><a class=\"tm-companies-rating__item\" href=\"/ru/company/ruvds/blog/\"><div class=\"tm-entity-image tm-companies-rating__avatar\"><img alt=\"\" class=\"tm-entity-image__pic\" height=\"36\" src=\"//habrastorage.org/getpro/habr/company/f27/ea8/5bd/f27ea85bd62fbd985c308110885af7e0.png\" width=\"36\"/></div><span class=\"tm-companies-rating__name\">RUVDS.com</span><span class=\"tm-companies-rating__rating\">2376.45</span></a><a class=\"tm-companies-rating__item\" href=\"/ru/company/selectel/blog/\"><div class=\"tm-entity-image tm-companies-rating__avatar\"><img alt=\"\" class=\"tm-entity-image__pic\" height=\"36\" src=\"//habrastorage.org/getpro/habr/company/66a/f7d/039/66af7d03979b6d18654293d8f1e72837.png\" width=\"36\"/></div><span class=\"tm-companies-rating__name\">Selectel</span><span class=\"tm-companies-rating__rating\">1540.84</span></a><a class=\"tm-companies-rating__item\" href=\"/ru/company/domclick/blog/\"><div class=\"tm-entity-image tm-companies-rating__avatar\"><img alt=\"\" class=\"tm-entity-image__pic\" height=\"36\" src=\"//habrastorage.org/getpro/habr/company/d28/115/f55/d28115f5503229d4f9018292fabd1840.jpg\" width=\"36\"/></div><span class=\"tm-companies-rating__name\">ДомКлик</span><span class=\"tm-companies-rating__rating\">918.05</span></a><a class=\"tm-companies-rating__item\" href=\"/ru/company/timeweb/blog/\"><div class=\"tm-entity-image tm-companies-rating__avatar\"><img alt=\"\" class=\"tm-entity-image__pic\" height=\"36\" src=\"//habrastorage.org/getpro/habr/company/b5b/7e1/c48/b5b7e1c4819388606f1a3c7ed1d2373a.jpg\" width=\"36\"/></div><span class=\"tm-companies-rating__name\">Timeweb</span><span class=\"tm-companies-rating__rating\">736.61</span></a><a class=\"tm-companies-rating__item\" href=\"/ru/company/tuturu/blog/\"><div class=\"tm-entity-image tm-companies-rating__avatar\"><img alt=\"\" class=\"tm-entity-image__pic\" height=\"36\" src=\"//habrastorage.org/getpro/habr/company/d22/183/e95/d22183e95aa359a4bfa126050940009c.jpg\" width=\"36\"/></div><span class=\"tm-companies-rating__name\">Туту.ру</span><span class=\"tm-companies-rating__rating\">492.09</span></a><a class=\"tm-companies-rating__item\" href=\"/ru/company/oleg-bunin/blog/\"><div class=\"tm-entity-image tm-companies-rating__avatar\"><img alt=\"\" class=\"tm-entity-image__pic\" height=\"36\" src=\"//habrastorage.org/getpro/habr/company/7c3/ad4/7b2/7c3ad47b2aae71b56795f618534e7a51.jpg\" width=\"36\"/></div><span class=\"tm-companies-rating__name\">Конференции Олега Бунина (Онтико)</span><span class=\"tm-companies-rating__rating\">454.31</span></a><a class=\"tm-companies-rating__item\" href=\"/ru/company/itsumma/blog/\"><div class=\"tm-entity-image tm-companies-rating__avatar\"><img alt=\"\" class=\"tm-entity-image__pic\" height=\"36\" src=\"//habrastorage.org/getpro/habr/company/757/81b/db7/75781bdb773986cb1efe18985b74b309.png\" width=\"36\"/></div><span class=\"tm-companies-rating__name\">ITSumma</span><span class=\"tm-companies-rating__rating\">448.03</span></a><a class=\"tm-companies-rating__item\" href=\"/ru/company/pvs-studio/blog/\"><div class=\"tm-entity-image tm-companies-rating__avatar\"><img alt=\"\" class=\"tm-entity-image__pic\" height=\"36\" src=\"//habrastorage.org/getpro/habr/company/95a/244/327/95a244327fc36477b6048c0f8b67df8b.png\" width=\"36\"/></div><span class=\"tm-companies-rating__name\">PVS-Studio</span><span class=\"tm-companies-rating__rating\">415.2</span></a><a class=\"tm-companies-rating__item\" href=\"/ru/company/flant/blog/\"><div class=\"tm-entity-image tm-companies-rating__avatar\"><img alt=\"\" class=\"tm-entity-image__pic\" height=\"36\" src=\"//habrastorage.org/getpro/habr/company/de7/635/363/de763536359ce6e2d2a978f8dded1964.png\" width=\"36\"/></div><span class=\"tm-companies-rating__name\">Флант</span><span class=\"tm-companies-rating__rating\">401.94</span></a><a class=\"tm-companies-rating__item\" href=\"/ru/company/mailru/blog/\"><div class=\"tm-entity-image tm-companies-rating__avatar\"><img alt=\"\" class=\"tm-entity-image__pic\" height=\"36\" src=\"//habrastorage.org/getpro/habr/company/1c1/79c/e79/1c179ce792168371a7fe9556db69dc7d.png\" width=\"36\"/></div><span class=\"tm-companies-rating__name\">Mail.ru Group</span><span class=\"tm-companies-rating__rating\">396.47</span></a></div></div><footer class=\"tm-block__footer\"><a class=\"tm-block-extralink\" href=\"/ru/companies/\">\n",
       "      Все компании\n",
       "    </a></footer></section><!-- --></div></div></div></div></div></div></main><!-- --></div><div class=\"tm-footer-menu\"><div class=\"tm-page-width\"><div class=\"tm-footer-menu__container\"><div class=\"tm-footer-menu__block\"><h3 class=\"tm-footer-menu__block-title\">\n",
       "          Ваш аккаунт\n",
       "        </h3><div class=\"tm-footer-menu__block-content\"><ul class=\"tm-footer-menu__list\"><li class=\"tm-footer-menu__list-item\"><a href=\"/kek/v1/auth/habrahabr/?back=/ru/all/&amp;hl=ru\" target=\"_self\">\n",
       "                Войти\n",
       "              </a></li><li class=\"tm-footer-menu__list-item\"><a href=\"/kek/v1/auth/habrahabr-register/?back=/ru/all/&amp;hl=ru\" target=\"_self\">\n",
       "                Регистрация\n",
       "              </a></li></ul></div></div><div class=\"tm-footer-menu__block\"><h3 class=\"tm-footer-menu__block-title\">\n",
       "          Разделы\n",
       "        </h3><div class=\"tm-footer-menu__block-content\"><ul class=\"tm-footer-menu__list\"><li class=\"tm-footer-menu__list-item\"><a class=\"footer-menu__item-link router-link-active\" href=\"/ru/\">\n",
       "                Публикации\n",
       "              </a></li><li class=\"tm-footer-menu__list-item\"><a class=\"footer-menu__item-link\" href=\"/ru/news/\">\n",
       "                Новости\n",
       "              </a></li><li class=\"tm-footer-menu__list-item\"><a class=\"footer-menu__item-link\" href=\"/ru/hubs/\">\n",
       "                Хабы\n",
       "              </a></li><li class=\"tm-footer-menu__list-item\"><a class=\"footer-menu__item-link\" href=\"/ru/companies/\">\n",
       "                Компании\n",
       "              </a></li><li class=\"tm-footer-menu__list-item\"><a class=\"footer-menu__item-link\" href=\"/ru/users/\">\n",
       "                Авторы\n",
       "              </a></li><li class=\"tm-footer-menu__list-item\"><a class=\"footer-menu__item-link\" href=\"/ru/sandbox/\">\n",
       "                Песочница\n",
       "              </a></li></ul></div></div><div class=\"tm-footer-menu__block\"><h3 class=\"tm-footer-menu__block-title\">\n",
       "          Информация\n",
       "        </h3><div class=\"tm-footer-menu__block-content\"><ul class=\"tm-footer-menu__list\"><li class=\"tm-footer-menu__list-item\"><a class=\"footer-menu__item-link\" href=\"/ru/docs/help/\">\n",
       "                Устройство сайта\n",
       "              </a></li><li class=\"tm-footer-menu__list-item\"><a class=\"footer-menu__item-link\" href=\"/ru/docs/authors/codex/\">\n",
       "                Для авторов\n",
       "              </a></li><li class=\"tm-footer-menu__list-item\"><a class=\"footer-menu__item-link\" href=\"/ru/docs/companies/corpblogs/\">\n",
       "                Для компаний\n",
       "              </a></li><li class=\"tm-footer-menu__list-item\"><a class=\"footer-menu__item-link\" href=\"/ru/docs/docs/transparency/\">\n",
       "                Документы\n",
       "              </a></li><li class=\"tm-footer-menu__list-item\"><a href=\"https://account.habr.com/info/agreement\" target=\"_blank\">\n",
       "                Соглашение\n",
       "              </a></li><li class=\"tm-footer-menu__list-item\"><a href=\"https://account.habr.com/info/confidential/\" target=\"_blank\">\n",
       "                Конфиденциальность\n",
       "              </a></li></ul></div></div><div class=\"tm-footer-menu__block\"><h3 class=\"tm-footer-menu__block-title\">\n",
       "          Услуги\n",
       "        </h3><div class=\"tm-footer-menu__block-content\"><ul class=\"tm-footer-menu__list\"><li class=\"tm-footer-menu__list-item\"><a href=\"https://docs.google.com/presentation/d/e/2PACX-1vQLwRfQmXibiUlWaRg-BAc38s7oM3lJiaPju7qmdJsp8ysIvZ_G-Npem0njJLMozE2bPHMpDqiI5hhy/pub?start=false&amp;loop=false&amp;delayms=60000&amp;slide=id.g91a03369cd_4_297\" target=\"_blank\">\n",
       "                Реклама\n",
       "              </a></li><li class=\"tm-footer-menu__list-item\"><a href=\"https://habrastorage.org/storage/stuff/habr/service_price.pdf\" target=\"_blank\">\n",
       "                Тарифы\n",
       "              </a></li><li class=\"tm-footer-menu__list-item\"><a href=\"https://docs.google.com/presentation/d/e/2PACX-1vQJJds8-Di7BQSP_guHxICN7woVYoN5NP_22ra-BIo4bqnTT9FR6fB-Ku2P0AoRpX0Ds-LRkDeAoD8F/pub?start=false&amp;loop=false&amp;delayms=60000\" target=\"_blank\">\n",
       "                Контент\n",
       "              </a></li><li class=\"tm-footer-menu__list-item\"><a href=\"https://tmtm.timepad.ru/\" target=\"_blank\">\n",
       "                Семинары\n",
       "              </a></li><li class=\"tm-footer-menu__list-item\"><a class=\"footer-menu__item-link\" href=\"/ru/megaprojects/\">\n",
       "                Мегапроекты\n",
       "              </a></li></ul></div></div></div></div></div><div class=\"tm-footer\"><div class=\"tm-page-width\"><div class=\"tm-footer__container\"><!-- --><div class=\"tm-footer__social\"><a class=\"tm-svg-icon__wrapper tm-social-icons__icon\" href=\"https://www.facebook.com/habrahabr.ru\" rel=\"nofollow noopener noreferrer\" target=\"_blank\"><svg class=\"tm-svg-img tm-svg-icon\" height=\"16\" width=\"16\"><title>Facebook</title><use xlink:href=\"/img/social-icons-sprite.svg#social-logo-facebook\"></use></svg></a><a class=\"tm-svg-icon__wrapper tm-social-icons__icon\" href=\"https://twitter.com/habr_com\" rel=\"nofollow noopener noreferrer\" target=\"_blank\"><svg class=\"tm-svg-img tm-svg-icon\" height=\"16\" width=\"16\"><title>Twitter</title><use xlink:href=\"/img/social-icons-sprite.svg#social-logo-twitter\"></use></svg></a><a class=\"tm-svg-icon__wrapper tm-social-icons__icon\" href=\"https://vk.com/habr\" rel=\"nofollow noopener noreferrer\" target=\"_blank\"><svg class=\"tm-svg-img tm-svg-icon\" height=\"16\" width=\"16\"><title>VK</title><use xlink:href=\"/img/social-icons-sprite.svg#social-logo-vkontakte\"></use></svg></a><a class=\"tm-svg-icon__wrapper tm-social-icons__icon\" href=\"https://telegram.me/habr_com\" rel=\"nofollow noopener noreferrer\" target=\"_blank\"><svg class=\"tm-svg-img tm-svg-icon\" height=\"16\" width=\"16\"><title>Telegram</title><use xlink:href=\"/img/social-icons-sprite.svg#social-logo-telegram\"></use></svg></a><a class=\"tm-svg-icon__wrapper tm-social-icons__icon\" href=\"https://www.youtube.com/channel/UCd_sTwKqVrweTt4oAKY5y4w\" rel=\"nofollow noopener noreferrer\" target=\"_blank\"><svg class=\"tm-svg-img tm-svg-icon\" height=\"16\" width=\"16\"><title>Youtube</title><use xlink:href=\"/img/social-icons-sprite.svg#social-logo-youtube\"></use></svg></a><a class=\"tm-svg-icon__wrapper tm-social-icons__icon\" href=\"https://zen.yandex.ru/habr\" rel=\"nofollow noopener noreferrer\" target=\"_blank\"><svg class=\"tm-svg-img tm-svg-icon\" height=\"16\" width=\"16\"><title>Яндекс Дзен</title><use xlink:href=\"/img/social-icons-sprite.svg#social-logo-zen\"></use></svg></a></div><div class=\"v-portal\" style=\"display:none;\"></div><button class=\"tm-footer__link\"><!-- -->\n",
       "        Настройка языка\n",
       "      </button><a class=\"tm-footer__link\" href=\"/ru/about\">\n",
       "        О сайте\n",
       "      </a><a class=\"tm-footer__link\" href=\"/ru/feedback/\">\n",
       "        Техническая поддержка\n",
       "      </a><!-- --><a class=\"tm-footer__link\" href=\"/berserk-mode-nope\">\n",
       "        Вернуться на старую версию\n",
       "      </a><div class=\"tm-footer-copyright\"><span class=\"tm-copyright\"><span class=\"tm-copyright__years\">© 2006–2021 </span><span class=\"tm-copyright__name\">«<a class=\"tm-copyright__link\" href=\"https://company.habr.com/\" rel=\"noopener\" target=\"_blank\">Habr</a>»</span></span></div></div></div></div><!-- --><!-- --></div><div class=\"vue-portal-target\"></div></div>\n",
       "<script>window.__INITIAL_STATE__={\"adblock\":{\"hasAcceptableAdsFilter\":false,\"hasAdblock\":false},\"articlesList\":{\"articlesList\":{\"541876\":{\"id\":\"541876\",\"timePublished\":\"2021-08-18T17:45:47+00:00\",\"isCorporative\":false,\"lang\":\"ru\",\"titleHtml\":\"Результаты конкурса разработки open-source пакетов на Robot Operating System\",\"editorVersion\":\"1.0\",\"postType\":\"article\",\"postLabels\":[],\"author\":{\"id\":\"329297\",\"alias\":\"AmigoRRR\",\"fullname\":\"Алексей Бурков\",\"avatarUrl\":\"\\u002F\\u002Fhabrastorage.org\\u002Fgetpro\\u002Fhabr\\u002Favatars\\u002Fd7c\\u002F043\\u002Ff01\\u002Fd7c043f01383d11234d3c6a909b36328.jpg\",\"speciality\":\"Разработчик роботов\"},\"statistics\":{\"commentsCount\":0,\"favoritesCount\":5,\"readingCount\":301,\"score\":4,\"votesCount\":4},\"hubs\":[{\"relatedData\":null,\"id\":\"144\",\"alias\":\"open_source\",\"type\":\"collective\",\"title\":\"Open source\",\"titleHtml\":\"Open source\",\"isProfiled\":true},{\"relatedData\":null,\"id\":\"359\",\"alias\":\"programming\",\"type\":\"collective\",\"title\":\"Программирование\",\"titleHtml\":\"Программирование\",\"isProfiled\":true},{\"relatedData\":null,\"id\":\"19735\",\"alias\":\"robo_dev\",\"type\":\"collective\",\"title\":\"Разработка робототехники\",\"titleHtml\":\"Разработка робототехники\",\"isProfiled\":true},{\"relatedData\":null,\"id\":\"21902\",\"alias\":\"robot\",\"type\":\"collective\",\"title\":\"Робототехника\",\"titleHtml\":\"Робототехника\",\"isProfiled\":false},{\"relatedData\":null,\"id\":\"21922\",\"alias\":\"artificial_intelligence\",\"type\":\"collective\",\"title\":\"Искусственный интеллект\",\"titleHtml\":\"Искусственный интеллект\",\"isProfiled\":false}],\"flows\":[{\"id\":\"1\",\"alias\":\"develop\",\"title\":\"Разработка\"},{\"id\":\"7\",\"alias\":\"popsci\",\"title\":\"Научпоп\"}],\"relatedData\":null,\"leadData\":{\"textHtml\":\"Публикуем исходный код программных пакетов для роботов победивших в конкурсе open-source пакетов на ROS. Вы можете использовать их в своих роботах или продолжить их разработку вместе с авторами. Победители получили призы, одноплатные компьютеры для роботов от NVIDIA: Xavier, TX2, Nano.\\u003Cbr\\u003E\\r\\n\\u003Cimg src=\\\"https:\\u002F\\u002Fhabrastorage.org\\u002Fwebt\\u002Faj\\u002Fwb\\u002Frp\\u002Fajwbrpj5byuao7i3kymwslvrz9m.png\\\"\\u003E\\u003Cbr\\u003E\",\"imageUrl\":null,\"buttonTextHtml\":\"Читать дальше &rarr;\",\"image\":null},\"status\":\"published\",\"plannedPublishTime\":null,\"checked\":null,\"tags\":[{\"titleHtml\":\"ros\"},{\"titleHtml\":\"Robot Operating System\"},{\"titleHtml\":\"робототехника\"},{\"titleHtml\":\"open-source\"}]},\"570778\":{\"id\":\"570778\",\"timePublished\":\"2021-08-18T13:00:02+00:00\",\"isCorporative\":true,\"lang\":\"ru\",\"titleHtml\":\"«Народный» тестер аккумуляторов Konnwei KW600: подробный обзор с историей обновлений\",\"editorVersion\":\"1.0\",\"postType\":\"article\",\"postLabels\":[],\"author\":{\"id\":\"304683\",\"alias\":\"TinyElectronicFriends\",\"fullname\":null,\"avatarUrl\":\"\\u002F\\u002Fhabrastorage.org\\u002Fgetpro\\u002Fhabr\\u002Favatars\\u002Fa66\\u002Fa42\\u002Ff33\\u002Fa66a42f3318aca789139e414ab656b41.png\",\"speciality\":\"Инженер\"},\"statistics\":{\"commentsCount\":5,\"favoritesCount\":16,\"readingCount\":1156,\"score\":20,\"votesCount\":20},\"hubs\":[{\"relatedData\":null,\"id\":\"19791\",\"alias\":\"ruvds\",\"type\":\"corporative\",\"title\":\"Блог компании RUVDS.com\",\"titleHtml\":\"Блог компании RUVDS.com\",\"isProfiled\":false},{\"relatedData\":null,\"id\":\"21914\",\"alias\":\"energy\",\"type\":\"collective\",\"title\":\"Энергия и элементы питания\",\"titleHtml\":\"Энергия и элементы питания\",\"isProfiled\":false},{\"relatedData\":null,\"id\":\"21994\",\"alias\":\"autogadgets\",\"type\":\"collective\",\"title\":\"Автомобильные гаджеты\",\"titleHtml\":\"Автомобильные гаджеты\",\"isProfiled\":false},{\"relatedData\":null,\"id\":\"22004\",\"alias\":\"transport\",\"type\":\"collective\",\"title\":\"Транспорт\",\"titleHtml\":\"Транспорт\",\"isProfiled\":false}],\"flows\":[{\"id\":\"7\",\"alias\":\"popsci\",\"title\":\"Научпоп\"}],\"relatedData\":null,\"leadData\":{\"textHtml\":\"\\u003Ca href=\\\"https:\\u002F\\u002Fhabr.com\\u002Fru\\u002Fcompany\\u002Fruvds\\u002Fblog\\u002F570778\\u002F\\\"\\u003E\\u003Cdiv style=\\\"text-align:center;\\\"\\u003E\\u003Cimg src=\\\"https:\\u002F\\u002Fhabrastorage.org\\u002Fwebt\\u002Fsu\\u002Fpo\\u002Fcr\\u002Fsupocrt5ier4uhwfhmpy9ftqtey.png\\\"\\u003E\\u003C\\u002Fdiv\\u003E\\u003C\\u002Fa\\u003E\\u003Cbr\\u003E\\r\\nПривет, Хабр! Когда видим или слышим словосочетание «тестер автомобильных аккумуляторных батарей» (АКБ), на ум приходит карманное устройство с двумя крокодилами и маленьким монохромным экранчиком, измеряющее параметры аккумулятора за несколько томительных секунд. Но уже существуют и доступны более продвинутые приборы, широко известные в узких кругах автомобилистов.\\u003Cbr\\u003E\",\"imageUrl\":null,\"buttonTextHtml\":\"Читать дальше &rarr;\",\"image\":null},\"status\":\"published\",\"plannedPublishTime\":null,\"checked\":null,\"tags\":[{\"titleHtml\":\"Konnwei\"},{\"titleHtml\":\"тестеры\"},{\"titleHtml\":\"приборы\"},{\"titleHtml\":\"домашняя лаборатория\"},{\"titleHtml\":\"гараж\"},{\"titleHtml\":\"agm-аккумуляторы\"},{\"titleHtml\":\"agm\"},{\"titleHtml\":\"заряд\"},{\"titleHtml\":\"аккумуляторы\"},{\"titleHtml\":\"аккумуляторные батареи\"},{\"titleHtml\":\"автомобильный аккумулятор\"},{\"titleHtml\":\"свинцово-кислотные аккумуляторы\"},{\"titleHtml\":\"восстановление аккумуляторов\"},{\"titleHtml\":\"ruvds_статьи\"}]},\"571096\":{\"id\":\"571096\",\"timePublished\":\"2021-08-18T12:35:27+00:00\",\"isCorporative\":true,\"lang\":\"ru\",\"titleHtml\":\"Как улучшить ваши A\\u002FB-тесты: лайфхаки аналитиков Авито. Часть 2\",\"editorVersion\":\"2.0\",\"postType\":\"article\",\"postLabels\":[],\"author\":{\"id\":\"2700895\",\"alias\":\"dvlunin\",\"fullname\":null,\"avatarUrl\":\"\",\"speciality\":\"\"},\"statistics\":{\"commentsCount\":0,\"favoritesCount\":7,\"readingCount\":608,\"score\":4,\"votesCount\":4},\"hubs\":[{\"relatedData\":null,\"id\":\"20770\",\"alias\":\"avito\",\"type\":\"corporative\",\"title\":\"Блог компании Авито\",\"titleHtml\":\"Блог компании Авито\",\"isProfiled\":false},{\"relatedData\":null,\"id\":\"20724\",\"alias\":\"mobileanalytics\",\"type\":\"collective\",\"title\":\"Аналитика мобильных приложений\",\"titleHtml\":\"Аналитика мобильных приложений\",\"isProfiled\":true},{\"relatedData\":null,\"id\":\"20726\",\"alias\":\"productpm\",\"type\":\"collective\",\"title\":\"Управление продуктом\",\"titleHtml\":\"Управление продуктом\",\"isProfiled\":true}],\"flows\":[{\"id\":\"3\",\"alias\":\"management\",\"title\":\"Менеджмент\"},{\"id\":\"4\",\"alias\":\"marketing\",\"title\":\"Маркетинг\"}],\"relatedData\":null,\"leadData\":{\"textHtml\":\"\\u003Cp\\u003EЭто вторая часть статьи о том, как улучшить A\\u002FB-тесты. Здесь я подробно остановлюсь на методах увеличения мощности: поговорим про CUPED, бутстрап-критерии, стратификацию и парную стратификацию.\\u003C\\u002Fp\\u003E\",\"imageUrl\":\"https:\\u002F\\u002Fhabrastorage.org\\u002Fgetpro\\u002Fhabr\\u002Fupload_files\\u002F829\\u002Fa36\\u002F036\\u002F829a360365657c4dbf43100fa7d6bd2c.png\",\"buttonTextHtml\":\"Читать далее\",\"image\":{\"url\":\"https:\\u002F\\u002Fhabrastorage.org\\u002Fgetpro\\u002Fhabr\\u002Fupload_files\\u002F829\\u002Fa36\\u002F036\\u002F829a360365657c4dbf43100fa7d6bd2c.png\",\"fit\":\"cover\",\"positionY\":0,\"positionX\":0}},\"status\":\"published\",\"plannedPublishTime\":null,\"checked\":null,\"tags\":[{\"titleHtml\":\"ab-test\"},{\"titleHtml\":\"ab-тестирование\"},{\"titleHtml\":\"анализ данных\"},{\"titleHtml\":\"математическая статистика\"}]},\"573528\":{\"id\":\"573528\",\"timePublished\":\"2021-08-18T11:35:20+00:00\",\"isCorporative\":false,\"lang\":\"ru\",\"titleHtml\":\"Сеошка для несеошников\",\"editorVersion\":\"2.0\",\"postType\":\"article\",\"postLabels\":[{\"type\":\"sandbox\",\"data\":null}],\"author\":{\"id\":\"1732115\",\"alias\":\"mxkey\",\"fullname\":null,\"avatarUrl\":\"\",\"speciality\":\"\"},\"statistics\":{\"commentsCount\":6,\"favoritesCount\":2,\"readingCount\":706,\"score\":-4,\"votesCount\":10},\"hubs\":[{\"relatedData\":null,\"id\":\"20748\",\"alias\":\"seo\",\"type\":\"collective\",\"title\":\"Поисковая оптимизация\",\"titleHtml\":\"Поисковая оптимизация\",\"isProfiled\":false}],\"flows\":[{\"id\":\"4\",\"alias\":\"marketing\",\"title\":\"Маркетинг\"}],\"relatedData\":null,\"leadData\":{\"textHtml\":\"\\u003Cp\\u003E\\u002F\\u002F Эта статья представляет из себя адаптацию презентации, которую я провел в Govitall. Скринкаст можно посмотреть \\u003Ca href=\\\"https:\\u002F\\u002Fyoutu.be\\u002FI5oaakDoics\\\" rel=\\\"noopener noreferrer nofollow\\\"\\u003E\\u003Cu\\u003Eтут\\u003C\\u002Fu\\u003E\\u003C\\u002Fa\\u003E, а сама презентация доступна по \\u003Ca href=\\\"https:\\u002F\\u002Fdocs.google.com\\u002Fpresentation\\u002Fd\\u002F1zwVzdIshXZeBCgEt6RsWZw18Ufft2gx6pBM2if_K9sQ\\u002Fedit#slide=id.p\\\" rel=\\\"noopener noreferrer nofollow\\\"\\u003E\\u003Cu\\u003Eссылке\\u003C\\u002Fu\\u003E\\u003C\\u002Fa\\u003E.\\u003C\\u002Fp\\u003E\",\"imageUrl\":\"https:\\u002F\\u002Fhabrastorage.org\\u002Fgetpro\\u002Fhabr\\u002Fupload_files\\u002F346\\u002F96b\\u002Fe24\\u002F34696be24bf473948fbb056c03aa3bdd.jpeg\",\"buttonTextHtml\":\"Читать далее\",\"image\":{\"url\":\"https:\\u002F\\u002Fhabrastorage.org\\u002Fgetpro\\u002Fhabr\\u002Fupload_files\\u002F346\\u002F96b\\u002Fe24\\u002F34696be24bf473948fbb056c03aa3bdd.jpeg\",\"fit\":\"cover\",\"positionY\":0,\"positionX\":0}},\"status\":\"published\",\"plannedPublishTime\":null,\"checked\":null,\"tags\":[{\"titleHtml\":\"seo\"}]},\"573534\":{\"id\":\"573534\",\"timePublished\":\"2021-08-18T12:16:15+00:00\",\"isCorporative\":true,\"lang\":\"ru\",\"titleHtml\":\"CRM: систематизация или автоматизация?\",\"editorVersion\":\"2.0\",\"postType\":\"article\",\"postLabels\":[],\"author\":{\"id\":\"1254716\",\"alias\":\"Axelus\",\"fullname\":null,\"avatarUrl\":\"\\u002F\\u002Fhabrastorage.org\\u002Fgetpro\\u002Fhabr\\u002Favatars\\u002F118\\u002Fc4f\\u002F08f\\u002F118c4f08ffa66438ad6be22e205d563d.png\",\"speciality\":\"Разработчик\"},\"statistics\":{\"commentsCount\":1,\"favoritesCount\":4,\"readingCount\":668,\"score\":10,\"votesCount\":12},\"hubs\":[{\"relatedData\":null,\"id\":\"20758\",\"alias\":\"regionsoft\",\"type\":\"corporative\",\"title\":\"Блог компании RegionSoft\",\"titleHtml\":\"Блог компании RegionSoft\",\"isProfiled\":false},{\"relatedData\":null,\"id\":\"6398\",\"alias\":\"it-infrastructure\",\"type\":\"collective\",\"title\":\"IT-инфраструктура\",\"titleHtml\":\"IT-инфраструктура\",\"isProfiled\":true},{\"relatedData\":null,\"id\":\"17739\",\"alias\":\"crm\",\"type\":\"collective\",\"title\":\"CRM-системы\",\"titleHtml\":\"CRM-системы\",\"isProfiled\":true},{\"relatedData\":null,\"id\":\"19019\",\"alias\":\"terminator\",\"type\":\"collective\",\"title\":\"Терминология IT\",\"titleHtml\":\"Терминология IT\",\"isProfiled\":false}],\"flows\":[{\"id\":\"3\",\"alias\":\"management\",\"title\":\"Менеджмент\"},{\"id\":\"6\",\"alias\":\"admin\",\"title\":\"Администрирование\"}],\"relatedData\":null,\"leadData\":{\"textHtml\":\"\\u003Cp\\u003EВы писали в школе шпаргалки? Наверняка да. Вероятно, замечали, что одни шпоры были монолитным переписыванием учебника, а другие настоящими подсказками: открыл, глазом схватил схемы, списки, пункты и быстро убрал, потому что информация организована идеально. Такие писали те редкие отличники, которые не за уши тянутые и не зубрилки, и крепкие хорошисты с пониманием себя в обучении — это была их страховка, если хотите,&nbsp; успокоительное. Более того, пока так обрабатываешь, форматируешь и излагаешь информацию, выучиваешь предмет навсегда. Вот это была самая настоящая систематизация.\\u003C\\u002Fp\\u003E\\u003Cp\\u003EА теперь вопрос: стал ли автоматизированным процесс списывания с появлением удобных мобильных телефонов? Как считаете? Формально — да: труд человека минимизирован, информацию передаёт машина, у процесса высокая скорость, задействованы технологии, трудоёмкость операций снижена практически до нуля. Но, с другой стороны, информацию в электронной шпаргалке создал какой-то человек и дальше просто запущен процесс создания безлимитных копий. Получается автоматизация отчасти, да ещё с негативной коннотацией — она лишает человека возможности получить минимальные знания и работает только на целевой «KPI», т.е. оценку. Правда, немного похоже на некоторые формальные офисные процессы, которые направлены на какие-то мнимые цели и ключевые показатели с потолка?&nbsp;&nbsp;\\u003C\\u002Fp\\u003E\\u003Cp\\u003EЧасто дискуссии на Хабре, в социальных сетях, на профильных площадках и в закрытых группах сводятся к обсуждению того, что CRM-система — это не про автоматизацию, потому что она сама за сотрудника работать не может и ему, бедненькому, нужно самому заполнять карточки клиентов с кучей полей, справочники, различные рабочие сущности программы и т.д. Беда да и только — все-то думали, что CRM работать за сотрудников будет, а она даже пальцы не загибает. Ага?\\u003C\\u002Fp\\u003E\",\"imageUrl\":\"https:\\u002F\\u002Fhabrastorage.org\\u002Fgetpro\\u002Fhabr\\u002Fupload_files\\u002Fc5e\\u002Fd77\\u002F834\\u002Fc5ed7783404989239abd33401c854fcd.png\",\"buttonTextHtml\":\"Читать далее\",\"image\":{\"url\":\"https:\\u002F\\u002Fhabrastorage.org\\u002Fgetpro\\u002Fhabr\\u002Fupload_files\\u002Fc5e\\u002Fd77\\u002F834\\u002Fc5ed7783404989239abd33401c854fcd.png\",\"fit\":\"cover\",\"positionY\":0,\"positionX\":0}},\"status\":\"published\",\"plannedPublishTime\":null,\"checked\":null,\"tags\":[{\"titleHtml\":\"crm\"},{\"titleHtml\":\"автоматизация\"},{\"titleHtml\":\"систематизация\"},{\"titleHtml\":\"систематизация и хранение\"},{\"titleHtml\":\"систематизация бизнеса\"}]},\"573536\":{\"id\":\"573536\",\"timePublished\":\"2021-08-18T12:20:26+00:00\",\"isCorporative\":false,\"lang\":\"ru\",\"titleHtml\":\"Токенизация сообществ\",\"editorVersion\":\"2.0\",\"postType\":\"article\",\"postLabels\":[],\"author\":{\"id\":\"1078754\",\"alias\":\"crypter\",\"fullname\":\"Константин\",\"avatarUrl\":\"\\u002F\\u002Fhabrastorage.org\\u002Fgetpro\\u002Fhabr\\u002Favatars\\u002Ff0f\\u002Ff5d\\u002F2c0\\u002Ff0ff5d2c096fe78830a42f6ef8b75dec.jpg\",\"speciality\":\"Проектирование\"},\"statistics\":{\"commentsCount\":6,\"favoritesCount\":5,\"readingCount\":581,\"score\":3,\"votesCount\":3},\"hubs\":[{\"relatedData\":null,\"id\":\"33\",\"alias\":\"p2p\",\"type\":\"collective\",\"title\":\"Децентрализованные сети\",\"titleHtml\":\"Децентрализованные сети\",\"isProfiled\":false},{\"relatedData\":null,\"id\":\"21986\",\"alias\":\"cryptocurrency\",\"type\":\"collective\",\"title\":\"Криптовалюты\",\"titleHtml\":\"Криптовалюты\",\"isProfiled\":false}],\"flows\":[{\"id\":\"6\",\"alias\":\"admin\",\"title\":\"Администрирование\"},{\"id\":\"7\",\"alias\":\"popsci\",\"title\":\"Научпоп\"}],\"relatedData\":null,\"leadData\":{\"textHtml\":\"\\u003Cp\\u003EТокенизировать можно не только коммерческие компании (через ICO) и “цифровое искусство” (\\u003Ca href=\\\"https:\\u002F\\u002Fhabr.com\\u002Fru\\u002Fcompany\\u002Ftimeweb\\u002Fblog\\u002F545620\\u002F\\\" rel=\\\"noopener noreferrer nofollow\\\"\\u003E\\u003Cu\\u003ENFT токены\\u003C\\u002Fu\\u003E\\u003C\\u002Fa\\u003E) но и онлайн сообщества и их “социальный капитал”. При этом токены сообществ могут быть намного полезнее для их владельцев чем любые другие типы токенов.\\u003C\\u002Fp\\u003E\",\"imageUrl\":\"https:\\u002F\\u002Fhabrastorage.org\\u002Fgetpro\\u002Fhabr\\u002Fupload_files\\u002Fe4b\\u002F0c9\\u002F003\\u002Fe4b0c9003c631722ff9fef52fe2d8e28.jpg\",\"buttonTextHtml\":\"Читать далее\",\"image\":{\"url\":\"https:\\u002F\\u002Fhabrastorage.org\\u002Fgetpro\\u002Fhabr\\u002Fupload_files\\u002Fe4b\\u002F0c9\\u002F003\\u002Fe4b0c9003c631722ff9fef52fe2d8e28.jpg\",\"fit\":\"cover\",\"positionY\":0,\"positionX\":0}},\"status\":\"published\",\"plannedPublishTime\":null,\"checked\":null,\"tags\":[{\"titleHtml\":\"токены\"},{\"titleHtml\":\"децентрализация\"},{\"titleHtml\":\"социальные сети\"}]},\"573538\":{\"id\":\"573538\",\"timePublished\":\"2021-08-18T12:33:37+00:00\",\"isCorporative\":false,\"lang\":\"ru\",\"titleHtml\":\"Эра электромобилей или эра мертвых батарей?\",\"editorVersion\":\"2.0\",\"postType\":\"article\",\"postLabels\":[],\"author\":{\"id\":\"1247390\",\"alias\":\"ASenterprise\",\"fullname\":\"Andrey\",\"avatarUrl\":\"\\u002F\\u002Fhabrastorage.org\\u002Fgetpro\\u002Fhabr\\u002Favatars\\u002F41b\\u002Feb8\\u002Fc40\\u002F41beb8c40ae48201c023a76707bbeb13.jpg\",\"speciality\":\"Data Enthusiast\"},\"statistics\":{\"commentsCount\":121,\"favoritesCount\":16,\"readingCount\":6815,\"score\":7,\"votesCount\":19},\"hubs\":[{\"relatedData\":null,\"id\":\"21924\",\"alias\":\"social_networks\",\"type\":\"collective\",\"title\":\"Социальные сети и сообщества\",\"titleHtml\":\"Социальные сети и сообщества\",\"isProfiled\":false},{\"relatedData\":null,\"id\":\"22004\",\"alias\":\"transport\",\"type\":\"collective\",\"title\":\"Транспорт\",\"titleHtml\":\"Транспорт\",\"isProfiled\":false},{\"relatedData\":null,\"id\":\"22012\",\"alias\":\"Ecology\",\"type\":\"collective\",\"title\":\"Экология\",\"titleHtml\":\"Экология\",\"isProfiled\":false},{\"relatedData\":null,\"id\":\"22024\",\"alias\":\"urban\",\"type\":\"collective\",\"title\":\"Урбанизм\",\"titleHtml\":\"Урбанизм\",\"isProfiled\":false}],\"flows\":[{\"id\":\"7\",\"alias\":\"popsci\",\"title\":\"Научпоп\"}],\"relatedData\":null,\"leadData\":{\"textHtml\":\"\\u003Cp\\u003EЕсли проанализировать существующий поток новостей об автомобильном мире можно отметить, что уже никто не испытывает сомнений в том, что в скором времени мы все с вами будем ездить на полностью электрических автомобиля.\\u003C\\u002Fp\\u003E\\u003Cp\\u003EЕвропейские правительства заверяют, что к середине столетия полностью откажутся от использования двигателей внутреннего сгорания в своих странах. Знаменитые автоконцерны, вторят им, что в ближайшее время полностью переориентируют производство на электромобили.&nbsp;\\u003C\\u002Fp\\u003E\\u003Cp\\u003EВсе действия по переходу на электромобили подаются под соусом заботы об экологии.\\u003C\\u002Fp\\u003E\\u003Cp\\u003EОднако, эта замечательная “зеленая” повестка мало затрагивает вопрос утилизации отработанных батарей. В принципе, до недавнего времени я считал этот вопрос неразрешимым, а точнее решаться он будет только тогда, когда весь мир, в добавок к горам пластика, заполнят отработанные батареи размером со столешницу кухонного стола или даже больше. И только тогда медиа обратит внимание на эту проблему.\\u003C\\u002Fp\\u003E\\u003Cp\\u003EНо тем не менее, не теряя веру в здравомыслие человечества, я решил посмотреть, что пишет по этому вопросу англоязычная пресса и предлагаю вашему вниманию некоторый анализ найденной информации.\\u003C\\u002Fp\\u003E\",\"imageUrl\":\"https:\\u002F\\u002Fhabrastorage.org\\u002Fgetpro\\u002Fhabr\\u002Fupload_files\\u002F113\\u002Ff18\\u002Fb9a\\u002F113f18b9a73cff7b75ec53dad87847ce.jpg\",\"buttonTextHtml\":\"Читать далее\",\"image\":{\"url\":\"https:\\u002F\\u002Fhabrastorage.org\\u002Fgetpro\\u002Fhabr\\u002Fupload_files\\u002F113\\u002Ff18\\u002Fb9a\\u002F113f18b9a73cff7b75ec53dad87847ce.jpg\",\"fit\":\"cover\",\"positionY\":0,\"positionX\":0}},\"status\":\"published\",\"plannedPublishTime\":null,\"checked\":null,\"tags\":[{\"titleHtml\":\"электромобили\"},{\"titleHtml\":\"автомобили\"},{\"titleHtml\":\"экология\"},{\"titleHtml\":\"экологичность\"},{\"titleHtml\":\"батареи\"},{\"titleHtml\":\"батареи и аккумуляторы\"},{\"titleHtml\":\"бизнес\"},{\"titleHtml\":\"автоконцерны\"},{\"titleHtml\":\"бренды\"},{\"titleHtml\":\"батарейка\"}]},\"573540\":{\"id\":\"573540\",\"timePublished\":\"2021-08-18T12:52:06+00:00\",\"isCorporative\":false,\"lang\":\"ru\",\"titleHtml\":\"5 инструментов для удаленной команды Automation QA\",\"editorVersion\":\"2.0\",\"postType\":\"article\",\"postLabels\":[{\"type\":\"translation\",\"data\":{\"originalAuthorName\":\"Ruslan Akhmetzianov\",\"originalUrl\":\"https:\\u002F\\u002Fqameta.io\\u002Fblog\\u002Ftools-for-a-remote-qa-team\\u002F\"}}],\"author\":{\"id\":\"1189088\",\"alias\":\"ARG89\",\"fullname\":\"Руслан Ахметзянов\",\"avatarUrl\":\"\\u002F\\u002Fhabrastorage.org\\u002Fgetpro\\u002Fhabr\\u002Favatars\\u002F1ec\\u002F952\\u002Fbec\\u002F1ec952bec6aca5cc1f87ff12fc4329b7.jpg\",\"speciality\":\"Crusader\"},\"statistics\":{\"commentsCount\":1,\"favoritesCount\":15,\"readingCount\":813,\"score\":8,\"votesCount\":12},\"hubs\":[{\"relatedData\":null,\"id\":\"210\",\"alias\":\"it_testing\",\"type\":\"collective\",\"title\":\"Тестирование IT-систем\",\"titleHtml\":\"Тестирование IT-систем\",\"isProfiled\":true},{\"relatedData\":null,\"id\":\"19279\",\"alias\":\"web_testing\",\"type\":\"collective\",\"title\":\"Тестирование веб-сервисов\",\"titleHtml\":\"Тестирование веб-сервисов\",\"isProfiled\":true},{\"relatedData\":null,\"id\":\"19281\",\"alias\":\"mobile_testing\",\"type\":\"collective\",\"title\":\"Тестирование мобильных приложений\",\"titleHtml\":\"Тестирование мобильных приложений\",\"isProfiled\":true},{\"relatedData\":null,\"id\":\"20788\",\"alias\":\"devops\",\"type\":\"collective\",\"title\":\"DevOps\",\"titleHtml\":\"DevOps\",\"isProfiled\":true}],\"flows\":[{\"id\":\"1\",\"alias\":\"develop\",\"title\":\"Разработка\"},{\"id\":\"6\",\"alias\":\"admin\",\"title\":\"Администрирование\"}],\"relatedData\":null,\"leadData\":{\"textHtml\":\"\\u003Cp\\u003EКому-то этот пост покажется запоздавшим, кому-то — очевидным. Однако общаясь с коллегами из QA-сообщества я продолжаю сталкиваться с тем, что удаленная работа вызывает кучу неудобств: количество чатов в мессенджерах зашкаливает, нельзя прийти ногами и объяснить все на пальцах или в деталях передать особенности окружения для воспроизведения бага, — хотя все уже давно было создано и внедрено.\\u003C\\u002Fp\\u003E\\u003Cp\\u003EЗа последний год появилось куча новых тулов с прицелом на удаленку, но стоит ли бежать и смотреть их, когда есть старые добрые инструменты? В этой короткой подборке я постарался собрать несколько тулов, которые помогут тестировщикам и тестировщицам облегчить работу с коллегами по цеху, опсами и разработчиками.\\u003C\\u002Fp\\u003E\\u003Cp\\u003E\\u003Cstrong\\u003EДИСКЛЕЙМЕР: На самом деле у каждого инструмента есть как минимум по несколько альтернатив, выбор из которых может привести к знатному холивару. Если у вас есть свои соображения на тему \\\"автор дурак, надо было брать не Х, а Y\\\", приходите в комментарии!\\u003C\\u002Fstrong\\u003E\\u003C\\u002Fp\\u003E\",\"imageUrl\":\"https:\\u002F\\u002Fhabrastorage.org\\u002Fgetpro\\u002Fhabr\\u002Fupload_files\\u002F030\\u002Fa4a\\u002F50b\\u002F030a4a50ba54f5e2f674a35f4929bbce.jpeg\",\"buttonTextHtml\":\"Читать далее\",\"image\":{\"url\":\"https:\\u002F\\u002Fhabrastorage.org\\u002Fgetpro\\u002Fhabr\\u002Fupload_files\\u002F030\\u002Fa4a\\u002F50b\\u002F030a4a50ba54f5e2f674a35f4929bbce.jpeg\",\"fit\":\"cover\",\"positionY\":0,\"positionX\":0}},\"status\":\"published\",\"plannedPublishTime\":null,\"checked\":null,\"tags\":[{\"titleHtml\":\"тестирование\"},{\"titleHtml\":\"автоматизация\"},{\"titleHtml\":\"docker\"},{\"titleHtml\":\"ci cd\"},{\"titleHtml\":\"communication\"}]},\"573552\":{\"id\":\"573552\",\"timePublished\":\"2021-08-18T13:18:52+00:00\",\"isCorporative\":false,\"lang\":\"ru\",\"titleHtml\":\"Как я запускал классификацию изображений на домашнем кластере Apache Ignite ML\",\"editorVersion\":\"2.0\",\"postType\":\"article\",\"postLabels\":[{\"type\":\"sandbox\",\"data\":null}],\"author\":{\"id\":\"2761019\",\"alias\":\"Demschwarz\",\"fullname\":null,\"avatarUrl\":\"\",\"speciality\":\"\"},\"statistics\":{\"commentsCount\":0,\"favoritesCount\":9,\"readingCount\":671,\"score\":2,\"votesCount\":2},\"hubs\":[{\"relatedData\":null,\"id\":\"375\",\"alias\":\"java\",\"type\":\"collective\",\"title\":\"Java\",\"titleHtml\":\"Java\",\"isProfiled\":true},{\"relatedData\":null,\"id\":\"17697\",\"alias\":\"apache\",\"type\":\"collective\",\"title\":\"Apache\",\"titleHtml\":\"Apache\",\"isProfiled\":true},{\"relatedData\":null,\"id\":\"19439\",\"alias\":\"machine_learning\",\"type\":\"collective\",\"title\":\"Машинное обучение\",\"titleHtml\":\"Машинное обучение\",\"isProfiled\":true}],\"flows\":[{\"id\":\"1\",\"alias\":\"develop\",\"title\":\"Разработка\"},{\"id\":\"6\",\"alias\":\"admin\",\"title\":\"Администрирование\"}],\"relatedData\":null,\"leadData\":{\"textHtml\":\"\\u003Cp\\u003EЯ - студент университета, знаком с машинным обучением в рамках пройденного курса, есть интерес к современным кластерным технологиям, конкретно - к Apache Ignite. Под катом — история о том, как я запускал пример \\u003Ccode\\u003EOneVsRestClassificationExample\\u003C\\u002Fcode\\u003E из дистрибутива.\\u003C\\u002Fp\\u003E\",\"imageUrl\":null,\"buttonTextHtml\":\"Читать далее\",\"image\":{\"url\":\"https:\\u002F\\u002Fhabrastorage.org\\u002Fgetpro\\u002Fhabr\\u002Fupload_files\\u002Fd9e\\u002Fab4\\u002Fae5\\u002Fd9eab4ae5a2954cfe8414370f4ab6a9b.jpg\",\"fit\":\"cover\",\"positionY\":0,\"positionX\":0}},\"status\":\"published\",\"plannedPublishTime\":null,\"checked\":null,\"tags\":[{\"titleHtml\":\"Apache Ignite\"},{\"titleHtml\":\"MNIST\"},{\"titleHtml\":\"SVM\"},{\"titleHtml\":\"machinelearning\"}]},\"573556\":{\"id\":\"573556\",\"timePublished\":\"2021-08-18T13:39:54+00:00\",\"isCorporative\":false,\"lang\":\"ru\",\"titleHtml\":\"Россия vs Эстония: сравнение электронных голосований\",\"editorVersion\":\"2.0\",\"postType\":\"article\",\"postLabels\":[],\"author\":{\"id\":\"2296869\",\"alias\":\"AnalogBytes\",\"fullname\":\"AnalogBytes\",\"avatarUrl\":\"\\u002F\\u002Fhabrastorage.org\\u002Fgetpro\\u002Fhabr\\u002Favatars\\u002F48f\\u002Fa9f\\u002F3dc\\u002F48fa9f3dcdc760fb33219817dea64f8e.png\",\"speciality\":\"Пользователь\"},\"statistics\":{\"commentsCount\":5,\"favoritesCount\":11,\"readingCount\":1480,\"score\":9,\"votesCount\":13},\"hubs\":[{\"relatedData\":null,\"id\":\"50\",\"alias\":\"infosecurity\",\"type\":\"collective\",\"title\":\"Информационная безопасность\",\"titleHtml\":\"Информационная безопасность\",\"isProfiled\":true},{\"relatedData\":null,\"id\":\"118\",\"alias\":\"crypto\",\"type\":\"collective\",\"title\":\"Криптография\",\"titleHtml\":\"Криптография\",\"isProfiled\":true}],\"flows\":[{\"id\":\"1\",\"alias\":\"develop\",\"title\":\"Разработка\"}],\"relatedData\":null,\"leadData\":{\"textHtml\":\"\\u003Cp\\u003EВ последнее время про дистанционные электронные голосования (ДЭГ) говорят много —&nbsp;на сентябрьских выборах ДЭГ будет использоваться в семи регионах, в нём ожидают до 2 млн. избирателей, и Москва уже развернула широкую рекламно-информационную кампанию.\\u003C\\u002Fp\\u003E\\u003Cp\\u003EПри этом — по очевидной причине —&nbsp;данная кампания, как и большинство других материалов, направлены на обычного избирателя, и в основном подчёркивает удобство ДЭГ для него. Материалов для IT-специалистов и экспертов по-прежнему, прямо скажем, негусто, а те, что есть — например, \\u003Ca href=\\\"https:\\u002F\\u002Fhabr.com\\u002Fru\\u002Fcompany\\u002Frostelecom\\u002Fblog\\u002F519178\\u002F\\\" rel=\\\"noopener noreferrer nofollow\\\"\\u003Eв блоге «Ростелекома» на Хабре\\u003C\\u002Fa\\u003E — наоборот, ударяются в другую крайность, будучи переполненными техническими деталями.\\u003C\\u002Fp\\u003E\\u003Cp\\u003EНачиная с сегодняшнего материала, мы попробуем рассказать про то, как работают российские системы ДЭГ (их две!), пытаясь соблюсти баланс между популярностью изложения и техническими подробностями.\\u003C\\u002Fp\\u003E\\u003Cp\\u003EСтартуем с международного опыта: при разговорах о ДЭГ часто всплывает Эстония, как один из пионеров электронных голосований масштаба государства —&nbsp;там ДЭГ применяется с 2005 года, и применяется успешно.\\u003C\\u002Fp\\u003E\\u003Cp\\u003EКак соотносятся российские и эстонские системы с точки зрения концепции реализации, функционала, надёжности в контексте голосования? Изучить этот вопрос мы попросили нашего эксперта \\u003Cstrong\\u003EАндрея Филиппова\\u003C\\u002Fstrong\\u003E, так что под катом —&nbsp;его текст.\\u003C\\u002Fp\\u003E\",\"imageUrl\":\"https:\\u002F\\u002Fhabrastorage.org\\u002Fgetpro\\u002Fhabr\\u002Fupload_files\\u002Ff71\\u002F397\\u002F0f9\\u002Ff713970f97b0f943c87f442927849d95.jpg\",\"buttonTextHtml\":\"Читать далее\",\"image\":{\"url\":\"https:\\u002F\\u002Fhabrastorage.org\\u002Fgetpro\\u002Fhabr\\u002Fupload_files\\u002Ff71\\u002F397\\u002F0f9\\u002Ff713970f97b0f943c87f442927849d95.jpg\",\"fit\":\"cover\",\"positionY\":0,\"positionX\":0}},\"status\":\"published\",\"plannedPublishTime\":null,\"checked\":null,\"tags\":[{\"titleHtml\":\"ДЭГ\"},{\"titleHtml\":\"электронное голосование\"},{\"titleHtml\":\"выборы\"}]},\"573560\":{\"id\":\"573560\",\"timePublished\":\"2021-08-18T14:44:09+00:00\",\"isCorporative\":false,\"lang\":\"ru\",\"titleHtml\":\"Тайна списка шумерских царей. Часть 3. Зодиак\",\"editorVersion\":\"2.0\",\"postType\":\"article\",\"postLabels\":[],\"author\":{\"id\":\"59023\",\"alias\":\"AlexeyR\",\"fullname\":\"Алексей Редозубов\",\"avatarUrl\":\"\\u002F\\u002Fhabrastorage.org\\u002Fgetpro\\u002Fhabr\\u002Favatars\\u002F5f7\\u002F505\\u002Fce9\\u002F5f7505ce9a529fbc651a7d61c57a1e7b.jpg\",\"speciality\":\"\"},\"statistics\":{\"commentsCount\":0,\"favoritesCount\":15,\"readingCount\":849,\"score\":0,\"votesCount\":6},\"hubs\":[{\"relatedData\":null,\"id\":\"17812\",\"alias\":\"maths\",\"type\":\"collective\",\"title\":\"Математика\",\"titleHtml\":\"Математика\",\"isProfiled\":true},{\"relatedData\":null,\"id\":\"21906\",\"alias\":\"history\",\"type\":\"collective\",\"title\":\"История IT\",\"titleHtml\":\"История IT\",\"isProfiled\":false},{\"relatedData\":null,\"id\":\"21910\",\"alias\":\"popular_science\",\"type\":\"collective\",\"title\":\"Научно-популярное\",\"titleHtml\":\"Научно-популярное\",\"isProfiled\":false},{\"relatedData\":null,\"id\":\"22022\",\"alias\":\"astronomy\",\"type\":\"collective\",\"title\":\"Астрономия\",\"titleHtml\":\"Астрономия\",\"isProfiled\":false}],\"flows\":[{\"id\":\"1\",\"alias\":\"develop\",\"title\":\"Разработка\"},{\"id\":\"7\",\"alias\":\"popsci\",\"title\":\"Научпоп\"}],\"relatedData\":null,\"leadData\":{\"textHtml\":\"\\u003Cp\\u003EЭто продолжение цикла статей о разгадке \\u003Ca href=\\\"https:\\u002F\\u002Fru.wikipedia.org\\u002Fwiki\\u002F%D0%A1%D0%BF%D0%B8%D1%81%D0%BE%D0%BA_%D1%86%D0%B0%D1%80%D0%B5%D0%B9_%D0%A8%D1%83%D0%BC%D0%B5%D1%80%D0%B0_%D0%B8_%D0%90%D0%BA%D0%BA%D0%B0%D0%B4%D0%B0\\\" rel=\\\"noopener noreferrer nofollow\\\"\\u003E\\u003Cu\\u003Eшумерского царского списка\\u003C\\u002Fu\\u003E\\u003C\\u002Fa\\u003E. В \\u003Ca href=\\\"https:\\u002F\\u002Fhabr.com\\u002Fru\\u002Fpost\\u002F562898\\u002F\\\" rel=\\\"noopener noreferrer nofollow\\\"\\u003E\\u003Cu\\u003Eпервой части\\u003C\\u002Fu\\u003E\\u003C\\u002Fa\\u003E было объяснение важности этой загадки для понимания всей древней истории и описание тех астрономических инструментов, что были созданы по ходу исследования. Во \\u003Ca href=\\\"https:\\u002F\\u002Fhabr.com\\u002Fru\\u002Fpost\\u002F569956\\u002F\\\" rel=\\\"noopener noreferrer nofollow\\\"\\u003E\\u003Cu\\u003Eвторой\\u003C\\u002Fu\\u003E\\u003C\\u002Fa\\u003E рассказ о вавилонском звездном каталоге MUL.APIN и предположение, что названиями звезд и созвездий в нем была зашифрована вечная, циклически повторяющаяся история борьбы смысла и закона. Но цепочка переводов аккадских имен, хотя она и создает стройный рассказ, не может быть доказательством сама по себе. Нужны дополнительные, более строгие подтверждения. В этой части мы их и рассмотрим.\\u003C\\u002Fp\\u003E\\u003Cp\\u003EЧто вы знаете об \\u003Ca href=\\\"https:\\u002F\\u002Fru.wikipedia.org\\u002Fwiki\\u002F%D0%90%D1%81%D1%82%D1%80%D0%BE%D0%BB%D0%BE%D0%B3%D0%B8%D1%8F\\\" rel=\\\"noopener noreferrer nofollow\\\"\\u003E\\u003Cu\\u003Eастрологии\\u003C\\u002Fu\\u003E\\u003C\\u002Fa\\u003E? Название “астрология” происходит от древнегреческого ἀστήρ «звезда» и λόγος «мысль, причина». Сама астрология — это некая древняя практика, которая позволяет гадать по звездам. Дескать, звезды влияют на судьбы людей и по положению звезд можно предсказывать будущее.\\u003C\\u002Fp\\u003E\\u003Cp\\u003EКак вы относитесь к астрологии? Здравомыслящий человек понимает, что астрология — это, как и всякое гадание, шарлатанство. Положение Солнца, планет и созвездий выступает генератором случайных сочетаний, которым астрологи дают свои толкования. Люди, склонные к мистицизму, готовы платить за это деньги. Спрос рождает предложение.&nbsp; Все так?\\u003C\\u002Fp\\u003E\\u003Cp\\u003EЧто такое знаки зодиака? Есть двенадцать созвездий, лежащих на годичном пути Солнца. То, в каком знаке родился человек, по мнению астрологов определяет его характер и судьбу. Зодиак придумали греки, поместив на небо героев своих мифов.\\u003C\\u002Fp\\u003E\",\"imageUrl\":\"https:\\u002F\\u002Fhabrastorage.org\\u002Fgetpro\\u002Fhabr\\u002Fupload_files\\u002Fd22\\u002F3bc\\u002Fa17\\u002Fd223bca17db3316b2e4f412836f6c8c2.png\",\"buttonTextHtml\":\"Читать далее\",\"image\":{\"url\":\"https:\\u002F\\u002Fhabrastorage.org\\u002Fgetpro\\u002Fhabr\\u002Fupload_files\\u002Fd22\\u002F3bc\\u002Fa17\\u002Fd223bca17db3316b2e4f412836f6c8c2.png\",\"fit\":\"cover\",\"positionY\":0,\"positionX\":0}},\"status\":\"published\",\"plannedPublishTime\":null,\"checked\":null,\"tags\":[{\"titleHtml\":\"астрономия\"},{\"titleHtml\":\"шумеры\"},{\"titleHtml\":\"греки\"},{\"titleHtml\":\"боги\"},{\"titleHtml\":\"мифы\"},{\"titleHtml\":\"зодиак\"}]},\"573564\":{\"id\":\"573564\",\"timePublished\":\"2021-08-18T14:07:50+00:00\",\"isCorporative\":false,\"lang\":\"ru\",\"titleHtml\":\"Компьютерная фотография для фотолюбителя на примере Gigapixel AI\",\"editorVersion\":\"2.0\",\"postType\":\"article\",\"postLabels\":[{\"type\":\"tutorial\",\"data\":null}],\"author\":{\"id\":\"1401036\",\"alias\":\"Elpi\",\"fullname\":null,\"avatarUrl\":\"\",\"speciality\":\"Пользователь\"},\"statistics\":{\"commentsCount\":23,\"favoritesCount\":8,\"readingCount\":1185,\"score\":1,\"votesCount\":3},\"hubs\":[{\"relatedData\":null,\"id\":\"21910\",\"alias\":\"popular_science\",\"type\":\"collective\",\"title\":\"Научно-популярное\",\"titleHtml\":\"Научно-популярное\",\"isProfiled\":false},{\"relatedData\":null,\"id\":\"21922\",\"alias\":\"artificial_intelligence\",\"type\":\"collective\",\"title\":\"Искусственный интеллект\",\"titleHtml\":\"Искусственный интеллект\",\"isProfiled\":false},{\"relatedData\":null,\"id\":\"21932\",\"alias\":\"photo\",\"type\":\"collective\",\"title\":\"Фототехника\",\"titleHtml\":\"Фототехника\",\"isProfiled\":false}],\"flows\":[{\"id\":\"7\",\"alias\":\"popsci\",\"title\":\"Научпоп\"}],\"relatedData\":null,\"leadData\":{\"textHtml\":\"\\u003Cp\\u003EВ статье на конкретном примере проиллюстрировано использование программы для улучшения фотографий на основе нейросетей. Надеюсь, будет полезна как обладателям фотокамер, так и снимающим на смартфон.\\u003C\\u002Fp\\u003E\",\"imageUrl\":\"https:\\u002F\\u002Fhabrastorage.org\\u002Fgetpro\\u002Fhabr\\u002Fupload_files\\u002F9c4\\u002Fafe\\u002F1ae\\u002F9c4afe1ae0148708805d2089673ce763.jpg\",\"buttonTextHtml\":\"Читать далее\",\"image\":{\"url\":\"https:\\u002F\\u002Fhabrastorage.org\\u002Fgetpro\\u002Fhabr\\u002Fupload_files\\u002F9c4\\u002Fafe\\u002F1ae\\u002F9c4afe1ae0148708805d2089673ce763.jpg\",\"fit\":\"cover\",\"positionY\":0,\"positionX\":0}},\"status\":\"published\",\"plannedPublishTime\":null,\"checked\":null,\"tags\":[{\"titleHtml\":\"фотография\"},{\"titleHtml\":\"нейросети\"},{\"titleHtml\":\"обработка изображений\"}]},\"573572\":{\"id\":\"573572\",\"timePublished\":\"2021-08-18T14:44:57+00:00\",\"isCorporative\":false,\"lang\":\"ru\",\"titleHtml\":\"Go: объектный файл и релокация\",\"editorVersion\":\"2.0\",\"postType\":\"article\",\"postLabels\":[{\"type\":\"translation\",\"data\":{\"originalAuthorName\":\"Vincent Blanchon\",\"originalUrl\":\"https:\\u002F\\u002Fmedium.com\\u002Fa-journey-with-go\\u002Fgo-object-file-relocations-804438ec379b\"}}],\"author\":{\"id\":\"2723985\",\"alias\":\"kmoseenk\",\"fullname\":\"Ксения Мосеенкова\",\"avatarUrl\":\"\\u002F\\u002Fhabrastorage.org\\u002Fgetpro\\u002Fhabr\\u002Favatars\\u002F9c1\\u002Ff26\\u002Ffc3\\u002F9c1f26fc3a6df952b80365d8dd4a1642.png\",\"speciality\":\"Контент-менеджер\"},\"statistics\":{\"commentsCount\":0,\"favoritesCount\":22,\"readingCount\":658,\"score\":1,\"votesCount\":1},\"hubs\":[{\"relatedData\":null,\"id\":\"359\",\"alias\":\"programming\",\"type\":\"collective\",\"title\":\"Программирование\",\"titleHtml\":\"Программирование\",\"isProfiled\":true},{\"relatedData\":null,\"id\":\"17748\",\"alias\":\"go\",\"type\":\"collective\",\"title\":\"Go\",\"titleHtml\":\"Go\",\"isProfiled\":true}],\"flows\":[{\"id\":\"1\",\"alias\":\"develop\",\"title\":\"Разработка\"}],\"relatedData\":null,\"leadData\":{\"textHtml\":\"\\u003Cp\\u003E\\u003Cem\\u003EЭта статья оперирует версией Go 1.14.\\u003C\\u002Fem\\u003E\\u003C\\u002Fp\\u003E\\u003Cp\\u003E\\u003Ca href=\\\"https:\\u002F\\u002Fen.wikipedia.org\\u002Fwiki\\u002FRelocation_(computing)\\\" rel=\\\"noopener noreferrer nofollow\\\"\\u003E\\u003Cu\\u003EРелокация\\u003C\\u002Fu\\u003E\\u003C\\u002Fa\\u003E — это этап процесса линковки, в рамках которого каждому внешнему символу присваиваются соответствующие адреса. Поскольку пакеты компилируются отдельно, они не имеют понятия, где функции или переменные из других пакетов находятся фактически. Начнем с тривиального примера, когда нам потребуется релокация.\\u003C\\u002Fp\\u003E\",\"imageUrl\":\"https:\\u002F\\u002Fhabrastorage.org\\u002Fgetpro\\u002Fhabr\\u002Fupload_files\\u002F7d7\\u002Fa17\\u002F55e\\u002F7d7a1755e4337c2c9b742d71304c656d.png\",\"buttonTextHtml\":\"Читать далее\",\"image\":{\"url\":\"https:\\u002F\\u002Fhabrastorage.org\\u002Fgetpro\\u002Fhabr\\u002Fupload_files\\u002F7d7\\u002Fa17\\u002F55e\\u002F7d7a1755e4337c2c9b742d71304c656d.png\",\"fit\":\"cover\",\"positionY\":0,\"positionX\":0}},\"status\":\"published\",\"plannedPublishTime\":null,\"checked\":null,\"tags\":[{\"titleHtml\":\"golang\"},{\"titleHtml\":\"internals\"},{\"titleHtml\":\"linker\"},{\"titleHtml\":\"Concurrency patterns\"}]},\"573578\":{\"id\":\"573578\",\"timePublished\":\"2021-08-18T14:56:52+00:00\",\"isCorporative\":true,\"lang\":\"ru\",\"titleHtml\":\"Смотрим на металлолом глазами Хищника: как это помогает в производстве стали\",\"editorVersion\":\"2.0\",\"postType\":\"article\",\"postLabels\":[],\"author\":{\"id\":\"2525599\",\"alias\":\"severstal\",\"fullname\":null,\"avatarUrl\":\"\\u002F\\u002Fhabrastorage.org\\u002Fgetpro\\u002Fhabr\\u002Favatars\\u002Fcb1\\u002F8f3\\u002F2f5\\u002Fcb18f32f5fda72291b08ad8bece982ea.jpg\",\"speciality\":\"Пользователь\"},\"statistics\":{\"commentsCount\":3,\"favoritesCount\":5,\"readingCount\":1375,\"score\":14,\"votesCount\":14},\"hubs\":[{\"relatedData\":null,\"id\":\"22604\",\"alias\":\"severstal\",\"type\":\"corporative\",\"title\":\"Блог компании Северсталь\",\"titleHtml\":\"Блог компании Северсталь\",\"isProfiled\":false}],\"flows\":[],\"relatedData\":null,\"leadData\":{\"textHtml\":\"\\u003Cp\\u003E&nbsp;\\u003C\\u002Fp\\u003E\\u003Cp\\u003EПри переплавке металлолома важно, чтобы в нем не было посторонних предметов и жидкостей. Любой опасный предмет в лучшем случае нарушит технологию плавки, а в худшем — приведет к травмам. Например, зимой в металлоломе часто встречается лед, который вовремя плавки вызывает так называемые «хлопки» и может повредить оборудование стоимостью в миллионы рублей.\\u003C\\u002Fp\\u003E\\u003Cp\\u003EЯ, Никита Лазарев, сотрудник сервиса Open Innovations в компании «Северсталь». Расскажу, как мы совместно с технологами «Северсталь Вторчермета» и сотрудниками Дирекции по техническому развитию и качеству использовали тепловизор для поиска обледеневшего лома на промплощадке «Северсталь Вторчермета» и каких результатов добились.\\u003C\\u002Fp\\u003E\",\"imageUrl\":\"https:\\u002F\\u002Fhabrastorage.org\\u002Fgetpro\\u002Fhabr\\u002Fupload_files\\u002Fad3\\u002F5f1\\u002F126\\u002Fad35f1126aac3eeb25f8018d8667e95c.JPG\",\"buttonTextHtml\":\"Боремся со льдом!\",\"image\":{\"url\":\"https:\\u002F\\u002Fhabrastorage.org\\u002Fgetpro\\u002Fhabr\\u002Fupload_files\\u002Fad3\\u002F5f1\\u002F126\\u002Fad35f1126aac3eeb25f8018d8667e95c.JPG\",\"fit\":\"cover\",\"positionY\":0,\"positionX\":0}},\"status\":\"published\",\"plannedPublishTime\":null,\"checked\":null,\"tags\":[{\"titleHtml\":\"тепловизоры\"},{\"titleHtml\":\"промышленность\"}]},\"573580\":{\"id\":\"573580\",\"timePublished\":\"2021-08-18T15:01:24+00:00\",\"isCorporative\":false,\"lang\":\"ru\",\"titleHtml\":\"Первый Компьютерный ЕГЭ 2021\",\"editorVersion\":\"2.0\",\"postType\":\"article\",\"postLabels\":[{\"type\":\"sandbox\",\"data\":null}],\"author\":{\"id\":\"2728157\",\"alias\":\"evage\",\"fullname\":null,\"avatarUrl\":\"\",\"speciality\":\"\"},\"statistics\":{\"commentsCount\":7,\"favoritesCount\":6,\"readingCount\":1458,\"score\":9,\"votesCount\":9},\"hubs\":[{\"relatedData\":null,\"id\":\"20696\",\"alias\":\"study\",\"type\":\"collective\",\"title\":\"Учебный процесс в IT\",\"titleHtml\":\"Учебный процесс в IT\",\"isProfiled\":false}],\"flows\":[{\"id\":\"3\",\"alias\":\"management\",\"title\":\"Менеджмент\"}],\"relatedData\":null,\"leadData\":{\"textHtml\":\"\\u003Cp\\u003EВсем привет! В этом году я закончил 11 класс и сдавал первый Компьютерный ЕГЭ. Знаю, что довольно поздно пишу статью об этом, но все равно хотелось бы высказать пару мыслей об экзамене и о своем опыте. Хочу рассказать о самом ЕГЭ по информатике, его изменениях, подготовке и о некоторых мелочах.\\u003C\\u002Fp\\u003E\",\"imageUrl\":null,\"buttonTextHtml\":\"Читать далее\",\"image\":{\"url\":\"https:\\u002F\\u002Fhabrastorage.org\\u002Fgetpro\\u002Fhabr\\u002Fupload_files\\u002F87a\\u002Ff98\\u002F9a7\\u002F87af989a78d03aa7b64694cd8748ae27.jpg\",\"fit\":\"cover\",\"positionY\":0,\"positionX\":0}},\"status\":\"published\",\"plannedPublishTime\":null,\"checked\":null,\"tags\":[{\"titleHtml\":\"егэ по информатике\"},{\"titleHtml\":\"2021\"},{\"titleHtml\":\"школа\"},{\"titleHtml\":\"информатика\"}]},\"573582\":{\"id\":\"573582\",\"timePublished\":\"2021-08-18T15:40:04+00:00\",\"isCorporative\":false,\"lang\":\"ru\",\"titleHtml\":\"Пользовательские шаблоны и расширения для Visual Studio под проект (Часть 1: шаблоны элементов)\",\"editorVersion\":\"2.0\",\"postType\":\"article\",\"postLabels\":[{\"type\":\"tutorial\",\"data\":null}],\"author\":{\"id\":\"471552\",\"alias\":\"iRumba\",\"fullname\":\"Анатолий\",\"avatarUrl\":\"\\u002F\\u002Fhabrastorage.org\\u002Fgetpro\\u002Fhabr\\u002Favatars\\u002F934\\u002F114\\u002Fddd\\u002F934114ddd0f451ae82636b8fa46a101d.jpg\",\"speciality\":\"Программист C#\"},\"statistics\":{\"commentsCount\":2,\"favoritesCount\":7,\"readingCount\":767,\"score\":1,\"votesCount\":1},\"hubs\":[{\"relatedData\":null,\"id\":\"546\",\"alias\":\"net\",\"type\":\"collective\",\"title\":\".NET\",\"titleHtml\":\".NET\",\"isProfiled\":true},{\"relatedData\":null,\"id\":\"11606\",\"alias\":\"vs\",\"type\":\"collective\",\"title\":\"Visual Studio\",\"titleHtml\":\"Visual Studio\",\"isProfiled\":true}],\"flows\":[{\"id\":\"1\",\"alias\":\"develop\",\"title\":\"Разработка\"}],\"relatedData\":null,\"leadData\":{\"textHtml\":\"\\u003Cp\\u003EВ магазине Visual Studio есть множество различных расширений на все случаи жизни. Есть в сети различные их подборки, которые могут упростить жизнь в общих или конкретных случаях. Однако я, почему-то, никогда не встречал шаблоны или расширения заточенные под проект.\\u003C\\u002Fp\\u003E\",\"imageUrl\":\"https:\\u002F\\u002Fhabrastorage.org\\u002Fgetpro\\u002Fhabr\\u002Fupload_files\\u002F2c2\\u002Fad5\\u002F86b\\u002F2c2ad586b5bb36d0bb5385b69018ac2a.png\",\"buttonTextHtml\":\"Читать далее\",\"image\":{\"url\":\"https:\\u002F\\u002Fhabrastorage.org\\u002Fgetpro\\u002Fhabr\\u002Fupload_files\\u002F2c2\\u002Fad5\\u002F86b\\u002F2c2ad586b5bb36d0bb5385b69018ac2a.png\",\"fit\":\"cover\",\"positionY\":0,\"positionX\":0}},\"status\":\"published\",\"plannedPublishTime\":null,\"checked\":null,\"tags\":[{\"titleHtml\":\"visual studio\"},{\"titleHtml\":\"item template\"}]},\"573584\":{\"id\":\"573584\",\"timePublished\":\"2021-08-18T15:30:03+00:00\",\"isCorporative\":false,\"lang\":\"ru\",\"titleHtml\":\"5 писателей-фантастов, работавших программистами\",\"editorVersion\":\"2.0\",\"postType\":\"article\",\"postLabels\":[],\"author\":{\"id\":\"2495429\",\"alias\":\"Hiro_Protagonist\",\"fullname\":null,\"avatarUrl\":\"\",\"speciality\":\"\"},\"statistics\":{\"commentsCount\":3,\"favoritesCount\":35,\"readingCount\":2476,\"score\":8,\"votesCount\":10},\"hubs\":[{\"relatedData\":null,\"id\":\"21984\",\"alias\":\"sci-fi\",\"type\":\"collective\",\"title\":\"Научная фантастика\",\"titleHtml\":\"Научная фантастика\",\"isProfiled\":false}],\"flows\":[{\"id\":\"7\",\"alias\":\"popsci\",\"title\":\"Научпоп\"}],\"relatedData\":null,\"leadData\":{\"textHtml\":\"\\u003Cp\\u003EПочти все писатели, приходя в литературу, уже имеют за плечами карьеру в той или иной области. Среди авторов встречаются представители самых разных профессий — журналисты, ученые самых разных специализаций, врачи, преподаватели, инженеры, бизнесмены… Список можно продолжать еще долго. Конечно, есть в писательском цехе и выходцы из IT-сферы, и вот несколько примеров программистов, которые сумели прославиться на ниве писательство, а конкретнее — в сфере научной фантастики.&nbsp;\\u003C\\u002Fp\\u003E\",\"imageUrl\":\"https:\\u002F\\u002Fhabrastorage.org\\u002Fgetpro\\u002Fhabr\\u002Fupload_files\\u002F186\\u002Ffe4\\u002F09f\\u002F186fe409f9c23543db4e00ffbfac08b7.jpg\",\"buttonTextHtml\":\"Читать далее\",\"image\":{\"url\":\"https:\\u002F\\u002Fhabrastorage.org\\u002Fgetpro\\u002Fhabr\\u002Fupload_files\\u002F186\\u002Ffe4\\u002F09f\\u002F186fe409f9c23543db4e00ffbfac08b7.jpg\",\"fit\":\"cover\",\"positionY\":0,\"positionX\":0}},\"status\":\"published\",\"plannedPublishTime\":null,\"checked\":null,\"tags\":[{\"titleHtml\":\"научная фантастика\"},{\"titleHtml\":\"читальный зал\"}]},\"573600\":{\"id\":\"573600\",\"timePublished\":\"2021-08-18T17:14:56+00:00\",\"isCorporative\":true,\"lang\":\"ru\",\"titleHtml\":\"В чем носить ноутбук? Плюсы и минусы городских рюкзаков\",\"editorVersion\":\"2.0\",\"postType\":\"article\",\"postLabels\":[],\"author\":{\"id\":\"2208414\",\"alias\":\"Femole\",\"fullname\":\"Валентин Митрохин\",\"avatarUrl\":\"\\u002F\\u002Fhabrastorage.org\\u002Fgetpro\\u002Fhabr\\u002Favatars\\u002F7dc\\u002F178\\u002F13b\\u002F7dc17813b76324a6b202da5263ef5337.jpg\",\"speciality\":\"Пользователь\"},\"statistics\":{\"commentsCount\":2,\"favoritesCount\":5,\"readingCount\":1609,\"score\":4,\"votesCount\":10},\"hubs\":[{\"relatedData\":null,\"id\":\"18764\",\"alias\":\"madrobots\",\"type\":\"corporative\",\"title\":\"Блог компании Madrobots\",\"titleHtml\":\"Блог компании Madrobots\",\"isProfiled\":false}],\"flows\":[],\"relatedData\":null,\"leadData\":{\"textHtml\":\"\\u003Cp\\u003EГородские рюкзаки — одна из любимых тем в Мэдроботс. Половина коллег каждый день приезжает в офис и уезжает домой с ноутбуком за плечами. Традиционно, к осеннему сезону мы пополнили нашу коллекцию рюкзаков и взяли на себя смелость отобрать 7 любопытных моделей.&nbsp;\\u003C\\u002Fp\\u003E\",\"imageUrl\":\"https:\\u002F\\u002Fhabrastorage.org\\u002Fgetpro\\u002Fhabr\\u002Fupload_files\\u002F7be\\u002F476\\u002Fd3b\\u002F7be476d3bbf673284109c1169701cd0d.jpg\",\"buttonTextHtml\":\"Читать далее\",\"image\":{\"url\":\"https:\\u002F\\u002Fhabrastorage.org\\u002Fgetpro\\u002Fhabr\\u002Fupload_files\\u002F7be\\u002F476\\u002Fd3b\\u002F7be476d3bbf673284109c1169701cd0d.jpg\",\"fit\":\"cover\",\"positionY\":0,\"positionX\":0}},\"status\":\"published\",\"plannedPublishTime\":null,\"checked\":null,\"tags\":[{\"titleHtml\":\"городской рюкзак\"},{\"titleHtml\":\"xd design\"},{\"titleHtml\":\"ogio\"},{\"titleHtml\":\"pacsafe\"},{\"titleHtml\":\"thule\"},{\"titleHtml\":\"korin\"},{\"titleHtml\":\"zavtra\"},{\"titleHtml\":\"pixel\"},{\"titleHtml\":\"ноутбук\"},{\"titleHtml\":\"реклама\"}]},\"573606\":{\"id\":\"573606\",\"timePublished\":\"2021-08-18T17:17:34+00:00\",\"isCorporative\":true,\"lang\":\"ru\",\"titleHtml\":\"Большие данные и математические алгоритмы в руках коммерсанта\",\"editorVersion\":\"2.0\",\"postType\":\"article\",\"postLabels\":[],\"author\":{\"id\":\"2658699\",\"alias\":\"phaser6\",\"fullname\":\"Максим Николаев\",\"avatarUrl\":\"\",\"speciality\":\"\"},\"statistics\":{\"commentsCount\":1,\"favoritesCount\":2,\"readingCount\":352,\"score\":0,\"votesCount\":0},\"hubs\":[{\"relatedData\":null,\"id\":\"21218\",\"alias\":\"mvideo\",\"type\":\"corporative\",\"title\":\"Блог компании М.Видео-Эльдорадо\",\"titleHtml\":\"Блог компании М.Видео-Эльдорадо\",\"isProfiled\":false},{\"relatedData\":null,\"id\":\"397\",\"alias\":\"analysis_design\",\"type\":\"collective\",\"title\":\"Анализ и проектирование систем\",\"titleHtml\":\"Анализ и проектирование систем\",\"isProfiled\":true},{\"relatedData\":null,\"id\":\"17795\",\"alias\":\"bigdata\",\"type\":\"collective\",\"title\":\"Big Data\",\"titleHtml\":\"Big Data\",\"isProfiled\":true},{\"relatedData\":null,\"id\":\"19439\",\"alias\":\"machine_learning\",\"type\":\"collective\",\"title\":\"Машинное обучение\",\"titleHtml\":\"Машинное обучение\",\"isProfiled\":true},{\"relatedData\":null,\"id\":\"22374\",\"alias\":\"data_engineering\",\"type\":\"collective\",\"title\":\"Data Engineering\",\"titleHtml\":\"Data Engineering\",\"isProfiled\":true}],\"flows\":[{\"id\":\"1\",\"alias\":\"develop\",\"title\":\"Разработка\"},{\"id\":\"6\",\"alias\":\"admin\",\"title\":\"Администрирование\"}],\"relatedData\":null,\"leadData\":{\"textHtml\":\"\\u003Cp\\u003EВы когда-нибудь задумывались, почему на полках любых магазинов — от гипермаркетов электроники до гастрономов — стоят именно эти товары и именно в такой последовательности? А Категорийные Менеджеры (и дата-сайентисты, кстати) думают об этом постоянно. Сегодня мы расскажем, как в М.Видео-Эльдорадо использовали искусственный интеллект для заполнения полок и изучили потребности клиентов при управлении ассортиментом.   \\u003C\\u002Fp\\u003E\",\"imageUrl\":\"https:\\u002F\\u002Fhabrastorage.org\\u002Fgetpro\\u002Fhabr\\u002Fupload_files\\u002F326\\u002F87f\\u002F791\\u002F32687f7913aa8c2174f28e6be2d7782b.png\",\"buttonTextHtml\":\"Читать далее\",\"image\":{\"url\":\"https:\\u002F\\u002Fhabrastorage.org\\u002Fgetpro\\u002Fhabr\\u002Fupload_files\\u002F326\\u002F87f\\u002F791\\u002F32687f7913aa8c2174f28e6be2d7782b.png\",\"fit\":\"cover\",\"positionY\":0,\"positionX\":0}},\"status\":\"published\",\"plannedPublishTime\":null,\"checked\":null,\"tags\":[{\"titleHtml\":\"М.Видео\"},{\"titleHtml\":\"Эльдорадо\"},{\"titleHtml\":\"Машинное обучение\"},{\"titleHtml\":\"ассортимент\"},{\"titleHtml\":\"ритейл\"},{\"titleHtml\":\"ритейлеры\"},{\"titleHtml\":\"ритейл в облаке\"},{\"titleHtml\":\"data office\"}]},\"573618\":{\"id\":\"573618\",\"timePublished\":\"2021-08-18T19:18:23+00:00\",\"isCorporative\":false,\"lang\":\"ru\",\"titleHtml\":\"Мелкая (?) проблема закрывающих скобок в ЯП\",\"editorVersion\":\"1.0\",\"postType\":\"article\",\"postLabels\":[],\"author\":{\"id\":\"1234896\",\"alias\":\"third112\",\"fullname\":null,\"avatarUrl\":\"\\u002F\\u002Fhabrastorage.org\\u002Fgetpro\\u002Fhabr\\u002Favatars\\u002F4ea\\u002F3d6\\u002Fcba\\u002F4ea3d6cbacc7a7b38328ad88cd4110bb.jpg\",\"speciality\":\"Химик и программист.\"},\"statistics\":{\"commentsCount\":2,\"favoritesCount\":0,\"readingCount\":348,\"score\":-8,\"votesCount\":8},\"hubs\":[{\"relatedData\":null,\"id\":\"359\",\"alias\":\"programming\",\"type\":\"collective\",\"title\":\"Программирование\",\"titleHtml\":\"Программирование\",\"isProfiled\":true}],\"flows\":[{\"id\":\"1\",\"alias\":\"develop\",\"title\":\"Разработка\"}],\"relatedData\":null,\"leadData\":{\"textHtml\":\"\\u003Cimg src=\\\"https:\\u002F\\u002Fhabrastorage.org\\u002Fwebt\\u002F72\\u002F4b\\u002Fac\\u002F724bacaqwdn9knndmxwdju8n-1i.jpeg\\\"\\u003E\\u003Cbr\\u003E\\r\\n\\u003Cbr\\u003E\\r\\nНе один десяток лет программирую. И временами наступаю на одни грабли: закрывающие скобки. Всегда нужно соответствие открывающим. Будь то выражение или программные скобки в функции. IDE обязательно укажет на ошибку, но раздражает!\\u003Cbr\\u003E\",\"imageUrl\":null,\"buttonTextHtml\":\"Читать дальше &rarr;\",\"image\":null},\"status\":\"published\",\"plannedPublishTime\":null,\"checked\":null,\"tags\":[{\"titleHtml\":\"программирование\"},{\"titleHtml\":\"языки программирования\"},{\"titleHtml\":\"компиляторы\"}]}},\"articlesIds\":{\"ARTICLES_LIST_ALL\":[\"573618\",\"541876\",\"573606\",\"573600\",\"573582\",\"573584\",\"573580\",\"573578\",\"573572\",\"573560\",\"573564\",\"573556\",\"573552\",\"570778\",\"573540\",\"571096\",\"573538\",\"573536\",\"573534\",\"573528\"]},\"isLoading\":false,\"pagesCount\":{\"ARTICLES_LIST_ALL\":50},\"route\":{\"name\":\"ARTICLES_LIST_ALL\",\"params\":{\"hl\":\"ru\"},\"query\":{}},\"reasonsList\":null,\"view\":\"cards\",\"lastVisitedRoute\":{},\"ssrCommentsArticleIds\":[],\"karma\":{}},\"authorContribution\":{\"authors\":{}},\"betaTest\":{\"currentAnnouncement\":null,\"announcements\":{},\"announcementCards\":null,\"announcementComments\":{},\"announcementCommentThreads\":{},\"announcementCommentingStatuses\":{},\"archivedList\":[]},\"authorStatistics\":{\"articleRefs\":{},\"articleIds\":{},\"pagesCount\":{},\"route\":{},\"viewsCount\":[],\"maxStatsCount\":{}},\"comments\":{\"articleComments\":{},\"searchCommentsResults\":null,\"previewComment\":null,\"pagesCount\":null,\"commentAccess\":{},\"scrollParents\":{},\"pageArticleComments\":{\"lastViewedComment\":0,\"postId\":null,\"lastCommentTimestamp\":\"\",\"moderated\":[],\"moderatedIds\":[],\"commentRoute\":\"\"}},\"companies\":{\"companyRefs\":{\"ruvds\":{\"id\":\"3593\",\"alias\":\"ruvds\",\"titleHtml\":\"RUVDS.com\",\"descriptionHtml\":\"VDS\\u002FVPS-хостинг. Скидка 10% по коду \\u003Cb\\u003EHABR10\\u003C\\u002Fb\\u003E\",\"imageUrl\":\"\\u002F\\u002Fhabrastorage.org\\u002Fgetpro\\u002Fhabr\\u002Fcompany\\u002Ff27\\u002Fea8\\u002F5bd\\u002Ff27ea85bd62fbd985c308110885af7e0.png\",\"relatedData\":null,\"statistics\":{\"subscribersCount\":33732,\"rating\":2376.45,\"invest\":null},\"commonHubs\":[{\"id\":\"91\",\"alias\":\"webdev\",\"type\":\"collective\",\"title\":\"Разработка веб-сайтов\",\"titleHtml\":\"Разработка веб-сайтов\",\"isProfiled\":true},{\"id\":\"21976\",\"alias\":\"DIY\",\"type\":\"collective\",\"title\":\"DIY или Сделай сам\",\"titleHtml\":\"DIY или Сделай сам\",\"isProfiled\":false},{\"id\":\"221\",\"alias\":\"sys_admin\",\"type\":\"collective\",\"title\":\"Системное администрирование\",\"titleHtml\":\"Системное администрирование\",\"isProfiled\":true},{\"id\":\"359\",\"alias\":\"programming\",\"type\":\"collective\",\"title\":\"Программирование\",\"titleHtml\":\"Программирование\",\"isProfiled\":true},{\"id\":\"21910\",\"alias\":\"popular_science\",\"type\":\"collective\",\"title\":\"Научно-популярное\",\"titleHtml\":\"Научно-популярное\",\"isProfiled\":false}]},\"selectel\":{\"id\":\"975\",\"alias\":\"selectel\",\"titleHtml\":\"Selectel\",\"descriptionHtml\":\"IT-инфраструктура для бизнеса\",\"imageUrl\":\"\\u002F\\u002Fhabrastorage.org\\u002Fgetpro\\u002Fhabr\\u002Fcompany\\u002F66a\\u002Ff7d\\u002F039\\u002F66af7d03979b6d18654293d8f1e72837.png\",\"relatedData\":null,\"statistics\":{\"subscribersCount\":25804,\"rating\":1540.84,\"invest\":null},\"commonHubs\":[{\"id\":\"21898\",\"alias\":\"hardware\",\"type\":\"collective\",\"title\":\"Компьютерное железо\",\"titleHtml\":\"Компьютерное железо\",\"isProfiled\":false},{\"id\":\"22014\",\"alias\":\"futurenow\",\"type\":\"collective\",\"title\":\"Будущее здесь\",\"titleHtml\":\"Будущее здесь\",\"isProfiled\":false},{\"id\":\"21910\",\"alias\":\"popular_science\",\"type\":\"collective\",\"title\":\"Научно-популярное\",\"titleHtml\":\"Научно-популярное\",\"isProfiled\":false},{\"id\":\"21894\",\"alias\":\"gadgets\",\"type\":\"collective\",\"title\":\"Гаджеты\",\"titleHtml\":\"Гаджеты\",\"isProfiled\":false},{\"id\":\"21906\",\"alias\":\"history\",\"type\":\"collective\",\"title\":\"История IT\",\"titleHtml\":\"История IT\",\"isProfiled\":false}]},\"domclick\":{\"id\":\"6680\",\"alias\":\"domclick\",\"titleHtml\":\"ДомКлик\",\"descriptionHtml\":\"Место силы\",\"imageUrl\":\"\\u002F\\u002Fhabrastorage.org\\u002Fgetpro\\u002Fhabr\\u002Fcompany\\u002Fd28\\u002F115\\u002Ff55\\u002Fd28115f5503229d4f9018292fabd1840.jpg\",\"relatedData\":null,\"statistics\":{\"subscribersCount\":569,\"rating\":918.05,\"invest\":null},\"commonHubs\":[{\"id\":\"359\",\"alias\":\"programming\",\"type\":\"collective\",\"title\":\"Программирование\",\"titleHtml\":\"Программирование\",\"isProfiled\":true},{\"id\":\"340\",\"alias\":\"python\",\"type\":\"collective\",\"title\":\"Python\",\"titleHtml\":\"Python\",\"isProfiled\":true},{\"id\":\"357\",\"alias\":\"javascript\",\"type\":\"collective\",\"title\":\"JavaScript\",\"titleHtml\":\"JavaScript\",\"isProfiled\":true},{\"id\":\"91\",\"alias\":\"webdev\",\"type\":\"collective\",\"title\":\"Разработка веб-сайтов\",\"titleHtml\":\"Разработка веб-сайтов\",\"isProfiled\":true},{\"id\":\"19583\",\"alias\":\"dev_management\",\"type\":\"collective\",\"title\":\"Управление разработкой\",\"titleHtml\":\"Управление разработкой\",\"isProfiled\":true}]},\"timeweb\":{\"id\":\"1461\",\"alias\":\"timeweb\",\"titleHtml\":\"Timeweb\",\"descriptionHtml\":\"Хостинг, VDS и ИТ-инфраструктура\",\"imageUrl\":\"\\u002F\\u002Fhabrastorage.org\\u002Fgetpro\\u002Fhabr\\u002Fcompany\\u002Fb5b\\u002F7e1\\u002Fc48\\u002Fb5b7e1c4819388606f1a3c7ed1d2373a.jpg\",\"relatedData\":null,\"statistics\":{\"subscribersCount\":430,\"rating\":736.61,\"invest\":null},\"commonHubs\":[{\"id\":\"21910\",\"alias\":\"popular_science\",\"type\":\"collective\",\"title\":\"Научно-популярное\",\"titleHtml\":\"Научно-популярное\",\"isProfiled\":false},{\"id\":\"359\",\"alias\":\"programming\",\"type\":\"collective\",\"title\":\"Программирование\",\"titleHtml\":\"Программирование\",\"isProfiled\":true},{\"id\":\"20788\",\"alias\":\"devops\",\"type\":\"collective\",\"title\":\"DevOps\",\"titleHtml\":\"DevOps\",\"isProfiled\":true},{\"id\":\"357\",\"alias\":\"javascript\",\"type\":\"collective\",\"title\":\"JavaScript\",\"titleHtml\":\"JavaScript\",\"isProfiled\":true},{\"id\":\"22196\",\"alias\":\"kubernetes\",\"type\":\"collective\",\"title\":\"Kubernetes\",\"titleHtml\":\"Kubernetes\",\"isProfiled\":true}]},\"tuturu\":{\"id\":\"4636\",\"alias\":\"tuturu\",\"titleHtml\":\"Туту.ру\",\"descriptionHtml\":\"Tutu.ru — сервис путешествий №1 в России.\",\"imageUrl\":\"\\u002F\\u002Fhabrastorage.org\\u002Fgetpro\\u002Fhabr\\u002Fcompany\\u002Fd22\\u002F183\\u002Fe95\\u002Fd22183e95aa359a4bfa126050940009c.jpg\",\"relatedData\":null,\"statistics\":{\"subscribersCount\":65322,\"rating\":492.09,\"invest\":null},\"commonHubs\":[{\"id\":\"22004\",\"alias\":\"transport\",\"type\":\"collective\",\"title\":\"Транспорт\",\"titleHtml\":\"Транспорт\",\"isProfiled\":false},{\"id\":\"20682\",\"alias\":\"pm\",\"type\":\"collective\",\"title\":\"Управление проектами\",\"titleHtml\":\"Управление проектами\",\"isProfiled\":true},{\"id\":\"6398\",\"alias\":\"it-infrastructure\",\"type\":\"collective\",\"title\":\"IT-инфраструктура\",\"titleHtml\":\"IT-инфраструктура\",\"isProfiled\":true},{\"id\":\"17463\",\"alias\":\"usability\",\"type\":\"collective\",\"title\":\"Usability\",\"titleHtml\":\"Usability\",\"isProfiled\":true},{\"id\":\"21910\",\"alias\":\"popular_science\",\"type\":\"collective\",\"title\":\"Научно-популярное\",\"titleHtml\":\"Научно-популярное\",\"isProfiled\":false}]},\"oleg-bunin\":{\"id\":\"963\",\"alias\":\"oleg-bunin\",\"titleHtml\":\"Конференции Олега Бунина (Онтико)\",\"descriptionHtml\":\"Профессиональные конференции для IT-разработчиков\",\"imageUrl\":\"\\u002F\\u002Fhabrastorage.org\\u002Fgetpro\\u002Fhabr\\u002Fcompany\\u002F7c3\\u002Fad4\\u002F7b2\\u002F7c3ad47b2aae71b56795f618534e7a51.jpg\",\"relatedData\":null,\"statistics\":{\"subscribersCount\":46515,\"rating\":454.31,\"invest\":null},\"commonHubs\":[{\"id\":\"20754\",\"alias\":\"tech_events\",\"type\":\"collective\",\"title\":\"Конференции\",\"titleHtml\":\"Конференции\",\"isProfiled\":false},{\"id\":\"19583\",\"alias\":\"dev_management\",\"type\":\"collective\",\"title\":\"Управление разработкой\",\"titleHtml\":\"Управление разработкой\",\"isProfiled\":true},{\"id\":\"359\",\"alias\":\"programming\",\"type\":\"collective\",\"title\":\"Программирование\",\"titleHtml\":\"Программирование\",\"isProfiled\":true},{\"id\":\"20788\",\"alias\":\"devops\",\"type\":\"collective\",\"title\":\"DevOps\",\"titleHtml\":\"DevOps\",\"isProfiled\":true},{\"id\":\"22026\",\"alias\":\"itcompanies\",\"type\":\"collective\",\"title\":\"IT-компании\",\"titleHtml\":\"IT-компании\",\"isProfiled\":false}]},\"itsumma\":{\"id\":\"909\",\"alias\":\"itsumma\",\"titleHtml\":\"ITSumma\",\"descriptionHtml\":\"Собираем безумных людей и вместе спасаем интернет\",\"imageUrl\":\"\\u002F\\u002Fhabrastorage.org\\u002Fgetpro\\u002Fhabr\\u002Fcompany\\u002F757\\u002F81b\\u002Fdb7\\u002F75781bdb773986cb1efe18985b74b309.png\",\"relatedData\":null,\"statistics\":{\"subscribersCount\":37503,\"rating\":448.03,\"invest\":null},\"commonHubs\":[{\"id\":\"50\",\"alias\":\"infosecurity\",\"type\":\"collective\",\"title\":\"Информационная безопасность\",\"titleHtml\":\"Информационная безопасность\",\"isProfiled\":true},{\"id\":\"21484\",\"alias\":\"electronics\",\"type\":\"collective\",\"title\":\"Производство и разработка электроники\",\"titleHtml\":\"Производство и разработка электроники\",\"isProfiled\":true},{\"id\":\"144\",\"alias\":\"open_source\",\"type\":\"collective\",\"title\":\"Open source\",\"titleHtml\":\"Open source\",\"isProfiled\":true},{\"id\":\"21918\",\"alias\":\"soft\",\"type\":\"collective\",\"title\":\"Софт\",\"titleHtml\":\"Софт\",\"isProfiled\":false},{\"id\":\"21956\",\"alias\":\"cpu\",\"type\":\"collective\",\"title\":\"Процессоры\",\"titleHtml\":\"Процессоры\",\"isProfiled\":false}]},\"pvs-studio\":{\"id\":\"2065\",\"alias\":\"pvs-studio\",\"titleHtml\":\"PVS-Studio\",\"descriptionHtml\":\"Статический анализ кода для C, C++, C# и Java\",\"imageUrl\":\"\\u002F\\u002Fhabrastorage.org\\u002Fgetpro\\u002Fhabr\\u002Fcompany\\u002F95a\\u002F244\\u002F327\\u002F95a244327fc36477b6048c0f8b67df8b.png\",\"relatedData\":null,\"statistics\":{\"subscribersCount\":20516,\"rating\":415.2,\"invest\":null},\"commonHubs\":[{\"id\":\"559\",\"alias\":\"cpp\",\"type\":\"collective\",\"title\":\"C++\",\"titleHtml\":\"C++\",\"isProfiled\":true},{\"id\":\"144\",\"alias\":\"open_source\",\"type\":\"collective\",\"title\":\"Open source\",\"titleHtml\":\"Open source\",\"isProfiled\":true},{\"id\":\"17718\",\"alias\":\"csharp\",\"type\":\"collective\",\"title\":\"C#\",\"titleHtml\":\"C#\",\"isProfiled\":true},{\"id\":\"546\",\"alias\":\"net\",\"type\":\"collective\",\"title\":\".NET\",\"titleHtml\":\".NET\",\"isProfiled\":true},{\"id\":\"17717\",\"alias\":\"c\",\"type\":\"collective\",\"title\":\"C\",\"titleHtml\":\"C\",\"isProfiled\":true}]},\"flant\":{\"id\":\"4646\",\"alias\":\"flant\",\"titleHtml\":\"Флант\",\"descriptionHtml\":\"DevOps-as-a-Service, Kubernetes, обслуживание 24×7\",\"imageUrl\":\"\\u002F\\u002Fhabrastorage.org\\u002Fgetpro\\u002Fhabr\\u002Fcompany\\u002Fde7\\u002F635\\u002F363\\u002Fde763536359ce6e2d2a978f8dded1964.png\",\"relatedData\":null,\"statistics\":{\"subscribersCount\":25726,\"rating\":401.94,\"invest\":null},\"commonHubs\":[{\"id\":\"20788\",\"alias\":\"devops\",\"type\":\"collective\",\"title\":\"DevOps\",\"titleHtml\":\"DevOps\",\"isProfiled\":true},{\"id\":\"22196\",\"alias\":\"kubernetes\",\"type\":\"collective\",\"title\":\"Kubernetes\",\"titleHtml\":\"Kubernetes\",\"isProfiled\":true},{\"id\":\"221\",\"alias\":\"sys_admin\",\"type\":\"collective\",\"title\":\"Системное администрирование\",\"titleHtml\":\"Системное администрирование\",\"isProfiled\":true},{\"id\":\"144\",\"alias\":\"open_source\",\"type\":\"collective\",\"title\":\"Open source\",\"titleHtml\":\"Open source\",\"isProfiled\":true},{\"id\":\"17681\",\"alias\":\"db_admins\",\"type\":\"collective\",\"title\":\"Администрирование баз данных\",\"titleHtml\":\"Администрирование баз данных\",\"isProfiled\":true}]},\"mailru\":{\"id\":\"2\",\"alias\":\"mailru\",\"titleHtml\":\"Mail.ru Group\",\"descriptionHtml\":\"Строим Интернет\",\"imageUrl\":\"\\u002F\\u002Fhabrastorage.org\\u002Fgetpro\\u002Fhabr\\u002Fcompany\\u002F1c1\\u002F79c\\u002Fe79\\u002F1c179ce792168371a7fe9556db69dc7d.png\",\"relatedData\":null,\"statistics\":{\"subscribersCount\":105963,\"rating\":396.47,\"invest\":null},\"commonHubs\":[{\"id\":\"20788\",\"alias\":\"devops\",\"type\":\"collective\",\"title\":\"DevOps\",\"titleHtml\":\"DevOps\",\"isProfiled\":true},{\"id\":\"359\",\"alias\":\"programming\",\"type\":\"collective\",\"title\":\"Программирование\",\"titleHtml\":\"Программирование\",\"isProfiled\":true},{\"id\":\"22196\",\"alias\":\"kubernetes\",\"type\":\"collective\",\"title\":\"Kubernetes\",\"titleHtml\":\"Kubernetes\",\"isProfiled\":true},{\"id\":\"16120\",\"alias\":\"cloud_computing\",\"type\":\"collective\",\"title\":\"Облачные вычисления\",\"titleHtml\":\"Облачные вычисления\",\"isProfiled\":true},{\"id\":\"21470\",\"alias\":\"cloud_services\",\"type\":\"collective\",\"title\":\"Облачные сервисы\",\"titleHtml\":\"Облачные сервисы\",\"isProfiled\":false}]}},\"companyIds\":{},\"companyTopIds\":[\"ruvds\",\"selectel\",\"domclick\",\"timeweb\",\"tuturu\",\"oleg-bunin\",\"itsumma\",\"pvs-studio\",\"flant\",\"mailru\"],\"pagesCount\":{},\"companyProfiles\":{},\"companiesCategories\":[],\"companiesCategoriesTotalCount\":0,\"companiesWidgets\":{},\"companiesWorkers\":{},\"companiesFans\":{},\"route\":{},\"isLoading\":false,\"companyWorkersLoading\":false,\"companyFansLoading\":false,\"vacancies\":{}},\"companiesContribution\":{\"hubs\":{},\"flows\":{},\"companyRefs\":{}},\"companyHubsContribution\":{\"contributionRefs\":{\"hubRefs\":{},\"hubIds\":{}}},\"conversation\":{\"messages\":[],\"respondent\":null,\"isLoadMore\":false},\"conversations\":{\"conversations\":[],\"unreadCount\":0,\"pagesCount\":0,\"isLoadMore\":false},\"desktopState\":{\"desktopFl\":null,\"desktopHl\":null,\"isChecked\":false,\"isLoginDemanded\":false},\"dfp\":{\"slotsDict\":{}},\"docs\":{\"menu\":{},\"articles\":{},\"mainMenu\":[],\"loading\":{\"main\":false,\"dropdown\":false,\"article\":false}},\"feature\":{\"isProbablyVisible\":\"true\"},\"flows\":{\"flows\":[{\"alias\":\"develop\",\"id\":1,\"route\":{\"name\":\"FLOW_PAGE\",\"params\":{\"flowName\":\"develop\"}}},{\"alias\":\"admin\",\"id\":6,\"route\":{\"name\":\"FLOW_PAGE\",\"params\":{\"flowName\":\"admin\"}}},{\"alias\":\"design\",\"id\":2,\"route\":{\"name\":\"FLOW_PAGE\",\"params\":{\"flowName\":\"design\"}}},{\"alias\":\"management\",\"id\":3,\"route\":{\"name\":\"FLOW_PAGE\",\"params\":{\"flowName\":\"management\"}}},{\"alias\":\"marketing\",\"id\":4,\"route\":{\"name\":\"FLOW_PAGE\",\"params\":{\"flowName\":\"marketing\"}}},{\"alias\":\"popsci\",\"id\":7,\"route\":{\"name\":\"FLOW_PAGE\",\"params\":{\"flowName\":\"popsci\"}}}]},\"global\":{\"isPwa\":false,\"device\":\"desktop\",\"isHabrCom\":true},\"hubs\":{\"hubRefs\":{},\"hubIds\":{},\"pagesCount\":{},\"isLoading\":false,\"route\":{}},\"hubsBlock\":{\"hubRefs\":{},\"hubIds\":{}},\"i18n\":{\"fl\":\"ru\",\"hl\":\"ru\"},\"info\":{\"infoPage\":{},\"isLoading\":true},\"location\":{\"urlStruct\":{\"protocol\":null,\"slashes\":null,\"auth\":null,\"host\":null,\"port\":null,\"hostname\":null,\"hash\":null,\"search\":null,\"query\":{},\"pathname\":null,\"path\":null,\"href\":\"\"},\"searchQuery\":null},\"me\":{\"user\":null,\"ppgDemanded\":false,\"karmaResetInfo\":{\"canReincarnate\":null,\"wasReincarnated\":null,\"currentScore\":null},\"notes\":null},\"mostReadingList\":{\"mostReadingListIds\":[],\"mostReadingListRefs\":null,\"promoPost\":null},\"myFeedSettings\":{\"hubIds\":{},\"hubRefs\":{}},\"newsBlock\":{\"articleRefs\":{},\"articleIds\":{},\"requestTime\":{}},\"pinnedPost\":{\"pinnedPost\":null},\"ppa\":{\"articles\":{},\"card\":null,\"transactions\":null,\"totalTransactions\":null,\"isAccessible\":null},\"projectsBlocks\":{\"activeBlocks\":{}},\"promoBlock\":{\"promoItems\":[]},\"pullRefresh\":{\"shouldRefresh\":false},\"sandbox\":{\"articleIds\":[],\"articleRefs\":{},\"pagesCount\":null,\"route\":{},\"lastVisitedRoute\":{},\"isLoading\":false},\"settingsOther\":{\"inputs\":{\"uiLang\":{\"errors\":[],\"ref\":null,\"value\":\"\"},\"articlesLangEnglish\":{\"errors\":[],\"ref\":null,\"value\":false},\"articlesLangRussian\":{\"errors\":[],\"ref\":null,\"value\":false},\"agreement\":{\"errors\":[],\"ref\":null,\"value\":false},\"email\":{\"errors\":[],\"ref\":null,\"value\":true},\"digest\":{\"errors\":[],\"ref\":null,\"value\":true}}},\"similarList\":{\"similarListIds\":[],\"similarListRefs\":null},\"ssr\":{\"error\":null,\"isDataLoaded\":false,\"isDataLoading\":false,\"isHydrationFailed\":false,\"isServer\":false},\"userHubsContribution\":{\"contributionRefs\":{\"hubRefs\":{},\"hubIds\":{}}},\"userInvites\":{\"availableInvites\":0,\"usedInvitesIds\":[],\"usedInvitesRefs\":{},\"usedInvitesPagesCount\":0,\"unusedInvitesIds\":[],\"unusedInvitesRefs\":{},\"unusedInvitesPagesCount\":0},\"users\":{\"authorRefs\":{},\"authorIds\":{},\"pagesCount\":{},\"authorProfiles\":{},\"userHubs\":{},\"userInvitations\":{},\"authorFollowers\":{},\"authorFollowed\":{},\"karmaStats\":[],\"statistics\":null,\"isLoading\":false,\"authorFollowersLoading\":false,\"authorFollowedLoading\":false,\"userHubsLoading\":false,\"userInvitationsLoading\":false,\"route\":{}},\"viewport\":{\"prevScrollY\":{},\"scrollY\":0,\"width\":0},\"tracker\":{\"items\":{},\"pagesCache\":{},\"markedViewedSilently\":{},\"markedRead\":{},\"unreadCounters\":{\"applications\":null,\"system\":null,\"mentions\":null,\"subscribers\":null,\"posts_and_comments\":null},\"unviewedCounters\":{\"applications\":null,\"system\":null,\"mentions\":null,\"subscribers\":null,\"posts_and_comments\":null}}};(function(){var s;(s=document.currentScript||document.scripts[document.scripts.length-1]).parentNode.removeChild(s);}());</script>\n",
       "<script defer=\"\" src=\"https://assets.habr.com/habr-web/js/chunk-vendors.9e4ba848.js\"></script><script defer=\"\" src=\"https://assets.habr.com/habr-web/js/page-flows.a3016599.js\"></script><script defer=\"\" src=\"https://assets.habr.com/habr-web/js/app.5d04126c.js\"></script>\n",
       "<script>\n",
       "      (function(i,s,o,g,r,a,m){i['GoogleAnalyticsObject']=r;i[r]=i[r]||function(){\n",
       "        (i[r].q=i[r].q||[]).push(arguments)},i[r].l=1*new Date();a=s.createElement(o),\n",
       "        m=s.getElementsByTagName(o)[0];a.async=1;a.src=g;m.parentNode.insertBefore(a,m)\n",
       "      })(window,document,'script','//www.google-analytics.com/analytics.js','ga');\n",
       "    </script>\n",
       "<script type=\"text/javascript\">\n",
       "    (function(m,e,t,r,i,k,a){m[i]=m[i]||function(){(m[i].a=m[i].a||[]).push(arguments)};\n",
       "    m[i].l=1*new Date();k=e.createElement(t),a=e.getElementsByTagName(t)[0],k.async=1,k.src=r,a.parentNode.insertBefore(k,a)})\n",
       "    (window, document, \"script\", \"https://mc.yandex.ru/metrika/tag.js\", \"ym\");\n",
       "\n",
       "    ym(24049213, \"init\", {\n",
       "      defer:true,\n",
       "      trackLinks:true,\n",
       "      accurateTrackBounce:true,\n",
       "      webvisor:false,\n",
       "    });\n",
       "  </script>\n",
       "<noscript>\n",
       "<div>\n",
       "<img alt=\"\" src=\"https://mc.yandex.ru/watch/24049213\" style=\"position:absolute; left:-9999px;\"/>\n",
       "</div>\n",
       "</noscript>\n",
       "<script type=\"text/javascript\">\n",
       "      window.addEventListener('load', function () {\n",
       "        setTimeout(() => {\n",
       "          const img = new Image();\n",
       "          img.src = 'https://vk.com/rtrg?p=VK-RTRG-421343-57vKE';\n",
       "        }, 0);\n",
       "      });\n",
       "    </script>\n",
       "</body>\n",
       "</html>"
      ]
     },
     "execution_count": 5,
     "metadata": {},
     "output_type": "execute_result"
    }
   ],
   "source": [
    "soup"
   ]
  },
  {
   "cell_type": "code",
   "execution_count": 6,
   "metadata": {},
   "outputs": [],
   "source": [
    "posts = soup.find_all('article', class_='tm-articles-list__item')"
   ]
  },
  {
   "cell_type": "code",
   "execution_count": 7,
   "metadata": {},
   "outputs": [
    {
     "data": {
      "text/plain": [
       "[<article class=\"tm-articles-list__item\" data-navigatable=\"\" id=\"573618\" tabindex=\"0\"><div class=\"tm-article-snippet\"><div class=\"tm-article-snippet__meta-container\"><div class=\"tm-article-snippet__meta\"><span class=\"tm-user-info tm-article-snippet__author\"><a class=\"tm-user-info__userpic\" href=\"/ru/users/third112/\" title=\"third112\"><div class=\"tm-entity-image\"><img alt=\"\" class=\"tm-entity-image__pic\" height=\"24\" loading=\"lazy\" src=\"//habrastorage.org/r/w32/getpro/habr/avatars/4ea/3d6/cba/4ea3d6cbacc7a7b38328ad88cd4110bb.jpg\" width=\"24\"/></div></a><span class=\"tm-user-info__user\"><a class=\"tm-user-info__username\" href=\"/ru/users/third112/\">\n",
       "       third112\n",
       "     </a></span></span><span class=\"tm-article-snippet__datetime-published\"><time datetime=\"2021-08-18T19:18:23.000Z\" title=\"2021-08-18, 22:18\">сегодня в 22:18</time></span></div><!-- --></div><h2 class=\"tm-article-snippet__title tm-article-snippet__title_h2\"><a class=\"tm-article-snippet__title-link\" data-article-link=\"\" href=\"/ru/post/573618/\"><span>Мелкая (?) проблема закрывающих скобок в ЯП</span></a></h2><div class=\"tm-article-snippet__hubs\"><span class=\"tm-article-snippet__hubs-item\"><a class=\"tm-article-snippet__hubs-item-link\" href=\"/ru/hub/programming/\"><span>Программирование</span><span class=\"tm-article-snippet__profiled-hub\" title=\"Профильный хаб\">*</span></a></span></div><div class=\"tm-article-snippet__labels\"><!-- --></div><!-- --><div class=\"tm-article-body tm-article-snippet__lead\">\n",
       " <!-- --><div class=\"article-formatted-body article-formatted-body_version-1\"><img src=\"https://habrastorage.org/webt/72/4b/ac/724bacaqwdn9knndmxwdju8n-1i.jpeg\"/><br/>\n",
       " <br/>\n",
       " Не один десяток лет программирую. И временами наступаю на одни грабли: закрывающие скобки. Всегда нужно соответствие открывающим. Будь то выражение или программные скобки в функции. IDE обязательно укажет на ошибку, но раздражает!<br/></div><a class=\"tm-article-snippet__readmore\" href=\"/ru/post/573618/\"><span>Читать дальше →</span></a></div></div><div class=\"tm-data-icons\"><!-- --><div class=\"tm-votes-meter tm-data-icons__item\"><svg class=\"tm-svg-img tm-votes-meter__icon tm-votes-meter__icon_small\" height=\"16\" width=\"16\"><title>Всего голосов 8: ↑0 и ↓8</title><use xlink:href=\"/img/megazord-v24.cee85629.svg#counter-rating\"></use></svg><span class=\"tm-votes-meter__value tm-votes-meter__value_negative tm-votes-meter__value_small\" title=\"Всего голосов 8: ↑0 и ↓8\">-8</span></div><span class=\"tm-icon-counter tm-data-icons__item\" title=\"Количество просмотров\"><svg class=\"tm-svg-img tm-icon-counter__icon\" height=\"16\" width=\"16\"><title>Просмотры</title><use xlink:href=\"/img/megazord-v24.cee85629.svg#counter-views\"></use></svg><span class=\"tm-icon-counter__value\">348</span></span><button class=\"bookmarks-button tm-data-icons__item\" title=\"Добавить в закладки\" type=\"button\"><span class=\"tm-svg-icon__wrapper bookmarks-button__icon\" title=\"Добавить в закладки\"><svg class=\"tm-svg-img tm-svg-icon\" height=\"16\" width=\"16\"><title>Добавить в закладки</title><use xlink:href=\"/img/megazord-v24.cee85629.svg#counter-favorite\"></use></svg></span><span class=\"bookmarks-button__counter\" title=\"Количество пользователей, добавивших публикацию в закладки\">\n",
       "     0\n",
       "   </span></button><div class=\"tm-article-comments-counter-link tm-data-icons__item\" title=\"Читать комментарии\"><a class=\"tm-article-comments-counter-link__link\" href=\"/ru/post/573618/comments/\"><svg class=\"tm-svg-img tm-article-comments-counter-link__icon\" height=\"16\" width=\"16\"><title>Комментарии</title><use xlink:href=\"/img/megazord-v24.cee85629.svg#counter-comments\"></use></svg><span class=\"tm-article-comments-counter-link__value\">\n",
       "       2\n",
       "     </span></a><!-- --></div><!-- --><div class=\"v-portal\" style=\"display:none;\"></div></div></article>,\n",
       " <article class=\"tm-articles-list__item\" data-navigatable=\"\" id=\"541876\" tabindex=\"0\"><div class=\"tm-article-snippet\"><div class=\"tm-article-snippet__meta-container\"><div class=\"tm-article-snippet__meta\"><span class=\"tm-user-info tm-article-snippet__author\"><a class=\"tm-user-info__userpic\" href=\"/ru/users/AmigoRRR/\" title=\"AmigoRRR\"><div class=\"tm-entity-image\"><img alt=\"\" class=\"tm-entity-image__pic\" height=\"24\" loading=\"lazy\" src=\"//habrastorage.org/r/w32/getpro/habr/avatars/d7c/043/f01/d7c043f01383d11234d3c6a909b36328.jpg\" width=\"24\"/></div></a><span class=\"tm-user-info__user\"><a class=\"tm-user-info__username\" href=\"/ru/users/AmigoRRR/\">\n",
       "       AmigoRRR\n",
       "     </a></span></span><span class=\"tm-article-snippet__datetime-published\"><time datetime=\"2021-08-18T17:45:47.000Z\" title=\"2021-08-18, 20:45\">сегодня в 20:45</time></span></div><!-- --></div><h2 class=\"tm-article-snippet__title tm-article-snippet__title_h2\"><a class=\"tm-article-snippet__title-link\" data-article-link=\"\" href=\"/ru/post/541876/\"><span>Результаты конкурса разработки open-source пакетов на Robot Operating System</span></a></h2><div class=\"tm-article-snippet__hubs\"><span class=\"tm-article-snippet__hubs-item\"><a class=\"tm-article-snippet__hubs-item-link\" href=\"/ru/hub/open_source/\"><span>Open source</span><span class=\"tm-article-snippet__profiled-hub\" title=\"Профильный хаб\">*</span></a></span><span class=\"tm-article-snippet__hubs-item\"><a class=\"tm-article-snippet__hubs-item-link\" href=\"/ru/hub/programming/\"><span>Программирование</span><span class=\"tm-article-snippet__profiled-hub\" title=\"Профильный хаб\">*</span></a></span><span class=\"tm-article-snippet__hubs-item\"><a class=\"tm-article-snippet__hubs-item-link\" href=\"/ru/hub/robo_dev/\"><span>Разработка робототехники</span><span class=\"tm-article-snippet__profiled-hub\" title=\"Профильный хаб\">*</span></a></span><span class=\"tm-article-snippet__hubs-item\"><a class=\"tm-article-snippet__hubs-item-link\" href=\"/ru/hub/robot/\"><span>Робототехника</span><!-- --></a></span><span class=\"tm-article-snippet__hubs-item\"><a class=\"tm-article-snippet__hubs-item-link\" href=\"/ru/hub/artificial_intelligence/\"><span>Искусственный интеллект</span><!-- --></a></span></div><div class=\"tm-article-snippet__labels\"><!-- --></div><!-- --><div class=\"tm-article-body tm-article-snippet__lead\">\n",
       " <!-- --><div class=\"article-formatted-body article-formatted-body_version-1\">Публикуем исходный код программных пакетов для роботов победивших в конкурсе open-source пакетов на ROS. Вы можете использовать их в своих роботах или продолжить их разработку вместе с авторами. Победители получили призы, одноплатные компьютеры для роботов от NVIDIA: Xavier, TX2, Nano.<br/>\n",
       " <img src=\"https://habrastorage.org/webt/aj/wb/rp/ajwbrpj5byuao7i3kymwslvrz9m.png\"/><br/></div><a class=\"tm-article-snippet__readmore\" href=\"/ru/post/541876/\"><span>Читать дальше →</span></a></div></div><div class=\"tm-data-icons\"><!-- --><div class=\"tm-votes-meter tm-data-icons__item\"><svg class=\"tm-svg-img tm-votes-meter__icon tm-votes-meter__icon_small\" height=\"16\" width=\"16\"><title>Всего голосов 4: ↑4 и ↓0</title><use xlink:href=\"/img/megazord-v24.cee85629.svg#counter-rating\"></use></svg><span class=\"tm-votes-meter__value tm-votes-meter__value_positive tm-votes-meter__value_small\" title=\"Всего голосов 4: ↑4 и ↓0\">+4</span></div><span class=\"tm-icon-counter tm-data-icons__item\" title=\"Количество просмотров\"><svg class=\"tm-svg-img tm-icon-counter__icon\" height=\"16\" width=\"16\"><title>Просмотры</title><use xlink:href=\"/img/megazord-v24.cee85629.svg#counter-views\"></use></svg><span class=\"tm-icon-counter__value\">301</span></span><button class=\"bookmarks-button tm-data-icons__item\" title=\"Добавить в закладки\" type=\"button\"><span class=\"tm-svg-icon__wrapper bookmarks-button__icon\" title=\"Добавить в закладки\"><svg class=\"tm-svg-img tm-svg-icon\" height=\"16\" width=\"16\"><title>Добавить в закладки</title><use xlink:href=\"/img/megazord-v24.cee85629.svg#counter-favorite\"></use></svg></span><span class=\"bookmarks-button__counter\" title=\"Количество пользователей, добавивших публикацию в закладки\">\n",
       "     5\n",
       "   </span></button><div class=\"tm-article-comments-counter-link tm-data-icons__item\" title=\"Читать комментарии\"><a class=\"tm-article-comments-counter-link__link\" href=\"/ru/post/541876/comments/\"><svg class=\"tm-svg-img tm-article-comments-counter-link__icon\" height=\"16\" width=\"16\"><title>Комментарии</title><use xlink:href=\"/img/megazord-v24.cee85629.svg#counter-comments\"></use></svg><span class=\"tm-article-comments-counter-link__value\">\n",
       "       0\n",
       "     </span></a><!-- --></div><!-- --><div class=\"v-portal\" style=\"display:none;\"></div></div></article>,\n",
       " <article class=\"tm-articles-list__item\" data-navigatable=\"\" id=\"573606\" tabindex=\"0\"><div class=\"tm-article-snippet\"><div class=\"tm-article-snippet__meta-container\"><div class=\"tm-article-snippet__meta\"><span class=\"tm-user-info tm-article-snippet__author\"><a class=\"tm-user-info__userpic\" href=\"/ru/users/phaser6/\" title=\"phaser6\"><div class=\"tm-entity-image\"><svg class=\"tm-svg-img tm-image-placeholder tm-image-placeholder_pink\" height=\"24\" width=\"24\"><!-- --><use xlink:href=\"/img/megazord-v24.cee85629.svg#placeholder-user\"></use></svg></div></a><span class=\"tm-user-info__user\"><a class=\"tm-user-info__username\" href=\"/ru/users/phaser6/\">\n",
       "       phaser6\n",
       "     </a></span></span><span class=\"tm-article-snippet__datetime-published\"><time datetime=\"2021-08-18T17:17:34.000Z\" title=\"2021-08-18, 20:17\">сегодня в 20:17</time></span></div><!-- --></div><h2 class=\"tm-article-snippet__title tm-article-snippet__title_h2\"><a class=\"tm-article-snippet__title-link\" data-article-link=\"\" href=\"/ru/company/mvideo/blog/573606/\"><span>Большие данные и математические алгоритмы в руках коммерсанта</span></a></h2><div class=\"tm-article-snippet__hubs\"><span class=\"tm-article-snippet__hubs-item\"><a class=\"tm-article-snippet__hubs-item-link\" href=\"/ru/company/mvideo/blog/\"><span>Блог компании М.Видео-Эльдорадо</span><!-- --></a></span><span class=\"tm-article-snippet__hubs-item\"><a class=\"tm-article-snippet__hubs-item-link\" href=\"/ru/hub/analysis_design/\"><span>Анализ и проектирование систем</span><span class=\"tm-article-snippet__profiled-hub\" title=\"Профильный хаб\">*</span></a></span><span class=\"tm-article-snippet__hubs-item\"><a class=\"tm-article-snippet__hubs-item-link\" href=\"/ru/hub/bigdata/\"><span>Big Data</span><span class=\"tm-article-snippet__profiled-hub\" title=\"Профильный хаб\">*</span></a></span><span class=\"tm-article-snippet__hubs-item\"><a class=\"tm-article-snippet__hubs-item-link\" href=\"/ru/hub/machine_learning/\"><span>Машинное обучение</span><span class=\"tm-article-snippet__profiled-hub\" title=\"Профильный хаб\">*</span></a></span><span class=\"tm-article-snippet__hubs-item\"><a class=\"tm-article-snippet__hubs-item-link\" href=\"/ru/hub/data_engineering/\"><span>Data Engineering</span><span class=\"tm-article-snippet__profiled-hub\" title=\"Профильный хаб\">*</span></a></span></div><div class=\"tm-article-snippet__labels\"><!-- --></div><!-- --><div class=\"tm-article-body tm-article-snippet__lead\">\n",
       " <div class=\"tm-article-snippet__cover tm-article-snippet__cover_cover\"><img class=\"tm-article-snippet__lead-image\" src=\"https://habrastorage.org/getpro/habr/upload_files/326/87f/791/32687f7913aa8c2174f28e6be2d7782b.png\" style=\"object-position:0% 0%;\"/></div><div class=\"article-formatted-body article-formatted-body_version-2\"><p>Вы когда-нибудь задумывались, почему на полках любых магазинов — от гипермаркетов электроники до гастрономов — стоят именно эти товары и именно в такой последовательности? А Категорийные Менеджеры (и дата-сайентисты, кстати) думают об этом постоянно. Сегодня мы расскажем, как в М.Видео-Эльдорадо использовали искусственный интеллект для заполнения полок и изучили потребности клиентов при управлении ассортиментом.   </p></div><a class=\"tm-article-snippet__readmore\" href=\"/ru/company/mvideo/blog/573606/\"><span>Читать далее</span></a></div></div><div class=\"tm-data-icons\"><!-- --><div class=\"tm-votes-meter tm-data-icons__item\"><svg class=\"tm-svg-img tm-votes-meter__icon tm-votes-meter__icon_small\" height=\"16\" width=\"16\"><title>Рейтинг</title><use xlink:href=\"/img/megazord-v24.cee85629.svg#counter-rating\"></use></svg><span class=\"tm-votes-meter__value tm-votes-meter__value_small\">0</span></div><span class=\"tm-icon-counter tm-data-icons__item\" title=\"Количество просмотров\"><svg class=\"tm-svg-img tm-icon-counter__icon\" height=\"16\" width=\"16\"><title>Просмотры</title><use xlink:href=\"/img/megazord-v24.cee85629.svg#counter-views\"></use></svg><span class=\"tm-icon-counter__value\">352</span></span><button class=\"bookmarks-button tm-data-icons__item\" title=\"Добавить в закладки\" type=\"button\"><span class=\"tm-svg-icon__wrapper bookmarks-button__icon\" title=\"Добавить в закладки\"><svg class=\"tm-svg-img tm-svg-icon\" height=\"16\" width=\"16\"><title>Добавить в закладки</title><use xlink:href=\"/img/megazord-v24.cee85629.svg#counter-favorite\"></use></svg></span><span class=\"bookmarks-button__counter\" title=\"Количество пользователей, добавивших публикацию в закладки\">\n",
       "     2\n",
       "   </span></button><div class=\"tm-article-comments-counter-link tm-data-icons__item\" title=\"Читать комментарии\"><a class=\"tm-article-comments-counter-link__link\" href=\"/ru/company/mvideo/blog/573606/comments/\"><svg class=\"tm-svg-img tm-article-comments-counter-link__icon\" height=\"16\" width=\"16\"><title>Комментарии</title><use xlink:href=\"/img/megazord-v24.cee85629.svg#counter-comments\"></use></svg><span class=\"tm-article-comments-counter-link__value\">\n",
       "       1\n",
       "     </span></a><!-- --></div><!-- --><div class=\"v-portal\" style=\"display:none;\"></div></div></article>,\n",
       " <article class=\"tm-articles-list__item\" data-navigatable=\"\" id=\"573600\" tabindex=\"0\"><div class=\"tm-article-snippet\"><div class=\"tm-article-snippet__meta-container\"><div class=\"tm-article-snippet__meta\"><span class=\"tm-user-info tm-article-snippet__author\"><a class=\"tm-user-info__userpic\" href=\"/ru/users/Femole/\" title=\"Femole\"><div class=\"tm-entity-image\"><img alt=\"\" class=\"tm-entity-image__pic\" height=\"24\" loading=\"lazy\" src=\"//habrastorage.org/r/w32/getpro/habr/avatars/7dc/178/13b/7dc17813b76324a6b202da5263ef5337.jpg\" width=\"24\"/></div></a><span class=\"tm-user-info__user\"><a class=\"tm-user-info__username\" href=\"/ru/users/Femole/\">\n",
       "       Femole\n",
       "     </a></span></span><span class=\"tm-article-snippet__datetime-published\"><time datetime=\"2021-08-18T17:14:56.000Z\" title=\"2021-08-18, 20:14\">сегодня в 20:14</time></span></div><!-- --></div><h2 class=\"tm-article-snippet__title tm-article-snippet__title_h2\"><a class=\"tm-article-snippet__title-link\" data-article-link=\"\" href=\"/ru/company/madrobots/blog/573600/\"><span>В чем носить ноутбук? Плюсы и минусы городских рюкзаков</span></a></h2><div class=\"tm-article-snippet__hubs\"><span class=\"tm-article-snippet__hubs-item\"><a class=\"tm-article-snippet__hubs-item-link\" href=\"/ru/company/madrobots/blog/\"><span>Блог компании Madrobots</span><!-- --></a></span></div><div class=\"tm-article-snippet__labels\"><!-- --></div><!-- --><div class=\"tm-article-body tm-article-snippet__lead\">\n",
       " <div class=\"tm-article-snippet__cover tm-article-snippet__cover_cover\"><img class=\"tm-article-snippet__lead-image\" src=\"https://habrastorage.org/getpro/habr/upload_files/7be/476/d3b/7be476d3bbf673284109c1169701cd0d.jpg\" style=\"object-position:0% 0%;\"/></div><div class=\"article-formatted-body article-formatted-body_version-2\"><p>Городские рюкзаки — одна из любимых тем в Мэдроботс. Половина коллег каждый день приезжает в офис и уезжает домой с ноутбуком за плечами. Традиционно, к осеннему сезону мы пополнили нашу коллекцию рюкзаков и взяли на себя смелость отобрать 7 любопытных моделей. </p></div><a class=\"tm-article-snippet__readmore\" href=\"/ru/company/madrobots/blog/573600/\"><span>Читать далее</span></a></div></div><div class=\"tm-data-icons\"><!-- --><div class=\"tm-votes-meter tm-data-icons__item\"><svg class=\"tm-svg-img tm-votes-meter__icon tm-votes-meter__icon_small\" height=\"16\" width=\"16\"><title>Всего голосов 10: ↑7 и ↓3</title><use xlink:href=\"/img/megazord-v24.cee85629.svg#counter-rating\"></use></svg><span class=\"tm-votes-meter__value tm-votes-meter__value_positive tm-votes-meter__value_small\" title=\"Всего голосов 10: ↑7 и ↓3\">+4</span></div><span class=\"tm-icon-counter tm-data-icons__item\" title=\"Количество просмотров\"><svg class=\"tm-svg-img tm-icon-counter__icon\" height=\"16\" width=\"16\"><title>Просмотры</title><use xlink:href=\"/img/megazord-v24.cee85629.svg#counter-views\"></use></svg><span class=\"tm-icon-counter__value\">1.6K</span></span><button class=\"bookmarks-button tm-data-icons__item\" title=\"Добавить в закладки\" type=\"button\"><span class=\"tm-svg-icon__wrapper bookmarks-button__icon\" title=\"Добавить в закладки\"><svg class=\"tm-svg-img tm-svg-icon\" height=\"16\" width=\"16\"><title>Добавить в закладки</title><use xlink:href=\"/img/megazord-v24.cee85629.svg#counter-favorite\"></use></svg></span><span class=\"bookmarks-button__counter\" title=\"Количество пользователей, добавивших публикацию в закладки\">\n",
       "     5\n",
       "   </span></button><div class=\"tm-article-comments-counter-link tm-data-icons__item\" title=\"Читать комментарии\"><a class=\"tm-article-comments-counter-link__link\" href=\"/ru/company/madrobots/blog/573600/comments/\"><svg class=\"tm-svg-img tm-article-comments-counter-link__icon\" height=\"16\" width=\"16\"><title>Комментарии</title><use xlink:href=\"/img/megazord-v24.cee85629.svg#counter-comments\"></use></svg><span class=\"tm-article-comments-counter-link__value\">\n",
       "       2\n",
       "     </span></a><!-- --></div><!-- --><div class=\"v-portal\" style=\"display:none;\"></div></div></article>,\n",
       " <article class=\"tm-articles-list__item\" data-navigatable=\"\" id=\"573582\" tabindex=\"0\"><div class=\"tm-article-snippet\"><div class=\"tm-article-snippet__meta-container\"><div class=\"tm-article-snippet__meta\"><span class=\"tm-user-info tm-article-snippet__author\"><a class=\"tm-user-info__userpic\" href=\"/ru/users/iRumba/\" title=\"iRumba\"><div class=\"tm-entity-image\"><img alt=\"\" class=\"tm-entity-image__pic\" height=\"24\" loading=\"lazy\" src=\"//habrastorage.org/r/w32/getpro/habr/avatars/934/114/ddd/934114ddd0f451ae82636b8fa46a101d.jpg\" width=\"24\"/></div></a><span class=\"tm-user-info__user\"><a class=\"tm-user-info__username\" href=\"/ru/users/iRumba/\">\n",
       "       iRumba\n",
       "     </a></span></span><span class=\"tm-article-snippet__datetime-published\"><time datetime=\"2021-08-18T15:40:04.000Z\" title=\"2021-08-18, 18:40\">сегодня в 18:40</time></span></div><!-- --></div><h2 class=\"tm-article-snippet__title tm-article-snippet__title_h2\"><a class=\"tm-article-snippet__title-link\" data-article-link=\"\" href=\"/ru/post/573582/\"><span>Пользовательские шаблоны и расширения для Visual Studio под проект (Часть 1: шаблоны элементов)</span></a></h2><div class=\"tm-article-snippet__hubs\"><span class=\"tm-article-snippet__hubs-item\"><a class=\"tm-article-snippet__hubs-item-link\" href=\"/ru/hub/net/\"><span>.NET</span><span class=\"tm-article-snippet__profiled-hub\" title=\"Профильный хаб\">*</span></a></span><span class=\"tm-article-snippet__hubs-item\"><a class=\"tm-article-snippet__hubs-item-link\" href=\"/ru/hub/vs/\"><span>Visual Studio</span><span class=\"tm-article-snippet__profiled-hub\" title=\"Профильный хаб\">*</span></a></span></div><div class=\"tm-article-snippet__labels\"><div class=\"tm-article-snippet__label\"><span>\n",
       "           Tutorial\n",
       "         </span></div></div><!-- --><div class=\"tm-article-body tm-article-snippet__lead\">\n",
       " <div class=\"tm-article-snippet__cover tm-article-snippet__cover_cover\"><img class=\"tm-article-snippet__lead-image\" src=\"https://habrastorage.org/getpro/habr/upload_files/2c2/ad5/86b/2c2ad586b5bb36d0bb5385b69018ac2a.png\" style=\"object-position:0% 0%;\"/></div><div class=\"article-formatted-body article-formatted-body_version-2\"><p>В магазине Visual Studio есть множество различных расширений на все случаи жизни. Есть в сети различные их подборки, которые могут упростить жизнь в общих или конкретных случаях. Однако я, почему-то, никогда не встречал шаблоны или расширения заточенные под проект.</p></div><a class=\"tm-article-snippet__readmore\" href=\"/ru/post/573582/\"><span>Читать далее</span></a></div></div><div class=\"tm-data-icons\"><!-- --><div class=\"tm-votes-meter tm-data-icons__item\"><svg class=\"tm-svg-img tm-votes-meter__icon tm-votes-meter__icon_small\" height=\"16\" width=\"16\"><title>Всего голосов 1: ↑1 и ↓0</title><use xlink:href=\"/img/megazord-v24.cee85629.svg#counter-rating\"></use></svg><span class=\"tm-votes-meter__value tm-votes-meter__value_positive tm-votes-meter__value_small\" title=\"Всего голосов 1: ↑1 и ↓0\">+1</span></div><span class=\"tm-icon-counter tm-data-icons__item\" title=\"Количество просмотров\"><svg class=\"tm-svg-img tm-icon-counter__icon\" height=\"16\" width=\"16\"><title>Просмотры</title><use xlink:href=\"/img/megazord-v24.cee85629.svg#counter-views\"></use></svg><span class=\"tm-icon-counter__value\">767</span></span><button class=\"bookmarks-button tm-data-icons__item\" title=\"Добавить в закладки\" type=\"button\"><span class=\"tm-svg-icon__wrapper bookmarks-button__icon\" title=\"Добавить в закладки\"><svg class=\"tm-svg-img tm-svg-icon\" height=\"16\" width=\"16\"><title>Добавить в закладки</title><use xlink:href=\"/img/megazord-v24.cee85629.svg#counter-favorite\"></use></svg></span><span class=\"bookmarks-button__counter\" title=\"Количество пользователей, добавивших публикацию в закладки\">\n",
       "     7\n",
       "   </span></button><div class=\"tm-article-comments-counter-link tm-data-icons__item\" title=\"Читать комментарии\"><a class=\"tm-article-comments-counter-link__link\" href=\"/ru/post/573582/comments/\"><svg class=\"tm-svg-img tm-article-comments-counter-link__icon\" height=\"16\" width=\"16\"><title>Комментарии</title><use xlink:href=\"/img/megazord-v24.cee85629.svg#counter-comments\"></use></svg><span class=\"tm-article-comments-counter-link__value\">\n",
       "       2\n",
       "     </span></a><!-- --></div><!-- --><div class=\"v-portal\" style=\"display:none;\"></div></div></article>,\n",
       " <article class=\"tm-articles-list__item\" data-navigatable=\"\" id=\"573584\" tabindex=\"0\"><div class=\"tm-article-snippet\"><div class=\"tm-article-snippet__meta-container\"><div class=\"tm-article-snippet__meta\"><span class=\"tm-user-info tm-article-snippet__author\"><a class=\"tm-user-info__userpic\" href=\"/ru/users/Hiro_Protagonist/\" title=\"Hiro_Protagonist\"><div class=\"tm-entity-image\"><svg class=\"tm-svg-img tm-image-placeholder tm-image-placeholder_green\" height=\"24\" width=\"24\"><!-- --><use xlink:href=\"/img/megazord-v24.cee85629.svg#placeholder-user\"></use></svg></div></a><span class=\"tm-user-info__user\"><a class=\"tm-user-info__username\" href=\"/ru/users/Hiro_Protagonist/\">\n",
       "       Hiro_Protagonist\n",
       "     </a></span></span><span class=\"tm-article-snippet__datetime-published\"><time datetime=\"2021-08-18T15:30:03.000Z\" title=\"2021-08-18, 18:30\">сегодня в 18:30</time></span></div><!-- --></div><h2 class=\"tm-article-snippet__title tm-article-snippet__title_h2\"><a class=\"tm-article-snippet__title-link\" data-article-link=\"\" href=\"/ru/post/573584/\"><span>5 писателей-фантастов, работавших программистами</span></a></h2><div class=\"tm-article-snippet__hubs\"><span class=\"tm-article-snippet__hubs-item\"><a class=\"tm-article-snippet__hubs-item-link\" href=\"/ru/hub/sci-fi/\"><span>Научная фантастика</span><!-- --></a></span></div><div class=\"tm-article-snippet__labels\"><!-- --></div><!-- --><div class=\"tm-article-body tm-article-snippet__lead\">\n",
       " <div class=\"tm-article-snippet__cover tm-article-snippet__cover_cover\"><img class=\"tm-article-snippet__lead-image\" src=\"https://habrastorage.org/getpro/habr/upload_files/186/fe4/09f/186fe409f9c23543db4e00ffbfac08b7.jpg\" style=\"object-position:0% 0%;\"/></div><div class=\"article-formatted-body article-formatted-body_version-2\"><p>Почти все писатели, приходя в литературу, уже имеют за плечами карьеру в той или иной области. Среди авторов встречаются представители самых разных профессий — журналисты, ученые самых разных специализаций, врачи, преподаватели, инженеры, бизнесмены… Список можно продолжать еще долго. Конечно, есть в писательском цехе и выходцы из IT-сферы, и вот несколько примеров программистов, которые сумели прославиться на ниве писательство, а конкретнее — в сфере научной фантастики. </p></div><a class=\"tm-article-snippet__readmore\" href=\"/ru/post/573584/\"><span>Читать далее</span></a></div></div><div class=\"tm-data-icons\"><!-- --><div class=\"tm-votes-meter tm-data-icons__item\"><svg class=\"tm-svg-img tm-votes-meter__icon tm-votes-meter__icon_small\" height=\"16\" width=\"16\"><title>Всего голосов 10: ↑9 и ↓1</title><use xlink:href=\"/img/megazord-v24.cee85629.svg#counter-rating\"></use></svg><span class=\"tm-votes-meter__value tm-votes-meter__value_positive tm-votes-meter__value_small\" title=\"Всего голосов 10: ↑9 и ↓1\">+8</span></div><span class=\"tm-icon-counter tm-data-icons__item\" title=\"Количество просмотров\"><svg class=\"tm-svg-img tm-icon-counter__icon\" height=\"16\" width=\"16\"><title>Просмотры</title><use xlink:href=\"/img/megazord-v24.cee85629.svg#counter-views\"></use></svg><span class=\"tm-icon-counter__value\">2.5K</span></span><button class=\"bookmarks-button tm-data-icons__item\" title=\"Добавить в закладки\" type=\"button\"><span class=\"tm-svg-icon__wrapper bookmarks-button__icon\" title=\"Добавить в закладки\"><svg class=\"tm-svg-img tm-svg-icon\" height=\"16\" width=\"16\"><title>Добавить в закладки</title><use xlink:href=\"/img/megazord-v24.cee85629.svg#counter-favorite\"></use></svg></span><span class=\"bookmarks-button__counter\" title=\"Количество пользователей, добавивших публикацию в закладки\">\n",
       "     35\n",
       "   </span></button><div class=\"tm-article-comments-counter-link tm-data-icons__item\" title=\"Читать комментарии\"><a class=\"tm-article-comments-counter-link__link\" href=\"/ru/post/573584/comments/\"><svg class=\"tm-svg-img tm-article-comments-counter-link__icon\" height=\"16\" width=\"16\"><title>Комментарии</title><use xlink:href=\"/img/megazord-v24.cee85629.svg#counter-comments\"></use></svg><span class=\"tm-article-comments-counter-link__value\">\n",
       "       3\n",
       "     </span></a><!-- --></div><!-- --><div class=\"v-portal\" style=\"display:none;\"></div></div></article>,\n",
       " <article class=\"tm-articles-list__item\" data-navigatable=\"\" id=\"573580\" tabindex=\"0\"><div class=\"tm-article-snippet\"><div class=\"tm-article-snippet__meta-container\"><div class=\"tm-article-snippet__meta\"><span class=\"tm-user-info tm-article-snippet__author\"><a class=\"tm-user-info__userpic\" href=\"/ru/users/evage/\" title=\"evage\"><div class=\"tm-entity-image\"><svg class=\"tm-svg-img tm-image-placeholder tm-image-placeholder_blue\" height=\"24\" width=\"24\"><!-- --><use xlink:href=\"/img/megazord-v24.cee85629.svg#placeholder-user\"></use></svg></div></a><span class=\"tm-user-info__user\"><a class=\"tm-user-info__username\" href=\"/ru/users/evage/\">\n",
       "       evage\n",
       "     </a></span></span><span class=\"tm-article-snippet__datetime-published\"><time datetime=\"2021-08-18T15:01:24.000Z\" title=\"2021-08-18, 18:01\">сегодня в 18:01</time></span></div><!-- --></div><h2 class=\"tm-article-snippet__title tm-article-snippet__title_h2\"><a class=\"tm-article-snippet__title-link\" data-article-link=\"\" href=\"/ru/post/573580/\"><span>Первый Компьютерный ЕГЭ 2021</span></a></h2><div class=\"tm-article-snippet__hubs\"><span class=\"tm-article-snippet__hubs-item\"><a class=\"tm-article-snippet__hubs-item-link\" href=\"/ru/hub/study/\"><span>Учебный процесс в IT</span><!-- --></a></span></div><div class=\"tm-article-snippet__labels\"><div class=\"tm-article-snippet__label\"><span>\n",
       "           Из песочницы\n",
       "         </span></div></div><!-- --><div class=\"tm-article-body tm-article-snippet__lead\">\n",
       " <div class=\"tm-article-snippet__cover tm-article-snippet__cover_cover\"><img class=\"tm-article-snippet__lead-image\" src=\"https://habrastorage.org/getpro/habr/upload_files/87a/f98/9a7/87af989a78d03aa7b64694cd8748ae27.jpg\" style=\"object-position:0% 0%;\"/></div><div class=\"article-formatted-body article-formatted-body_version-2\"><p>Всем привет! В этом году я закончил 11 класс и сдавал первый Компьютерный ЕГЭ. Знаю, что довольно поздно пишу статью об этом, но все равно хотелось бы высказать пару мыслей об экзамене и о своем опыте. Хочу рассказать о самом ЕГЭ по информатике, его изменениях, подготовке и о некоторых мелочах.</p></div><a class=\"tm-article-snippet__readmore\" href=\"/ru/post/573580/\"><span>Читать далее</span></a></div></div><div class=\"tm-data-icons\"><!-- --><div class=\"tm-votes-meter tm-data-icons__item\"><svg class=\"tm-svg-img tm-votes-meter__icon tm-votes-meter__icon_small\" height=\"16\" width=\"16\"><title>Всего голосов 9: ↑9 и ↓0</title><use xlink:href=\"/img/megazord-v24.cee85629.svg#counter-rating\"></use></svg><span class=\"tm-votes-meter__value tm-votes-meter__value_positive tm-votes-meter__value_small\" title=\"Всего голосов 9: ↑9 и ↓0\">+9</span></div><span class=\"tm-icon-counter tm-data-icons__item\" title=\"Количество просмотров\"><svg class=\"tm-svg-img tm-icon-counter__icon\" height=\"16\" width=\"16\"><title>Просмотры</title><use xlink:href=\"/img/megazord-v24.cee85629.svg#counter-views\"></use></svg><span class=\"tm-icon-counter__value\">1.5K</span></span><button class=\"bookmarks-button tm-data-icons__item\" title=\"Добавить в закладки\" type=\"button\"><span class=\"tm-svg-icon__wrapper bookmarks-button__icon\" title=\"Добавить в закладки\"><svg class=\"tm-svg-img tm-svg-icon\" height=\"16\" width=\"16\"><title>Добавить в закладки</title><use xlink:href=\"/img/megazord-v24.cee85629.svg#counter-favorite\"></use></svg></span><span class=\"bookmarks-button__counter\" title=\"Количество пользователей, добавивших публикацию в закладки\">\n",
       "     6\n",
       "   </span></button><div class=\"tm-article-comments-counter-link tm-data-icons__item\" title=\"Читать комментарии\"><a class=\"tm-article-comments-counter-link__link\" href=\"/ru/post/573580/comments/\"><svg class=\"tm-svg-img tm-article-comments-counter-link__icon\" height=\"16\" width=\"16\"><title>Комментарии</title><use xlink:href=\"/img/megazord-v24.cee85629.svg#counter-comments\"></use></svg><span class=\"tm-article-comments-counter-link__value\">\n",
       "       7\n",
       "     </span></a><!-- --></div><!-- --><div class=\"v-portal\" style=\"display:none;\"></div></div></article>,\n",
       " <article class=\"tm-articles-list__item\" data-navigatable=\"\" id=\"573578\" tabindex=\"0\"><div class=\"tm-article-snippet\"><div class=\"tm-article-snippet__meta-container\"><div class=\"tm-article-snippet__meta\"><span class=\"tm-user-info tm-article-snippet__author\"><a class=\"tm-user-info__userpic\" href=\"/ru/users/severstal/\" title=\"severstal\"><div class=\"tm-entity-image\"><img alt=\"\" class=\"tm-entity-image__pic\" height=\"24\" loading=\"lazy\" src=\"//habrastorage.org/r/w32/getpro/habr/avatars/cb1/8f3/2f5/cb18f32f5fda72291b08ad8bece982ea.jpg\" width=\"24\"/></div></a><span class=\"tm-user-info__user\"><a class=\"tm-user-info__username\" href=\"/ru/users/severstal/\">\n",
       "       severstal\n",
       "     </a></span></span><span class=\"tm-article-snippet__datetime-published\"><time datetime=\"2021-08-18T14:56:52.000Z\" title=\"2021-08-18, 17:56\">сегодня в 17:56</time></span></div><!-- --></div><h2 class=\"tm-article-snippet__title tm-article-snippet__title_h2\"><a class=\"tm-article-snippet__title-link\" data-article-link=\"\" href=\"/ru/company/severstal/blog/573578/\"><span>Смотрим на металлолом глазами Хищника: как это помогает в производстве стали</span></a></h2><div class=\"tm-article-snippet__hubs\"><span class=\"tm-article-snippet__hubs-item\"><a class=\"tm-article-snippet__hubs-item-link\" href=\"/ru/company/severstal/blog/\"><span>Блог компании Северсталь</span><!-- --></a></span></div><div class=\"tm-article-snippet__labels\"><!-- --></div><!-- --><div class=\"tm-article-body tm-article-snippet__lead\">\n",
       " <div class=\"tm-article-snippet__cover tm-article-snippet__cover_cover\"><img class=\"tm-article-snippet__lead-image\" src=\"https://habrastorage.org/getpro/habr/upload_files/ad3/5f1/126/ad35f1126aac3eeb25f8018d8667e95c.JPG\" style=\"object-position:0% 0%;\"/></div><div class=\"article-formatted-body article-formatted-body_version-2\"><p> </p><p>При переплавке металлолома важно, чтобы в нем не было посторонних предметов и жидкостей. Любой опасный предмет в лучшем случае нарушит технологию плавки, а в худшем — приведет к травмам. Например, зимой в металлоломе часто встречается лед, который вовремя плавки вызывает так называемые «хлопки» и может повредить оборудование стоимостью в миллионы рублей.</p><p>Я, Никита Лазарев, сотрудник сервиса Open Innovations в компании «Северсталь». Расскажу, как мы совместно с технологами «Северсталь Вторчермета» и сотрудниками Дирекции по техническому развитию и качеству использовали тепловизор для поиска обледеневшего лома на промплощадке «Северсталь Вторчермета» и каких результатов добились.</p></div><a class=\"tm-article-snippet__readmore\" href=\"/ru/company/severstal/blog/573578/\"><span>Боремся со льдом!</span></a></div></div><div class=\"tm-data-icons\"><!-- --><div class=\"tm-votes-meter tm-data-icons__item\"><svg class=\"tm-svg-img tm-votes-meter__icon tm-votes-meter__icon_small\" height=\"16\" width=\"16\"><title>Всего голосов 14: ↑14 и ↓0</title><use xlink:href=\"/img/megazord-v24.cee85629.svg#counter-rating\"></use></svg><span class=\"tm-votes-meter__value tm-votes-meter__value_positive tm-votes-meter__value_small\" title=\"Всего голосов 14: ↑14 и ↓0\">+14</span></div><span class=\"tm-icon-counter tm-data-icons__item\" title=\"Количество просмотров\"><svg class=\"tm-svg-img tm-icon-counter__icon\" height=\"16\" width=\"16\"><title>Просмотры</title><use xlink:href=\"/img/megazord-v24.cee85629.svg#counter-views\"></use></svg><span class=\"tm-icon-counter__value\">1.4K</span></span><button class=\"bookmarks-button tm-data-icons__item\" title=\"Добавить в закладки\" type=\"button\"><span class=\"tm-svg-icon__wrapper bookmarks-button__icon\" title=\"Добавить в закладки\"><svg class=\"tm-svg-img tm-svg-icon\" height=\"16\" width=\"16\"><title>Добавить в закладки</title><use xlink:href=\"/img/megazord-v24.cee85629.svg#counter-favorite\"></use></svg></span><span class=\"bookmarks-button__counter\" title=\"Количество пользователей, добавивших публикацию в закладки\">\n",
       "     5\n",
       "   </span></button><div class=\"tm-article-comments-counter-link tm-data-icons__item\" title=\"Читать комментарии\"><a class=\"tm-article-comments-counter-link__link\" href=\"/ru/company/severstal/blog/573578/comments/\"><svg class=\"tm-svg-img tm-article-comments-counter-link__icon\" height=\"16\" width=\"16\"><title>Комментарии</title><use xlink:href=\"/img/megazord-v24.cee85629.svg#counter-comments\"></use></svg><span class=\"tm-article-comments-counter-link__value\">\n",
       "       3\n",
       "     </span></a><!-- --></div><!-- --><div class=\"v-portal\" style=\"display:none;\"></div></div></article>,\n",
       " <article class=\"tm-articles-list__item\" data-navigatable=\"\" id=\"573572\" tabindex=\"0\"><div class=\"tm-article-snippet\"><div class=\"tm-article-snippet__meta-container\"><div class=\"tm-article-snippet__meta\"><span class=\"tm-user-info tm-article-snippet__author\"><a class=\"tm-user-info__userpic\" href=\"/ru/users/kmoseenk/\" title=\"kmoseenk\"><div class=\"tm-entity-image\"><img alt=\"\" class=\"tm-entity-image__pic\" height=\"24\" loading=\"lazy\" src=\"//habrastorage.org/r/w32/getpro/habr/avatars/9c1/f26/fc3/9c1f26fc3a6df952b80365d8dd4a1642.png\" width=\"24\"/></div></a><span class=\"tm-user-info__user\"><a class=\"tm-user-info__username\" href=\"/ru/users/kmoseenk/\">\n",
       "       kmoseenk\n",
       "     </a></span></span><span class=\"tm-article-snippet__datetime-published\"><time datetime=\"2021-08-18T14:44:57.000Z\" title=\"2021-08-18, 17:44\">сегодня в 17:44</time></span></div><!-- --></div><h2 class=\"tm-article-snippet__title tm-article-snippet__title_h2\"><a class=\"tm-article-snippet__title-link\" data-article-link=\"\" href=\"/ru/post/573572/\"><span>Go: объектный файл и релокация</span></a></h2><div class=\"tm-article-snippet__hubs\"><span class=\"tm-article-snippet__hubs-item\"><a class=\"tm-article-snippet__hubs-item-link\" href=\"/ru/hub/programming/\"><span>Программирование</span><span class=\"tm-article-snippet__profiled-hub\" title=\"Профильный хаб\">*</span></a></span><span class=\"tm-article-snippet__hubs-item\"><a class=\"tm-article-snippet__hubs-item-link\" href=\"/ru/hub/go/\"><span>Go</span><span class=\"tm-article-snippet__profiled-hub\" title=\"Профильный хаб\">*</span></a></span></div><div class=\"tm-article-snippet__labels\"><div class=\"tm-article-snippet__label\"><span>\n",
       "           Перевод\n",
       "         </span></div></div><!-- --><div class=\"tm-article-body tm-article-snippet__lead\">\n",
       " <div class=\"tm-article-snippet__cover tm-article-snippet__cover_cover\"><img class=\"tm-article-snippet__lead-image\" src=\"https://habrastorage.org/getpro/habr/upload_files/7d7/a17/55e/7d7a1755e4337c2c9b742d71304c656d.png\" style=\"object-position:0% 0%;\"/></div><div class=\"article-formatted-body article-formatted-body_version-2\"><p><em>Эта статья оперирует версией Go 1.14.</em></p><p><a href=\"https://en.wikipedia.org/wiki/Relocation_(computing)\" rel=\"noopener noreferrer nofollow\"><u>Релокация</u></a> — это этап процесса линковки, в рамках которого каждому внешнему символу присваиваются соответствующие адреса. Поскольку пакеты компилируются отдельно, они не имеют понятия, где функции или переменные из других пакетов находятся фактически. Начнем с тривиального примера, когда нам потребуется релокация.</p></div><a class=\"tm-article-snippet__readmore\" href=\"/ru/post/573572/\"><span>Читать далее</span></a></div></div><div class=\"tm-data-icons\"><!-- --><div class=\"tm-votes-meter tm-data-icons__item\"><svg class=\"tm-svg-img tm-votes-meter__icon tm-votes-meter__icon_small\" height=\"16\" width=\"16\"><title>Всего голосов 1: ↑1 и ↓0</title><use xlink:href=\"/img/megazord-v24.cee85629.svg#counter-rating\"></use></svg><span class=\"tm-votes-meter__value tm-votes-meter__value_positive tm-votes-meter__value_small\" title=\"Всего голосов 1: ↑1 и ↓0\">+1</span></div><span class=\"tm-icon-counter tm-data-icons__item\" title=\"Количество просмотров\"><svg class=\"tm-svg-img tm-icon-counter__icon\" height=\"16\" width=\"16\"><title>Просмотры</title><use xlink:href=\"/img/megazord-v24.cee85629.svg#counter-views\"></use></svg><span class=\"tm-icon-counter__value\">658</span></span><button class=\"bookmarks-button tm-data-icons__item\" title=\"Добавить в закладки\" type=\"button\"><span class=\"tm-svg-icon__wrapper bookmarks-button__icon\" title=\"Добавить в закладки\"><svg class=\"tm-svg-img tm-svg-icon\" height=\"16\" width=\"16\"><title>Добавить в закладки</title><use xlink:href=\"/img/megazord-v24.cee85629.svg#counter-favorite\"></use></svg></span><span class=\"bookmarks-button__counter\" title=\"Количество пользователей, добавивших публикацию в закладки\">\n",
       "     22\n",
       "   </span></button><div class=\"tm-article-comments-counter-link tm-data-icons__item\" title=\"Читать комментарии\"><a class=\"tm-article-comments-counter-link__link\" href=\"/ru/post/573572/comments/\"><svg class=\"tm-svg-img tm-article-comments-counter-link__icon\" height=\"16\" width=\"16\"><title>Комментарии</title><use xlink:href=\"/img/megazord-v24.cee85629.svg#counter-comments\"></use></svg><span class=\"tm-article-comments-counter-link__value\">\n",
       "       0\n",
       "     </span></a><!-- --></div><!-- --><div class=\"v-portal\" style=\"display:none;\"></div></div></article>,\n",
       " <article class=\"tm-articles-list__item\" data-navigatable=\"\" id=\"573560\" tabindex=\"0\"><div class=\"tm-article-snippet\"><div class=\"tm-article-snippet__meta-container\"><div class=\"tm-article-snippet__meta\"><span class=\"tm-user-info tm-article-snippet__author\"><a class=\"tm-user-info__userpic\" href=\"/ru/users/AlexeyR/\" title=\"AlexeyR\"><div class=\"tm-entity-image\"><img alt=\"\" class=\"tm-entity-image__pic\" height=\"24\" loading=\"lazy\" src=\"//habrastorage.org/r/w32/getpro/habr/avatars/5f7/505/ce9/5f7505ce9a529fbc651a7d61c57a1e7b.jpg\" width=\"24\"/></div></a><span class=\"tm-user-info__user\"><a class=\"tm-user-info__username\" href=\"/ru/users/AlexeyR/\">\n",
       "       AlexeyR\n",
       "     </a></span></span><span class=\"tm-article-snippet__datetime-published\"><time datetime=\"2021-08-18T14:44:09.000Z\" title=\"2021-08-18, 17:44\">сегодня в 17:44</time></span></div><!-- --></div><h2 class=\"tm-article-snippet__title tm-article-snippet__title_h2\"><a class=\"tm-article-snippet__title-link\" data-article-link=\"\" href=\"/ru/post/573560/\"><span>Тайна списка шумерских царей. Часть 3. Зодиак</span></a></h2><div class=\"tm-article-snippet__hubs\"><span class=\"tm-article-snippet__hubs-item\"><a class=\"tm-article-snippet__hubs-item-link\" href=\"/ru/hub/maths/\"><span>Математика</span><span class=\"tm-article-snippet__profiled-hub\" title=\"Профильный хаб\">*</span></a></span><span class=\"tm-article-snippet__hubs-item\"><a class=\"tm-article-snippet__hubs-item-link\" href=\"/ru/hub/history/\"><span>История IT</span><!-- --></a></span><span class=\"tm-article-snippet__hubs-item\"><a class=\"tm-article-snippet__hubs-item-link\" href=\"/ru/hub/popular_science/\"><span>Научно-популярное</span><!-- --></a></span><span class=\"tm-article-snippet__hubs-item\"><a class=\"tm-article-snippet__hubs-item-link\" href=\"/ru/hub/astronomy/\"><span>Астрономия</span><!-- --></a></span></div><div class=\"tm-article-snippet__labels\"><!-- --></div><!-- --><div class=\"tm-article-body tm-article-snippet__lead\">\n",
       " <div class=\"tm-article-snippet__cover tm-article-snippet__cover_cover\"><img class=\"tm-article-snippet__lead-image\" src=\"https://habrastorage.org/getpro/habr/upload_files/d22/3bc/a17/d223bca17db3316b2e4f412836f6c8c2.png\" style=\"object-position:0% 0%;\"/></div><div class=\"article-formatted-body article-formatted-body_version-2\"><p>Это продолжение цикла статей о разгадке <a href=\"https://ru.wikipedia.org/wiki/%D0%A1%D0%BF%D0%B8%D1%81%D0%BE%D0%BA_%D1%86%D0%B0%D1%80%D0%B5%D0%B9_%D0%A8%D1%83%D0%BC%D0%B5%D1%80%D0%B0_%D0%B8_%D0%90%D0%BA%D0%BA%D0%B0%D0%B4%D0%B0\" rel=\"noopener noreferrer nofollow\"><u>шумерского царского списка</u></a>. В <a href=\"https://habr.com/ru/post/562898/\" rel=\"noopener noreferrer nofollow\"><u>первой части</u></a> было объяснение важности этой загадки для понимания всей древней истории и описание тех астрономических инструментов, что были созданы по ходу исследования. Во <a href=\"https://habr.com/ru/post/569956/\" rel=\"noopener noreferrer nofollow\"><u>второй</u></a> рассказ о вавилонском звездном каталоге MUL.APIN и предположение, что названиями звезд и созвездий в нем была зашифрована вечная, циклически повторяющаяся история борьбы смысла и закона. Но цепочка переводов аккадских имен, хотя она и создает стройный рассказ, не может быть доказательством сама по себе. Нужны дополнительные, более строгие подтверждения. В этой части мы их и рассмотрим.</p><p>Что вы знаете об <a href=\"https://ru.wikipedia.org/wiki/%D0%90%D1%81%D1%82%D1%80%D0%BE%D0%BB%D0%BE%D0%B3%D0%B8%D1%8F\" rel=\"noopener noreferrer nofollow\"><u>астрологии</u></a>? Название “астрология” происходит от древнегреческого ἀστήρ «звезда» и λόγος «мысль, причина». Сама астрология — это некая древняя практика, которая позволяет гадать по звездам. Дескать, звезды влияют на судьбы людей и по положению звезд можно предсказывать будущее.</p><p>Как вы относитесь к астрологии? Здравомыслящий человек понимает, что астрология — это, как и всякое гадание, шарлатанство. Положение Солнца, планет и созвездий выступает генератором случайных сочетаний, которым астрологи дают свои толкования. Люди, склонные к мистицизму, готовы платить за это деньги. Спрос рождает предложение.  Все так?</p><p>Что такое знаки зодиака? Есть двенадцать созвездий, лежащих на годичном пути Солнца. То, в каком знаке родился человек, по мнению астрологов определяет его характер и судьбу. Зодиак придумали греки, поместив на небо героев своих мифов.</p></div><a class=\"tm-article-snippet__readmore\" href=\"/ru/post/573560/\"><span>Читать далее</span></a></div></div><div class=\"tm-data-icons\"><!-- --><div class=\"tm-votes-meter tm-data-icons__item\"><svg class=\"tm-svg-img tm-votes-meter__icon tm-votes-meter__icon_small\" height=\"16\" width=\"16\"><title>Всего голосов 6: ↑3 и ↓3</title><use xlink:href=\"/img/megazord-v24.cee85629.svg#counter-rating\"></use></svg><span class=\"tm-votes-meter__value tm-votes-meter__value_small\" title=\"Всего голосов 6: ↑3 и ↓3\">0</span></div><span class=\"tm-icon-counter tm-data-icons__item\" title=\"Количество просмотров\"><svg class=\"tm-svg-img tm-icon-counter__icon\" height=\"16\" width=\"16\"><title>Просмотры</title><use xlink:href=\"/img/megazord-v24.cee85629.svg#counter-views\"></use></svg><span class=\"tm-icon-counter__value\">849</span></span><button class=\"bookmarks-button tm-data-icons__item\" title=\"Добавить в закладки\" type=\"button\"><span class=\"tm-svg-icon__wrapper bookmarks-button__icon\" title=\"Добавить в закладки\"><svg class=\"tm-svg-img tm-svg-icon\" height=\"16\" width=\"16\"><title>Добавить в закладки</title><use xlink:href=\"/img/megazord-v24.cee85629.svg#counter-favorite\"></use></svg></span><span class=\"bookmarks-button__counter\" title=\"Количество пользователей, добавивших публикацию в закладки\">\n",
       "     15\n",
       "   </span></button><div class=\"tm-article-comments-counter-link tm-data-icons__item\" title=\"Читать комментарии\"><a class=\"tm-article-comments-counter-link__link\" href=\"/ru/post/573560/comments/\"><svg class=\"tm-svg-img tm-article-comments-counter-link__icon\" height=\"16\" width=\"16\"><title>Комментарии</title><use xlink:href=\"/img/megazord-v24.cee85629.svg#counter-comments\"></use></svg><span class=\"tm-article-comments-counter-link__value\">\n",
       "       0\n",
       "     </span></a><!-- --></div><!-- --><div class=\"v-portal\" style=\"display:none;\"></div></div></article>,\n",
       " <article class=\"tm-articles-list__item\" data-navigatable=\"\" id=\"573564\" tabindex=\"0\"><div class=\"tm-article-snippet\"><div class=\"tm-article-snippet__meta-container\"><div class=\"tm-article-snippet__meta\"><span class=\"tm-user-info tm-article-snippet__author\"><a class=\"tm-user-info__userpic\" href=\"/ru/users/Elpi/\" title=\"Elpi\"><div class=\"tm-entity-image\"><svg class=\"tm-svg-img tm-image-placeholder tm-image-placeholder_lilac\" height=\"24\" width=\"24\"><!-- --><use xlink:href=\"/img/megazord-v24.cee85629.svg#placeholder-user\"></use></svg></div></a><span class=\"tm-user-info__user\"><a class=\"tm-user-info__username\" href=\"/ru/users/Elpi/\">\n",
       "       Elpi\n",
       "     </a></span></span><span class=\"tm-article-snippet__datetime-published\"><time datetime=\"2021-08-18T14:07:50.000Z\" title=\"2021-08-18, 17:07\">сегодня в 17:07</time></span></div><!-- --></div><h2 class=\"tm-article-snippet__title tm-article-snippet__title_h2\"><a class=\"tm-article-snippet__title-link\" data-article-link=\"\" href=\"/ru/post/573564/\"><span>Компьютерная фотография для фотолюбителя на примере Gigapixel AI</span></a></h2><div class=\"tm-article-snippet__hubs\"><span class=\"tm-article-snippet__hubs-item\"><a class=\"tm-article-snippet__hubs-item-link\" href=\"/ru/hub/popular_science/\"><span>Научно-популярное</span><!-- --></a></span><span class=\"tm-article-snippet__hubs-item\"><a class=\"tm-article-snippet__hubs-item-link\" href=\"/ru/hub/artificial_intelligence/\"><span>Искусственный интеллект</span><!-- --></a></span><span class=\"tm-article-snippet__hubs-item\"><a class=\"tm-article-snippet__hubs-item-link\" href=\"/ru/hub/photo/\"><span>Фототехника</span><!-- --></a></span></div><div class=\"tm-article-snippet__labels\"><div class=\"tm-article-snippet__label\"><span>\n",
       "           Tutorial\n",
       "         </span></div></div><!-- --><div class=\"tm-article-body tm-article-snippet__lead\">\n",
       " <div class=\"tm-article-snippet__cover tm-article-snippet__cover_cover\"><img class=\"tm-article-snippet__lead-image\" src=\"https://habrastorage.org/getpro/habr/upload_files/9c4/afe/1ae/9c4afe1ae0148708805d2089673ce763.jpg\" style=\"object-position:0% 0%;\"/></div><div class=\"article-formatted-body article-formatted-body_version-2\"><p>В статье на конкретном примере проиллюстрировано использование программы для улучшения фотографий на основе нейросетей. Надеюсь, будет полезна как обладателям фотокамер, так и снимающим на смартфон.</p></div><a class=\"tm-article-snippet__readmore\" href=\"/ru/post/573564/\"><span>Читать далее</span></a></div></div><div class=\"tm-data-icons\"><!-- --><div class=\"tm-votes-meter tm-data-icons__item\"><svg class=\"tm-svg-img tm-votes-meter__icon tm-votes-meter__icon_small\" height=\"16\" width=\"16\"><title>Всего голосов 3: ↑2 и ↓1</title><use xlink:href=\"/img/megazord-v24.cee85629.svg#counter-rating\"></use></svg><span class=\"tm-votes-meter__value tm-votes-meter__value_positive tm-votes-meter__value_small\" title=\"Всего голосов 3: ↑2 и ↓1\">+1</span></div><span class=\"tm-icon-counter tm-data-icons__item\" title=\"Количество просмотров\"><svg class=\"tm-svg-img tm-icon-counter__icon\" height=\"16\" width=\"16\"><title>Просмотры</title><use xlink:href=\"/img/megazord-v24.cee85629.svg#counter-views\"></use></svg><span class=\"tm-icon-counter__value\">1.2K</span></span><button class=\"bookmarks-button tm-data-icons__item\" title=\"Добавить в закладки\" type=\"button\"><span class=\"tm-svg-icon__wrapper bookmarks-button__icon\" title=\"Добавить в закладки\"><svg class=\"tm-svg-img tm-svg-icon\" height=\"16\" width=\"16\"><title>Добавить в закладки</title><use xlink:href=\"/img/megazord-v24.cee85629.svg#counter-favorite\"></use></svg></span><span class=\"bookmarks-button__counter\" title=\"Количество пользователей, добавивших публикацию в закладки\">\n",
       "     8\n",
       "   </span></button><div class=\"tm-article-comments-counter-link tm-data-icons__item\" title=\"Читать комментарии\"><a class=\"tm-article-comments-counter-link__link\" href=\"/ru/post/573564/comments/\"><svg class=\"tm-svg-img tm-article-comments-counter-link__icon\" height=\"16\" width=\"16\"><title>Комментарии</title><use xlink:href=\"/img/megazord-v24.cee85629.svg#counter-comments\"></use></svg><span class=\"tm-article-comments-counter-link__value\">\n",
       "       23\n",
       "     </span></a><!-- --></div><!-- --><div class=\"v-portal\" style=\"display:none;\"></div></div></article>,\n",
       " <article class=\"tm-articles-list__item\" data-navigatable=\"\" id=\"573556\" tabindex=\"0\"><div class=\"tm-article-snippet\"><div class=\"tm-article-snippet__meta-container\"><div class=\"tm-article-snippet__meta\"><span class=\"tm-user-info tm-article-snippet__author\"><a class=\"tm-user-info__userpic\" href=\"/ru/users/AnalogBytes/\" title=\"AnalogBytes\"><div class=\"tm-entity-image\"><img alt=\"\" class=\"tm-entity-image__pic\" height=\"24\" loading=\"lazy\" src=\"//habrastorage.org/r/w32/getpro/habr/avatars/48f/a9f/3dc/48fa9f3dcdc760fb33219817dea64f8e.png\" width=\"24\"/></div></a><span class=\"tm-user-info__user\"><a class=\"tm-user-info__username\" href=\"/ru/users/AnalogBytes/\">\n",
       "       AnalogBytes\n",
       "     </a></span></span><span class=\"tm-article-snippet__datetime-published\"><time datetime=\"2021-08-18T13:39:54.000Z\" title=\"2021-08-18, 16:39\">сегодня в 16:39</time></span></div><!-- --></div><h2 class=\"tm-article-snippet__title tm-article-snippet__title_h2\"><a class=\"tm-article-snippet__title-link\" data-article-link=\"\" href=\"/ru/post/573556/\"><span>Россия vs Эстония: сравнение электронных голосований</span></a></h2><div class=\"tm-article-snippet__hubs\"><span class=\"tm-article-snippet__hubs-item\"><a class=\"tm-article-snippet__hubs-item-link\" href=\"/ru/hub/infosecurity/\"><span>Информационная безопасность</span><span class=\"tm-article-snippet__profiled-hub\" title=\"Профильный хаб\">*</span></a></span><span class=\"tm-article-snippet__hubs-item\"><a class=\"tm-article-snippet__hubs-item-link\" href=\"/ru/hub/crypto/\"><span>Криптография</span><span class=\"tm-article-snippet__profiled-hub\" title=\"Профильный хаб\">*</span></a></span></div><div class=\"tm-article-snippet__labels\"><!-- --></div><!-- --><div class=\"tm-article-body tm-article-snippet__lead\">\n",
       " <div class=\"tm-article-snippet__cover tm-article-snippet__cover_cover\"><img class=\"tm-article-snippet__lead-image\" src=\"https://habrastorage.org/getpro/habr/upload_files/f71/397/0f9/f713970f97b0f943c87f442927849d95.jpg\" style=\"object-position:0% 0%;\"/></div><div class=\"article-formatted-body article-formatted-body_version-2\"><p>В последнее время про дистанционные электронные голосования (ДЭГ) говорят много — на сентябрьских выборах ДЭГ будет использоваться в семи регионах, в нём ожидают до 2 млн. избирателей, и Москва уже развернула широкую рекламно-информационную кампанию.</p><p>При этом — по очевидной причине — данная кампания, как и большинство других материалов, направлены на обычного избирателя, и в основном подчёркивает удобство ДЭГ для него. Материалов для IT-специалистов и экспертов по-прежнему, прямо скажем, негусто, а те, что есть — например, <a href=\"https://habr.com/ru/company/rostelecom/blog/519178/\" rel=\"noopener noreferrer nofollow\">в блоге «Ростелекома» на Хабре</a> — наоборот, ударяются в другую крайность, будучи переполненными техническими деталями.</p><p>Начиная с сегодняшнего материала, мы попробуем рассказать про то, как работают российские системы ДЭГ (их две!), пытаясь соблюсти баланс между популярностью изложения и техническими подробностями.</p><p>Стартуем с международного опыта: при разговорах о ДЭГ часто всплывает Эстония, как один из пионеров электронных голосований масштаба государства — там ДЭГ применяется с 2005 года, и применяется успешно.</p><p>Как соотносятся российские и эстонские системы с точки зрения концепции реализации, функционала, надёжности в контексте голосования? Изучить этот вопрос мы попросили нашего эксперта <strong>Андрея Филиппова</strong>, так что под катом — его текст.</p></div><a class=\"tm-article-snippet__readmore\" href=\"/ru/post/573556/\"><span>Читать далее</span></a></div></div><div class=\"tm-data-icons\"><!-- --><div class=\"tm-votes-meter tm-data-icons__item\"><svg class=\"tm-svg-img tm-votes-meter__icon tm-votes-meter__icon_small\" height=\"16\" width=\"16\"><title>Всего голосов 13: ↑11 и ↓2</title><use xlink:href=\"/img/megazord-v24.cee85629.svg#counter-rating\"></use></svg><span class=\"tm-votes-meter__value tm-votes-meter__value_positive tm-votes-meter__value_small\" title=\"Всего голосов 13: ↑11 и ↓2\">+9</span></div><span class=\"tm-icon-counter tm-data-icons__item\" title=\"Количество просмотров\"><svg class=\"tm-svg-img tm-icon-counter__icon\" height=\"16\" width=\"16\"><title>Просмотры</title><use xlink:href=\"/img/megazord-v24.cee85629.svg#counter-views\"></use></svg><span class=\"tm-icon-counter__value\">1.5K</span></span><button class=\"bookmarks-button tm-data-icons__item\" title=\"Добавить в закладки\" type=\"button\"><span class=\"tm-svg-icon__wrapper bookmarks-button__icon\" title=\"Добавить в закладки\"><svg class=\"tm-svg-img tm-svg-icon\" height=\"16\" width=\"16\"><title>Добавить в закладки</title><use xlink:href=\"/img/megazord-v24.cee85629.svg#counter-favorite\"></use></svg></span><span class=\"bookmarks-button__counter\" title=\"Количество пользователей, добавивших публикацию в закладки\">\n",
       "     11\n",
       "   </span></button><div class=\"tm-article-comments-counter-link tm-data-icons__item\" title=\"Читать комментарии\"><a class=\"tm-article-comments-counter-link__link\" href=\"/ru/post/573556/comments/\"><svg class=\"tm-svg-img tm-article-comments-counter-link__icon\" height=\"16\" width=\"16\"><title>Комментарии</title><use xlink:href=\"/img/megazord-v24.cee85629.svg#counter-comments\"></use></svg><span class=\"tm-article-comments-counter-link__value\">\n",
       "       5\n",
       "     </span></a><!-- --></div><!-- --><div class=\"v-portal\" style=\"display:none;\"></div></div></article>,\n",
       " <article class=\"tm-articles-list__item\" data-navigatable=\"\" id=\"573552\" tabindex=\"0\"><div class=\"tm-article-snippet\"><div class=\"tm-article-snippet__meta-container\"><div class=\"tm-article-snippet__meta\"><span class=\"tm-user-info tm-article-snippet__author\"><a class=\"tm-user-info__userpic\" href=\"/ru/users/Demschwarz/\" title=\"Demschwarz\"><div class=\"tm-entity-image\"><svg class=\"tm-svg-img tm-image-placeholder tm-image-placeholder_blue\" height=\"24\" width=\"24\"><!-- --><use xlink:href=\"/img/megazord-v24.cee85629.svg#placeholder-user\"></use></svg></div></a><span class=\"tm-user-info__user\"><a class=\"tm-user-info__username\" href=\"/ru/users/Demschwarz/\">\n",
       "       Demschwarz\n",
       "     </a></span></span><span class=\"tm-article-snippet__datetime-published\"><time datetime=\"2021-08-18T13:18:52.000Z\" title=\"2021-08-18, 16:18\">сегодня в 16:18</time></span></div><!-- --></div><h2 class=\"tm-article-snippet__title tm-article-snippet__title_h2\"><a class=\"tm-article-snippet__title-link\" data-article-link=\"\" href=\"/ru/post/573552/\"><span>Как я запускал классификацию изображений на домашнем кластере Apache Ignite ML</span></a></h2><div class=\"tm-article-snippet__hubs\"><span class=\"tm-article-snippet__hubs-item\"><a class=\"tm-article-snippet__hubs-item-link\" href=\"/ru/hub/java/\"><span>Java</span><span class=\"tm-article-snippet__profiled-hub\" title=\"Профильный хаб\">*</span></a></span><span class=\"tm-article-snippet__hubs-item\"><a class=\"tm-article-snippet__hubs-item-link\" href=\"/ru/hub/apache/\"><span>Apache</span><span class=\"tm-article-snippet__profiled-hub\" title=\"Профильный хаб\">*</span></a></span><span class=\"tm-article-snippet__hubs-item\"><a class=\"tm-article-snippet__hubs-item-link\" href=\"/ru/hub/machine_learning/\"><span>Машинное обучение</span><span class=\"tm-article-snippet__profiled-hub\" title=\"Профильный хаб\">*</span></a></span></div><div class=\"tm-article-snippet__labels\"><div class=\"tm-article-snippet__label\"><span>\n",
       "           Из песочницы\n",
       "         </span></div></div><!-- --><div class=\"tm-article-body tm-article-snippet__lead\">\n",
       " <div class=\"tm-article-snippet__cover tm-article-snippet__cover_cover\"><img class=\"tm-article-snippet__lead-image\" src=\"https://habrastorage.org/getpro/habr/upload_files/d9e/ab4/ae5/d9eab4ae5a2954cfe8414370f4ab6a9b.jpg\" style=\"object-position:0% 0%;\"/></div><div class=\"article-formatted-body article-formatted-body_version-2\"><p>Я - студент университета, знаком с машинным обучением в рамках пройденного курса, есть интерес к современным кластерным технологиям, конкретно - к Apache Ignite. Под катом — история о том, как я запускал пример <code>OneVsRestClassificationExample</code> из дистрибутива.</p></div><a class=\"tm-article-snippet__readmore\" href=\"/ru/post/573552/\"><span>Читать далее</span></a></div></div><div class=\"tm-data-icons\"><!-- --><div class=\"tm-votes-meter tm-data-icons__item\"><svg class=\"tm-svg-img tm-votes-meter__icon tm-votes-meter__icon_small\" height=\"16\" width=\"16\"><title>Всего голосов 2: ↑2 и ↓0</title><use xlink:href=\"/img/megazord-v24.cee85629.svg#counter-rating\"></use></svg><span class=\"tm-votes-meter__value tm-votes-meter__value_positive tm-votes-meter__value_small\" title=\"Всего голосов 2: ↑2 и ↓0\">+2</span></div><span class=\"tm-icon-counter tm-data-icons__item\" title=\"Количество просмотров\"><svg class=\"tm-svg-img tm-icon-counter__icon\" height=\"16\" width=\"16\"><title>Просмотры</title><use xlink:href=\"/img/megazord-v24.cee85629.svg#counter-views\"></use></svg><span class=\"tm-icon-counter__value\">671</span></span><button class=\"bookmarks-button tm-data-icons__item\" title=\"Добавить в закладки\" type=\"button\"><span class=\"tm-svg-icon__wrapper bookmarks-button__icon\" title=\"Добавить в закладки\"><svg class=\"tm-svg-img tm-svg-icon\" height=\"16\" width=\"16\"><title>Добавить в закладки</title><use xlink:href=\"/img/megazord-v24.cee85629.svg#counter-favorite\"></use></svg></span><span class=\"bookmarks-button__counter\" title=\"Количество пользователей, добавивших публикацию в закладки\">\n",
       "     9\n",
       "   </span></button><div class=\"tm-article-comments-counter-link tm-data-icons__item\" title=\"Читать комментарии\"><a class=\"tm-article-comments-counter-link__link\" href=\"/ru/post/573552/comments/\"><svg class=\"tm-svg-img tm-article-comments-counter-link__icon\" height=\"16\" width=\"16\"><title>Комментарии</title><use xlink:href=\"/img/megazord-v24.cee85629.svg#counter-comments\"></use></svg><span class=\"tm-article-comments-counter-link__value\">\n",
       "       0\n",
       "     </span></a><!-- --></div><!-- --><div class=\"v-portal\" style=\"display:none;\"></div></div></article>,\n",
       " <article class=\"tm-articles-list__item\" data-navigatable=\"\" id=\"570778\" tabindex=\"0\"><div class=\"tm-article-snippet\"><div class=\"tm-article-snippet__meta-container\"><div class=\"tm-article-snippet__meta\"><span class=\"tm-user-info tm-article-snippet__author\"><a class=\"tm-user-info__userpic\" href=\"/ru/users/TinyElectronicFriends/\" title=\"TinyElectronicFriends\"><div class=\"tm-entity-image\"><img alt=\"\" class=\"tm-entity-image__pic\" height=\"24\" loading=\"lazy\" src=\"//habrastorage.org/r/w32/getpro/habr/avatars/a66/a42/f33/a66a42f3318aca789139e414ab656b41.png\" width=\"24\"/></div></a><span class=\"tm-user-info__user\"><a class=\"tm-user-info__username\" href=\"/ru/users/TinyElectronicFriends/\">\n",
       "       TinyElectronicFriends\n",
       "     </a></span></span><span class=\"tm-article-snippet__datetime-published\"><time datetime=\"2021-08-18T13:00:02.000Z\" title=\"2021-08-18, 16:00\">сегодня в 16:00</time></span></div><!-- --></div><h2 class=\"tm-article-snippet__title tm-article-snippet__title_h2\"><a class=\"tm-article-snippet__title-link\" data-article-link=\"\" href=\"/ru/company/ruvds/blog/570778/\"><span>«Народный» тестер аккумуляторов Konnwei KW600: подробный обзор с историей обновлений</span></a></h2><div class=\"tm-article-snippet__hubs\"><span class=\"tm-article-snippet__hubs-item\"><a class=\"tm-article-snippet__hubs-item-link\" href=\"/ru/company/ruvds/blog/\"><span>Блог компании RUVDS.com</span><!-- --></a></span><span class=\"tm-article-snippet__hubs-item\"><a class=\"tm-article-snippet__hubs-item-link\" href=\"/ru/hub/energy/\"><span>Энергия и элементы питания</span><!-- --></a></span><span class=\"tm-article-snippet__hubs-item\"><a class=\"tm-article-snippet__hubs-item-link\" href=\"/ru/hub/autogadgets/\"><span>Автомобильные гаджеты</span><!-- --></a></span><span class=\"tm-article-snippet__hubs-item\"><a class=\"tm-article-snippet__hubs-item-link\" href=\"/ru/hub/transport/\"><span>Транспорт</span><!-- --></a></span></div><div class=\"tm-article-snippet__labels\"><!-- --></div><!-- --><div class=\"tm-article-body tm-article-snippet__lead\">\n",
       " <!-- --><div class=\"article-formatted-body article-formatted-body_version-1\"><a href=\"https://habr.com/ru/company/ruvds/blog/570778/\"><div style=\"text-align:center;\"><img src=\"https://habrastorage.org/webt/su/po/cr/supocrt5ier4uhwfhmpy9ftqtey.png\"/></div></a><br/>\n",
       " Привет, Хабр! Когда видим или слышим словосочетание «тестер автомобильных аккумуляторных батарей» (АКБ), на ум приходит карманное устройство с двумя крокодилами и маленьким монохромным экранчиком, измеряющее параметры аккумулятора за несколько томительных секунд. Но уже существуют и доступны более продвинутые приборы, широко известные в узких кругах автомобилистов.<br/></div><a class=\"tm-article-snippet__readmore\" href=\"/ru/company/ruvds/blog/570778/\"><span>Читать дальше →</span></a></div></div><div class=\"tm-data-icons\"><!-- --><div class=\"tm-votes-meter tm-data-icons__item\"><svg class=\"tm-svg-img tm-votes-meter__icon tm-votes-meter__icon_small\" height=\"16\" width=\"16\"><title>Всего голосов 20: ↑20 и ↓0</title><use xlink:href=\"/img/megazord-v24.cee85629.svg#counter-rating\"></use></svg><span class=\"tm-votes-meter__value tm-votes-meter__value_positive tm-votes-meter__value_small\" title=\"Всего голосов 20: ↑20 и ↓0\">+20</span></div><span class=\"tm-icon-counter tm-data-icons__item\" title=\"Количество просмотров\"><svg class=\"tm-svg-img tm-icon-counter__icon\" height=\"16\" width=\"16\"><title>Просмотры</title><use xlink:href=\"/img/megazord-v24.cee85629.svg#counter-views\"></use></svg><span class=\"tm-icon-counter__value\">1.2K</span></span><button class=\"bookmarks-button tm-data-icons__item\" title=\"Добавить в закладки\" type=\"button\"><span class=\"tm-svg-icon__wrapper bookmarks-button__icon\" title=\"Добавить в закладки\"><svg class=\"tm-svg-img tm-svg-icon\" height=\"16\" width=\"16\"><title>Добавить в закладки</title><use xlink:href=\"/img/megazord-v24.cee85629.svg#counter-favorite\"></use></svg></span><span class=\"bookmarks-button__counter\" title=\"Количество пользователей, добавивших публикацию в закладки\">\n",
       "     16\n",
       "   </span></button><div class=\"tm-article-comments-counter-link tm-data-icons__item\" title=\"Читать комментарии\"><a class=\"tm-article-comments-counter-link__link\" href=\"/ru/company/ruvds/blog/570778/comments/\"><svg class=\"tm-svg-img tm-article-comments-counter-link__icon\" height=\"16\" width=\"16\"><title>Комментарии</title><use xlink:href=\"/img/megazord-v24.cee85629.svg#counter-comments\"></use></svg><span class=\"tm-article-comments-counter-link__value\">\n",
       "       5\n",
       "     </span></a><!-- --></div><!-- --><div class=\"v-portal\" style=\"display:none;\"></div></div></article>,\n",
       " <article class=\"tm-articles-list__item\" data-navigatable=\"\" id=\"573540\" tabindex=\"0\"><div class=\"tm-article-snippet\"><div class=\"tm-article-snippet__meta-container\"><div class=\"tm-article-snippet__meta\"><span class=\"tm-user-info tm-article-snippet__author\"><a class=\"tm-user-info__userpic\" href=\"/ru/users/ARG89/\" title=\"ARG89\"><div class=\"tm-entity-image\"><img alt=\"\" class=\"tm-entity-image__pic\" height=\"24\" loading=\"lazy\" src=\"//habrastorage.org/r/w32/getpro/habr/avatars/1ec/952/bec/1ec952bec6aca5cc1f87ff12fc4329b7.jpg\" width=\"24\"/></div></a><span class=\"tm-user-info__user\"><a class=\"tm-user-info__username\" href=\"/ru/users/ARG89/\">\n",
       "       ARG89\n",
       "     </a></span></span><span class=\"tm-article-snippet__datetime-published\"><time datetime=\"2021-08-18T12:52:06.000Z\" title=\"2021-08-18, 15:52\">сегодня в 15:52</time></span></div><!-- --></div><h2 class=\"tm-article-snippet__title tm-article-snippet__title_h2\"><a class=\"tm-article-snippet__title-link\" data-article-link=\"\" href=\"/ru/post/573540/\"><span>5 инструментов для удаленной команды Automation QA</span></a></h2><div class=\"tm-article-snippet__hubs\"><span class=\"tm-article-snippet__hubs-item\"><a class=\"tm-article-snippet__hubs-item-link\" href=\"/ru/hub/it_testing/\"><span>Тестирование IT-систем</span><span class=\"tm-article-snippet__profiled-hub\" title=\"Профильный хаб\">*</span></a></span><span class=\"tm-article-snippet__hubs-item\"><a class=\"tm-article-snippet__hubs-item-link\" href=\"/ru/hub/web_testing/\"><span>Тестирование веб-сервисов</span><span class=\"tm-article-snippet__profiled-hub\" title=\"Профильный хаб\">*</span></a></span><span class=\"tm-article-snippet__hubs-item\"><a class=\"tm-article-snippet__hubs-item-link\" href=\"/ru/hub/mobile_testing/\"><span>Тестирование мобильных приложений</span><span class=\"tm-article-snippet__profiled-hub\" title=\"Профильный хаб\">*</span></a></span><span class=\"tm-article-snippet__hubs-item\"><a class=\"tm-article-snippet__hubs-item-link\" href=\"/ru/hub/devops/\"><span>DevOps</span><span class=\"tm-article-snippet__profiled-hub\" title=\"Профильный хаб\">*</span></a></span></div><div class=\"tm-article-snippet__labels\"><div class=\"tm-article-snippet__label\"><span>\n",
       "           Перевод\n",
       "         </span></div></div><!-- --><div class=\"tm-article-body tm-article-snippet__lead\">\n",
       " <div class=\"tm-article-snippet__cover tm-article-snippet__cover_cover\"><img class=\"tm-article-snippet__lead-image\" src=\"https://habrastorage.org/getpro/habr/upload_files/030/a4a/50b/030a4a50ba54f5e2f674a35f4929bbce.jpeg\" style=\"object-position:0% 0%;\"/></div><div class=\"article-formatted-body article-formatted-body_version-2\"><p>Кому-то этот пост покажется запоздавшим, кому-то — очевидным. Однако общаясь с коллегами из QA-сообщества я продолжаю сталкиваться с тем, что удаленная работа вызывает кучу неудобств: количество чатов в мессенджерах зашкаливает, нельзя прийти ногами и объяснить все на пальцах или в деталях передать особенности окружения для воспроизведения бага, — хотя все уже давно было создано и внедрено.</p><p>За последний год появилось куча новых тулов с прицелом на удаленку, но стоит ли бежать и смотреть их, когда есть старые добрые инструменты? В этой короткой подборке я постарался собрать несколько тулов, которые помогут тестировщикам и тестировщицам облегчить работу с коллегами по цеху, опсами и разработчиками.</p><p><strong>ДИСКЛЕЙМЕР: На самом деле у каждого инструмента есть как минимум по несколько альтернатив, выбор из которых может привести к знатному холивару. Если у вас есть свои соображения на тему \"автор дурак, надо было брать не Х, а Y\", приходите в комментарии!</strong></p></div><a class=\"tm-article-snippet__readmore\" href=\"/ru/post/573540/\"><span>Читать далее</span></a></div></div><div class=\"tm-data-icons\"><!-- --><div class=\"tm-votes-meter tm-data-icons__item\"><svg class=\"tm-svg-img tm-votes-meter__icon tm-votes-meter__icon_small\" height=\"16\" width=\"16\"><title>Всего голосов 12: ↑10 и ↓2</title><use xlink:href=\"/img/megazord-v24.cee85629.svg#counter-rating\"></use></svg><span class=\"tm-votes-meter__value tm-votes-meter__value_positive tm-votes-meter__value_small\" title=\"Всего голосов 12: ↑10 и ↓2\">+8</span></div><span class=\"tm-icon-counter tm-data-icons__item\" title=\"Количество просмотров\"><svg class=\"tm-svg-img tm-icon-counter__icon\" height=\"16\" width=\"16\"><title>Просмотры</title><use xlink:href=\"/img/megazord-v24.cee85629.svg#counter-views\"></use></svg><span class=\"tm-icon-counter__value\">813</span></span><button class=\"bookmarks-button tm-data-icons__item\" title=\"Добавить в закладки\" type=\"button\"><span class=\"tm-svg-icon__wrapper bookmarks-button__icon\" title=\"Добавить в закладки\"><svg class=\"tm-svg-img tm-svg-icon\" height=\"16\" width=\"16\"><title>Добавить в закладки</title><use xlink:href=\"/img/megazord-v24.cee85629.svg#counter-favorite\"></use></svg></span><span class=\"bookmarks-button__counter\" title=\"Количество пользователей, добавивших публикацию в закладки\">\n",
       "     15\n",
       "   </span></button><div class=\"tm-article-comments-counter-link tm-data-icons__item\" title=\"Читать комментарии\"><a class=\"tm-article-comments-counter-link__link\" href=\"/ru/post/573540/comments/\"><svg class=\"tm-svg-img tm-article-comments-counter-link__icon\" height=\"16\" width=\"16\"><title>Комментарии</title><use xlink:href=\"/img/megazord-v24.cee85629.svg#counter-comments\"></use></svg><span class=\"tm-article-comments-counter-link__value\">\n",
       "       1\n",
       "     </span></a><!-- --></div><!-- --><div class=\"v-portal\" style=\"display:none;\"></div></div></article>,\n",
       " <article class=\"tm-articles-list__item\" data-navigatable=\"\" id=\"571096\" tabindex=\"0\"><div class=\"tm-article-snippet\"><div class=\"tm-article-snippet__meta-container\"><div class=\"tm-article-snippet__meta\"><span class=\"tm-user-info tm-article-snippet__author\"><a class=\"tm-user-info__userpic\" href=\"/ru/users/dvlunin/\" title=\"dvlunin\"><div class=\"tm-entity-image\"><svg class=\"tm-svg-img tm-image-placeholder tm-image-placeholder_blue\" height=\"24\" width=\"24\"><!-- --><use xlink:href=\"/img/megazord-v24.cee85629.svg#placeholder-user\"></use></svg></div></a><span class=\"tm-user-info__user\"><a class=\"tm-user-info__username\" href=\"/ru/users/dvlunin/\">\n",
       "       dvlunin\n",
       "     </a></span></span><span class=\"tm-article-snippet__datetime-published\"><time datetime=\"2021-08-18T12:35:27.000Z\" title=\"2021-08-18, 15:35\">сегодня в 15:35</time></span></div><!-- --></div><h2 class=\"tm-article-snippet__title tm-article-snippet__title_h2\"><a class=\"tm-article-snippet__title-link\" data-article-link=\"\" href=\"/ru/company/avito/blog/571096/\"><span>Как улучшить ваши A/B-тесты: лайфхаки аналитиков Авито. Часть 2</span></a></h2><div class=\"tm-article-snippet__hubs\"><span class=\"tm-article-snippet__hubs-item\"><a class=\"tm-article-snippet__hubs-item-link\" href=\"/ru/company/avito/blog/\"><span>Блог компании Авито</span><!-- --></a></span><span class=\"tm-article-snippet__hubs-item\"><a class=\"tm-article-snippet__hubs-item-link\" href=\"/ru/hub/mobileanalytics/\"><span>Аналитика мобильных приложений</span><span class=\"tm-article-snippet__profiled-hub\" title=\"Профильный хаб\">*</span></a></span><span class=\"tm-article-snippet__hubs-item\"><a class=\"tm-article-snippet__hubs-item-link\" href=\"/ru/hub/productpm/\"><span>Управление продуктом</span><span class=\"tm-article-snippet__profiled-hub\" title=\"Профильный хаб\">*</span></a></span></div><div class=\"tm-article-snippet__labels\"><!-- --></div><!-- --><div class=\"tm-article-body tm-article-snippet__lead\">\n",
       " <div class=\"tm-article-snippet__cover tm-article-snippet__cover_cover\"><img class=\"tm-article-snippet__lead-image\" src=\"https://habrastorage.org/getpro/habr/upload_files/829/a36/036/829a360365657c4dbf43100fa7d6bd2c.png\" style=\"object-position:0% 0%;\"/></div><div class=\"article-formatted-body article-formatted-body_version-2\"><p>Это вторая часть статьи о том, как улучшить A/B-тесты. Здесь я подробно остановлюсь на методах увеличения мощности: поговорим про CUPED, бутстрап-критерии, стратификацию и парную стратификацию.</p></div><a class=\"tm-article-snippet__readmore\" href=\"/ru/company/avito/blog/571096/\"><span>Читать далее</span></a></div></div><div class=\"tm-data-icons\"><!-- --><div class=\"tm-votes-meter tm-data-icons__item\"><svg class=\"tm-svg-img tm-votes-meter__icon tm-votes-meter__icon_small\" height=\"16\" width=\"16\"><title>Всего голосов 4: ↑4 и ↓0</title><use xlink:href=\"/img/megazord-v24.cee85629.svg#counter-rating\"></use></svg><span class=\"tm-votes-meter__value tm-votes-meter__value_positive tm-votes-meter__value_small\" title=\"Всего голосов 4: ↑4 и ↓0\">+4</span></div><span class=\"tm-icon-counter tm-data-icons__item\" title=\"Количество просмотров\"><svg class=\"tm-svg-img tm-icon-counter__icon\" height=\"16\" width=\"16\"><title>Просмотры</title><use xlink:href=\"/img/megazord-v24.cee85629.svg#counter-views\"></use></svg><span class=\"tm-icon-counter__value\">608</span></span><button class=\"bookmarks-button tm-data-icons__item\" title=\"Добавить в закладки\" type=\"button\"><span class=\"tm-svg-icon__wrapper bookmarks-button__icon\" title=\"Добавить в закладки\"><svg class=\"tm-svg-img tm-svg-icon\" height=\"16\" width=\"16\"><title>Добавить в закладки</title><use xlink:href=\"/img/megazord-v24.cee85629.svg#counter-favorite\"></use></svg></span><span class=\"bookmarks-button__counter\" title=\"Количество пользователей, добавивших публикацию в закладки\">\n",
       "     7\n",
       "   </span></button><div class=\"tm-article-comments-counter-link tm-data-icons__item\" title=\"Читать комментарии\"><a class=\"tm-article-comments-counter-link__link\" href=\"/ru/company/avito/blog/571096/comments/\"><svg class=\"tm-svg-img tm-article-comments-counter-link__icon\" height=\"16\" width=\"16\"><title>Комментарии</title><use xlink:href=\"/img/megazord-v24.cee85629.svg#counter-comments\"></use></svg><span class=\"tm-article-comments-counter-link__value\">\n",
       "       0\n",
       "     </span></a><!-- --></div><!-- --><div class=\"v-portal\" style=\"display:none;\"></div></div></article>,\n",
       " <article class=\"tm-articles-list__item\" data-navigatable=\"\" id=\"573538\" tabindex=\"0\"><div class=\"tm-article-snippet\"><div class=\"tm-article-snippet__meta-container\"><div class=\"tm-article-snippet__meta\"><span class=\"tm-user-info tm-article-snippet__author\"><a class=\"tm-user-info__userpic\" href=\"/ru/users/ASenterprise/\" title=\"ASenterprise\"><div class=\"tm-entity-image\"><img alt=\"\" class=\"tm-entity-image__pic\" height=\"24\" loading=\"lazy\" src=\"//habrastorage.org/r/w32/getpro/habr/avatars/41b/eb8/c40/41beb8c40ae48201c023a76707bbeb13.jpg\" width=\"24\"/></div></a><span class=\"tm-user-info__user\"><a class=\"tm-user-info__username\" href=\"/ru/users/ASenterprise/\">\n",
       "       ASenterprise\n",
       "     </a></span></span><span class=\"tm-article-snippet__datetime-published\"><time datetime=\"2021-08-18T12:33:37.000Z\" title=\"2021-08-18, 15:33\">сегодня в 15:33</time></span></div><!-- --></div><h2 class=\"tm-article-snippet__title tm-article-snippet__title_h2\"><a class=\"tm-article-snippet__title-link\" data-article-link=\"\" href=\"/ru/post/573538/\"><span>Эра электромобилей или эра мертвых батарей?</span></a></h2><div class=\"tm-article-snippet__hubs\"><span class=\"tm-article-snippet__hubs-item\"><a class=\"tm-article-snippet__hubs-item-link\" href=\"/ru/hub/social_networks/\"><span>Социальные сети и сообщества</span><!-- --></a></span><span class=\"tm-article-snippet__hubs-item\"><a class=\"tm-article-snippet__hubs-item-link\" href=\"/ru/hub/transport/\"><span>Транспорт</span><!-- --></a></span><span class=\"tm-article-snippet__hubs-item\"><a class=\"tm-article-snippet__hubs-item-link\" href=\"/ru/hub/Ecology/\"><span>Экология</span><!-- --></a></span><span class=\"tm-article-snippet__hubs-item\"><a class=\"tm-article-snippet__hubs-item-link\" href=\"/ru/hub/urban/\"><span>Урбанизм</span><!-- --></a></span></div><div class=\"tm-article-snippet__labels\"><!-- --></div><!-- --><div class=\"tm-article-body tm-article-snippet__lead\">\n",
       " <div class=\"tm-article-snippet__cover tm-article-snippet__cover_cover\"><img class=\"tm-article-snippet__lead-image\" src=\"https://habrastorage.org/getpro/habr/upload_files/113/f18/b9a/113f18b9a73cff7b75ec53dad87847ce.jpg\" style=\"object-position:0% 0%;\"/></div><div class=\"article-formatted-body article-formatted-body_version-2\"><p>Если проанализировать существующий поток новостей об автомобильном мире можно отметить, что уже никто не испытывает сомнений в том, что в скором времени мы все с вами будем ездить на полностью электрических автомобиля.</p><p>Европейские правительства заверяют, что к середине столетия полностью откажутся от использования двигателей внутреннего сгорания в своих странах. Знаменитые автоконцерны, вторят им, что в ближайшее время полностью переориентируют производство на электромобили. </p><p>Все действия по переходу на электромобили подаются под соусом заботы об экологии.</p><p>Однако, эта замечательная “зеленая” повестка мало затрагивает вопрос утилизации отработанных батарей. В принципе, до недавнего времени я считал этот вопрос неразрешимым, а точнее решаться он будет только тогда, когда весь мир, в добавок к горам пластика, заполнят отработанные батареи размером со столешницу кухонного стола или даже больше. И только тогда медиа обратит внимание на эту проблему.</p><p>Но тем не менее, не теряя веру в здравомыслие человечества, я решил посмотреть, что пишет по этому вопросу англоязычная пресса и предлагаю вашему вниманию некоторый анализ найденной информации.</p></div><a class=\"tm-article-snippet__readmore\" href=\"/ru/post/573538/\"><span>Читать далее</span></a></div></div><div class=\"tm-data-icons\"><!-- --><div class=\"tm-votes-meter tm-data-icons__item\"><svg class=\"tm-svg-img tm-votes-meter__icon tm-votes-meter__icon_small\" height=\"16\" width=\"16\"><title>Всего голосов 19: ↑13 и ↓6</title><use xlink:href=\"/img/megazord-v24.cee85629.svg#counter-rating\"></use></svg><span class=\"tm-votes-meter__value tm-votes-meter__value_positive tm-votes-meter__value_small\" title=\"Всего голосов 19: ↑13 и ↓6\">+7</span></div><span class=\"tm-icon-counter tm-data-icons__item\" title=\"Количество просмотров\"><svg class=\"tm-svg-img tm-icon-counter__icon\" height=\"16\" width=\"16\"><title>Просмотры</title><use xlink:href=\"/img/megazord-v24.cee85629.svg#counter-views\"></use></svg><span class=\"tm-icon-counter__value\">6.8K</span></span><button class=\"bookmarks-button tm-data-icons__item\" title=\"Добавить в закладки\" type=\"button\"><span class=\"tm-svg-icon__wrapper bookmarks-button__icon\" title=\"Добавить в закладки\"><svg class=\"tm-svg-img tm-svg-icon\" height=\"16\" width=\"16\"><title>Добавить в закладки</title><use xlink:href=\"/img/megazord-v24.cee85629.svg#counter-favorite\"></use></svg></span><span class=\"bookmarks-button__counter\" title=\"Количество пользователей, добавивших публикацию в закладки\">\n",
       "     16\n",
       "   </span></button><div class=\"tm-article-comments-counter-link tm-data-icons__item\" title=\"Читать комментарии\"><a class=\"tm-article-comments-counter-link__link\" href=\"/ru/post/573538/comments/\"><svg class=\"tm-svg-img tm-article-comments-counter-link__icon\" height=\"16\" width=\"16\"><title>Комментарии</title><use xlink:href=\"/img/megazord-v24.cee85629.svg#counter-comments\"></use></svg><span class=\"tm-article-comments-counter-link__value\">\n",
       "       121\n",
       "     </span></a><!-- --></div><!-- --><div class=\"v-portal\" style=\"display:none;\"></div></div></article>,\n",
       " <article class=\"tm-articles-list__item\" data-navigatable=\"\" id=\"573536\" tabindex=\"0\"><div class=\"tm-article-snippet\"><div class=\"tm-article-snippet__meta-container\"><div class=\"tm-article-snippet__meta\"><span class=\"tm-user-info tm-article-snippet__author\"><a class=\"tm-user-info__userpic\" href=\"/ru/users/crypter/\" title=\"crypter\"><div class=\"tm-entity-image\"><img alt=\"\" class=\"tm-entity-image__pic\" height=\"24\" loading=\"lazy\" src=\"//habrastorage.org/r/w32/getpro/habr/avatars/f0f/f5d/2c0/f0ff5d2c096fe78830a42f6ef8b75dec.jpg\" width=\"24\"/></div></a><span class=\"tm-user-info__user\"><a class=\"tm-user-info__username\" href=\"/ru/users/crypter/\">\n",
       "       crypter\n",
       "     </a></span></span><span class=\"tm-article-snippet__datetime-published\"><time datetime=\"2021-08-18T12:20:26.000Z\" title=\"2021-08-18, 15:20\">сегодня в 15:20</time></span></div><!-- --></div><h2 class=\"tm-article-snippet__title tm-article-snippet__title_h2\"><a class=\"tm-article-snippet__title-link\" data-article-link=\"\" href=\"/ru/post/573536/\"><span>Токенизация сообществ</span></a></h2><div class=\"tm-article-snippet__hubs\"><span class=\"tm-article-snippet__hubs-item\"><a class=\"tm-article-snippet__hubs-item-link\" href=\"/ru/hub/p2p/\"><span>Децентрализованные сети</span><!-- --></a></span><span class=\"tm-article-snippet__hubs-item\"><a class=\"tm-article-snippet__hubs-item-link\" href=\"/ru/hub/cryptocurrency/\"><span>Криптовалюты</span><!-- --></a></span></div><div class=\"tm-article-snippet__labels\"><!-- --></div><!-- --><div class=\"tm-article-body tm-article-snippet__lead\">\n",
       " <div class=\"tm-article-snippet__cover tm-article-snippet__cover_cover\"><img class=\"tm-article-snippet__lead-image\" src=\"https://habrastorage.org/getpro/habr/upload_files/e4b/0c9/003/e4b0c9003c631722ff9fef52fe2d8e28.jpg\" style=\"object-position:0% 0%;\"/></div><div class=\"article-formatted-body article-formatted-body_version-2\"><p>Токенизировать можно не только коммерческие компании (через ICO) и “цифровое искусство” (<a href=\"https://habr.com/ru/company/timeweb/blog/545620/\" rel=\"noopener noreferrer nofollow\"><u>NFT токены</u></a>) но и онлайн сообщества и их “социальный капитал”. При этом токены сообществ могут быть намного полезнее для их владельцев чем любые другие типы токенов.</p></div><a class=\"tm-article-snippet__readmore\" href=\"/ru/post/573536/\"><span>Читать далее</span></a></div></div><div class=\"tm-data-icons\"><!-- --><div class=\"tm-votes-meter tm-data-icons__item\"><svg class=\"tm-svg-img tm-votes-meter__icon tm-votes-meter__icon_small\" height=\"16\" width=\"16\"><title>Всего голосов 3: ↑3 и ↓0</title><use xlink:href=\"/img/megazord-v24.cee85629.svg#counter-rating\"></use></svg><span class=\"tm-votes-meter__value tm-votes-meter__value_positive tm-votes-meter__value_small\" title=\"Всего голосов 3: ↑3 и ↓0\">+3</span></div><span class=\"tm-icon-counter tm-data-icons__item\" title=\"Количество просмотров\"><svg class=\"tm-svg-img tm-icon-counter__icon\" height=\"16\" width=\"16\"><title>Просмотры</title><use xlink:href=\"/img/megazord-v24.cee85629.svg#counter-views\"></use></svg><span class=\"tm-icon-counter__value\">581</span></span><button class=\"bookmarks-button tm-data-icons__item\" title=\"Добавить в закладки\" type=\"button\"><span class=\"tm-svg-icon__wrapper bookmarks-button__icon\" title=\"Добавить в закладки\"><svg class=\"tm-svg-img tm-svg-icon\" height=\"16\" width=\"16\"><title>Добавить в закладки</title><use xlink:href=\"/img/megazord-v24.cee85629.svg#counter-favorite\"></use></svg></span><span class=\"bookmarks-button__counter\" title=\"Количество пользователей, добавивших публикацию в закладки\">\n",
       "     5\n",
       "   </span></button><div class=\"tm-article-comments-counter-link tm-data-icons__item\" title=\"Читать комментарии\"><a class=\"tm-article-comments-counter-link__link\" href=\"/ru/post/573536/comments/\"><svg class=\"tm-svg-img tm-article-comments-counter-link__icon\" height=\"16\" width=\"16\"><title>Комментарии</title><use xlink:href=\"/img/megazord-v24.cee85629.svg#counter-comments\"></use></svg><span class=\"tm-article-comments-counter-link__value\">\n",
       "       6\n",
       "     </span></a><!-- --></div><!-- --><div class=\"v-portal\" style=\"display:none;\"></div></div></article>,\n",
       " <article class=\"tm-articles-list__item\" data-navigatable=\"\" id=\"573534\" tabindex=\"0\"><div class=\"tm-article-snippet\"><div class=\"tm-article-snippet__meta-container\"><div class=\"tm-article-snippet__meta\"><span class=\"tm-user-info tm-article-snippet__author\"><a class=\"tm-user-info__userpic\" href=\"/ru/users/Axelus/\" title=\"Axelus\"><div class=\"tm-entity-image\"><img alt=\"\" class=\"tm-entity-image__pic\" height=\"24\" loading=\"lazy\" src=\"//habrastorage.org/r/w32/getpro/habr/avatars/118/c4f/08f/118c4f08ffa66438ad6be22e205d563d.png\" width=\"24\"/></div></a><span class=\"tm-user-info__user\"><a class=\"tm-user-info__username\" href=\"/ru/users/Axelus/\">\n",
       "       Axelus\n",
       "     </a></span></span><span class=\"tm-article-snippet__datetime-published\"><time datetime=\"2021-08-18T12:16:15.000Z\" title=\"2021-08-18, 15:16\">сегодня в 15:16</time></span></div><!-- --></div><h2 class=\"tm-article-snippet__title tm-article-snippet__title_h2\"><a class=\"tm-article-snippet__title-link\" data-article-link=\"\" href=\"/ru/company/regionsoft/blog/573534/\"><span>CRM: систематизация или автоматизация?</span></a></h2><div class=\"tm-article-snippet__hubs\"><span class=\"tm-article-snippet__hubs-item\"><a class=\"tm-article-snippet__hubs-item-link\" href=\"/ru/company/regionsoft/blog/\"><span>Блог компании RegionSoft</span><!-- --></a></span><span class=\"tm-article-snippet__hubs-item\"><a class=\"tm-article-snippet__hubs-item-link\" href=\"/ru/hub/it-infrastructure/\"><span>IT-инфраструктура</span><span class=\"tm-article-snippet__profiled-hub\" title=\"Профильный хаб\">*</span></a></span><span class=\"tm-article-snippet__hubs-item\"><a class=\"tm-article-snippet__hubs-item-link\" href=\"/ru/hub/crm/\"><span>CRM-системы</span><span class=\"tm-article-snippet__profiled-hub\" title=\"Профильный хаб\">*</span></a></span><span class=\"tm-article-snippet__hubs-item\"><a class=\"tm-article-snippet__hubs-item-link\" href=\"/ru/hub/terminator/\"><span>Терминология IT</span><!-- --></a></span></div><div class=\"tm-article-snippet__labels\"><!-- --></div><!-- --><div class=\"tm-article-body tm-article-snippet__lead\">\n",
       " <div class=\"tm-article-snippet__cover tm-article-snippet__cover_cover\"><img class=\"tm-article-snippet__lead-image\" src=\"https://habrastorage.org/getpro/habr/upload_files/c5e/d77/834/c5ed7783404989239abd33401c854fcd.png\" style=\"object-position:0% 0%;\"/></div><div class=\"article-formatted-body article-formatted-body_version-2\"><p>Вы писали в школе шпаргалки? Наверняка да. Вероятно, замечали, что одни шпоры были монолитным переписыванием учебника, а другие настоящими подсказками: открыл, глазом схватил схемы, списки, пункты и быстро убрал, потому что информация организована идеально. Такие писали те редкие отличники, которые не за уши тянутые и не зубрилки, и крепкие хорошисты с пониманием себя в обучении — это была их страховка, если хотите,  успокоительное. Более того, пока так обрабатываешь, форматируешь и излагаешь информацию, выучиваешь предмет навсегда. Вот это была самая настоящая систематизация.</p><p>А теперь вопрос: стал ли автоматизированным процесс списывания с появлением удобных мобильных телефонов? Как считаете? Формально — да: труд человека минимизирован, информацию передаёт машина, у процесса высокая скорость, задействованы технологии, трудоёмкость операций снижена практически до нуля. Но, с другой стороны, информацию в электронной шпаргалке создал какой-то человек и дальше просто запущен процесс создания безлимитных копий. Получается автоматизация отчасти, да ещё с негативной коннотацией — она лишает человека возможности получить минимальные знания и работает только на целевой «KPI», т.е. оценку. Правда, немного похоже на некоторые формальные офисные процессы, которые направлены на какие-то мнимые цели и ключевые показатели с потолка?  </p><p>Часто дискуссии на Хабре, в социальных сетях, на профильных площадках и в закрытых группах сводятся к обсуждению того, что CRM-система — это не про автоматизацию, потому что она сама за сотрудника работать не может и ему, бедненькому, нужно самому заполнять карточки клиентов с кучей полей, справочники, различные рабочие сущности программы и т.д. Беда да и только — все-то думали, что CRM работать за сотрудников будет, а она даже пальцы не загибает. Ага?</p></div><a class=\"tm-article-snippet__readmore\" href=\"/ru/company/regionsoft/blog/573534/\"><span>Читать далее</span></a></div></div><div class=\"tm-data-icons\"><!-- --><div class=\"tm-votes-meter tm-data-icons__item\"><svg class=\"tm-svg-img tm-votes-meter__icon tm-votes-meter__icon_small\" height=\"16\" width=\"16\"><title>Всего голосов 12: ↑11 и ↓1</title><use xlink:href=\"/img/megazord-v24.cee85629.svg#counter-rating\"></use></svg><span class=\"tm-votes-meter__value tm-votes-meter__value_positive tm-votes-meter__value_small\" title=\"Всего голосов 12: ↑11 и ↓1\">+10</span></div><span class=\"tm-icon-counter tm-data-icons__item\" title=\"Количество просмотров\"><svg class=\"tm-svg-img tm-icon-counter__icon\" height=\"16\" width=\"16\"><title>Просмотры</title><use xlink:href=\"/img/megazord-v24.cee85629.svg#counter-views\"></use></svg><span class=\"tm-icon-counter__value\">668</span></span><button class=\"bookmarks-button tm-data-icons__item\" title=\"Добавить в закладки\" type=\"button\"><span class=\"tm-svg-icon__wrapper bookmarks-button__icon\" title=\"Добавить в закладки\"><svg class=\"tm-svg-img tm-svg-icon\" height=\"16\" width=\"16\"><title>Добавить в закладки</title><use xlink:href=\"/img/megazord-v24.cee85629.svg#counter-favorite\"></use></svg></span><span class=\"bookmarks-button__counter\" title=\"Количество пользователей, добавивших публикацию в закладки\">\n",
       "     4\n",
       "   </span></button><div class=\"tm-article-comments-counter-link tm-data-icons__item\" title=\"Читать комментарии\"><a class=\"tm-article-comments-counter-link__link\" href=\"/ru/company/regionsoft/blog/573534/comments/\"><svg class=\"tm-svg-img tm-article-comments-counter-link__icon\" height=\"16\" width=\"16\"><title>Комментарии</title><use xlink:href=\"/img/megazord-v24.cee85629.svg#counter-comments\"></use></svg><span class=\"tm-article-comments-counter-link__value\">\n",
       "       1\n",
       "     </span></a><!-- --></div><!-- --><div class=\"v-portal\" style=\"display:none;\"></div></div></article>,\n",
       " <article class=\"tm-articles-list__item\" data-navigatable=\"\" id=\"573528\" tabindex=\"0\"><div class=\"tm-article-snippet\"><div class=\"tm-article-snippet__meta-container\"><div class=\"tm-article-snippet__meta\"><span class=\"tm-user-info tm-article-snippet__author\"><a class=\"tm-user-info__userpic\" href=\"/ru/users/mxkey/\" title=\"mxkey\"><div class=\"tm-entity-image\"><svg class=\"tm-svg-img tm-image-placeholder tm-image-placeholder_lilac\" height=\"24\" width=\"24\"><!-- --><use xlink:href=\"/img/megazord-v24.cee85629.svg#placeholder-user\"></use></svg></div></a><span class=\"tm-user-info__user\"><a class=\"tm-user-info__username\" href=\"/ru/users/mxkey/\">\n",
       "       mxkey\n",
       "     </a></span></span><span class=\"tm-article-snippet__datetime-published\"><time datetime=\"2021-08-18T11:35:20.000Z\" title=\"2021-08-18, 14:35\">сегодня в 14:35</time></span></div><!-- --></div><h2 class=\"tm-article-snippet__title tm-article-snippet__title_h2\"><a class=\"tm-article-snippet__title-link\" data-article-link=\"\" href=\"/ru/post/573528/\"><span>Сеошка для несеошников</span></a></h2><div class=\"tm-article-snippet__hubs\"><span class=\"tm-article-snippet__hubs-item\"><a class=\"tm-article-snippet__hubs-item-link\" href=\"/ru/hub/seo/\"><span>Поисковая оптимизация</span><!-- --></a></span></div><div class=\"tm-article-snippet__labels\"><div class=\"tm-article-snippet__label\"><span>\n",
       "           Из песочницы\n",
       "         </span></div></div><!-- --><div class=\"tm-article-body tm-article-snippet__lead\">\n",
       " <div class=\"tm-article-snippet__cover tm-article-snippet__cover_cover\"><img class=\"tm-article-snippet__lead-image\" src=\"https://habrastorage.org/getpro/habr/upload_files/346/96b/e24/34696be24bf473948fbb056c03aa3bdd.jpeg\" style=\"object-position:0% 0%;\"/></div><div class=\"article-formatted-body article-formatted-body_version-2\"><p>// Эта статья представляет из себя адаптацию презентации, которую я провел в Govitall. Скринкаст можно посмотреть <a href=\"https://youtu.be/I5oaakDoics\" rel=\"noopener noreferrer nofollow\"><u>тут</u></a>, а сама презентация доступна по <a href=\"https://docs.google.com/presentation/d/1zwVzdIshXZeBCgEt6RsWZw18Ufft2gx6pBM2if_K9sQ/edit#slide=id.p\" rel=\"noopener noreferrer nofollow\"><u>ссылке</u></a>.</p></div><a class=\"tm-article-snippet__readmore\" href=\"/ru/post/573528/\"><span>Читать далее</span></a></div></div><div class=\"tm-data-icons\"><!-- --><div class=\"tm-votes-meter tm-data-icons__item\"><svg class=\"tm-svg-img tm-votes-meter__icon tm-votes-meter__icon_small\" height=\"16\" width=\"16\"><title>Всего голосов 10: ↑3 и ↓7</title><use xlink:href=\"/img/megazord-v24.cee85629.svg#counter-rating\"></use></svg><span class=\"tm-votes-meter__value tm-votes-meter__value_negative tm-votes-meter__value_small\" title=\"Всего голосов 10: ↑3 и ↓7\">-4</span></div><span class=\"tm-icon-counter tm-data-icons__item\" title=\"Количество просмотров\"><svg class=\"tm-svg-img tm-icon-counter__icon\" height=\"16\" width=\"16\"><title>Просмотры</title><use xlink:href=\"/img/megazord-v24.cee85629.svg#counter-views\"></use></svg><span class=\"tm-icon-counter__value\">706</span></span><button class=\"bookmarks-button tm-data-icons__item\" title=\"Добавить в закладки\" type=\"button\"><span class=\"tm-svg-icon__wrapper bookmarks-button__icon\" title=\"Добавить в закладки\"><svg class=\"tm-svg-img tm-svg-icon\" height=\"16\" width=\"16\"><title>Добавить в закладки</title><use xlink:href=\"/img/megazord-v24.cee85629.svg#counter-favorite\"></use></svg></span><span class=\"bookmarks-button__counter\" title=\"Количество пользователей, добавивших публикацию в закладки\">\n",
       "     2\n",
       "   </span></button><div class=\"tm-article-comments-counter-link tm-data-icons__item\" title=\"Читать комментарии\"><a class=\"tm-article-comments-counter-link__link\" href=\"/ru/post/573528/comments/\"><svg class=\"tm-svg-img tm-article-comments-counter-link__icon\" height=\"16\" width=\"16\"><title>Комментарии</title><use xlink:href=\"/img/megazord-v24.cee85629.svg#counter-comments\"></use></svg><span class=\"tm-article-comments-counter-link__value\">\n",
       "       6\n",
       "     </span></a><!-- --></div><!-- --><div class=\"v-portal\" style=\"display:none;\"></div></div></article>]"
      ]
     },
     "execution_count": 7,
     "metadata": {},
     "output_type": "execute_result"
    }
   ],
   "source": [
    "posts"
   ]
  },
  {
   "cell_type": "code",
   "execution_count": 8,
   "metadata": {},
   "outputs": [
    {
     "data": {
      "text/plain": [
       "20"
      ]
     },
     "execution_count": 8,
     "metadata": {},
     "output_type": "execute_result"
    }
   ],
   "source": [
    "len(posts)"
   ]
  },
  {
   "cell_type": "code",
   "execution_count": 10,
   "metadata": {},
   "outputs": [
    {
     "name": "stdout",
     "output_type": "stream",
     "text": [
      "1\n",
      "1\n",
      "1\n",
      "1\n",
      "1\n",
      "1\n",
      "1\n",
      "1\n",
      "1\n",
      "1\n",
      "1\n",
      "1\n",
      "1\n",
      "1\n",
      "1\n",
      "1\n",
      "1\n",
      "1\n",
      "1\n",
      "1\n"
     ]
    }
   ],
   "source": [
    "for post in posts:\n",
    "    hubs = post.find_all('div', class_='article-formatted-body article-formatted-body_version-1') + post.find_all('div', class_='article-formatted-body article-formatted-body_version-2')\n",
    "    print(len(hubs))\n",
    "    #проверяем что извлекли из каждой новости её тело, т.е. хабы не пустые. классов оказалось два!"
   ]
  },
  {
   "cell_type": "code",
   "execution_count": 12,
   "metadata": {},
   "outputs": [
    {
     "data": {
      "text/plain": [
       "[<div class=\"article-formatted-body article-formatted-body_version-1\"><img src=\"https://habrastorage.org/webt/72/4b/ac/724bacaqwdn9knndmxwdju8n-1i.jpeg\"/><br/>\n",
       " <br/>\n",
       " Не один десяток лет программирую. И временами наступаю на одни грабли: закрывающие скобки. Всегда нужно соответствие открывающим. Будь то выражение или программные скобки в функции. IDE обязательно укажет на ошибку, но раздражает!<br/></div>]"
      ]
     },
     "execution_count": 12,
     "metadata": {},
     "output_type": "execute_result"
    }
   ],
   "source": [
    "hub = posts[0].find_all('div', class_='article-formatted-body article-formatted-body_version-1')\n",
    "hub"
   ]
  },
  {
   "cell_type": "code",
   "execution_count": 13,
   "metadata": {},
   "outputs": [
    {
     "data": {
      "text/plain": [
       "'\\n\\r\\nне один десяток лет программирую. и временами наступаю на одни грабли: закрывающие скобки. всегда нужно соответствие открывающим. будь то выражение или программные скобки в функции. ide обязательно укажет на ошибку, но раздражает!'"
      ]
     },
     "execution_count": 13,
     "metadata": {},
     "output_type": "execute_result"
    }
   ],
   "source": [
    "hub_lower = hub[0].text.lower()\n",
    "hub_lower"
   ]
  },
  {
   "cell_type": "code",
   "execution_count": null,
   "metadata": {},
   "outputs": [],
   "source": [
    "# для примера"
   ]
  },
  {
   "cell_type": "code",
   "execution_count": 15,
   "metadata": {},
   "outputs": [],
   "source": [
    "words = ['fgg', 'kd', 'ide']"
   ]
  },
  {
   "cell_type": "code",
   "execution_count": 16,
   "metadata": {},
   "outputs": [
    {
     "data": {
      "text/plain": [
       "True"
      ]
     },
     "execution_count": 16,
     "metadata": {},
     "output_type": "execute_result"
    }
   ],
   "source": [
    "any([word in hub_lower for word in words])"
   ]
  },
  {
   "cell_type": "code",
   "execution_count": 17,
   "metadata": {},
   "outputs": [],
   "source": [
    "import pandas as pd"
   ]
  },
  {
   "cell_type": "code",
   "execution_count": 18,
   "metadata": {},
   "outputs": [
    {
     "data": {
      "text/html": [
       "<div>\n",
       "<style scoped>\n",
       "    .dataframe tbody tr th:only-of-type {\n",
       "        vertical-align: middle;\n",
       "    }\n",
       "\n",
       "    .dataframe tbody tr th {\n",
       "        vertical-align: top;\n",
       "    }\n",
       "\n",
       "    .dataframe thead th {\n",
       "        text-align: right;\n",
       "    }\n",
       "</style>\n",
       "<table border=\"1\" class=\"dataframe\">\n",
       "  <thead>\n",
       "    <tr style=\"text-align: right;\">\n",
       "      <th></th>\n",
       "      <th>date</th>\n",
       "      <th>title</th>\n",
       "      <th>link</th>\n",
       "    </tr>\n",
       "  </thead>\n",
       "  <tbody>\n",
       "    <tr>\n",
       "      <th>0</th>\n",
       "      <td>2021-08-18</td>\n",
       "      <td>Мелкая (?) проблема закрывающих скобок в ЯП</td>\n",
       "      <td>https://habr.com/ru/post/573618/</td>\n",
       "    </tr>\n",
       "  </tbody>\n",
       "</table>\n",
       "</div>"
      ],
      "text/plain": [
       "         date                                        title  \\\n",
       "0  2021-08-18  Мелкая (?) проблема закрывающих скобок в ЯП   \n",
       "\n",
       "                               link  \n",
       "0  https://habr.com/ru/post/573618/  "
      ]
     },
     "execution_count": 18,
     "metadata": {},
     "output_type": "execute_result"
    }
   ],
   "source": [
    "news = pd.DataFrame()\n",
    "if any([word in hub_lower for word in words]):\n",
    "    link = 'https://habr.com' + posts[0].find('a', class_='tm-article-snippet__readmore').attrs.get('href')\n",
    "    title = posts[0].find('h2', class_='tm-article-snippet__title tm-article-snippet__title_h2').text\n",
    "    date = pd.to_datetime(posts[0].find('time').attrs.get('title')).date()\n",
    "#     print(title)\n",
    "#     print(date)\n",
    "#     print(link)\n",
    "row = {'date': date, 'title': title, 'link': link}\n",
    "news = pd.concat([news, pd.DataFrame([row])])  \n",
    "news    "
   ]
  },
  {
   "cell_type": "code",
   "execution_count": null,
   "metadata": {},
   "outputs": [],
   "source": [
    "# достаем ссылки"
   ]
  },
  {
   "cell_type": "code",
   "execution_count": 19,
   "metadata": {},
   "outputs": [
    {
     "data": {
      "text/plain": [
       "'/ru/post/573618/'"
      ]
     },
     "execution_count": 19,
     "metadata": {},
     "output_type": "execute_result"
    }
   ],
   "source": [
    "a = posts[0].find('a', class_='tm-article-snippet__readmore').attrs.get('href')\n",
    "a"
   ]
  },
  {
   "cell_type": "code",
   "execution_count": 21,
   "metadata": {},
   "outputs": [
    {
     "data": {
      "text/plain": [
       "'https://habr.com//ru/post/573618/'"
      ]
     },
     "execution_count": 21,
     "metadata": {},
     "output_type": "execute_result"
    }
   ],
   "source": [
    "link = 'https://habr.com/' + a\n",
    "link"
   ]
  },
  {
   "cell_type": "code",
   "execution_count": 22,
   "metadata": {},
   "outputs": [],
   "source": [
    "# достаем заголовок"
   ]
  },
  {
   "cell_type": "code",
   "execution_count": 23,
   "metadata": {},
   "outputs": [
    {
     "data": {
      "text/plain": [
       "'Мелкая (?) проблема закрывающих скобок в ЯП'"
      ]
     },
     "execution_count": 23,
     "metadata": {},
     "output_type": "execute_result"
    }
   ],
   "source": [
    "title = posts[0].find('h2', class_='tm-article-snippet__title tm-article-snippet__title_h2')\n",
    "title.text"
   ]
  },
  {
   "cell_type": "code",
   "execution_count": null,
   "metadata": {},
   "outputs": [],
   "source": [
    "# достаем дату"
   ]
  },
  {
   "cell_type": "code",
   "execution_count": 24,
   "metadata": {},
   "outputs": [
    {
     "data": {
      "text/plain": [
       "'2021-08-18, 22:18'"
      ]
     },
     "execution_count": 24,
     "metadata": {},
     "output_type": "execute_result"
    }
   ],
   "source": [
    "date = posts[0].find('time').attrs.get('title')\n",
    "date"
   ]
  },
  {
   "cell_type": "code",
   "execution_count": 26,
   "metadata": {},
   "outputs": [
    {
     "name": "stdout",
     "output_type": "stream",
     "text": [
      "2021-08-18\n"
     ]
    }
   ],
   "source": [
    "date = pd.to_datetime(date).date()\n",
    "type(date)\n",
    "print(date)"
   ]
  },
  {
   "cell_type": "code",
   "execution_count": 25,
   "metadata": {},
   "outputs": [],
   "source": [
    "# ИТОГ!"
   ]
  },
  {
   "cell_type": "code",
   "execution_count": 27,
   "metadata": {},
   "outputs": [],
   "source": [
    "req = requests.get('https://habr.com/ru/all/')\n",
    "soup = BeautifulSoup(req.text)"
   ]
  },
  {
   "cell_type": "code",
   "execution_count": 28,
   "metadata": {},
   "outputs": [],
   "source": [
    "posts = soup.find_all('article', class_='tm-articles-list__item')"
   ]
  },
  {
   "cell_type": "code",
   "execution_count": 29,
   "metadata": {},
   "outputs": [
    {
     "data": {
      "text/plain": [
       "[<article class=\"tm-articles-list__item\" data-navigatable=\"\" id=\"573618\" tabindex=\"0\"><div class=\"tm-article-snippet\"><div class=\"tm-article-snippet__meta-container\"><div class=\"tm-article-snippet__meta\"><span class=\"tm-user-info tm-article-snippet__author\"><a class=\"tm-user-info__userpic\" href=\"/ru/users/third112/\" title=\"third112\"><div class=\"tm-entity-image\"><img alt=\"\" class=\"tm-entity-image__pic\" height=\"24\" loading=\"lazy\" src=\"//habrastorage.org/r/w32/getpro/habr/avatars/4ea/3d6/cba/4ea3d6cbacc7a7b38328ad88cd4110bb.jpg\" width=\"24\"/></div></a><span class=\"tm-user-info__user\"><a class=\"tm-user-info__username\" href=\"/ru/users/third112/\">\n",
       "       third112\n",
       "     </a></span></span><span class=\"tm-article-snippet__datetime-published\"><time datetime=\"2021-08-18T19:18:23.000Z\" title=\"2021-08-18, 22:18\">сегодня в 22:18</time></span></div><!-- --></div><h2 class=\"tm-article-snippet__title tm-article-snippet__title_h2\"><a class=\"tm-article-snippet__title-link\" data-article-link=\"\" href=\"/ru/post/573618/\"><span>Мелкая (?) проблема закрывающих скобок в ЯП</span></a></h2><div class=\"tm-article-snippet__hubs\"><span class=\"tm-article-snippet__hubs-item\"><a class=\"tm-article-snippet__hubs-item-link\" href=\"/ru/hub/programming/\"><span>Программирование</span><span class=\"tm-article-snippet__profiled-hub\" title=\"Профильный хаб\">*</span></a></span></div><div class=\"tm-article-snippet__labels\"><!-- --></div><!-- --><div class=\"tm-article-body tm-article-snippet__lead\">\n",
       " <!-- --><div class=\"article-formatted-body article-formatted-body_version-1\"><img src=\"https://habrastorage.org/webt/72/4b/ac/724bacaqwdn9knndmxwdju8n-1i.jpeg\"/><br/>\n",
       " <br/>\n",
       " Не один десяток лет программирую. И временами наступаю на одни грабли: закрывающие скобки. Всегда нужно соответствие открывающим. Будь то выражение или программные скобки в функции. IDE обязательно укажет на ошибку, но раздражает!<br/></div><a class=\"tm-article-snippet__readmore\" href=\"/ru/post/573618/\"><span>Читать дальше →</span></a></div></div><div class=\"tm-data-icons\"><!-- --><div class=\"tm-votes-meter tm-data-icons__item\"><svg class=\"tm-svg-img tm-votes-meter__icon tm-votes-meter__icon_small\" height=\"16\" width=\"16\"><title>Всего голосов 8: ↑0 и ↓8</title><use xlink:href=\"/img/megazord-v24.cee85629.svg#counter-rating\"></use></svg><span class=\"tm-votes-meter__value tm-votes-meter__value_negative tm-votes-meter__value_small\" title=\"Всего голосов 8: ↑0 и ↓8\">-8</span></div><span class=\"tm-icon-counter tm-data-icons__item\" title=\"Количество просмотров\"><svg class=\"tm-svg-img tm-icon-counter__icon\" height=\"16\" width=\"16\"><title>Просмотры</title><use xlink:href=\"/img/megazord-v24.cee85629.svg#counter-views\"></use></svg><span class=\"tm-icon-counter__value\">348</span></span><button class=\"bookmarks-button tm-data-icons__item\" title=\"Добавить в закладки\" type=\"button\"><span class=\"tm-svg-icon__wrapper bookmarks-button__icon\" title=\"Добавить в закладки\"><svg class=\"tm-svg-img tm-svg-icon\" height=\"16\" width=\"16\"><title>Добавить в закладки</title><use xlink:href=\"/img/megazord-v24.cee85629.svg#counter-favorite\"></use></svg></span><span class=\"bookmarks-button__counter\" title=\"Количество пользователей, добавивших публикацию в закладки\">\n",
       "     0\n",
       "   </span></button><div class=\"tm-article-comments-counter-link tm-data-icons__item\" title=\"Читать комментарии\"><a class=\"tm-article-comments-counter-link__link\" href=\"/ru/post/573618/comments/\"><svg class=\"tm-svg-img tm-article-comments-counter-link__icon\" height=\"16\" width=\"16\"><title>Комментарии</title><use xlink:href=\"/img/megazord-v24.cee85629.svg#counter-comments\"></use></svg><span class=\"tm-article-comments-counter-link__value\">\n",
       "       4\n",
       "     </span></a><!-- --></div><!-- --><div class=\"v-portal\" style=\"display:none;\"></div></div></article>,\n",
       " <article class=\"tm-articles-list__item\" data-navigatable=\"\" id=\"541876\" tabindex=\"0\"><div class=\"tm-article-snippet\"><div class=\"tm-article-snippet__meta-container\"><div class=\"tm-article-snippet__meta\"><span class=\"tm-user-info tm-article-snippet__author\"><a class=\"tm-user-info__userpic\" href=\"/ru/users/AmigoRRR/\" title=\"AmigoRRR\"><div class=\"tm-entity-image\"><img alt=\"\" class=\"tm-entity-image__pic\" height=\"24\" loading=\"lazy\" src=\"//habrastorage.org/r/w32/getpro/habr/avatars/d7c/043/f01/d7c043f01383d11234d3c6a909b36328.jpg\" width=\"24\"/></div></a><span class=\"tm-user-info__user\"><a class=\"tm-user-info__username\" href=\"/ru/users/AmigoRRR/\">\n",
       "       AmigoRRR\n",
       "     </a></span></span><span class=\"tm-article-snippet__datetime-published\"><time datetime=\"2021-08-18T17:45:47.000Z\" title=\"2021-08-18, 20:45\">сегодня в 20:45</time></span></div><!-- --></div><h2 class=\"tm-article-snippet__title tm-article-snippet__title_h2\"><a class=\"tm-article-snippet__title-link\" data-article-link=\"\" href=\"/ru/post/541876/\"><span>Результаты конкурса разработки open-source пакетов на Robot Operating System</span></a></h2><div class=\"tm-article-snippet__hubs\"><span class=\"tm-article-snippet__hubs-item\"><a class=\"tm-article-snippet__hubs-item-link\" href=\"/ru/hub/open_source/\"><span>Open source</span><span class=\"tm-article-snippet__profiled-hub\" title=\"Профильный хаб\">*</span></a></span><span class=\"tm-article-snippet__hubs-item\"><a class=\"tm-article-snippet__hubs-item-link\" href=\"/ru/hub/programming/\"><span>Программирование</span><span class=\"tm-article-snippet__profiled-hub\" title=\"Профильный хаб\">*</span></a></span><span class=\"tm-article-snippet__hubs-item\"><a class=\"tm-article-snippet__hubs-item-link\" href=\"/ru/hub/robo_dev/\"><span>Разработка робототехники</span><span class=\"tm-article-snippet__profiled-hub\" title=\"Профильный хаб\">*</span></a></span><span class=\"tm-article-snippet__hubs-item\"><a class=\"tm-article-snippet__hubs-item-link\" href=\"/ru/hub/robot/\"><span>Робототехника</span><!-- --></a></span><span class=\"tm-article-snippet__hubs-item\"><a class=\"tm-article-snippet__hubs-item-link\" href=\"/ru/hub/artificial_intelligence/\"><span>Искусственный интеллект</span><!-- --></a></span></div><div class=\"tm-article-snippet__labels\"><!-- --></div><!-- --><div class=\"tm-article-body tm-article-snippet__lead\">\n",
       " <!-- --><div class=\"article-formatted-body article-formatted-body_version-1\">Публикуем исходный код программных пакетов для роботов победивших в конкурсе open-source пакетов на ROS. Вы можете использовать их в своих роботах или продолжить их разработку вместе с авторами. Победители получили призы, одноплатные компьютеры для роботов от NVIDIA: Xavier, TX2, Nano.<br/>\n",
       " <img src=\"https://habrastorage.org/webt/aj/wb/rp/ajwbrpj5byuao7i3kymwslvrz9m.png\"/><br/></div><a class=\"tm-article-snippet__readmore\" href=\"/ru/post/541876/\"><span>Читать дальше →</span></a></div></div><div class=\"tm-data-icons\"><!-- --><div class=\"tm-votes-meter tm-data-icons__item\"><svg class=\"tm-svg-img tm-votes-meter__icon tm-votes-meter__icon_small\" height=\"16\" width=\"16\"><title>Всего голосов 4: ↑4 и ↓0</title><use xlink:href=\"/img/megazord-v24.cee85629.svg#counter-rating\"></use></svg><span class=\"tm-votes-meter__value tm-votes-meter__value_positive tm-votes-meter__value_small\" title=\"Всего голосов 4: ↑4 и ↓0\">+4</span></div><span class=\"tm-icon-counter tm-data-icons__item\" title=\"Количество просмотров\"><svg class=\"tm-svg-img tm-icon-counter__icon\" height=\"16\" width=\"16\"><title>Просмотры</title><use xlink:href=\"/img/megazord-v24.cee85629.svg#counter-views\"></use></svg><span class=\"tm-icon-counter__value\">306</span></span><button class=\"bookmarks-button tm-data-icons__item\" title=\"Добавить в закладки\" type=\"button\"><span class=\"tm-svg-icon__wrapper bookmarks-button__icon\" title=\"Добавить в закладки\"><svg class=\"tm-svg-img tm-svg-icon\" height=\"16\" width=\"16\"><title>Добавить в закладки</title><use xlink:href=\"/img/megazord-v24.cee85629.svg#counter-favorite\"></use></svg></span><span class=\"bookmarks-button__counter\" title=\"Количество пользователей, добавивших публикацию в закладки\">\n",
       "     5\n",
       "   </span></button><div class=\"tm-article-comments-counter-link tm-data-icons__item\" title=\"Читать комментарии\"><a class=\"tm-article-comments-counter-link__link\" href=\"/ru/post/541876/comments/\"><svg class=\"tm-svg-img tm-article-comments-counter-link__icon\" height=\"16\" width=\"16\"><title>Комментарии</title><use xlink:href=\"/img/megazord-v24.cee85629.svg#counter-comments\"></use></svg><span class=\"tm-article-comments-counter-link__value\">\n",
       "       0\n",
       "     </span></a><!-- --></div><!-- --><div class=\"v-portal\" style=\"display:none;\"></div></div></article>,\n",
       " <article class=\"tm-articles-list__item\" data-navigatable=\"\" id=\"573606\" tabindex=\"0\"><div class=\"tm-article-snippet\"><div class=\"tm-article-snippet__meta-container\"><div class=\"tm-article-snippet__meta\"><span class=\"tm-user-info tm-article-snippet__author\"><a class=\"tm-user-info__userpic\" href=\"/ru/users/phaser6/\" title=\"phaser6\"><div class=\"tm-entity-image\"><svg class=\"tm-svg-img tm-image-placeholder tm-image-placeholder_pink\" height=\"24\" width=\"24\"><!-- --><use xlink:href=\"/img/megazord-v24.cee85629.svg#placeholder-user\"></use></svg></div></a><span class=\"tm-user-info__user\"><a class=\"tm-user-info__username\" href=\"/ru/users/phaser6/\">\n",
       "       phaser6\n",
       "     </a></span></span><span class=\"tm-article-snippet__datetime-published\"><time datetime=\"2021-08-18T17:17:34.000Z\" title=\"2021-08-18, 20:17\">сегодня в 20:17</time></span></div><!-- --></div><h2 class=\"tm-article-snippet__title tm-article-snippet__title_h2\"><a class=\"tm-article-snippet__title-link\" data-article-link=\"\" href=\"/ru/company/mvideo/blog/573606/\"><span>Большие данные и математические алгоритмы в руках коммерсанта</span></a></h2><div class=\"tm-article-snippet__hubs\"><span class=\"tm-article-snippet__hubs-item\"><a class=\"tm-article-snippet__hubs-item-link\" href=\"/ru/company/mvideo/blog/\"><span>Блог компании М.Видео-Эльдорадо</span><!-- --></a></span><span class=\"tm-article-snippet__hubs-item\"><a class=\"tm-article-snippet__hubs-item-link\" href=\"/ru/hub/analysis_design/\"><span>Анализ и проектирование систем</span><span class=\"tm-article-snippet__profiled-hub\" title=\"Профильный хаб\">*</span></a></span><span class=\"tm-article-snippet__hubs-item\"><a class=\"tm-article-snippet__hubs-item-link\" href=\"/ru/hub/bigdata/\"><span>Big Data</span><span class=\"tm-article-snippet__profiled-hub\" title=\"Профильный хаб\">*</span></a></span><span class=\"tm-article-snippet__hubs-item\"><a class=\"tm-article-snippet__hubs-item-link\" href=\"/ru/hub/machine_learning/\"><span>Машинное обучение</span><span class=\"tm-article-snippet__profiled-hub\" title=\"Профильный хаб\">*</span></a></span><span class=\"tm-article-snippet__hubs-item\"><a class=\"tm-article-snippet__hubs-item-link\" href=\"/ru/hub/data_engineering/\"><span>Data Engineering</span><span class=\"tm-article-snippet__profiled-hub\" title=\"Профильный хаб\">*</span></a></span></div><div class=\"tm-article-snippet__labels\"><!-- --></div><!-- --><div class=\"tm-article-body tm-article-snippet__lead\">\n",
       " <div class=\"tm-article-snippet__cover tm-article-snippet__cover_cover\"><img class=\"tm-article-snippet__lead-image\" src=\"https://habrastorage.org/getpro/habr/upload_files/326/87f/791/32687f7913aa8c2174f28e6be2d7782b.png\" style=\"object-position:0% 0%;\"/></div><div class=\"article-formatted-body article-formatted-body_version-2\"><p>Вы когда-нибудь задумывались, почему на полках любых магазинов — от гипермаркетов электроники до гастрономов — стоят именно эти товары и именно в такой последовательности? А Категорийные Менеджеры (и дата-сайентисты, кстати) думают об этом постоянно. Сегодня мы расскажем, как в М.Видео-Эльдорадо использовали искусственный интеллект для заполнения полок и изучили потребности клиентов при управлении ассортиментом.   </p></div><a class=\"tm-article-snippet__readmore\" href=\"/ru/company/mvideo/blog/573606/\"><span>Читать далее</span></a></div></div><div class=\"tm-data-icons\"><!-- --><div class=\"tm-votes-meter tm-data-icons__item\"><svg class=\"tm-svg-img tm-votes-meter__icon tm-votes-meter__icon_small\" height=\"16\" width=\"16\"><title>Рейтинг</title><use xlink:href=\"/img/megazord-v24.cee85629.svg#counter-rating\"></use></svg><span class=\"tm-votes-meter__value tm-votes-meter__value_small\">0</span></div><span class=\"tm-icon-counter tm-data-icons__item\" title=\"Количество просмотров\"><svg class=\"tm-svg-img tm-icon-counter__icon\" height=\"16\" width=\"16\"><title>Просмотры</title><use xlink:href=\"/img/megazord-v24.cee85629.svg#counter-views\"></use></svg><span class=\"tm-icon-counter__value\">358</span></span><button class=\"bookmarks-button tm-data-icons__item\" title=\"Добавить в закладки\" type=\"button\"><span class=\"tm-svg-icon__wrapper bookmarks-button__icon\" title=\"Добавить в закладки\"><svg class=\"tm-svg-img tm-svg-icon\" height=\"16\" width=\"16\"><title>Добавить в закладки</title><use xlink:href=\"/img/megazord-v24.cee85629.svg#counter-favorite\"></use></svg></span><span class=\"bookmarks-button__counter\" title=\"Количество пользователей, добавивших публикацию в закладки\">\n",
       "     2\n",
       "   </span></button><div class=\"tm-article-comments-counter-link tm-data-icons__item\" title=\"Читать комментарии\"><a class=\"tm-article-comments-counter-link__link\" href=\"/ru/company/mvideo/blog/573606/comments/\"><svg class=\"tm-svg-img tm-article-comments-counter-link__icon\" height=\"16\" width=\"16\"><title>Комментарии</title><use xlink:href=\"/img/megazord-v24.cee85629.svg#counter-comments\"></use></svg><span class=\"tm-article-comments-counter-link__value\">\n",
       "       1\n",
       "     </span></a><!-- --></div><!-- --><div class=\"v-portal\" style=\"display:none;\"></div></div></article>,\n",
       " <article class=\"tm-articles-list__item\" data-navigatable=\"\" id=\"573600\" tabindex=\"0\"><div class=\"tm-article-snippet\"><div class=\"tm-article-snippet__meta-container\"><div class=\"tm-article-snippet__meta\"><span class=\"tm-user-info tm-article-snippet__author\"><a class=\"tm-user-info__userpic\" href=\"/ru/users/Femole/\" title=\"Femole\"><div class=\"tm-entity-image\"><img alt=\"\" class=\"tm-entity-image__pic\" height=\"24\" loading=\"lazy\" src=\"//habrastorage.org/r/w32/getpro/habr/avatars/7dc/178/13b/7dc17813b76324a6b202da5263ef5337.jpg\" width=\"24\"/></div></a><span class=\"tm-user-info__user\"><a class=\"tm-user-info__username\" href=\"/ru/users/Femole/\">\n",
       "       Femole\n",
       "     </a></span></span><span class=\"tm-article-snippet__datetime-published\"><time datetime=\"2021-08-18T17:14:56.000Z\" title=\"2021-08-18, 20:14\">сегодня в 20:14</time></span></div><!-- --></div><h2 class=\"tm-article-snippet__title tm-article-snippet__title_h2\"><a class=\"tm-article-snippet__title-link\" data-article-link=\"\" href=\"/ru/company/madrobots/blog/573600/\"><span>В чем носить ноутбук? Плюсы и минусы городских рюкзаков</span></a></h2><div class=\"tm-article-snippet__hubs\"><span class=\"tm-article-snippet__hubs-item\"><a class=\"tm-article-snippet__hubs-item-link\" href=\"/ru/company/madrobots/blog/\"><span>Блог компании Madrobots</span><!-- --></a></span></div><div class=\"tm-article-snippet__labels\"><!-- --></div><!-- --><div class=\"tm-article-body tm-article-snippet__lead\">\n",
       " <div class=\"tm-article-snippet__cover tm-article-snippet__cover_cover\"><img class=\"tm-article-snippet__lead-image\" src=\"https://habrastorage.org/getpro/habr/upload_files/7be/476/d3b/7be476d3bbf673284109c1169701cd0d.jpg\" style=\"object-position:0% 0%;\"/></div><div class=\"article-formatted-body article-formatted-body_version-2\"><p>Городские рюкзаки — одна из любимых тем в Мэдроботс. Половина коллег каждый день приезжает в офис и уезжает домой с ноутбуком за плечами. Традиционно, к осеннему сезону мы пополнили нашу коллекцию рюкзаков и взяли на себя смелость отобрать 7 любопытных моделей. </p></div><a class=\"tm-article-snippet__readmore\" href=\"/ru/company/madrobots/blog/573600/\"><span>Читать далее</span></a></div></div><div class=\"tm-data-icons\"><!-- --><div class=\"tm-votes-meter tm-data-icons__item\"><svg class=\"tm-svg-img tm-votes-meter__icon tm-votes-meter__icon_small\" height=\"16\" width=\"16\"><title>Всего голосов 10: ↑7 и ↓3</title><use xlink:href=\"/img/megazord-v24.cee85629.svg#counter-rating\"></use></svg><span class=\"tm-votes-meter__value tm-votes-meter__value_positive tm-votes-meter__value_small\" title=\"Всего голосов 10: ↑7 и ↓3\">+4</span></div><span class=\"tm-icon-counter tm-data-icons__item\" title=\"Количество просмотров\"><svg class=\"tm-svg-img tm-icon-counter__icon\" height=\"16\" width=\"16\"><title>Просмотры</title><use xlink:href=\"/img/megazord-v24.cee85629.svg#counter-views\"></use></svg><span class=\"tm-icon-counter__value\">1.6K</span></span><button class=\"bookmarks-button tm-data-icons__item\" title=\"Добавить в закладки\" type=\"button\"><span class=\"tm-svg-icon__wrapper bookmarks-button__icon\" title=\"Добавить в закладки\"><svg class=\"tm-svg-img tm-svg-icon\" height=\"16\" width=\"16\"><title>Добавить в закладки</title><use xlink:href=\"/img/megazord-v24.cee85629.svg#counter-favorite\"></use></svg></span><span class=\"bookmarks-button__counter\" title=\"Количество пользователей, добавивших публикацию в закладки\">\n",
       "     5\n",
       "   </span></button><div class=\"tm-article-comments-counter-link tm-data-icons__item\" title=\"Читать комментарии\"><a class=\"tm-article-comments-counter-link__link\" href=\"/ru/company/madrobots/blog/573600/comments/\"><svg class=\"tm-svg-img tm-article-comments-counter-link__icon\" height=\"16\" width=\"16\"><title>Комментарии</title><use xlink:href=\"/img/megazord-v24.cee85629.svg#counter-comments\"></use></svg><span class=\"tm-article-comments-counter-link__value\">\n",
       "       3\n",
       "     </span></a><!-- --></div><!-- --><div class=\"v-portal\" style=\"display:none;\"></div></div></article>,\n",
       " <article class=\"tm-articles-list__item\" data-navigatable=\"\" id=\"573582\" tabindex=\"0\"><div class=\"tm-article-snippet\"><div class=\"tm-article-snippet__meta-container\"><div class=\"tm-article-snippet__meta\"><span class=\"tm-user-info tm-article-snippet__author\"><a class=\"tm-user-info__userpic\" href=\"/ru/users/iRumba/\" title=\"iRumba\"><div class=\"tm-entity-image\"><img alt=\"\" class=\"tm-entity-image__pic\" height=\"24\" loading=\"lazy\" src=\"//habrastorage.org/r/w32/getpro/habr/avatars/934/114/ddd/934114ddd0f451ae82636b8fa46a101d.jpg\" width=\"24\"/></div></a><span class=\"tm-user-info__user\"><a class=\"tm-user-info__username\" href=\"/ru/users/iRumba/\">\n",
       "       iRumba\n",
       "     </a></span></span><span class=\"tm-article-snippet__datetime-published\"><time datetime=\"2021-08-18T15:40:04.000Z\" title=\"2021-08-18, 18:40\">сегодня в 18:40</time></span></div><!-- --></div><h2 class=\"tm-article-snippet__title tm-article-snippet__title_h2\"><a class=\"tm-article-snippet__title-link\" data-article-link=\"\" href=\"/ru/post/573582/\"><span>Пользовательские шаблоны и расширения для Visual Studio под проект (Часть 1: шаблоны элементов)</span></a></h2><div class=\"tm-article-snippet__hubs\"><span class=\"tm-article-snippet__hubs-item\"><a class=\"tm-article-snippet__hubs-item-link\" href=\"/ru/hub/net/\"><span>.NET</span><span class=\"tm-article-snippet__profiled-hub\" title=\"Профильный хаб\">*</span></a></span><span class=\"tm-article-snippet__hubs-item\"><a class=\"tm-article-snippet__hubs-item-link\" href=\"/ru/hub/vs/\"><span>Visual Studio</span><span class=\"tm-article-snippet__profiled-hub\" title=\"Профильный хаб\">*</span></a></span></div><div class=\"tm-article-snippet__labels\"><div class=\"tm-article-snippet__label\"><span>\n",
       "           Tutorial\n",
       "         </span></div></div><!-- --><div class=\"tm-article-body tm-article-snippet__lead\">\n",
       " <div class=\"tm-article-snippet__cover tm-article-snippet__cover_cover\"><img class=\"tm-article-snippet__lead-image\" src=\"https://habrastorage.org/getpro/habr/upload_files/2c2/ad5/86b/2c2ad586b5bb36d0bb5385b69018ac2a.png\" style=\"object-position:0% 0%;\"/></div><div class=\"article-formatted-body article-formatted-body_version-2\"><p>В магазине Visual Studio есть множество различных расширений на все случаи жизни. Есть в сети различные их подборки, которые могут упростить жизнь в общих или конкретных случаях. Однако я, почему-то, никогда не встречал шаблоны или расширения заточенные под проект.</p></div><a class=\"tm-article-snippet__readmore\" href=\"/ru/post/573582/\"><span>Читать далее</span></a></div></div><div class=\"tm-data-icons\"><!-- --><div class=\"tm-votes-meter tm-data-icons__item\"><svg class=\"tm-svg-img tm-votes-meter__icon tm-votes-meter__icon_small\" height=\"16\" width=\"16\"><title>Всего голосов 1: ↑1 и ↓0</title><use xlink:href=\"/img/megazord-v24.cee85629.svg#counter-rating\"></use></svg><span class=\"tm-votes-meter__value tm-votes-meter__value_positive tm-votes-meter__value_small\" title=\"Всего голосов 1: ↑1 и ↓0\">+1</span></div><span class=\"tm-icon-counter tm-data-icons__item\" title=\"Количество просмотров\"><svg class=\"tm-svg-img tm-icon-counter__icon\" height=\"16\" width=\"16\"><title>Просмотры</title><use xlink:href=\"/img/megazord-v24.cee85629.svg#counter-views\"></use></svg><span class=\"tm-icon-counter__value\">770</span></span><button class=\"bookmarks-button tm-data-icons__item\" title=\"Добавить в закладки\" type=\"button\"><span class=\"tm-svg-icon__wrapper bookmarks-button__icon\" title=\"Добавить в закладки\"><svg class=\"tm-svg-img tm-svg-icon\" height=\"16\" width=\"16\"><title>Добавить в закладки</title><use xlink:href=\"/img/megazord-v24.cee85629.svg#counter-favorite\"></use></svg></span><span class=\"bookmarks-button__counter\" title=\"Количество пользователей, добавивших публикацию в закладки\">\n",
       "     7\n",
       "   </span></button><div class=\"tm-article-comments-counter-link tm-data-icons__item\" title=\"Читать комментарии\"><a class=\"tm-article-comments-counter-link__link\" href=\"/ru/post/573582/comments/\"><svg class=\"tm-svg-img tm-article-comments-counter-link__icon\" height=\"16\" width=\"16\"><title>Комментарии</title><use xlink:href=\"/img/megazord-v24.cee85629.svg#counter-comments\"></use></svg><span class=\"tm-article-comments-counter-link__value\">\n",
       "       2\n",
       "     </span></a><!-- --></div><!-- --><div class=\"v-portal\" style=\"display:none;\"></div></div></article>,\n",
       " <article class=\"tm-articles-list__item\" data-navigatable=\"\" id=\"573584\" tabindex=\"0\"><div class=\"tm-article-snippet\"><div class=\"tm-article-snippet__meta-container\"><div class=\"tm-article-snippet__meta\"><span class=\"tm-user-info tm-article-snippet__author\"><a class=\"tm-user-info__userpic\" href=\"/ru/users/Hiro_Protagonist/\" title=\"Hiro_Protagonist\"><div class=\"tm-entity-image\"><svg class=\"tm-svg-img tm-image-placeholder tm-image-placeholder_green\" height=\"24\" width=\"24\"><!-- --><use xlink:href=\"/img/megazord-v24.cee85629.svg#placeholder-user\"></use></svg></div></a><span class=\"tm-user-info__user\"><a class=\"tm-user-info__username\" href=\"/ru/users/Hiro_Protagonist/\">\n",
       "       Hiro_Protagonist\n",
       "     </a></span></span><span class=\"tm-article-snippet__datetime-published\"><time datetime=\"2021-08-18T15:30:03.000Z\" title=\"2021-08-18, 18:30\">сегодня в 18:30</time></span></div><!-- --></div><h2 class=\"tm-article-snippet__title tm-article-snippet__title_h2\"><a class=\"tm-article-snippet__title-link\" data-article-link=\"\" href=\"/ru/post/573584/\"><span>5 писателей-фантастов, работавших программистами</span></a></h2><div class=\"tm-article-snippet__hubs\"><span class=\"tm-article-snippet__hubs-item\"><a class=\"tm-article-snippet__hubs-item-link\" href=\"/ru/hub/sci-fi/\"><span>Научная фантастика</span><!-- --></a></span></div><div class=\"tm-article-snippet__labels\"><!-- --></div><!-- --><div class=\"tm-article-body tm-article-snippet__lead\">\n",
       " <div class=\"tm-article-snippet__cover tm-article-snippet__cover_cover\"><img class=\"tm-article-snippet__lead-image\" src=\"https://habrastorage.org/getpro/habr/upload_files/186/fe4/09f/186fe409f9c23543db4e00ffbfac08b7.jpg\" style=\"object-position:0% 0%;\"/></div><div class=\"article-formatted-body article-formatted-body_version-2\"><p>Почти все писатели, приходя в литературу, уже имеют за плечами карьеру в той или иной области. Среди авторов встречаются представители самых разных профессий — журналисты, ученые самых разных специализаций, врачи, преподаватели, инженеры, бизнесмены… Список можно продолжать еще долго. Конечно, есть в писательском цехе и выходцы из IT-сферы, и вот несколько примеров программистов, которые сумели прославиться на ниве писательство, а конкретнее — в сфере научной фантастики. </p></div><a class=\"tm-article-snippet__readmore\" href=\"/ru/post/573584/\"><span>Читать далее</span></a></div></div><div class=\"tm-data-icons\"><!-- --><div class=\"tm-votes-meter tm-data-icons__item\"><svg class=\"tm-svg-img tm-votes-meter__icon tm-votes-meter__icon_small\" height=\"16\" width=\"16\"><title>Всего голосов 10: ↑9 и ↓1</title><use xlink:href=\"/img/megazord-v24.cee85629.svg#counter-rating\"></use></svg><span class=\"tm-votes-meter__value tm-votes-meter__value_positive tm-votes-meter__value_small\" title=\"Всего голосов 10: ↑9 и ↓1\">+8</span></div><span class=\"tm-icon-counter tm-data-icons__item\" title=\"Количество просмотров\"><svg class=\"tm-svg-img tm-icon-counter__icon\" height=\"16\" width=\"16\"><title>Просмотры</title><use xlink:href=\"/img/megazord-v24.cee85629.svg#counter-views\"></use></svg><span class=\"tm-icon-counter__value\">2.5K</span></span><button class=\"bookmarks-button tm-data-icons__item\" title=\"Добавить в закладки\" type=\"button\"><span class=\"tm-svg-icon__wrapper bookmarks-button__icon\" title=\"Добавить в закладки\"><svg class=\"tm-svg-img tm-svg-icon\" height=\"16\" width=\"16\"><title>Добавить в закладки</title><use xlink:href=\"/img/megazord-v24.cee85629.svg#counter-favorite\"></use></svg></span><span class=\"bookmarks-button__counter\" title=\"Количество пользователей, добавивших публикацию в закладки\">\n",
       "     35\n",
       "   </span></button><div class=\"tm-article-comments-counter-link tm-data-icons__item\" title=\"Читать комментарии\"><a class=\"tm-article-comments-counter-link__link\" href=\"/ru/post/573584/comments/\"><svg class=\"tm-svg-img tm-article-comments-counter-link__icon\" height=\"16\" width=\"16\"><title>Комментарии</title><use xlink:href=\"/img/megazord-v24.cee85629.svg#counter-comments\"></use></svg><span class=\"tm-article-comments-counter-link__value\">\n",
       "       3\n",
       "     </span></a><!-- --></div><!-- --><div class=\"v-portal\" style=\"display:none;\"></div></div></article>,\n",
       " <article class=\"tm-articles-list__item\" data-navigatable=\"\" id=\"573580\" tabindex=\"0\"><div class=\"tm-article-snippet\"><div class=\"tm-article-snippet__meta-container\"><div class=\"tm-article-snippet__meta\"><span class=\"tm-user-info tm-article-snippet__author\"><a class=\"tm-user-info__userpic\" href=\"/ru/users/evage/\" title=\"evage\"><div class=\"tm-entity-image\"><svg class=\"tm-svg-img tm-image-placeholder tm-image-placeholder_blue\" height=\"24\" width=\"24\"><!-- --><use xlink:href=\"/img/megazord-v24.cee85629.svg#placeholder-user\"></use></svg></div></a><span class=\"tm-user-info__user\"><a class=\"tm-user-info__username\" href=\"/ru/users/evage/\">\n",
       "       evage\n",
       "     </a></span></span><span class=\"tm-article-snippet__datetime-published\"><time datetime=\"2021-08-18T15:01:24.000Z\" title=\"2021-08-18, 18:01\">сегодня в 18:01</time></span></div><!-- --></div><h2 class=\"tm-article-snippet__title tm-article-snippet__title_h2\"><a class=\"tm-article-snippet__title-link\" data-article-link=\"\" href=\"/ru/post/573580/\"><span>Первый Компьютерный ЕГЭ 2021</span></a></h2><div class=\"tm-article-snippet__hubs\"><span class=\"tm-article-snippet__hubs-item\"><a class=\"tm-article-snippet__hubs-item-link\" href=\"/ru/hub/study/\"><span>Учебный процесс в IT</span><!-- --></a></span></div><div class=\"tm-article-snippet__labels\"><div class=\"tm-article-snippet__label\"><span>\n",
       "           Из песочницы\n",
       "         </span></div></div><!-- --><div class=\"tm-article-body tm-article-snippet__lead\">\n",
       " <div class=\"tm-article-snippet__cover tm-article-snippet__cover_cover\"><img class=\"tm-article-snippet__lead-image\" src=\"https://habrastorage.org/getpro/habr/upload_files/87a/f98/9a7/87af989a78d03aa7b64694cd8748ae27.jpg\" style=\"object-position:0% 0%;\"/></div><div class=\"article-formatted-body article-formatted-body_version-2\"><p>Всем привет! В этом году я закончил 11 класс и сдавал первый Компьютерный ЕГЭ. Знаю, что довольно поздно пишу статью об этом, но все равно хотелось бы высказать пару мыслей об экзамене и о своем опыте. Хочу рассказать о самом ЕГЭ по информатике, его изменениях, подготовке и о некоторых мелочах.</p></div><a class=\"tm-article-snippet__readmore\" href=\"/ru/post/573580/\"><span>Читать далее</span></a></div></div><div class=\"tm-data-icons\"><!-- --><div class=\"tm-votes-meter tm-data-icons__item\"><svg class=\"tm-svg-img tm-votes-meter__icon tm-votes-meter__icon_small\" height=\"16\" width=\"16\"><title>Всего голосов 9: ↑9 и ↓0</title><use xlink:href=\"/img/megazord-v24.cee85629.svg#counter-rating\"></use></svg><span class=\"tm-votes-meter__value tm-votes-meter__value_positive tm-votes-meter__value_small\" title=\"Всего голосов 9: ↑9 и ↓0\">+9</span></div><span class=\"tm-icon-counter tm-data-icons__item\" title=\"Количество просмотров\"><svg class=\"tm-svg-img tm-icon-counter__icon\" height=\"16\" width=\"16\"><title>Просмотры</title><use xlink:href=\"/img/megazord-v24.cee85629.svg#counter-views\"></use></svg><span class=\"tm-icon-counter__value\">1.5K</span></span><button class=\"bookmarks-button tm-data-icons__item\" title=\"Добавить в закладки\" type=\"button\"><span class=\"tm-svg-icon__wrapper bookmarks-button__icon\" title=\"Добавить в закладки\"><svg class=\"tm-svg-img tm-svg-icon\" height=\"16\" width=\"16\"><title>Добавить в закладки</title><use xlink:href=\"/img/megazord-v24.cee85629.svg#counter-favorite\"></use></svg></span><span class=\"bookmarks-button__counter\" title=\"Количество пользователей, добавивших публикацию в закладки\">\n",
       "     6\n",
       "   </span></button><div class=\"tm-article-comments-counter-link tm-data-icons__item\" title=\"Читать комментарии\"><a class=\"tm-article-comments-counter-link__link\" href=\"/ru/post/573580/comments/\"><svg class=\"tm-svg-img tm-article-comments-counter-link__icon\" height=\"16\" width=\"16\"><title>Комментарии</title><use xlink:href=\"/img/megazord-v24.cee85629.svg#counter-comments\"></use></svg><span class=\"tm-article-comments-counter-link__value\">\n",
       "       7\n",
       "     </span></a><!-- --></div><!-- --><div class=\"v-portal\" style=\"display:none;\"></div></div></article>,\n",
       " <article class=\"tm-articles-list__item\" data-navigatable=\"\" id=\"573578\" tabindex=\"0\"><div class=\"tm-article-snippet\"><div class=\"tm-article-snippet__meta-container\"><div class=\"tm-article-snippet__meta\"><span class=\"tm-user-info tm-article-snippet__author\"><a class=\"tm-user-info__userpic\" href=\"/ru/users/severstal/\" title=\"severstal\"><div class=\"tm-entity-image\"><img alt=\"\" class=\"tm-entity-image__pic\" height=\"24\" loading=\"lazy\" src=\"//habrastorage.org/r/w32/getpro/habr/avatars/cb1/8f3/2f5/cb18f32f5fda72291b08ad8bece982ea.jpg\" width=\"24\"/></div></a><span class=\"tm-user-info__user\"><a class=\"tm-user-info__username\" href=\"/ru/users/severstal/\">\n",
       "       severstal\n",
       "     </a></span></span><span class=\"tm-article-snippet__datetime-published\"><time datetime=\"2021-08-18T14:56:52.000Z\" title=\"2021-08-18, 17:56\">сегодня в 17:56</time></span></div><!-- --></div><h2 class=\"tm-article-snippet__title tm-article-snippet__title_h2\"><a class=\"tm-article-snippet__title-link\" data-article-link=\"\" href=\"/ru/company/severstal/blog/573578/\"><span>Смотрим на металлолом глазами Хищника: как это помогает в производстве стали</span></a></h2><div class=\"tm-article-snippet__hubs\"><span class=\"tm-article-snippet__hubs-item\"><a class=\"tm-article-snippet__hubs-item-link\" href=\"/ru/company/severstal/blog/\"><span>Блог компании Северсталь</span><!-- --></a></span></div><div class=\"tm-article-snippet__labels\"><!-- --></div><!-- --><div class=\"tm-article-body tm-article-snippet__lead\">\n",
       " <div class=\"tm-article-snippet__cover tm-article-snippet__cover_cover\"><img class=\"tm-article-snippet__lead-image\" src=\"https://habrastorage.org/getpro/habr/upload_files/ad3/5f1/126/ad35f1126aac3eeb25f8018d8667e95c.JPG\" style=\"object-position:0% 0%;\"/></div><div class=\"article-formatted-body article-formatted-body_version-2\"><p> </p><p>При переплавке металлолома важно, чтобы в нем не было посторонних предметов и жидкостей. Любой опасный предмет в лучшем случае нарушит технологию плавки, а в худшем — приведет к травмам. Например, зимой в металлоломе часто встречается лед, который вовремя плавки вызывает так называемые «хлопки» и может повредить оборудование стоимостью в миллионы рублей.</p><p>Я, Никита Лазарев, сотрудник сервиса Open Innovations в компании «Северсталь». Расскажу, как мы совместно с технологами «Северсталь Вторчермета» и сотрудниками Дирекции по техническому развитию и качеству использовали тепловизор для поиска обледеневшего лома на промплощадке «Северсталь Вторчермета» и каких результатов добились.</p></div><a class=\"tm-article-snippet__readmore\" href=\"/ru/company/severstal/blog/573578/\"><span>Боремся со льдом!</span></a></div></div><div class=\"tm-data-icons\"><!-- --><div class=\"tm-votes-meter tm-data-icons__item\"><svg class=\"tm-svg-img tm-votes-meter__icon tm-votes-meter__icon_small\" height=\"16\" width=\"16\"><title>Всего голосов 14: ↑14 и ↓0</title><use xlink:href=\"/img/megazord-v24.cee85629.svg#counter-rating\"></use></svg><span class=\"tm-votes-meter__value tm-votes-meter__value_positive tm-votes-meter__value_small\" title=\"Всего голосов 14: ↑14 и ↓0\">+14</span></div><span class=\"tm-icon-counter tm-data-icons__item\" title=\"Количество просмотров\"><svg class=\"tm-svg-img tm-icon-counter__icon\" height=\"16\" width=\"16\"><title>Просмотры</title><use xlink:href=\"/img/megazord-v24.cee85629.svg#counter-views\"></use></svg><span class=\"tm-icon-counter__value\">1.4K</span></span><button class=\"bookmarks-button tm-data-icons__item\" title=\"Добавить в закладки\" type=\"button\"><span class=\"tm-svg-icon__wrapper bookmarks-button__icon\" title=\"Добавить в закладки\"><svg class=\"tm-svg-img tm-svg-icon\" height=\"16\" width=\"16\"><title>Добавить в закладки</title><use xlink:href=\"/img/megazord-v24.cee85629.svg#counter-favorite\"></use></svg></span><span class=\"bookmarks-button__counter\" title=\"Количество пользователей, добавивших публикацию в закладки\">\n",
       "     5\n",
       "   </span></button><div class=\"tm-article-comments-counter-link tm-data-icons__item\" title=\"Читать комментарии\"><a class=\"tm-article-comments-counter-link__link\" href=\"/ru/company/severstal/blog/573578/comments/\"><svg class=\"tm-svg-img tm-article-comments-counter-link__icon\" height=\"16\" width=\"16\"><title>Комментарии</title><use xlink:href=\"/img/megazord-v24.cee85629.svg#counter-comments\"></use></svg><span class=\"tm-article-comments-counter-link__value\">\n",
       "       3\n",
       "     </span></a><!-- --></div><!-- --><div class=\"v-portal\" style=\"display:none;\"></div></div></article>,\n",
       " <article class=\"tm-articles-list__item\" data-navigatable=\"\" id=\"573572\" tabindex=\"0\"><div class=\"tm-article-snippet\"><div class=\"tm-article-snippet__meta-container\"><div class=\"tm-article-snippet__meta\"><span class=\"tm-user-info tm-article-snippet__author\"><a class=\"tm-user-info__userpic\" href=\"/ru/users/kmoseenk/\" title=\"kmoseenk\"><div class=\"tm-entity-image\"><img alt=\"\" class=\"tm-entity-image__pic\" height=\"24\" loading=\"lazy\" src=\"//habrastorage.org/r/w32/getpro/habr/avatars/9c1/f26/fc3/9c1f26fc3a6df952b80365d8dd4a1642.png\" width=\"24\"/></div></a><span class=\"tm-user-info__user\"><a class=\"tm-user-info__username\" href=\"/ru/users/kmoseenk/\">\n",
       "       kmoseenk\n",
       "     </a></span></span><span class=\"tm-article-snippet__datetime-published\"><time datetime=\"2021-08-18T14:44:57.000Z\" title=\"2021-08-18, 17:44\">сегодня в 17:44</time></span></div><!-- --></div><h2 class=\"tm-article-snippet__title tm-article-snippet__title_h2\"><a class=\"tm-article-snippet__title-link\" data-article-link=\"\" href=\"/ru/post/573572/\"><span>Go: объектный файл и релокация</span></a></h2><div class=\"tm-article-snippet__hubs\"><span class=\"tm-article-snippet__hubs-item\"><a class=\"tm-article-snippet__hubs-item-link\" href=\"/ru/hub/programming/\"><span>Программирование</span><span class=\"tm-article-snippet__profiled-hub\" title=\"Профильный хаб\">*</span></a></span><span class=\"tm-article-snippet__hubs-item\"><a class=\"tm-article-snippet__hubs-item-link\" href=\"/ru/hub/go/\"><span>Go</span><span class=\"tm-article-snippet__profiled-hub\" title=\"Профильный хаб\">*</span></a></span></div><div class=\"tm-article-snippet__labels\"><div class=\"tm-article-snippet__label\"><span>\n",
       "           Перевод\n",
       "         </span></div></div><!-- --><div class=\"tm-article-body tm-article-snippet__lead\">\n",
       " <div class=\"tm-article-snippet__cover tm-article-snippet__cover_cover\"><img class=\"tm-article-snippet__lead-image\" src=\"https://habrastorage.org/getpro/habr/upload_files/7d7/a17/55e/7d7a1755e4337c2c9b742d71304c656d.png\" style=\"object-position:0% 0%;\"/></div><div class=\"article-formatted-body article-formatted-body_version-2\"><p><em>Эта статья оперирует версией Go 1.14.</em></p><p><a href=\"https://en.wikipedia.org/wiki/Relocation_(computing)\" rel=\"noopener noreferrer nofollow\"><u>Релокация</u></a> — это этап процесса линковки, в рамках которого каждому внешнему символу присваиваются соответствующие адреса. Поскольку пакеты компилируются отдельно, они не имеют понятия, где функции или переменные из других пакетов находятся фактически. Начнем с тривиального примера, когда нам потребуется релокация.</p></div><a class=\"tm-article-snippet__readmore\" href=\"/ru/post/573572/\"><span>Читать далее</span></a></div></div><div class=\"tm-data-icons\"><!-- --><div class=\"tm-votes-meter tm-data-icons__item\"><svg class=\"tm-svg-img tm-votes-meter__icon tm-votes-meter__icon_small\" height=\"16\" width=\"16\"><title>Всего голосов 1: ↑1 и ↓0</title><use xlink:href=\"/img/megazord-v24.cee85629.svg#counter-rating\"></use></svg><span class=\"tm-votes-meter__value tm-votes-meter__value_positive tm-votes-meter__value_small\" title=\"Всего голосов 1: ↑1 и ↓0\">+1</span></div><span class=\"tm-icon-counter tm-data-icons__item\" title=\"Количество просмотров\"><svg class=\"tm-svg-img tm-icon-counter__icon\" height=\"16\" width=\"16\"><title>Просмотры</title><use xlink:href=\"/img/megazord-v24.cee85629.svg#counter-views\"></use></svg><span class=\"tm-icon-counter__value\">667</span></span><button class=\"bookmarks-button tm-data-icons__item\" title=\"Добавить в закладки\" type=\"button\"><span class=\"tm-svg-icon__wrapper bookmarks-button__icon\" title=\"Добавить в закладки\"><svg class=\"tm-svg-img tm-svg-icon\" height=\"16\" width=\"16\"><title>Добавить в закладки</title><use xlink:href=\"/img/megazord-v24.cee85629.svg#counter-favorite\"></use></svg></span><span class=\"bookmarks-button__counter\" title=\"Количество пользователей, добавивших публикацию в закладки\">\n",
       "     22\n",
       "   </span></button><div class=\"tm-article-comments-counter-link tm-data-icons__item\" title=\"Читать комментарии\"><a class=\"tm-article-comments-counter-link__link\" href=\"/ru/post/573572/comments/\"><svg class=\"tm-svg-img tm-article-comments-counter-link__icon\" height=\"16\" width=\"16\"><title>Комментарии</title><use xlink:href=\"/img/megazord-v24.cee85629.svg#counter-comments\"></use></svg><span class=\"tm-article-comments-counter-link__value\">\n",
       "       0\n",
       "     </span></a><!-- --></div><!-- --><div class=\"v-portal\" style=\"display:none;\"></div></div></article>,\n",
       " <article class=\"tm-articles-list__item\" data-navigatable=\"\" id=\"573560\" tabindex=\"0\"><div class=\"tm-article-snippet\"><div class=\"tm-article-snippet__meta-container\"><div class=\"tm-article-snippet__meta\"><span class=\"tm-user-info tm-article-snippet__author\"><a class=\"tm-user-info__userpic\" href=\"/ru/users/AlexeyR/\" title=\"AlexeyR\"><div class=\"tm-entity-image\"><img alt=\"\" class=\"tm-entity-image__pic\" height=\"24\" loading=\"lazy\" src=\"//habrastorage.org/r/w32/getpro/habr/avatars/5f7/505/ce9/5f7505ce9a529fbc651a7d61c57a1e7b.jpg\" width=\"24\"/></div></a><span class=\"tm-user-info__user\"><a class=\"tm-user-info__username\" href=\"/ru/users/AlexeyR/\">\n",
       "       AlexeyR\n",
       "     </a></span></span><span class=\"tm-article-snippet__datetime-published\"><time datetime=\"2021-08-18T14:44:09.000Z\" title=\"2021-08-18, 17:44\">сегодня в 17:44</time></span></div><!-- --></div><h2 class=\"tm-article-snippet__title tm-article-snippet__title_h2\"><a class=\"tm-article-snippet__title-link\" data-article-link=\"\" href=\"/ru/post/573560/\"><span>Тайна списка шумерских царей. Часть 3. Зодиак</span></a></h2><div class=\"tm-article-snippet__hubs\"><span class=\"tm-article-snippet__hubs-item\"><a class=\"tm-article-snippet__hubs-item-link\" href=\"/ru/hub/maths/\"><span>Математика</span><span class=\"tm-article-snippet__profiled-hub\" title=\"Профильный хаб\">*</span></a></span><span class=\"tm-article-snippet__hubs-item\"><a class=\"tm-article-snippet__hubs-item-link\" href=\"/ru/hub/history/\"><span>История IT</span><!-- --></a></span><span class=\"tm-article-snippet__hubs-item\"><a class=\"tm-article-snippet__hubs-item-link\" href=\"/ru/hub/popular_science/\"><span>Научно-популярное</span><!-- --></a></span><span class=\"tm-article-snippet__hubs-item\"><a class=\"tm-article-snippet__hubs-item-link\" href=\"/ru/hub/astronomy/\"><span>Астрономия</span><!-- --></a></span></div><div class=\"tm-article-snippet__labels\"><!-- --></div><!-- --><div class=\"tm-article-body tm-article-snippet__lead\">\n",
       " <div class=\"tm-article-snippet__cover tm-article-snippet__cover_cover\"><img class=\"tm-article-snippet__lead-image\" src=\"https://habrastorage.org/getpro/habr/upload_files/d22/3bc/a17/d223bca17db3316b2e4f412836f6c8c2.png\" style=\"object-position:0% 0%;\"/></div><div class=\"article-formatted-body article-formatted-body_version-2\"><p>Это продолжение цикла статей о разгадке <a href=\"https://ru.wikipedia.org/wiki/%D0%A1%D0%BF%D0%B8%D1%81%D0%BE%D0%BA_%D1%86%D0%B0%D1%80%D0%B5%D0%B9_%D0%A8%D1%83%D0%BC%D0%B5%D1%80%D0%B0_%D0%B8_%D0%90%D0%BA%D0%BA%D0%B0%D0%B4%D0%B0\" rel=\"noopener noreferrer nofollow\"><u>шумерского царского списка</u></a>. В <a href=\"https://habr.com/ru/post/562898/\" rel=\"noopener noreferrer nofollow\"><u>первой части</u></a> было объяснение важности этой загадки для понимания всей древней истории и описание тех астрономических инструментов, что были созданы по ходу исследования. Во <a href=\"https://habr.com/ru/post/569956/\" rel=\"noopener noreferrer nofollow\"><u>второй</u></a> рассказ о вавилонском звездном каталоге MUL.APIN и предположение, что названиями звезд и созвездий в нем была зашифрована вечная, циклически повторяющаяся история борьбы смысла и закона. Но цепочка переводов аккадских имен, хотя она и создает стройный рассказ, не может быть доказательством сама по себе. Нужны дополнительные, более строгие подтверждения. В этой части мы их и рассмотрим.</p><p>Что вы знаете об <a href=\"https://ru.wikipedia.org/wiki/%D0%90%D1%81%D1%82%D1%80%D0%BE%D0%BB%D0%BE%D0%B3%D0%B8%D1%8F\" rel=\"noopener noreferrer nofollow\"><u>астрологии</u></a>? Название “астрология” происходит от древнегреческого ἀστήρ «звезда» и λόγος «мысль, причина». Сама астрология — это некая древняя практика, которая позволяет гадать по звездам. Дескать, звезды влияют на судьбы людей и по положению звезд можно предсказывать будущее.</p><p>Как вы относитесь к астрологии? Здравомыслящий человек понимает, что астрология — это, как и всякое гадание, шарлатанство. Положение Солнца, планет и созвездий выступает генератором случайных сочетаний, которым астрологи дают свои толкования. Люди, склонные к мистицизму, готовы платить за это деньги. Спрос рождает предложение.  Все так?</p><p>Что такое знаки зодиака? Есть двенадцать созвездий, лежащих на годичном пути Солнца. То, в каком знаке родился человек, по мнению астрологов определяет его характер и судьбу. Зодиак придумали греки, поместив на небо героев своих мифов.</p></div><a class=\"tm-article-snippet__readmore\" href=\"/ru/post/573560/\"><span>Читать далее</span></a></div></div><div class=\"tm-data-icons\"><!-- --><div class=\"tm-votes-meter tm-data-icons__item\"><svg class=\"tm-svg-img tm-votes-meter__icon tm-votes-meter__icon_small\" height=\"16\" width=\"16\"><title>Всего голосов 6: ↑3 и ↓3</title><use xlink:href=\"/img/megazord-v24.cee85629.svg#counter-rating\"></use></svg><span class=\"tm-votes-meter__value tm-votes-meter__value_small\" title=\"Всего голосов 6: ↑3 и ↓3\">0</span></div><span class=\"tm-icon-counter tm-data-icons__item\" title=\"Количество просмотров\"><svg class=\"tm-svg-img tm-icon-counter__icon\" height=\"16\" width=\"16\"><title>Просмотры</title><use xlink:href=\"/img/megazord-v24.cee85629.svg#counter-views\"></use></svg><span class=\"tm-icon-counter__value\">857</span></span><button class=\"bookmarks-button tm-data-icons__item\" title=\"Добавить в закладки\" type=\"button\"><span class=\"tm-svg-icon__wrapper bookmarks-button__icon\" title=\"Добавить в закладки\"><svg class=\"tm-svg-img tm-svg-icon\" height=\"16\" width=\"16\"><title>Добавить в закладки</title><use xlink:href=\"/img/megazord-v24.cee85629.svg#counter-favorite\"></use></svg></span><span class=\"bookmarks-button__counter\" title=\"Количество пользователей, добавивших публикацию в закладки\">\n",
       "     15\n",
       "   </span></button><div class=\"tm-article-comments-counter-link tm-data-icons__item\" title=\"Читать комментарии\"><a class=\"tm-article-comments-counter-link__link\" href=\"/ru/post/573560/comments/\"><svg class=\"tm-svg-img tm-article-comments-counter-link__icon\" height=\"16\" width=\"16\"><title>Комментарии</title><use xlink:href=\"/img/megazord-v24.cee85629.svg#counter-comments\"></use></svg><span class=\"tm-article-comments-counter-link__value\">\n",
       "       0\n",
       "     </span></a><!-- --></div><!-- --><div class=\"v-portal\" style=\"display:none;\"></div></div></article>,\n",
       " <article class=\"tm-articles-list__item\" data-navigatable=\"\" id=\"573564\" tabindex=\"0\"><div class=\"tm-article-snippet\"><div class=\"tm-article-snippet__meta-container\"><div class=\"tm-article-snippet__meta\"><span class=\"tm-user-info tm-article-snippet__author\"><a class=\"tm-user-info__userpic\" href=\"/ru/users/Elpi/\" title=\"Elpi\"><div class=\"tm-entity-image\"><svg class=\"tm-svg-img tm-image-placeholder tm-image-placeholder_lilac\" height=\"24\" width=\"24\"><!-- --><use xlink:href=\"/img/megazord-v24.cee85629.svg#placeholder-user\"></use></svg></div></a><span class=\"tm-user-info__user\"><a class=\"tm-user-info__username\" href=\"/ru/users/Elpi/\">\n",
       "       Elpi\n",
       "     </a></span></span><span class=\"tm-article-snippet__datetime-published\"><time datetime=\"2021-08-18T14:07:50.000Z\" title=\"2021-08-18, 17:07\">сегодня в 17:07</time></span></div><!-- --></div><h2 class=\"tm-article-snippet__title tm-article-snippet__title_h2\"><a class=\"tm-article-snippet__title-link\" data-article-link=\"\" href=\"/ru/post/573564/\"><span>Компьютерная фотография для фотолюбителя на примере Gigapixel AI</span></a></h2><div class=\"tm-article-snippet__hubs\"><span class=\"tm-article-snippet__hubs-item\"><a class=\"tm-article-snippet__hubs-item-link\" href=\"/ru/hub/popular_science/\"><span>Научно-популярное</span><!-- --></a></span><span class=\"tm-article-snippet__hubs-item\"><a class=\"tm-article-snippet__hubs-item-link\" href=\"/ru/hub/artificial_intelligence/\"><span>Искусственный интеллект</span><!-- --></a></span><span class=\"tm-article-snippet__hubs-item\"><a class=\"tm-article-snippet__hubs-item-link\" href=\"/ru/hub/photo/\"><span>Фототехника</span><!-- --></a></span></div><div class=\"tm-article-snippet__labels\"><div class=\"tm-article-snippet__label\"><span>\n",
       "           Tutorial\n",
       "         </span></div></div><!-- --><div class=\"tm-article-body tm-article-snippet__lead\">\n",
       " <div class=\"tm-article-snippet__cover tm-article-snippet__cover_cover\"><img class=\"tm-article-snippet__lead-image\" src=\"https://habrastorage.org/getpro/habr/upload_files/9c4/afe/1ae/9c4afe1ae0148708805d2089673ce763.jpg\" style=\"object-position:0% 0%;\"/></div><div class=\"article-formatted-body article-formatted-body_version-2\"><p>В статье на конкретном примере проиллюстрировано использование программы для улучшения фотографий на основе нейросетей. Надеюсь, будет полезна как обладателям фотокамер, так и снимающим на смартфон.</p></div><a class=\"tm-article-snippet__readmore\" href=\"/ru/post/573564/\"><span>Читать далее</span></a></div></div><div class=\"tm-data-icons\"><!-- --><div class=\"tm-votes-meter tm-data-icons__item\"><svg class=\"tm-svg-img tm-votes-meter__icon tm-votes-meter__icon_small\" height=\"16\" width=\"16\"><title>Всего голосов 3: ↑2 и ↓1</title><use xlink:href=\"/img/megazord-v24.cee85629.svg#counter-rating\"></use></svg><span class=\"tm-votes-meter__value tm-votes-meter__value_positive tm-votes-meter__value_small\" title=\"Всего голосов 3: ↑2 и ↓1\">+1</span></div><span class=\"tm-icon-counter tm-data-icons__item\" title=\"Количество просмотров\"><svg class=\"tm-svg-img tm-icon-counter__icon\" height=\"16\" width=\"16\"><title>Просмотры</title><use xlink:href=\"/img/megazord-v24.cee85629.svg#counter-views\"></use></svg><span class=\"tm-icon-counter__value\">1.2K</span></span><button class=\"bookmarks-button tm-data-icons__item\" title=\"Добавить в закладки\" type=\"button\"><span class=\"tm-svg-icon__wrapper bookmarks-button__icon\" title=\"Добавить в закладки\"><svg class=\"tm-svg-img tm-svg-icon\" height=\"16\" width=\"16\"><title>Добавить в закладки</title><use xlink:href=\"/img/megazord-v24.cee85629.svg#counter-favorite\"></use></svg></span><span class=\"bookmarks-button__counter\" title=\"Количество пользователей, добавивших публикацию в закладки\">\n",
       "     8\n",
       "   </span></button><div class=\"tm-article-comments-counter-link tm-data-icons__item\" title=\"Читать комментарии\"><a class=\"tm-article-comments-counter-link__link\" href=\"/ru/post/573564/comments/\"><svg class=\"tm-svg-img tm-article-comments-counter-link__icon\" height=\"16\" width=\"16\"><title>Комментарии</title><use xlink:href=\"/img/megazord-v24.cee85629.svg#counter-comments\"></use></svg><span class=\"tm-article-comments-counter-link__value\">\n",
       "       23\n",
       "     </span></a><!-- --></div><!-- --><div class=\"v-portal\" style=\"display:none;\"></div></div></article>,\n",
       " <article class=\"tm-articles-list__item\" data-navigatable=\"\" id=\"573556\" tabindex=\"0\"><div class=\"tm-article-snippet\"><div class=\"tm-article-snippet__meta-container\"><div class=\"tm-article-snippet__meta\"><span class=\"tm-user-info tm-article-snippet__author\"><a class=\"tm-user-info__userpic\" href=\"/ru/users/AnalogBytes/\" title=\"AnalogBytes\"><div class=\"tm-entity-image\"><img alt=\"\" class=\"tm-entity-image__pic\" height=\"24\" loading=\"lazy\" src=\"//habrastorage.org/r/w32/getpro/habr/avatars/48f/a9f/3dc/48fa9f3dcdc760fb33219817dea64f8e.png\" width=\"24\"/></div></a><span class=\"tm-user-info__user\"><a class=\"tm-user-info__username\" href=\"/ru/users/AnalogBytes/\">\n",
       "       AnalogBytes\n",
       "     </a></span></span><span class=\"tm-article-snippet__datetime-published\"><time datetime=\"2021-08-18T13:39:54.000Z\" title=\"2021-08-18, 16:39\">сегодня в 16:39</time></span></div><!-- --></div><h2 class=\"tm-article-snippet__title tm-article-snippet__title_h2\"><a class=\"tm-article-snippet__title-link\" data-article-link=\"\" href=\"/ru/post/573556/\"><span>Россия vs Эстония: сравнение электронных голосований</span></a></h2><div class=\"tm-article-snippet__hubs\"><span class=\"tm-article-snippet__hubs-item\"><a class=\"tm-article-snippet__hubs-item-link\" href=\"/ru/hub/infosecurity/\"><span>Информационная безопасность</span><span class=\"tm-article-snippet__profiled-hub\" title=\"Профильный хаб\">*</span></a></span><span class=\"tm-article-snippet__hubs-item\"><a class=\"tm-article-snippet__hubs-item-link\" href=\"/ru/hub/crypto/\"><span>Криптография</span><span class=\"tm-article-snippet__profiled-hub\" title=\"Профильный хаб\">*</span></a></span></div><div class=\"tm-article-snippet__labels\"><!-- --></div><!-- --><div class=\"tm-article-body tm-article-snippet__lead\">\n",
       " <div class=\"tm-article-snippet__cover tm-article-snippet__cover_cover\"><img class=\"tm-article-snippet__lead-image\" src=\"https://habrastorage.org/getpro/habr/upload_files/f71/397/0f9/f713970f97b0f943c87f442927849d95.jpg\" style=\"object-position:0% 0%;\"/></div><div class=\"article-formatted-body article-formatted-body_version-2\"><p>В последнее время про дистанционные электронные голосования (ДЭГ) говорят много — на сентябрьских выборах ДЭГ будет использоваться в семи регионах, в нём ожидают до 2 млн. избирателей, и Москва уже развернула широкую рекламно-информационную кампанию.</p><p>При этом — по очевидной причине — данная кампания, как и большинство других материалов, направлены на обычного избирателя, и в основном подчёркивает удобство ДЭГ для него. Материалов для IT-специалистов и экспертов по-прежнему, прямо скажем, негусто, а те, что есть — например, <a href=\"https://habr.com/ru/company/rostelecom/blog/519178/\" rel=\"noopener noreferrer nofollow\">в блоге «Ростелекома» на Хабре</a> — наоборот, ударяются в другую крайность, будучи переполненными техническими деталями.</p><p>Начиная с сегодняшнего материала, мы попробуем рассказать про то, как работают российские системы ДЭГ (их две!), пытаясь соблюсти баланс между популярностью изложения и техническими подробностями.</p><p>Стартуем с международного опыта: при разговорах о ДЭГ часто всплывает Эстония, как один из пионеров электронных голосований масштаба государства — там ДЭГ применяется с 2005 года, и применяется успешно.</p><p>Как соотносятся российские и эстонские системы с точки зрения концепции реализации, функционала, надёжности в контексте голосования? Изучить этот вопрос мы попросили нашего эксперта <strong>Андрея Филиппова</strong>, так что под катом — его текст.</p></div><a class=\"tm-article-snippet__readmore\" href=\"/ru/post/573556/\"><span>Читать далее</span></a></div></div><div class=\"tm-data-icons\"><!-- --><div class=\"tm-votes-meter tm-data-icons__item\"><svg class=\"tm-svg-img tm-votes-meter__icon tm-votes-meter__icon_small\" height=\"16\" width=\"16\"><title>Всего голосов 13: ↑11 и ↓2</title><use xlink:href=\"/img/megazord-v24.cee85629.svg#counter-rating\"></use></svg><span class=\"tm-votes-meter__value tm-votes-meter__value_positive tm-votes-meter__value_small\" title=\"Всего голосов 13: ↑11 и ↓2\">+9</span></div><span class=\"tm-icon-counter tm-data-icons__item\" title=\"Количество просмотров\"><svg class=\"tm-svg-img tm-icon-counter__icon\" height=\"16\" width=\"16\"><title>Просмотры</title><use xlink:href=\"/img/megazord-v24.cee85629.svg#counter-views\"></use></svg><span class=\"tm-icon-counter__value\">1.5K</span></span><button class=\"bookmarks-button tm-data-icons__item\" title=\"Добавить в закладки\" type=\"button\"><span class=\"tm-svg-icon__wrapper bookmarks-button__icon\" title=\"Добавить в закладки\"><svg class=\"tm-svg-img tm-svg-icon\" height=\"16\" width=\"16\"><title>Добавить в закладки</title><use xlink:href=\"/img/megazord-v24.cee85629.svg#counter-favorite\"></use></svg></span><span class=\"bookmarks-button__counter\" title=\"Количество пользователей, добавивших публикацию в закладки\">\n",
       "     11\n",
       "   </span></button><div class=\"tm-article-comments-counter-link tm-data-icons__item\" title=\"Читать комментарии\"><a class=\"tm-article-comments-counter-link__link\" href=\"/ru/post/573556/comments/\"><svg class=\"tm-svg-img tm-article-comments-counter-link__icon\" height=\"16\" width=\"16\"><title>Комментарии</title><use xlink:href=\"/img/megazord-v24.cee85629.svg#counter-comments\"></use></svg><span class=\"tm-article-comments-counter-link__value\">\n",
       "       5\n",
       "     </span></a><!-- --></div><!-- --><div class=\"v-portal\" style=\"display:none;\"></div></div></article>,\n",
       " <article class=\"tm-articles-list__item\" data-navigatable=\"\" id=\"573552\" tabindex=\"0\"><div class=\"tm-article-snippet\"><div class=\"tm-article-snippet__meta-container\"><div class=\"tm-article-snippet__meta\"><span class=\"tm-user-info tm-article-snippet__author\"><a class=\"tm-user-info__userpic\" href=\"/ru/users/Demschwarz/\" title=\"Demschwarz\"><div class=\"tm-entity-image\"><svg class=\"tm-svg-img tm-image-placeholder tm-image-placeholder_blue\" height=\"24\" width=\"24\"><!-- --><use xlink:href=\"/img/megazord-v24.cee85629.svg#placeholder-user\"></use></svg></div></a><span class=\"tm-user-info__user\"><a class=\"tm-user-info__username\" href=\"/ru/users/Demschwarz/\">\n",
       "       Demschwarz\n",
       "     </a></span></span><span class=\"tm-article-snippet__datetime-published\"><time datetime=\"2021-08-18T13:18:52.000Z\" title=\"2021-08-18, 16:18\">сегодня в 16:18</time></span></div><!-- --></div><h2 class=\"tm-article-snippet__title tm-article-snippet__title_h2\"><a class=\"tm-article-snippet__title-link\" data-article-link=\"\" href=\"/ru/post/573552/\"><span>Как я запускал классификацию изображений на домашнем кластере Apache Ignite ML</span></a></h2><div class=\"tm-article-snippet__hubs\"><span class=\"tm-article-snippet__hubs-item\"><a class=\"tm-article-snippet__hubs-item-link\" href=\"/ru/hub/java/\"><span>Java</span><span class=\"tm-article-snippet__profiled-hub\" title=\"Профильный хаб\">*</span></a></span><span class=\"tm-article-snippet__hubs-item\"><a class=\"tm-article-snippet__hubs-item-link\" href=\"/ru/hub/apache/\"><span>Apache</span><span class=\"tm-article-snippet__profiled-hub\" title=\"Профильный хаб\">*</span></a></span><span class=\"tm-article-snippet__hubs-item\"><a class=\"tm-article-snippet__hubs-item-link\" href=\"/ru/hub/machine_learning/\"><span>Машинное обучение</span><span class=\"tm-article-snippet__profiled-hub\" title=\"Профильный хаб\">*</span></a></span></div><div class=\"tm-article-snippet__labels\"><div class=\"tm-article-snippet__label\"><span>\n",
       "           Из песочницы\n",
       "         </span></div></div><!-- --><div class=\"tm-article-body tm-article-snippet__lead\">\n",
       " <div class=\"tm-article-snippet__cover tm-article-snippet__cover_cover\"><img class=\"tm-article-snippet__lead-image\" src=\"https://habrastorage.org/getpro/habr/upload_files/d9e/ab4/ae5/d9eab4ae5a2954cfe8414370f4ab6a9b.jpg\" style=\"object-position:0% 0%;\"/></div><div class=\"article-formatted-body article-formatted-body_version-2\"><p>Я - студент университета, знаком с машинным обучением в рамках пройденного курса, есть интерес к современным кластерным технологиям, конкретно - к Apache Ignite. Под катом — история о том, как я запускал пример <code>OneVsRestClassificationExample</code> из дистрибутива.</p></div><a class=\"tm-article-snippet__readmore\" href=\"/ru/post/573552/\"><span>Читать далее</span></a></div></div><div class=\"tm-data-icons\"><!-- --><div class=\"tm-votes-meter tm-data-icons__item\"><svg class=\"tm-svg-img tm-votes-meter__icon tm-votes-meter__icon_small\" height=\"16\" width=\"16\"><title>Всего голосов 2: ↑2 и ↓0</title><use xlink:href=\"/img/megazord-v24.cee85629.svg#counter-rating\"></use></svg><span class=\"tm-votes-meter__value tm-votes-meter__value_positive tm-votes-meter__value_small\" title=\"Всего голосов 2: ↑2 и ↓0\">+2</span></div><span class=\"tm-icon-counter tm-data-icons__item\" title=\"Количество просмотров\"><svg class=\"tm-svg-img tm-icon-counter__icon\" height=\"16\" width=\"16\"><title>Просмотры</title><use xlink:href=\"/img/megazord-v24.cee85629.svg#counter-views\"></use></svg><span class=\"tm-icon-counter__value\">671</span></span><button class=\"bookmarks-button tm-data-icons__item\" title=\"Добавить в закладки\" type=\"button\"><span class=\"tm-svg-icon__wrapper bookmarks-button__icon\" title=\"Добавить в закладки\"><svg class=\"tm-svg-img tm-svg-icon\" height=\"16\" width=\"16\"><title>Добавить в закладки</title><use xlink:href=\"/img/megazord-v24.cee85629.svg#counter-favorite\"></use></svg></span><span class=\"bookmarks-button__counter\" title=\"Количество пользователей, добавивших публикацию в закладки\">\n",
       "     9\n",
       "   </span></button><div class=\"tm-article-comments-counter-link tm-data-icons__item\" title=\"Читать комментарии\"><a class=\"tm-article-comments-counter-link__link\" href=\"/ru/post/573552/comments/\"><svg class=\"tm-svg-img tm-article-comments-counter-link__icon\" height=\"16\" width=\"16\"><title>Комментарии</title><use xlink:href=\"/img/megazord-v24.cee85629.svg#counter-comments\"></use></svg><span class=\"tm-article-comments-counter-link__value\">\n",
       "       0\n",
       "     </span></a><!-- --></div><!-- --><div class=\"v-portal\" style=\"display:none;\"></div></div></article>,\n",
       " <article class=\"tm-articles-list__item\" data-navigatable=\"\" id=\"570778\" tabindex=\"0\"><div class=\"tm-article-snippet\"><div class=\"tm-article-snippet__meta-container\"><div class=\"tm-article-snippet__meta\"><span class=\"tm-user-info tm-article-snippet__author\"><a class=\"tm-user-info__userpic\" href=\"/ru/users/TinyElectronicFriends/\" title=\"TinyElectronicFriends\"><div class=\"tm-entity-image\"><img alt=\"\" class=\"tm-entity-image__pic\" height=\"24\" loading=\"lazy\" src=\"//habrastorage.org/r/w32/getpro/habr/avatars/a66/a42/f33/a66a42f3318aca789139e414ab656b41.png\" width=\"24\"/></div></a><span class=\"tm-user-info__user\"><a class=\"tm-user-info__username\" href=\"/ru/users/TinyElectronicFriends/\">\n",
       "       TinyElectronicFriends\n",
       "     </a></span></span><span class=\"tm-article-snippet__datetime-published\"><time datetime=\"2021-08-18T13:00:02.000Z\" title=\"2021-08-18, 16:00\">сегодня в 16:00</time></span></div><!-- --></div><h2 class=\"tm-article-snippet__title tm-article-snippet__title_h2\"><a class=\"tm-article-snippet__title-link\" data-article-link=\"\" href=\"/ru/company/ruvds/blog/570778/\"><span>«Народный» тестер аккумуляторов Konnwei KW600: подробный обзор с историей обновлений</span></a></h2><div class=\"tm-article-snippet__hubs\"><span class=\"tm-article-snippet__hubs-item\"><a class=\"tm-article-snippet__hubs-item-link\" href=\"/ru/company/ruvds/blog/\"><span>Блог компании RUVDS.com</span><!-- --></a></span><span class=\"tm-article-snippet__hubs-item\"><a class=\"tm-article-snippet__hubs-item-link\" href=\"/ru/hub/energy/\"><span>Энергия и элементы питания</span><!-- --></a></span><span class=\"tm-article-snippet__hubs-item\"><a class=\"tm-article-snippet__hubs-item-link\" href=\"/ru/hub/autogadgets/\"><span>Автомобильные гаджеты</span><!-- --></a></span><span class=\"tm-article-snippet__hubs-item\"><a class=\"tm-article-snippet__hubs-item-link\" href=\"/ru/hub/transport/\"><span>Транспорт</span><!-- --></a></span></div><div class=\"tm-article-snippet__labels\"><!-- --></div><!-- --><div class=\"tm-article-body tm-article-snippet__lead\">\n",
       " <!-- --><div class=\"article-formatted-body article-formatted-body_version-1\"><a href=\"https://habr.com/ru/company/ruvds/blog/570778/\"><div style=\"text-align:center;\"><img src=\"https://habrastorage.org/webt/su/po/cr/supocrt5ier4uhwfhmpy9ftqtey.png\"/></div></a><br/>\n",
       " Привет, Хабр! Когда видим или слышим словосочетание «тестер автомобильных аккумуляторных батарей» (АКБ), на ум приходит карманное устройство с двумя крокодилами и маленьким монохромным экранчиком, измеряющее параметры аккумулятора за несколько томительных секунд. Но уже существуют и доступны более продвинутые приборы, широко известные в узких кругах автомобилистов.<br/></div><a class=\"tm-article-snippet__readmore\" href=\"/ru/company/ruvds/blog/570778/\"><span>Читать дальше →</span></a></div></div><div class=\"tm-data-icons\"><!-- --><div class=\"tm-votes-meter tm-data-icons__item\"><svg class=\"tm-svg-img tm-votes-meter__icon tm-votes-meter__icon_small\" height=\"16\" width=\"16\"><title>Всего голосов 20: ↑20 и ↓0</title><use xlink:href=\"/img/megazord-v24.cee85629.svg#counter-rating\"></use></svg><span class=\"tm-votes-meter__value tm-votes-meter__value_positive tm-votes-meter__value_small\" title=\"Всего голосов 20: ↑20 и ↓0\">+20</span></div><span class=\"tm-icon-counter tm-data-icons__item\" title=\"Количество просмотров\"><svg class=\"tm-svg-img tm-icon-counter__icon\" height=\"16\" width=\"16\"><title>Просмотры</title><use xlink:href=\"/img/megazord-v24.cee85629.svg#counter-views\"></use></svg><span class=\"tm-icon-counter__value\">1.2K</span></span><button class=\"bookmarks-button tm-data-icons__item\" title=\"Добавить в закладки\" type=\"button\"><span class=\"tm-svg-icon__wrapper bookmarks-button__icon\" title=\"Добавить в закладки\"><svg class=\"tm-svg-img tm-svg-icon\" height=\"16\" width=\"16\"><title>Добавить в закладки</title><use xlink:href=\"/img/megazord-v24.cee85629.svg#counter-favorite\"></use></svg></span><span class=\"bookmarks-button__counter\" title=\"Количество пользователей, добавивших публикацию в закладки\">\n",
       "     16\n",
       "   </span></button><div class=\"tm-article-comments-counter-link tm-data-icons__item\" title=\"Читать комментарии\"><a class=\"tm-article-comments-counter-link__link\" href=\"/ru/company/ruvds/blog/570778/comments/\"><svg class=\"tm-svg-img tm-article-comments-counter-link__icon\" height=\"16\" width=\"16\"><title>Комментарии</title><use xlink:href=\"/img/megazord-v24.cee85629.svg#counter-comments\"></use></svg><span class=\"tm-article-comments-counter-link__value\">\n",
       "       5\n",
       "     </span></a><!-- --></div><!-- --><div class=\"v-portal\" style=\"display:none;\"></div></div></article>,\n",
       " <article class=\"tm-articles-list__item\" data-navigatable=\"\" id=\"573540\" tabindex=\"0\"><div class=\"tm-article-snippet\"><div class=\"tm-article-snippet__meta-container\"><div class=\"tm-article-snippet__meta\"><span class=\"tm-user-info tm-article-snippet__author\"><a class=\"tm-user-info__userpic\" href=\"/ru/users/ARG89/\" title=\"ARG89\"><div class=\"tm-entity-image\"><img alt=\"\" class=\"tm-entity-image__pic\" height=\"24\" loading=\"lazy\" src=\"//habrastorage.org/r/w32/getpro/habr/avatars/1ec/952/bec/1ec952bec6aca5cc1f87ff12fc4329b7.jpg\" width=\"24\"/></div></a><span class=\"tm-user-info__user\"><a class=\"tm-user-info__username\" href=\"/ru/users/ARG89/\">\n",
       "       ARG89\n",
       "     </a></span></span><span class=\"tm-article-snippet__datetime-published\"><time datetime=\"2021-08-18T12:52:06.000Z\" title=\"2021-08-18, 15:52\">сегодня в 15:52</time></span></div><!-- --></div><h2 class=\"tm-article-snippet__title tm-article-snippet__title_h2\"><a class=\"tm-article-snippet__title-link\" data-article-link=\"\" href=\"/ru/post/573540/\"><span>5 инструментов для удаленной команды Automation QA</span></a></h2><div class=\"tm-article-snippet__hubs\"><span class=\"tm-article-snippet__hubs-item\"><a class=\"tm-article-snippet__hubs-item-link\" href=\"/ru/hub/it_testing/\"><span>Тестирование IT-систем</span><span class=\"tm-article-snippet__profiled-hub\" title=\"Профильный хаб\">*</span></a></span><span class=\"tm-article-snippet__hubs-item\"><a class=\"tm-article-snippet__hubs-item-link\" href=\"/ru/hub/web_testing/\"><span>Тестирование веб-сервисов</span><span class=\"tm-article-snippet__profiled-hub\" title=\"Профильный хаб\">*</span></a></span><span class=\"tm-article-snippet__hubs-item\"><a class=\"tm-article-snippet__hubs-item-link\" href=\"/ru/hub/mobile_testing/\"><span>Тестирование мобильных приложений</span><span class=\"tm-article-snippet__profiled-hub\" title=\"Профильный хаб\">*</span></a></span><span class=\"tm-article-snippet__hubs-item\"><a class=\"tm-article-snippet__hubs-item-link\" href=\"/ru/hub/devops/\"><span>DevOps</span><span class=\"tm-article-snippet__profiled-hub\" title=\"Профильный хаб\">*</span></a></span></div><div class=\"tm-article-snippet__labels\"><div class=\"tm-article-snippet__label\"><span>\n",
       "           Перевод\n",
       "         </span></div></div><!-- --><div class=\"tm-article-body tm-article-snippet__lead\">\n",
       " <div class=\"tm-article-snippet__cover tm-article-snippet__cover_cover\"><img class=\"tm-article-snippet__lead-image\" src=\"https://habrastorage.org/getpro/habr/upload_files/030/a4a/50b/030a4a50ba54f5e2f674a35f4929bbce.jpeg\" style=\"object-position:0% 0%;\"/></div><div class=\"article-formatted-body article-formatted-body_version-2\"><p>Кому-то этот пост покажется запоздавшим, кому-то — очевидным. Однако общаясь с коллегами из QA-сообщества я продолжаю сталкиваться с тем, что удаленная работа вызывает кучу неудобств: количество чатов в мессенджерах зашкаливает, нельзя прийти ногами и объяснить все на пальцах или в деталях передать особенности окружения для воспроизведения бага, — хотя все уже давно было создано и внедрено.</p><p>За последний год появилось куча новых тулов с прицелом на удаленку, но стоит ли бежать и смотреть их, когда есть старые добрые инструменты? В этой короткой подборке я постарался собрать несколько тулов, которые помогут тестировщикам и тестировщицам облегчить работу с коллегами по цеху, опсами и разработчиками.</p><p><strong>ДИСКЛЕЙМЕР: На самом деле у каждого инструмента есть как минимум по несколько альтернатив, выбор из которых может привести к знатному холивару. Если у вас есть свои соображения на тему \"автор дурак, надо было брать не Х, а Y\", приходите в комментарии!</strong></p></div><a class=\"tm-article-snippet__readmore\" href=\"/ru/post/573540/\"><span>Читать далее</span></a></div></div><div class=\"tm-data-icons\"><!-- --><div class=\"tm-votes-meter tm-data-icons__item\"><svg class=\"tm-svg-img tm-votes-meter__icon tm-votes-meter__icon_small\" height=\"16\" width=\"16\"><title>Всего голосов 12: ↑10 и ↓2</title><use xlink:href=\"/img/megazord-v24.cee85629.svg#counter-rating\"></use></svg><span class=\"tm-votes-meter__value tm-votes-meter__value_positive tm-votes-meter__value_small\" title=\"Всего голосов 12: ↑10 и ↓2\">+8</span></div><span class=\"tm-icon-counter tm-data-icons__item\" title=\"Количество просмотров\"><svg class=\"tm-svg-img tm-icon-counter__icon\" height=\"16\" width=\"16\"><title>Просмотры</title><use xlink:href=\"/img/megazord-v24.cee85629.svg#counter-views\"></use></svg><span class=\"tm-icon-counter__value\">813</span></span><button class=\"bookmarks-button tm-data-icons__item\" title=\"Добавить в закладки\" type=\"button\"><span class=\"tm-svg-icon__wrapper bookmarks-button__icon\" title=\"Добавить в закладки\"><svg class=\"tm-svg-img tm-svg-icon\" height=\"16\" width=\"16\"><title>Добавить в закладки</title><use xlink:href=\"/img/megazord-v24.cee85629.svg#counter-favorite\"></use></svg></span><span class=\"bookmarks-button__counter\" title=\"Количество пользователей, добавивших публикацию в закладки\">\n",
       "     15\n",
       "   </span></button><div class=\"tm-article-comments-counter-link tm-data-icons__item\" title=\"Читать комментарии\"><a class=\"tm-article-comments-counter-link__link\" href=\"/ru/post/573540/comments/\"><svg class=\"tm-svg-img tm-article-comments-counter-link__icon\" height=\"16\" width=\"16\"><title>Комментарии</title><use xlink:href=\"/img/megazord-v24.cee85629.svg#counter-comments\"></use></svg><span class=\"tm-article-comments-counter-link__value\">\n",
       "       1\n",
       "     </span></a><!-- --></div><!-- --><div class=\"v-portal\" style=\"display:none;\"></div></div></article>,\n",
       " <article class=\"tm-articles-list__item\" data-navigatable=\"\" id=\"571096\" tabindex=\"0\"><div class=\"tm-article-snippet\"><div class=\"tm-article-snippet__meta-container\"><div class=\"tm-article-snippet__meta\"><span class=\"tm-user-info tm-article-snippet__author\"><a class=\"tm-user-info__userpic\" href=\"/ru/users/dvlunin/\" title=\"dvlunin\"><div class=\"tm-entity-image\"><svg class=\"tm-svg-img tm-image-placeholder tm-image-placeholder_blue\" height=\"24\" width=\"24\"><!-- --><use xlink:href=\"/img/megazord-v24.cee85629.svg#placeholder-user\"></use></svg></div></a><span class=\"tm-user-info__user\"><a class=\"tm-user-info__username\" href=\"/ru/users/dvlunin/\">\n",
       "       dvlunin\n",
       "     </a></span></span><span class=\"tm-article-snippet__datetime-published\"><time datetime=\"2021-08-18T12:35:27.000Z\" title=\"2021-08-18, 15:35\">сегодня в 15:35</time></span></div><!-- --></div><h2 class=\"tm-article-snippet__title tm-article-snippet__title_h2\"><a class=\"tm-article-snippet__title-link\" data-article-link=\"\" href=\"/ru/company/avito/blog/571096/\"><span>Как улучшить ваши A/B-тесты: лайфхаки аналитиков Авито. Часть 2</span></a></h2><div class=\"tm-article-snippet__hubs\"><span class=\"tm-article-snippet__hubs-item\"><a class=\"tm-article-snippet__hubs-item-link\" href=\"/ru/company/avito/blog/\"><span>Блог компании Авито</span><!-- --></a></span><span class=\"tm-article-snippet__hubs-item\"><a class=\"tm-article-snippet__hubs-item-link\" href=\"/ru/hub/mobileanalytics/\"><span>Аналитика мобильных приложений</span><span class=\"tm-article-snippet__profiled-hub\" title=\"Профильный хаб\">*</span></a></span><span class=\"tm-article-snippet__hubs-item\"><a class=\"tm-article-snippet__hubs-item-link\" href=\"/ru/hub/productpm/\"><span>Управление продуктом</span><span class=\"tm-article-snippet__profiled-hub\" title=\"Профильный хаб\">*</span></a></span></div><div class=\"tm-article-snippet__labels\"><!-- --></div><!-- --><div class=\"tm-article-body tm-article-snippet__lead\">\n",
       " <div class=\"tm-article-snippet__cover tm-article-snippet__cover_cover\"><img class=\"tm-article-snippet__lead-image\" src=\"https://habrastorage.org/getpro/habr/upload_files/829/a36/036/829a360365657c4dbf43100fa7d6bd2c.png\" style=\"object-position:0% 0%;\"/></div><div class=\"article-formatted-body article-formatted-body_version-2\"><p>Это вторая часть статьи о том, как улучшить A/B-тесты. Здесь я подробно остановлюсь на методах увеличения мощности: поговорим про CUPED, бутстрап-критерии, стратификацию и парную стратификацию.</p></div><a class=\"tm-article-snippet__readmore\" href=\"/ru/company/avito/blog/571096/\"><span>Читать далее</span></a></div></div><div class=\"tm-data-icons\"><!-- --><div class=\"tm-votes-meter tm-data-icons__item\"><svg class=\"tm-svg-img tm-votes-meter__icon tm-votes-meter__icon_small\" height=\"16\" width=\"16\"><title>Всего голосов 4: ↑4 и ↓0</title><use xlink:href=\"/img/megazord-v24.cee85629.svg#counter-rating\"></use></svg><span class=\"tm-votes-meter__value tm-votes-meter__value_positive tm-votes-meter__value_small\" title=\"Всего голосов 4: ↑4 и ↓0\">+4</span></div><span class=\"tm-icon-counter tm-data-icons__item\" title=\"Количество просмотров\"><svg class=\"tm-svg-img tm-icon-counter__icon\" height=\"16\" width=\"16\"><title>Просмотры</title><use xlink:href=\"/img/megazord-v24.cee85629.svg#counter-views\"></use></svg><span class=\"tm-icon-counter__value\">608</span></span><button class=\"bookmarks-button tm-data-icons__item\" title=\"Добавить в закладки\" type=\"button\"><span class=\"tm-svg-icon__wrapper bookmarks-button__icon\" title=\"Добавить в закладки\"><svg class=\"tm-svg-img tm-svg-icon\" height=\"16\" width=\"16\"><title>Добавить в закладки</title><use xlink:href=\"/img/megazord-v24.cee85629.svg#counter-favorite\"></use></svg></span><span class=\"bookmarks-button__counter\" title=\"Количество пользователей, добавивших публикацию в закладки\">\n",
       "     7\n",
       "   </span></button><div class=\"tm-article-comments-counter-link tm-data-icons__item\" title=\"Читать комментарии\"><a class=\"tm-article-comments-counter-link__link\" href=\"/ru/company/avito/blog/571096/comments/\"><svg class=\"tm-svg-img tm-article-comments-counter-link__icon\" height=\"16\" width=\"16\"><title>Комментарии</title><use xlink:href=\"/img/megazord-v24.cee85629.svg#counter-comments\"></use></svg><span class=\"tm-article-comments-counter-link__value\">\n",
       "       0\n",
       "     </span></a><!-- --></div><!-- --><div class=\"v-portal\" style=\"display:none;\"></div></div></article>,\n",
       " <article class=\"tm-articles-list__item\" data-navigatable=\"\" id=\"573538\" tabindex=\"0\"><div class=\"tm-article-snippet\"><div class=\"tm-article-snippet__meta-container\"><div class=\"tm-article-snippet__meta\"><span class=\"tm-user-info tm-article-snippet__author\"><a class=\"tm-user-info__userpic\" href=\"/ru/users/ASenterprise/\" title=\"ASenterprise\"><div class=\"tm-entity-image\"><img alt=\"\" class=\"tm-entity-image__pic\" height=\"24\" loading=\"lazy\" src=\"//habrastorage.org/r/w32/getpro/habr/avatars/41b/eb8/c40/41beb8c40ae48201c023a76707bbeb13.jpg\" width=\"24\"/></div></a><span class=\"tm-user-info__user\"><a class=\"tm-user-info__username\" href=\"/ru/users/ASenterprise/\">\n",
       "       ASenterprise\n",
       "     </a></span></span><span class=\"tm-article-snippet__datetime-published\"><time datetime=\"2021-08-18T12:33:37.000Z\" title=\"2021-08-18, 15:33\">сегодня в 15:33</time></span></div><!-- --></div><h2 class=\"tm-article-snippet__title tm-article-snippet__title_h2\"><a class=\"tm-article-snippet__title-link\" data-article-link=\"\" href=\"/ru/post/573538/\"><span>Эра электромобилей или эра мертвых батарей?</span></a></h2><div class=\"tm-article-snippet__hubs\"><span class=\"tm-article-snippet__hubs-item\"><a class=\"tm-article-snippet__hubs-item-link\" href=\"/ru/hub/social_networks/\"><span>Социальные сети и сообщества</span><!-- --></a></span><span class=\"tm-article-snippet__hubs-item\"><a class=\"tm-article-snippet__hubs-item-link\" href=\"/ru/hub/transport/\"><span>Транспорт</span><!-- --></a></span><span class=\"tm-article-snippet__hubs-item\"><a class=\"tm-article-snippet__hubs-item-link\" href=\"/ru/hub/Ecology/\"><span>Экология</span><!-- --></a></span><span class=\"tm-article-snippet__hubs-item\"><a class=\"tm-article-snippet__hubs-item-link\" href=\"/ru/hub/urban/\"><span>Урбанизм</span><!-- --></a></span></div><div class=\"tm-article-snippet__labels\"><!-- --></div><!-- --><div class=\"tm-article-body tm-article-snippet__lead\">\n",
       " <div class=\"tm-article-snippet__cover tm-article-snippet__cover_cover\"><img class=\"tm-article-snippet__lead-image\" src=\"https://habrastorage.org/getpro/habr/upload_files/113/f18/b9a/113f18b9a73cff7b75ec53dad87847ce.jpg\" style=\"object-position:0% 0%;\"/></div><div class=\"article-formatted-body article-formatted-body_version-2\"><p>Если проанализировать существующий поток новостей об автомобильном мире можно отметить, что уже никто не испытывает сомнений в том, что в скором времени мы все с вами будем ездить на полностью электрических автомобиля.</p><p>Европейские правительства заверяют, что к середине столетия полностью откажутся от использования двигателей внутреннего сгорания в своих странах. Знаменитые автоконцерны, вторят им, что в ближайшее время полностью переориентируют производство на электромобили. </p><p>Все действия по переходу на электромобили подаются под соусом заботы об экологии.</p><p>Однако, эта замечательная “зеленая” повестка мало затрагивает вопрос утилизации отработанных батарей. В принципе, до недавнего времени я считал этот вопрос неразрешимым, а точнее решаться он будет только тогда, когда весь мир, в добавок к горам пластика, заполнят отработанные батареи размером со столешницу кухонного стола или даже больше. И только тогда медиа обратит внимание на эту проблему.</p><p>Но тем не менее, не теряя веру в здравомыслие человечества, я решил посмотреть, что пишет по этому вопросу англоязычная пресса и предлагаю вашему вниманию некоторый анализ найденной информации.</p></div><a class=\"tm-article-snippet__readmore\" href=\"/ru/post/573538/\"><span>Читать далее</span></a></div></div><div class=\"tm-data-icons\"><!-- --><div class=\"tm-votes-meter tm-data-icons__item\"><svg class=\"tm-svg-img tm-votes-meter__icon tm-votes-meter__icon_small\" height=\"16\" width=\"16\"><title>Всего голосов 19: ↑13 и ↓6</title><use xlink:href=\"/img/megazord-v24.cee85629.svg#counter-rating\"></use></svg><span class=\"tm-votes-meter__value tm-votes-meter__value_positive tm-votes-meter__value_small\" title=\"Всего голосов 19: ↑13 и ↓6\">+7</span></div><span class=\"tm-icon-counter tm-data-icons__item\" title=\"Количество просмотров\"><svg class=\"tm-svg-img tm-icon-counter__icon\" height=\"16\" width=\"16\"><title>Просмотры</title><use xlink:href=\"/img/megazord-v24.cee85629.svg#counter-views\"></use></svg><span class=\"tm-icon-counter__value\">6.8K</span></span><button class=\"bookmarks-button tm-data-icons__item\" title=\"Добавить в закладки\" type=\"button\"><span class=\"tm-svg-icon__wrapper bookmarks-button__icon\" title=\"Добавить в закладки\"><svg class=\"tm-svg-img tm-svg-icon\" height=\"16\" width=\"16\"><title>Добавить в закладки</title><use xlink:href=\"/img/megazord-v24.cee85629.svg#counter-favorite\"></use></svg></span><span class=\"bookmarks-button__counter\" title=\"Количество пользователей, добавивших публикацию в закладки\">\n",
       "     16\n",
       "   </span></button><div class=\"tm-article-comments-counter-link tm-data-icons__item\" title=\"Читать комментарии\"><a class=\"tm-article-comments-counter-link__link\" href=\"/ru/post/573538/comments/\"><svg class=\"tm-svg-img tm-article-comments-counter-link__icon\" height=\"16\" width=\"16\"><title>Комментарии</title><use xlink:href=\"/img/megazord-v24.cee85629.svg#counter-comments\"></use></svg><span class=\"tm-article-comments-counter-link__value\">\n",
       "       121\n",
       "     </span></a><!-- --></div><!-- --><div class=\"v-portal\" style=\"display:none;\"></div></div></article>,\n",
       " <article class=\"tm-articles-list__item\" data-navigatable=\"\" id=\"573536\" tabindex=\"0\"><div class=\"tm-article-snippet\"><div class=\"tm-article-snippet__meta-container\"><div class=\"tm-article-snippet__meta\"><span class=\"tm-user-info tm-article-snippet__author\"><a class=\"tm-user-info__userpic\" href=\"/ru/users/crypter/\" title=\"crypter\"><div class=\"tm-entity-image\"><img alt=\"\" class=\"tm-entity-image__pic\" height=\"24\" loading=\"lazy\" src=\"//habrastorage.org/r/w32/getpro/habr/avatars/f0f/f5d/2c0/f0ff5d2c096fe78830a42f6ef8b75dec.jpg\" width=\"24\"/></div></a><span class=\"tm-user-info__user\"><a class=\"tm-user-info__username\" href=\"/ru/users/crypter/\">\n",
       "       crypter\n",
       "     </a></span></span><span class=\"tm-article-snippet__datetime-published\"><time datetime=\"2021-08-18T12:20:26.000Z\" title=\"2021-08-18, 15:20\">сегодня в 15:20</time></span></div><!-- --></div><h2 class=\"tm-article-snippet__title tm-article-snippet__title_h2\"><a class=\"tm-article-snippet__title-link\" data-article-link=\"\" href=\"/ru/post/573536/\"><span>Токенизация сообществ</span></a></h2><div class=\"tm-article-snippet__hubs\"><span class=\"tm-article-snippet__hubs-item\"><a class=\"tm-article-snippet__hubs-item-link\" href=\"/ru/hub/p2p/\"><span>Децентрализованные сети</span><!-- --></a></span><span class=\"tm-article-snippet__hubs-item\"><a class=\"tm-article-snippet__hubs-item-link\" href=\"/ru/hub/cryptocurrency/\"><span>Криптовалюты</span><!-- --></a></span></div><div class=\"tm-article-snippet__labels\"><!-- --></div><!-- --><div class=\"tm-article-body tm-article-snippet__lead\">\n",
       " <div class=\"tm-article-snippet__cover tm-article-snippet__cover_cover\"><img class=\"tm-article-snippet__lead-image\" src=\"https://habrastorage.org/getpro/habr/upload_files/e4b/0c9/003/e4b0c9003c631722ff9fef52fe2d8e28.jpg\" style=\"object-position:0% 0%;\"/></div><div class=\"article-formatted-body article-formatted-body_version-2\"><p>Токенизировать можно не только коммерческие компании (через ICO) и “цифровое искусство” (<a href=\"https://habr.com/ru/company/timeweb/blog/545620/\" rel=\"noopener noreferrer nofollow\"><u>NFT токены</u></a>) но и онлайн сообщества и их “социальный капитал”. При этом токены сообществ могут быть намного полезнее для их владельцев чем любые другие типы токенов.</p></div><a class=\"tm-article-snippet__readmore\" href=\"/ru/post/573536/\"><span>Читать далее</span></a></div></div><div class=\"tm-data-icons\"><!-- --><div class=\"tm-votes-meter tm-data-icons__item\"><svg class=\"tm-svg-img tm-votes-meter__icon tm-votes-meter__icon_small\" height=\"16\" width=\"16\"><title>Всего голосов 3: ↑3 и ↓0</title><use xlink:href=\"/img/megazord-v24.cee85629.svg#counter-rating\"></use></svg><span class=\"tm-votes-meter__value tm-votes-meter__value_positive tm-votes-meter__value_small\" title=\"Всего голосов 3: ↑3 и ↓0\">+3</span></div><span class=\"tm-icon-counter tm-data-icons__item\" title=\"Количество просмотров\"><svg class=\"tm-svg-img tm-icon-counter__icon\" height=\"16\" width=\"16\"><title>Просмотры</title><use xlink:href=\"/img/megazord-v24.cee85629.svg#counter-views\"></use></svg><span class=\"tm-icon-counter__value\">581</span></span><button class=\"bookmarks-button tm-data-icons__item\" title=\"Добавить в закладки\" type=\"button\"><span class=\"tm-svg-icon__wrapper bookmarks-button__icon\" title=\"Добавить в закладки\"><svg class=\"tm-svg-img tm-svg-icon\" height=\"16\" width=\"16\"><title>Добавить в закладки</title><use xlink:href=\"/img/megazord-v24.cee85629.svg#counter-favorite\"></use></svg></span><span class=\"bookmarks-button__counter\" title=\"Количество пользователей, добавивших публикацию в закладки\">\n",
       "     5\n",
       "   </span></button><div class=\"tm-article-comments-counter-link tm-data-icons__item\" title=\"Читать комментарии\"><a class=\"tm-article-comments-counter-link__link\" href=\"/ru/post/573536/comments/\"><svg class=\"tm-svg-img tm-article-comments-counter-link__icon\" height=\"16\" width=\"16\"><title>Комментарии</title><use xlink:href=\"/img/megazord-v24.cee85629.svg#counter-comments\"></use></svg><span class=\"tm-article-comments-counter-link__value\">\n",
       "       6\n",
       "     </span></a><!-- --></div><!-- --><div class=\"v-portal\" style=\"display:none;\"></div></div></article>,\n",
       " <article class=\"tm-articles-list__item\" data-navigatable=\"\" id=\"573534\" tabindex=\"0\"><div class=\"tm-article-snippet\"><div class=\"tm-article-snippet__meta-container\"><div class=\"tm-article-snippet__meta\"><span class=\"tm-user-info tm-article-snippet__author\"><a class=\"tm-user-info__userpic\" href=\"/ru/users/Axelus/\" title=\"Axelus\"><div class=\"tm-entity-image\"><img alt=\"\" class=\"tm-entity-image__pic\" height=\"24\" loading=\"lazy\" src=\"//habrastorage.org/r/w32/getpro/habr/avatars/118/c4f/08f/118c4f08ffa66438ad6be22e205d563d.png\" width=\"24\"/></div></a><span class=\"tm-user-info__user\"><a class=\"tm-user-info__username\" href=\"/ru/users/Axelus/\">\n",
       "       Axelus\n",
       "     </a></span></span><span class=\"tm-article-snippet__datetime-published\"><time datetime=\"2021-08-18T12:16:15.000Z\" title=\"2021-08-18, 15:16\">сегодня в 15:16</time></span></div><!-- --></div><h2 class=\"tm-article-snippet__title tm-article-snippet__title_h2\"><a class=\"tm-article-snippet__title-link\" data-article-link=\"\" href=\"/ru/company/regionsoft/blog/573534/\"><span>CRM: систематизация или автоматизация?</span></a></h2><div class=\"tm-article-snippet__hubs\"><span class=\"tm-article-snippet__hubs-item\"><a class=\"tm-article-snippet__hubs-item-link\" href=\"/ru/company/regionsoft/blog/\"><span>Блог компании RegionSoft</span><!-- --></a></span><span class=\"tm-article-snippet__hubs-item\"><a class=\"tm-article-snippet__hubs-item-link\" href=\"/ru/hub/it-infrastructure/\"><span>IT-инфраструктура</span><span class=\"tm-article-snippet__profiled-hub\" title=\"Профильный хаб\">*</span></a></span><span class=\"tm-article-snippet__hubs-item\"><a class=\"tm-article-snippet__hubs-item-link\" href=\"/ru/hub/crm/\"><span>CRM-системы</span><span class=\"tm-article-snippet__profiled-hub\" title=\"Профильный хаб\">*</span></a></span><span class=\"tm-article-snippet__hubs-item\"><a class=\"tm-article-snippet__hubs-item-link\" href=\"/ru/hub/terminator/\"><span>Терминология IT</span><!-- --></a></span></div><div class=\"tm-article-snippet__labels\"><!-- --></div><!-- --><div class=\"tm-article-body tm-article-snippet__lead\">\n",
       " <div class=\"tm-article-snippet__cover tm-article-snippet__cover_cover\"><img class=\"tm-article-snippet__lead-image\" src=\"https://habrastorage.org/getpro/habr/upload_files/c5e/d77/834/c5ed7783404989239abd33401c854fcd.png\" style=\"object-position:0% 0%;\"/></div><div class=\"article-formatted-body article-formatted-body_version-2\"><p>Вы писали в школе шпаргалки? Наверняка да. Вероятно, замечали, что одни шпоры были монолитным переписыванием учебника, а другие настоящими подсказками: открыл, глазом схватил схемы, списки, пункты и быстро убрал, потому что информация организована идеально. Такие писали те редкие отличники, которые не за уши тянутые и не зубрилки, и крепкие хорошисты с пониманием себя в обучении — это была их страховка, если хотите,  успокоительное. Более того, пока так обрабатываешь, форматируешь и излагаешь информацию, выучиваешь предмет навсегда. Вот это была самая настоящая систематизация.</p><p>А теперь вопрос: стал ли автоматизированным процесс списывания с появлением удобных мобильных телефонов? Как считаете? Формально — да: труд человека минимизирован, информацию передаёт машина, у процесса высокая скорость, задействованы технологии, трудоёмкость операций снижена практически до нуля. Но, с другой стороны, информацию в электронной шпаргалке создал какой-то человек и дальше просто запущен процесс создания безлимитных копий. Получается автоматизация отчасти, да ещё с негативной коннотацией — она лишает человека возможности получить минимальные знания и работает только на целевой «KPI», т.е. оценку. Правда, немного похоже на некоторые формальные офисные процессы, которые направлены на какие-то мнимые цели и ключевые показатели с потолка?  </p><p>Часто дискуссии на Хабре, в социальных сетях, на профильных площадках и в закрытых группах сводятся к обсуждению того, что CRM-система — это не про автоматизацию, потому что она сама за сотрудника работать не может и ему, бедненькому, нужно самому заполнять карточки клиентов с кучей полей, справочники, различные рабочие сущности программы и т.д. Беда да и только — все-то думали, что CRM работать за сотрудников будет, а она даже пальцы не загибает. Ага?</p></div><a class=\"tm-article-snippet__readmore\" href=\"/ru/company/regionsoft/blog/573534/\"><span>Читать далее</span></a></div></div><div class=\"tm-data-icons\"><!-- --><div class=\"tm-votes-meter tm-data-icons__item\"><svg class=\"tm-svg-img tm-votes-meter__icon tm-votes-meter__icon_small\" height=\"16\" width=\"16\"><title>Всего голосов 12: ↑11 и ↓1</title><use xlink:href=\"/img/megazord-v24.cee85629.svg#counter-rating\"></use></svg><span class=\"tm-votes-meter__value tm-votes-meter__value_positive tm-votes-meter__value_small\" title=\"Всего голосов 12: ↑11 и ↓1\">+10</span></div><span class=\"tm-icon-counter tm-data-icons__item\" title=\"Количество просмотров\"><svg class=\"tm-svg-img tm-icon-counter__icon\" height=\"16\" width=\"16\"><title>Просмотры</title><use xlink:href=\"/img/megazord-v24.cee85629.svg#counter-views\"></use></svg><span class=\"tm-icon-counter__value\">671</span></span><button class=\"bookmarks-button tm-data-icons__item\" title=\"Добавить в закладки\" type=\"button\"><span class=\"tm-svg-icon__wrapper bookmarks-button__icon\" title=\"Добавить в закладки\"><svg class=\"tm-svg-img tm-svg-icon\" height=\"16\" width=\"16\"><title>Добавить в закладки</title><use xlink:href=\"/img/megazord-v24.cee85629.svg#counter-favorite\"></use></svg></span><span class=\"bookmarks-button__counter\" title=\"Количество пользователей, добавивших публикацию в закладки\">\n",
       "     4\n",
       "   </span></button><div class=\"tm-article-comments-counter-link tm-data-icons__item\" title=\"Читать комментарии\"><a class=\"tm-article-comments-counter-link__link\" href=\"/ru/company/regionsoft/blog/573534/comments/\"><svg class=\"tm-svg-img tm-article-comments-counter-link__icon\" height=\"16\" width=\"16\"><title>Комментарии</title><use xlink:href=\"/img/megazord-v24.cee85629.svg#counter-comments\"></use></svg><span class=\"tm-article-comments-counter-link__value\">\n",
       "       1\n",
       "     </span></a><!-- --></div><!-- --><div class=\"v-portal\" style=\"display:none;\"></div></div></article>,\n",
       " <article class=\"tm-articles-list__item\" data-navigatable=\"\" id=\"573528\" tabindex=\"0\"><div class=\"tm-article-snippet\"><div class=\"tm-article-snippet__meta-container\"><div class=\"tm-article-snippet__meta\"><span class=\"tm-user-info tm-article-snippet__author\"><a class=\"tm-user-info__userpic\" href=\"/ru/users/mxkey/\" title=\"mxkey\"><div class=\"tm-entity-image\"><svg class=\"tm-svg-img tm-image-placeholder tm-image-placeholder_lilac\" height=\"24\" width=\"24\"><!-- --><use xlink:href=\"/img/megazord-v24.cee85629.svg#placeholder-user\"></use></svg></div></a><span class=\"tm-user-info__user\"><a class=\"tm-user-info__username\" href=\"/ru/users/mxkey/\">\n",
       "       mxkey\n",
       "     </a></span></span><span class=\"tm-article-snippet__datetime-published\"><time datetime=\"2021-08-18T11:35:20.000Z\" title=\"2021-08-18, 14:35\">сегодня в 14:35</time></span></div><!-- --></div><h2 class=\"tm-article-snippet__title tm-article-snippet__title_h2\"><a class=\"tm-article-snippet__title-link\" data-article-link=\"\" href=\"/ru/post/573528/\"><span>Сеошка для несеошников</span></a></h2><div class=\"tm-article-snippet__hubs\"><span class=\"tm-article-snippet__hubs-item\"><a class=\"tm-article-snippet__hubs-item-link\" href=\"/ru/hub/seo/\"><span>Поисковая оптимизация</span><!-- --></a></span></div><div class=\"tm-article-snippet__labels\"><div class=\"tm-article-snippet__label\"><span>\n",
       "           Из песочницы\n",
       "         </span></div></div><!-- --><div class=\"tm-article-body tm-article-snippet__lead\">\n",
       " <div class=\"tm-article-snippet__cover tm-article-snippet__cover_cover\"><img class=\"tm-article-snippet__lead-image\" src=\"https://habrastorage.org/getpro/habr/upload_files/346/96b/e24/34696be24bf473948fbb056c03aa3bdd.jpeg\" style=\"object-position:0% 0%;\"/></div><div class=\"article-formatted-body article-formatted-body_version-2\"><p>// Эта статья представляет из себя адаптацию презентации, которую я провел в Govitall. Скринкаст можно посмотреть <a href=\"https://youtu.be/I5oaakDoics\" rel=\"noopener noreferrer nofollow\"><u>тут</u></a>, а сама презентация доступна по <a href=\"https://docs.google.com/presentation/d/1zwVzdIshXZeBCgEt6RsWZw18Ufft2gx6pBM2if_K9sQ/edit#slide=id.p\" rel=\"noopener noreferrer nofollow\"><u>ссылке</u></a>.</p></div><a class=\"tm-article-snippet__readmore\" href=\"/ru/post/573528/\"><span>Читать далее</span></a></div></div><div class=\"tm-data-icons\"><!-- --><div class=\"tm-votes-meter tm-data-icons__item\"><svg class=\"tm-svg-img tm-votes-meter__icon tm-votes-meter__icon_small\" height=\"16\" width=\"16\"><title>Всего голосов 10: ↑3 и ↓7</title><use xlink:href=\"/img/megazord-v24.cee85629.svg#counter-rating\"></use></svg><span class=\"tm-votes-meter__value tm-votes-meter__value_negative tm-votes-meter__value_small\" title=\"Всего голосов 10: ↑3 и ↓7\">-4</span></div><span class=\"tm-icon-counter tm-data-icons__item\" title=\"Количество просмотров\"><svg class=\"tm-svg-img tm-icon-counter__icon\" height=\"16\" width=\"16\"><title>Просмотры</title><use xlink:href=\"/img/megazord-v24.cee85629.svg#counter-views\"></use></svg><span class=\"tm-icon-counter__value\">709</span></span><button class=\"bookmarks-button tm-data-icons__item\" title=\"Добавить в закладки\" type=\"button\"><span class=\"tm-svg-icon__wrapper bookmarks-button__icon\" title=\"Добавить в закладки\"><svg class=\"tm-svg-img tm-svg-icon\" height=\"16\" width=\"16\"><title>Добавить в закладки</title><use xlink:href=\"/img/megazord-v24.cee85629.svg#counter-favorite\"></use></svg></span><span class=\"bookmarks-button__counter\" title=\"Количество пользователей, добавивших публикацию в закладки\">\n",
       "     2\n",
       "   </span></button><div class=\"tm-article-comments-counter-link tm-data-icons__item\" title=\"Читать комментарии\"><a class=\"tm-article-comments-counter-link__link\" href=\"/ru/post/573528/comments/\"><svg class=\"tm-svg-img tm-article-comments-counter-link__icon\" height=\"16\" width=\"16\"><title>Комментарии</title><use xlink:href=\"/img/megazord-v24.cee85629.svg#counter-comments\"></use></svg><span class=\"tm-article-comments-counter-link__value\">\n",
       "       6\n",
       "     </span></a><!-- --></div><!-- --><div class=\"v-portal\" style=\"display:none;\"></div></div></article>]"
      ]
     },
     "execution_count": 29,
     "metadata": {},
     "output_type": "execute_result"
    }
   ],
   "source": [
    "posts"
   ]
  },
  {
   "cell_type": "code",
   "execution_count": 32,
   "metadata": {},
   "outputs": [],
   "source": [
    "keywords = ['python', 'парсинг']\n",
    "# в сегодняшней ленте не нашлось, добавим слово\n",
    "keywords = ['python', 'парсинг', 'токен']\n"
   ]
  },
  {
   "cell_type": "code",
   "execution_count": 33,
   "metadata": {},
   "outputs": [
    {
     "data": {
      "text/html": [
       "<div>\n",
       "<style scoped>\n",
       "    .dataframe tbody tr th:only-of-type {\n",
       "        vertical-align: middle;\n",
       "    }\n",
       "\n",
       "    .dataframe tbody tr th {\n",
       "        vertical-align: top;\n",
       "    }\n",
       "\n",
       "    .dataframe thead th {\n",
       "        text-align: right;\n",
       "    }\n",
       "</style>\n",
       "<table border=\"1\" class=\"dataframe\">\n",
       "  <thead>\n",
       "    <tr style=\"text-align: right;\">\n",
       "      <th></th>\n",
       "      <th>date</th>\n",
       "      <th>title</th>\n",
       "      <th>link</th>\n",
       "    </tr>\n",
       "  </thead>\n",
       "  <tbody>\n",
       "    <tr>\n",
       "      <th>0</th>\n",
       "      <td>2021-08-18</td>\n",
       "      <td>Токенизация сообществ</td>\n",
       "      <td>https://habr.com/ru/post/573536/</td>\n",
       "    </tr>\n",
       "  </tbody>\n",
       "</table>\n",
       "</div>"
      ],
      "text/plain": [
       "         date                  title                              link\n",
       "0  2021-08-18  Токенизация сообществ  https://habr.com/ru/post/573536/"
      ]
     },
     "execution_count": 33,
     "metadata": {},
     "output_type": "execute_result"
    }
   ],
   "source": [
    "news = pd.DataFrame()\n",
    "for post in posts:\n",
    "    hubs = post.find_all('div', class_='article-formatted-body article-formatted-body_version-1') \\\n",
    "    + post.find_all('div', class_='article-formatted-body article-formatted-body_version-2')\n",
    "    for hub in hubs:\n",
    "            hub_lower = hub.text.lower()\n",
    "            if any([word in hub_lower for word in keywords]):\n",
    "                link = 'https://habr.com' + post.find('a', class_='tm-article-snippet__readmore').attrs.get('href')\n",
    "                title = post.find('h2', class_='tm-article-snippet__title tm-article-snippet__title_h2').text\n",
    "                date = pd.to_datetime(post.find('time').attrs.get('title')).date()\n",
    "                row = {'date': date, 'title': title, 'link': link}\n",
    "                news = pd.concat([news, pd.DataFrame([row])])  \n",
    "news"
   ]
  },
  {
   "cell_type": "markdown",
   "metadata": {},
   "source": [
    "**Дополнительная часть (необязательная)**  \n",
    "Улучшить скрипт так, чтобы он анализировал не только preview-информацию статьи, но и весь текст статьи целиком.\n",
    "\n",
    "Для этого потребуется получать страницы статей и искать по тексту внутри этой страницы.\n",
    "\n",
    "Итоговый датафрейм формировать со столбцами: <дата> - <заголовок> - <ссылка> - <текст_статьи>"
   ]
  },
  {
   "cell_type": "code",
   "execution_count": null,
   "metadata": {},
   "outputs": [],
   "source": [
    "# получим текст новости"
   ]
  },
  {
   "cell_type": "code",
   "execution_count": 34,
   "metadata": {},
   "outputs": [
    {
     "name": "stdout",
     "output_type": "stream",
     "text": [
      "\n",
      "\r\n",
      "Не один десяток лет программирую. И временами наступаю на одни грабли: закрывающие скобки. Всегда нужно соответствие открывающим. Будь то выражение или программные скобки в функции. IDE обязательно укажет на ошибку, но раздражает!\n",
      "\r\n",
      " В Pascal 8000 для ЕС ЭВМ была конструкция FORALL – чем делать тупой перебор множества S:\n",
      "\n",
      "for i :=1 to 250 do\n",
      " if i in S then\n",
      " … {do something}\n",
      "\r\n",
      "можно было написать:\n",
      "\n",
      "forall i in S do\n",
      "\n",
      "… {something}\n",
      "\r\n",
      "что выглядит более эффективно. \n",
      "\r\n",
      "В книге Дал У., Дейкстра Э., Хоор К., Структурное программирование. М.:«Мир», 1975,\r\n",
      "для множеств была предложена функция next, возвращающая следующий член множества. Не понятно почему Вирт не реализовал ее в своем Паскале, и далее ее обошли вниманием в других компиляторах Паскаля. Реализация не сложная, но это будет уход от темы.\n",
      "\r\n",
      "Возвращаясь к закрывающим скобкам – ИМХО в ЯП добавлять слово ALL. Нпр., “)all” пусть закроет все скобки в выражении, endall закроет все программные скобки в паскалевской процедуре, “}all” — закроет все программные скобки в функции Си. ALL может быть не ключевым словом, а просто директивой (тогда оформлять нужно, как директиву).\n",
      "\r\n",
      "Стоит отметить Вики статью про скобки, они не всегда парами. Бывают и смайлики :) И не только. Но это не проблема ЯП.\r\n",
      "Надеюсь, что конструкторы новых языков оценят мой мелкий совет. Желаю им успехов!\n"
     ]
    }
   ],
   "source": [
    "for post in posts:\n",
    "    link = 'https://habr.com' + post.find('a', class_='tm-article-snippet__readmore').attrs.get('href')\n",
    "    soup = BeautifulSoup(requests.get(link).text)\n",
    "    time.sleep(0.3)\n",
    "    text = soup.find('div', class_='tm-article-body').text\n",
    "#     text = soup.find('div', class_='article-formatted-body article-formatted-body_version-2').text\n",
    "    print(text)\n",
    "    break"
   ]
  },
  {
   "cell_type": "code",
   "execution_count": 57,
   "metadata": {},
   "outputs": [
    {
     "data": {
      "text/plain": [
       "'\\n\\r\\nНе один десяток лет программирую. И временами наступаю на одни грабли: закрывающие скобки. Всегда нужно соответствие открывающим. Будь то выражение или программные скобки в функции. IDE обязательно укажет на ошибку, но раздражает!\\n\\r\\n В Pascal 8000 для ЕС ЭВМ была конструкция FORALL – чем делать тупой перебор множества S:\\n\\nfor i :=1 to 250 do\\n if i in S then\\n … {do something}\\n\\r\\nможно было написать:\\n\\nforall i in S do\\n\\n… {something}\\n\\r\\nчто выглядит более эффективно. \\n\\r\\nВ книге Дал У., Дейкстра Э., Хоор К., Структурное программирование. М.:«Мир», 1975,\\r\\nдля множеств была предложена функция next, возвращающая следующий член множества. Не понятно почему Вирт не реализовал ее в своем Паскале, и далее ее обошли вниманием в других компиляторах Паскаля. Реализация не сложная, но это будет уход от темы.\\n\\r\\nВозвращаясь к закрывающим скобкам – ИМХО в ЯП добавлять слово ALL. Нпр., “)all” пусть закроет все скобки в выражении, endall закроет все программные скобки в паскалевской процедуре, “}all” — закроет все программные скобки в функции Си. ALL может быть не ключевым словом, а просто директивой (тогда оформлять нужно, как директиву).\\n\\r\\nСтоит отметить Вики статью про скобки, они не всегда парами. Бывают и смайлики :) И не только. Но это не проблема ЯП.\\r\\nНадеюсь, что конструкторы новых языков оценят мой мелкий совет. Желаю им успехов!'"
      ]
     },
     "execution_count": 57,
     "metadata": {},
     "output_type": "execute_result"
    }
   ],
   "source": [
    "link = 'https://habr.com' + posts[0].find('a', class_='tm-article-snippet__readmore').attrs.get('href')\n",
    "soup = BeautifulSoup(requests.get(link).text)\n",
    "text = soup.find('div', class_='tm-article-body').text\n",
    "text"
   ]
  },
  {
   "cell_type": "code",
   "execution_count": 62,
   "metadata": {},
   "outputs": [
    {
     "data": {
      "text/html": [
       "<div>\n",
       "<style scoped>\n",
       "    .dataframe tbody tr th:only-of-type {\n",
       "        vertical-align: middle;\n",
       "    }\n",
       "\n",
       "    .dataframe tbody tr th {\n",
       "        vertical-align: top;\n",
       "    }\n",
       "\n",
       "    .dataframe thead th {\n",
       "        text-align: right;\n",
       "    }\n",
       "</style>\n",
       "<table border=\"1\" class=\"dataframe\">\n",
       "  <thead>\n",
       "    <tr style=\"text-align: right;\">\n",
       "      <th></th>\n",
       "      <th>date</th>\n",
       "      <th>title</th>\n",
       "      <th>link</th>\n",
       "      <th>text</th>\n",
       "    </tr>\n",
       "  </thead>\n",
       "  <tbody>\n",
       "    <tr>\n",
       "      <th>0</th>\n",
       "      <td>2021-08-18</td>\n",
       "      <td>Первый Компьютерный ЕГЭ 2021</td>\n",
       "      <td>https://habr.com/ru/post/573580/</td>\n",
       "      <td>Всем привет! В этом году я закончил 11 класс и...</td>\n",
       "    </tr>\n",
       "    <tr>\n",
       "      <th>0</th>\n",
       "      <td>2021-08-18</td>\n",
       "      <td>5 инструментов для удаленной команды Automatio...</td>\n",
       "      <td>https://habr.com/ru/post/573540/</td>\n",
       "      <td>Кому-то этот пост покажется запоздавшим, кому-...</td>\n",
       "    </tr>\n",
       "    <tr>\n",
       "      <th>0</th>\n",
       "      <td>2021-08-18</td>\n",
       "      <td>Токенизация сообществ</td>\n",
       "      <td>https://habr.com/ru/post/573536/</td>\n",
       "      <td>Токенизировать можно не только коммерческие ко...</td>\n",
       "    </tr>\n",
       "  </tbody>\n",
       "</table>\n",
       "</div>"
      ],
      "text/plain": [
       "         date                                              title  \\\n",
       "0  2021-08-18                       Первый Компьютерный ЕГЭ 2021   \n",
       "0  2021-08-18  5 инструментов для удаленной команды Automatio...   \n",
       "0  2021-08-18                              Токенизация сообществ   \n",
       "\n",
       "                               link  \\\n",
       "0  https://habr.com/ru/post/573580/   \n",
       "0  https://habr.com/ru/post/573540/   \n",
       "0  https://habr.com/ru/post/573536/   \n",
       "\n",
       "                                                text  \n",
       "0  Всем привет! В этом году я закончил 11 класс и...  \n",
       "0  Кому-то этот пост покажется запоздавшим, кому-...  \n",
       "0  Токенизировать можно не только коммерческие ко...  "
      ]
     },
     "execution_count": 62,
     "metadata": {},
     "output_type": "execute_result"
    }
   ],
   "source": [
    "full_news = pd.DataFrame()\n",
    "for post in posts:\n",
    "    link = 'https://habr.com' + post.find('a', class_='tm-article-snippet__readmore').attrs.get('href')\n",
    "    soup = BeautifulSoup(requests.get(link).text)\n",
    "    time.sleep(0.3)\n",
    "    text = soup.find('div', class_='tm-article-body').text\n",
    "#     text = soup.find('div', class_='article-formatted-body article-formatted-body_version-1') \\\n",
    "#     + soup.find('div', class_='article-formatted-body article-formatted-body_version-2')\n",
    "    if any([word in text.lower() for word in keywords]):\n",
    "        title = soup.find('h1', class_='tm-article-snippet__title tm-article-snippet__title_h1').text\n",
    "        date = pd.to_datetime(soup.find('time').attrs.get('title')).date()\n",
    "        row = {'date': date, 'title': title, 'link': link, 'text':text}\n",
    "        full_news = pd.concat([full_news, pd.DataFrame([row])])\n",
    "    \n",
    "full_news"
   ]
  },
  {
   "cell_type": "code",
   "execution_count": null,
   "metadata": {},
   "outputs": [],
   "source": [
    "# при поиске по полному тексту нашли ещё две новости с ключевыми словами"
   ]
  },
  {
   "cell_type": "markdown",
   "metadata": {},
   "source": [
    "### Задание 2.\n",
    "**Обязательная часть**  \n",
    "Написать скрипт, который будет проверять список e-mail адресов на утечку при помощи сервиса Avast Hack Ckeck. Список email-ов задаем переменной в начале кода:\n",
    "EMAIL = [xxx@x.ru, yyy@y.com]\n",
    "\n",
    "В итоге должен формироваться датафрейм со столбцами: <дата утечки> - <источник утечки> - <описание утечки>\n",
    "\n",
    "**Подсказка**: сервис работает при помощи “скрытого” API. Внимательно изучите post-запросы."
   ]
  },
  {
   "cell_type": "code",
   "execution_count": 4,
   "metadata": {},
   "outputs": [],
   "source": [
    "import json"
   ]
  },
  {
   "cell_type": "code",
   "execution_count": 5,
   "metadata": {},
   "outputs": [
    {
     "data": {
      "text/plain": [
       "{'Vaar-Header-App-Build-Version': '1.0.0',\n",
       " 'Vaar-Header-App-Product': 'hackcheck-web-avast',\n",
       " 'Vaar-Header-App-Product-Name': 'hackcheck-web-avast',\n",
       " 'Vaar-Version': '0'}"
      ]
     },
     "execution_count": 5,
     "metadata": {},
     "output_type": "execute_result"
    }
   ],
   "source": [
    "headers = {\n",
    "# 'Accept': 'application/json, text/plain, */*',\n",
    "# 'Accept-Encoding': 'gzip, deflate, br',\n",
    "# 'Accept-Language': 'ru,en;q=0.9',\n",
    "# 'Connection': 'keep-alive',\n",
    "# 'Content-Length': '33',\n",
    "# 'Content-Type': 'application/json;charset=UTF-8',\n",
    "# 'Host': 'identityprotection.avast.com',\n",
    "# 'Origin': 'https://www.avast.com',\n",
    "# 'Referer': 'https://www.avast.com/',\n",
    "# 'sec-ch-ua': '\" Not;A Brand\";v=\"99\", \"Yandex\";v=\"91\", \"Chromium\";v=\"91\"',\n",
    "# 'sec-ch-ua-mobile': '?0',\n",
    "# 'Sec-Fetch-Dest': 'empty',\n",
    "# 'Sec-Fetch-Mode': 'cors',\n",
    "# 'Sec-Fetch-Site': 'same-site',\n",
    "# 'User-Agent': 'Mozilla/5.0 (Windows NT 10.0; WOW64) AppleWebKit/537.36 (KHTML, like Gecko) Chrome/91.0.4472.164 YaBrowser/21.6.4.787 Yowser/2.5 Safari/537.36',\n",
    "'Vaar-Header-App-Build-Version': '1.0.0',\n",
    "'Vaar-Header-App-Product': 'hackcheck-web-avast',\n",
    "'Vaar-Header-App-Product-Name': 'hackcheck-web-avast',\n",
    "'Vaar-Version': '0'}\n",
    "headers"
   ]
  },
  {
   "cell_type": "code",
   "execution_count": 7,
   "metadata": {},
   "outputs": [
    {
     "data": {
      "text/plain": [
       "'https://identityprotection.avast.com/v1/web/query/site-breaches/unauthorized-data'"
      ]
     },
     "execution_count": 7,
     "metadata": {},
     "output_type": "execute_result"
    }
   ],
   "source": [
    "url = 'https://identityprotection.avast.com/v1/web/query/site-breaches/unauthorized-data'\n",
    "url"
   ]
  },
  {
   "cell_type": "code",
   "execution_count": 59,
   "metadata": {},
   "outputs": [
    {
     "data": {
      "text/plain": [
       "dict"
      ]
     },
     "execution_count": 59,
     "metadata": {},
     "output_type": "execute_result"
    }
   ],
   "source": [
    "data_json = {\"emailAddresses\": [\"123456@ya.com\", \"qwerty@ya.com\"]}\n",
    "type(data_json)"
   ]
  },
  {
   "cell_type": "code",
   "execution_count": 60,
   "metadata": {},
   "outputs": [
    {
     "data": {
      "text/plain": [
       "<Response [200]>"
      ]
     },
     "execution_count": 60,
     "metadata": {},
     "output_type": "execute_result"
    }
   ],
   "source": [
    "request = requests.post(url, json = data_json, headers = headers)\n",
    "request"
   ]
  },
  {
   "cell_type": "code",
   "execution_count": 61,
   "metadata": {},
   "outputs": [
    {
     "data": {
      "text/plain": [
       "{'breaches': {'3': {'breachId': 3,\n",
       "   'site': 'adobe.com',\n",
       "   'recordsCount': 152046506,\n",
       "   'description': \"In October of 2013, criminals penetrated Adobe's corporate network and the stole source code for several of its software products. The affected products included Adobe's ColdFusion web application platform as well as the Acrobat suite of products. Adobe asserts that criminals also accessed nearly three-million customer credit card records and stole login data for an undisclosed number of Adobe user accounts.\",\n",
       "   'publishDate': '2016-10-21T00:00:00Z',\n",
       "   'statistics': {'usernames': 0,\n",
       "    'passwords': 129430596,\n",
       "    'emails': 152046506}},\n",
       "  '15': {'breachId': 15,\n",
       "   'site': 'imesh.com',\n",
       "   'recordsCount': 50913222,\n",
       "   'description': 'In June 2016, a cache of over 51 million user credentials from the online sharing service iMesh appeared for sale on a dark web marketplace.  The database contained user email addresses, usernames, passwords, IP addresses and location.',\n",
       "   'publishDate': '2016-10-23T00:00:00Z',\n",
       "   'statistics': {'usernames': 50909015,\n",
       "    'passwords': 50913222,\n",
       "    'emails': 50913222}},\n",
       "  '60': {'breachId': 60,\n",
       "   'site': 'qip.ru',\n",
       "   'recordsCount': 29271007,\n",
       "   'description': 'In 2011, Russian instant messaging service provider QIP was allegedly breached. The leaked data included over 33 million user records containing login details as well as other personal information and passwords stored in plain text. ',\n",
       "   'publishDate': '2016-11-01T00:00:00Z',\n",
       "   'statistics': {'usernames': 0, 'passwords': 29231325, 'emails': 29271007}},\n",
       "  '88': {'breachId': 88,\n",
       "   'site': 'ir.netease.com',\n",
       "   'recordsCount': 256475863,\n",
       "   'description': \"In October 2015, the Chinese internet and gaming company NetEase suffered a data breach that leaked hundreds of millions of user credentials. The dump contained users' email addresses along with their plain-text passwords.\",\n",
       "   'publishDate': '2016-11-07T00:00:00Z',\n",
       "   'statistics': {'usernames': 0,\n",
       "    'passwords': 255433278,\n",
       "    'emails': 256475863}},\n",
       "  '3772': {'breachId': 3772,\n",
       "   'site': 'evony.com',\n",
       "   'recordsCount': 32150217,\n",
       "   'description': \"In July 2016, gaming site Evony's user database was breached. Over 33 million username and passwords were compromised including a number of associated Facebook login credentials. The breach became public in October 2016. Evony's user forum was also breached in August 2016. That seperate breach exposed an additional 938,000 user accounts. \",\n",
       "   'publishDate': '2017-04-04T00:00:00Z',\n",
       "   'statistics': {'usernames': 4830394,\n",
       "    'passwords': 32148277,\n",
       "    'emails': 28697254}},\n",
       "  '3775': {'breachId': 3775,\n",
       "   'site': '51cto.com',\n",
       "   'recordsCount': 2152550,\n",
       "   'description': \"In December 2013, 51CTO's user database was allegedly breached. The stolen data contains over 2,154,000 records including email addresses, usernames, and passwords. The compromised data is being shared privately on the darknet.\",\n",
       "   'publishDate': '2017-04-14T00:00:00Z',\n",
       "   'statistics': {'usernames': 2152390,\n",
       "    'passwords': 2152545,\n",
       "    'emails': 2151198}},\n",
       "  '15996': {'breachId': 15996,\n",
       "   'site': 'vng.com.vn',\n",
       "   'recordsCount': 206450406,\n",
       "   'description': \"In 2018, VNG Corporation's database was allegedly breached. It is believe that this dataset is a compilation of databases from multiple different companies that belong to VNG, however this has yet to be confirmed. The stolen data contains passwords and email addresses. This breach is being publicly shared on the internet.\",\n",
       "   'publishDate': '2018-08-24T00:00:00Z',\n",
       "   'statistics': {'usernames': 157603681,\n",
       "    'passwords': 206450403,\n",
       "    'emails': 48729047}},\n",
       "  '16768': {'breachId': 16768,\n",
       "   'site': 'canva.com',\n",
       "   'recordsCount': 137434010,\n",
       "   'description': \"In May 2019, graphic-design site Canva's database was allegedly breached. The stolen data contains usernames, passwords, email addresses and additional personal information. This breach is being privately shared on the internet.\",\n",
       "   'publishDate': '2019-06-13T00:00:00Z',\n",
       "   'statistics': {'usernames': 137304104,\n",
       "    'passwords': 61348974,\n",
       "    'emails': 137402835}},\n",
       "  '17009': {'breachId': 17009,\n",
       "   'site': 'zynga.com',\n",
       "   'recordsCount': 216159495,\n",
       "   'description': 'In September 2019, the game developer Zynga was allegedly breached. The stolen data contains usernames, passwords, salts, email addresses and additional personal information. This breach is being privately shared on the internet.',\n",
       "   'publishDate': '2019-10-17T00:00:00Z',\n",
       "   'statistics': {'usernames': 214648143,\n",
       "    'passwords': 134762791,\n",
       "    'emails': 159032663}},\n",
       "  '17125': {'breachId': 17125,\n",
       "   'site': 'gigasize.com',\n",
       "   'recordsCount': 1899729,\n",
       "   'description': 'At an unconfirmed date, the file sharing site Gigasize was allegedly breached. The stolen data contains passwords and email addresses. This breach is being privately shared on the internet.',\n",
       "   'publishDate': '2020-01-03T00:00:00Z',\n",
       "   'statistics': {'usernames': 0, 'passwords': 1885984, 'emails': 1899729}},\n",
       "  '37372': {'breachId': 37372,\n",
       "   'site': 'gamesbox.com',\n",
       "   'recordsCount': 1519763,\n",
       "   'description': 'At an unconfirmed date, the online gaming website Gamesbox was allegedly breached. The stolen data contains email addresses, usernames, passwords and additional personal information. This breach is being privately shared on the internet.',\n",
       "   'publishDate': '2021-04-15T00:00:00Z',\n",
       "   'statistics': {'usernames': 1519739,\n",
       "    'passwords': 1488481,\n",
       "    'emails': 1445027}}},\n",
       " 'data': {'gigasize.com': {'qwerty@ya.com': [{'breachId': 17125,\n",
       "     'usernameBreached': False,\n",
       "     'passwordBreached': True}]},\n",
       "  'adobe.com': {'123456@ya.com': [{'breachId': 3,\n",
       "     'usernameBreached': False,\n",
       "     'passwordBreached': True}]},\n",
       "  'ir.netease.com': {'123456@ya.com': [{'breachId': 88,\n",
       "     'usernameBreached': False,\n",
       "     'passwordBreached': True}]},\n",
       "  'gamesbox.com': {'qwerty@ya.com': [{'breachId': 37372,\n",
       "     'usernameBreached': True,\n",
       "     'passwordBreached': True}]},\n",
       "  'vng.com.vn': {'123456@ya.com': [{'breachId': 15996,\n",
       "     'usernameBreached': False,\n",
       "     'passwordBreached': True}]},\n",
       "  'canva.com': {'qwerty@ya.com': [{'breachId': 16768,\n",
       "     'usernameBreached': True,\n",
       "     'passwordBreached': True}]},\n",
       "  '51cto.com': {'123456@ya.com': [{'breachId': 3775,\n",
       "     'usernameBreached': True,\n",
       "     'passwordBreached': True}]},\n",
       "  'qip.ru': {'123456@ya.com': [{'breachId': 60,\n",
       "     'usernameBreached': False,\n",
       "     'passwordBreached': True}]},\n",
       "  'evony.com': {'123456@ya.com': [{'breachId': 3772,\n",
       "     'usernameBreached': True,\n",
       "     'passwordBreached': True}]},\n",
       "  'imesh.com': {'123456@ya.com': [{'breachId': 15,\n",
       "     'usernameBreached': True,\n",
       "     'passwordBreached': True}],\n",
       "   'qwerty@ya.com': [{'breachId': 15,\n",
       "     'usernameBreached': True,\n",
       "     'passwordBreached': True}]},\n",
       "  'zynga.com': {'123456@ya.com': [{'breachId': 17009,\n",
       "     'usernameBreached': True,\n",
       "     'passwordBreached': True}],\n",
       "   'qwerty@ya.com': [{'breachId': 17009,\n",
       "     'usernameBreached': True,\n",
       "     'passwordBreached': True}]}},\n",
       " 'summary': {'123456@ya.com': {'breaches': [3,\n",
       "    15,\n",
       "    60,\n",
       "    88,\n",
       "    3772,\n",
       "    3775,\n",
       "    15996,\n",
       "    17009]},\n",
       "  'qwerty@ya.com': {'breaches': [15, 16768, 17009, 17125, 37372]}}}"
      ]
     },
     "execution_count": 61,
     "metadata": {},
     "output_type": "execute_result"
    }
   ],
   "source": [
    "request.json()"
   ]
  },
  {
   "cell_type": "code",
   "execution_count": 62,
   "metadata": {},
   "outputs": [
    {
     "data": {
      "text/plain": [
       "dict_keys(['breaches', 'data', 'summary'])"
      ]
     },
     "execution_count": 62,
     "metadata": {},
     "output_type": "execute_result"
    }
   ],
   "source": [
    "request.json().keys()"
   ]
  },
  {
   "cell_type": "code",
   "execution_count": 63,
   "metadata": {},
   "outputs": [
    {
     "data": {
      "text/plain": [
       "dict_keys(['breachId', 'site', 'recordsCount', 'description', 'publishDate', 'statistics'])"
      ]
     },
     "execution_count": 63,
     "metadata": {},
     "output_type": "execute_result"
    }
   ],
   "source": [
    "request.json()['breaches']['3'].keys()"
   ]
  },
  {
   "cell_type": "code",
   "execution_count": 64,
   "metadata": {},
   "outputs": [
    {
     "data": {
      "text/plain": [
       "'2016-10-21'"
      ]
     },
     "execution_count": 64,
     "metadata": {},
     "output_type": "execute_result"
    }
   ],
   "source": [
    "request.json()['breaches']['3']['publishDate'][:10]"
   ]
  },
  {
   "cell_type": "code",
   "execution_count": 127,
   "metadata": {},
   "outputs": [],
   "source": [
    "import pandas as pd\n",
    "df = pd.DataFrame(request.json()['breaches']).T.reset_index()[['breachId', 'publishDate', 'site', 'description']]"
   ]
  },
  {
   "cell_type": "code",
   "execution_count": 128,
   "metadata": {},
   "outputs": [],
   "source": [
    "df.publishDate =  df.publishDate[0][:10]"
   ]
  },
  {
   "cell_type": "code",
   "execution_count": 129,
   "metadata": {},
   "outputs": [
    {
     "data": {
      "text/html": [
       "<div>\n",
       "<style scoped>\n",
       "    .dataframe tbody tr th:only-of-type {\n",
       "        vertical-align: middle;\n",
       "    }\n",
       "\n",
       "    .dataframe tbody tr th {\n",
       "        vertical-align: top;\n",
       "    }\n",
       "\n",
       "    .dataframe thead th {\n",
       "        text-align: right;\n",
       "    }\n",
       "</style>\n",
       "<table border=\"1\" class=\"dataframe\">\n",
       "  <thead>\n",
       "    <tr style=\"text-align: right;\">\n",
       "      <th></th>\n",
       "      <th>breachId</th>\n",
       "      <th>publishDate</th>\n",
       "      <th>site</th>\n",
       "      <th>description</th>\n",
       "    </tr>\n",
       "  </thead>\n",
       "  <tbody>\n",
       "    <tr>\n",
       "      <th>0</th>\n",
       "      <td>3</td>\n",
       "      <td>2016-10-21</td>\n",
       "      <td>adobe.com</td>\n",
       "      <td>In October of 2013, criminals penetrated Adobe...</td>\n",
       "    </tr>\n",
       "    <tr>\n",
       "      <th>1</th>\n",
       "      <td>15</td>\n",
       "      <td>2016-10-21</td>\n",
       "      <td>imesh.com</td>\n",
       "      <td>In June 2016, a cache of over 51 million user ...</td>\n",
       "    </tr>\n",
       "    <tr>\n",
       "      <th>2</th>\n",
       "      <td>60</td>\n",
       "      <td>2016-10-21</td>\n",
       "      <td>qip.ru</td>\n",
       "      <td>In 2011, Russian instant messaging service pro...</td>\n",
       "    </tr>\n",
       "    <tr>\n",
       "      <th>3</th>\n",
       "      <td>88</td>\n",
       "      <td>2016-10-21</td>\n",
       "      <td>ir.netease.com</td>\n",
       "      <td>In October 2015, the Chinese internet and gami...</td>\n",
       "    </tr>\n",
       "    <tr>\n",
       "      <th>4</th>\n",
       "      <td>3772</td>\n",
       "      <td>2016-10-21</td>\n",
       "      <td>evony.com</td>\n",
       "      <td>In July 2016, gaming site Evony's user databas...</td>\n",
       "    </tr>\n",
       "    <tr>\n",
       "      <th>5</th>\n",
       "      <td>3775</td>\n",
       "      <td>2016-10-21</td>\n",
       "      <td>51cto.com</td>\n",
       "      <td>In December 2013, 51CTO's user database was al...</td>\n",
       "    </tr>\n",
       "    <tr>\n",
       "      <th>6</th>\n",
       "      <td>15996</td>\n",
       "      <td>2016-10-21</td>\n",
       "      <td>vng.com.vn</td>\n",
       "      <td>In 2018, VNG Corporation's database was allege...</td>\n",
       "    </tr>\n",
       "    <tr>\n",
       "      <th>7</th>\n",
       "      <td>16768</td>\n",
       "      <td>2016-10-21</td>\n",
       "      <td>canva.com</td>\n",
       "      <td>In May 2019, graphic-design site Canva's datab...</td>\n",
       "    </tr>\n",
       "    <tr>\n",
       "      <th>8</th>\n",
       "      <td>17009</td>\n",
       "      <td>2016-10-21</td>\n",
       "      <td>zynga.com</td>\n",
       "      <td>In September 2019, the game developer Zynga wa...</td>\n",
       "    </tr>\n",
       "    <tr>\n",
       "      <th>9</th>\n",
       "      <td>17125</td>\n",
       "      <td>2016-10-21</td>\n",
       "      <td>gigasize.com</td>\n",
       "      <td>At an unconfirmed date, the file sharing site ...</td>\n",
       "    </tr>\n",
       "    <tr>\n",
       "      <th>10</th>\n",
       "      <td>37372</td>\n",
       "      <td>2016-10-21</td>\n",
       "      <td>gamesbox.com</td>\n",
       "      <td>At an unconfirmed date, the online gaming webs...</td>\n",
       "    </tr>\n",
       "  </tbody>\n",
       "</table>\n",
       "</div>"
      ],
      "text/plain": [
       "   breachId publishDate            site  \\\n",
       "0         3  2016-10-21       adobe.com   \n",
       "1        15  2016-10-21       imesh.com   \n",
       "2        60  2016-10-21          qip.ru   \n",
       "3        88  2016-10-21  ir.netease.com   \n",
       "4      3772  2016-10-21       evony.com   \n",
       "5      3775  2016-10-21       51cto.com   \n",
       "6     15996  2016-10-21      vng.com.vn   \n",
       "7     16768  2016-10-21       canva.com   \n",
       "8     17009  2016-10-21       zynga.com   \n",
       "9     17125  2016-10-21    gigasize.com   \n",
       "10    37372  2016-10-21    gamesbox.com   \n",
       "\n",
       "                                          description  \n",
       "0   In October of 2013, criminals penetrated Adobe...  \n",
       "1   In June 2016, a cache of over 51 million user ...  \n",
       "2   In 2011, Russian instant messaging service pro...  \n",
       "3   In October 2015, the Chinese internet and gami...  \n",
       "4   In July 2016, gaming site Evony's user databas...  \n",
       "5   In December 2013, 51CTO's user database was al...  \n",
       "6   In 2018, VNG Corporation's database was allege...  \n",
       "7   In May 2019, graphic-design site Canva's datab...  \n",
       "8   In September 2019, the game developer Zynga wa...  \n",
       "9   At an unconfirmed date, the file sharing site ...  \n",
       "10  At an unconfirmed date, the online gaming webs...  "
      ]
     },
     "execution_count": 129,
     "metadata": {},
     "output_type": "execute_result"
    }
   ],
   "source": [
    "df # итоговый датафрейм"
   ]
  },
  {
   "cell_type": "code",
   "execution_count": null,
   "metadata": {},
   "outputs": [],
   "source": [
    "# какие уточки к какой почте относятся"
   ]
  },
  {
   "cell_type": "code",
   "execution_count": 125,
   "metadata": {},
   "outputs": [
    {
     "data": {
      "text/html": [
       "<div>\n",
       "<style scoped>\n",
       "    .dataframe tbody tr th:only-of-type {\n",
       "        vertical-align: middle;\n",
       "    }\n",
       "\n",
       "    .dataframe tbody tr th {\n",
       "        vertical-align: top;\n",
       "    }\n",
       "\n",
       "    .dataframe thead th {\n",
       "        text-align: right;\n",
       "    }\n",
       "</style>\n",
       "<table border=\"1\" class=\"dataframe\">\n",
       "  <thead>\n",
       "    <tr style=\"text-align: right;\">\n",
       "      <th></th>\n",
       "      <th>breaches</th>\n",
       "    </tr>\n",
       "  </thead>\n",
       "  <tbody>\n",
       "    <tr>\n",
       "      <th>123456@ya.com</th>\n",
       "      <td>[3, 15, 60, 88, 3772, 3775, 15996, 17009]</td>\n",
       "    </tr>\n",
       "    <tr>\n",
       "      <th>qwerty@ya.com</th>\n",
       "      <td>[15, 16768, 17009, 17125, 37372]</td>\n",
       "    </tr>\n",
       "  </tbody>\n",
       "</table>\n",
       "</div>"
      ],
      "text/plain": [
       "                                                breaches\n",
       "123456@ya.com  [3, 15, 60, 88, 3772, 3775, 15996, 17009]\n",
       "qwerty@ya.com           [15, 16768, 17009, 17125, 37372]"
      ]
     },
     "execution_count": 125,
     "metadata": {},
     "output_type": "execute_result"
    }
   ],
   "source": [
    "df_total_breaches = pd.DataFrame(request.json()['summary']).T\n",
    "df_total_breaches"
   ]
  },
  {
   "cell_type": "code",
   "execution_count": null,
   "metadata": {},
   "outputs": [],
   "source": [
    "# фильтр по конкретной почте"
   ]
  },
  {
   "cell_type": "code",
   "execution_count": 130,
   "metadata": {},
   "outputs": [
    {
     "data": {
      "text/html": [
       "<div>\n",
       "<style scoped>\n",
       "    .dataframe tbody tr th:only-of-type {\n",
       "        vertical-align: middle;\n",
       "    }\n",
       "\n",
       "    .dataframe tbody tr th {\n",
       "        vertical-align: top;\n",
       "    }\n",
       "\n",
       "    .dataframe thead th {\n",
       "        text-align: right;\n",
       "    }\n",
       "</style>\n",
       "<table border=\"1\" class=\"dataframe\">\n",
       "  <thead>\n",
       "    <tr style=\"text-align: right;\">\n",
       "      <th></th>\n",
       "      <th>breachId</th>\n",
       "      <th>publishDate</th>\n",
       "      <th>site</th>\n",
       "      <th>description</th>\n",
       "    </tr>\n",
       "  </thead>\n",
       "  <tbody>\n",
       "    <tr>\n",
       "      <th>0</th>\n",
       "      <td>3</td>\n",
       "      <td>2016-10-21</td>\n",
       "      <td>adobe.com</td>\n",
       "      <td>In October of 2013, criminals penetrated Adobe...</td>\n",
       "    </tr>\n",
       "    <tr>\n",
       "      <th>1</th>\n",
       "      <td>15</td>\n",
       "      <td>2016-10-21</td>\n",
       "      <td>imesh.com</td>\n",
       "      <td>In June 2016, a cache of over 51 million user ...</td>\n",
       "    </tr>\n",
       "    <tr>\n",
       "      <th>2</th>\n",
       "      <td>60</td>\n",
       "      <td>2016-10-21</td>\n",
       "      <td>qip.ru</td>\n",
       "      <td>In 2011, Russian instant messaging service pro...</td>\n",
       "    </tr>\n",
       "    <tr>\n",
       "      <th>3</th>\n",
       "      <td>88</td>\n",
       "      <td>2016-10-21</td>\n",
       "      <td>ir.netease.com</td>\n",
       "      <td>In October 2015, the Chinese internet and gami...</td>\n",
       "    </tr>\n",
       "    <tr>\n",
       "      <th>4</th>\n",
       "      <td>3772</td>\n",
       "      <td>2016-10-21</td>\n",
       "      <td>evony.com</td>\n",
       "      <td>In July 2016, gaming site Evony's user databas...</td>\n",
       "    </tr>\n",
       "    <tr>\n",
       "      <th>5</th>\n",
       "      <td>3775</td>\n",
       "      <td>2016-10-21</td>\n",
       "      <td>51cto.com</td>\n",
       "      <td>In December 2013, 51CTO's user database was al...</td>\n",
       "    </tr>\n",
       "    <tr>\n",
       "      <th>6</th>\n",
       "      <td>15996</td>\n",
       "      <td>2016-10-21</td>\n",
       "      <td>vng.com.vn</td>\n",
       "      <td>In 2018, VNG Corporation's database was allege...</td>\n",
       "    </tr>\n",
       "    <tr>\n",
       "      <th>8</th>\n",
       "      <td>17009</td>\n",
       "      <td>2016-10-21</td>\n",
       "      <td>zynga.com</td>\n",
       "      <td>In September 2019, the game developer Zynga wa...</td>\n",
       "    </tr>\n",
       "  </tbody>\n",
       "</table>\n",
       "</div>"
      ],
      "text/plain": [
       "  breachId publishDate            site  \\\n",
       "0        3  2016-10-21       adobe.com   \n",
       "1       15  2016-10-21       imesh.com   \n",
       "2       60  2016-10-21          qip.ru   \n",
       "3       88  2016-10-21  ir.netease.com   \n",
       "4     3772  2016-10-21       evony.com   \n",
       "5     3775  2016-10-21       51cto.com   \n",
       "6    15996  2016-10-21      vng.com.vn   \n",
       "8    17009  2016-10-21       zynga.com   \n",
       "\n",
       "                                         description  \n",
       "0  In October of 2013, criminals penetrated Adobe...  \n",
       "1  In June 2016, a cache of over 51 million user ...  \n",
       "2  In 2011, Russian instant messaging service pro...  \n",
       "3  In October 2015, the Chinese internet and gami...  \n",
       "4  In July 2016, gaming site Evony's user databas...  \n",
       "5  In December 2013, 51CTO's user database was al...  \n",
       "6  In 2018, VNG Corporation's database was allege...  \n",
       "8  In September 2019, the game developer Zynga wa...  "
      ]
     },
     "execution_count": 130,
     "metadata": {},
     "output_type": "execute_result"
    }
   ],
   "source": [
    "df[df['breachId'].isin(df_total_breaches['breaches']['123456@ya.com'])]"
   ]
  }
 ],
 "metadata": {
  "kernelspec": {
   "display_name": "Python 3",
   "language": "python",
   "name": "python3"
  },
  "language_info": {
   "codemirror_mode": {
    "name": "ipython",
    "version": 3
   },
   "file_extension": ".py",
   "mimetype": "text/x-python",
   "name": "python",
   "nbconvert_exporter": "python",
   "pygments_lexer": "ipython3",
   "version": "3.8.5"
  }
 },
 "nbformat": 4,
 "nbformat_minor": 4
}
