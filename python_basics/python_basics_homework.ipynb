{
 "cells": [
  {
   "cell_type": "markdown",
   "metadata": {},
   "source": [
    "## Домашнее задание к лекции \"Основы Python\""
   ]
  },
  {
   "cell_type": "markdown",
   "metadata": {},
   "source": [
    "### Задание 1\n",
    "\n",
    "Даны 2 переменных, в которых хранятся строки произвольной длины: phrase_1 и phrase_2.\n",
    "Напишите код, который проверяет какая из этих строк длиннее."
   ]
  },
  {
   "cell_type": "code",
   "execution_count": 1,
   "metadata": {},
   "outputs": [
    {
     "name": "stdout",
     "output_type": "stream",
     "text": [
      "Введите 1ую фразу  12345\n",
      "Введите 2ую фразу  1234\n",
      "Фраза 1 длиннее фразы 2\n"
     ]
    }
   ],
   "source": [
    "phrase_1 = str(input('Введите 1ую фразу  '))\n",
    "phrase_2 = str(input('Введите 2ую фразу  '))\n",
    "if len(phrase_1) < len(phrase_2):\n",
    "    print('Фраза 2 длиннее фразы 1')\n",
    "elif len(phrase_2) < len(phrase_1):\n",
    "    print('Фраза 1 длиннее фразы 2')\n",
    "else:\n",
    "    print('Фразы равной длины')"
   ]
  },
  {
   "cell_type": "markdown",
   "metadata": {},
   "source": [
    "### Задание 2\n",
    "\n",
    "Дана переменная, в которой хранится четырехзначное число (год). Необходимо написать программу, которая выведет, является ли данный год високосным или обычным.\n",
    "\n"
   ]
  },
  {
   "cell_type": "code",
   "execution_count": 2,
   "metadata": {},
   "outputs": [
    {
     "name": "stdout",
     "output_type": "stream",
     "text": [
      "Введите год  1900\n",
      "Обычный год\n"
     ]
    }
   ],
   "source": [
    "year = int(input('Введите год  '))\n",
    "if year % 4 == 0 and year % 100 != 0:\n",
    "    print('Високосный год')\n",
    "elif year % 100 == 0 and year % 400 == 0:\n",
    "    print('Високосный год')\n",
    "else:\n",
    "    print('Обычный год')"
   ]
  },
  {
   "cell_type": "markdown",
   "metadata": {},
   "source": [
    "### Задание 3\n",
    "\n",
    "Необходимо написать программу, которая будет запрашивать у пользователя месяц и дату рождения и выводить соответствующий знак зодиака."
   ]
  },
  {
   "cell_type": "code",
   "execution_count": 19,
   "metadata": {},
   "outputs": [
    {
     "name": "stdout",
     "output_type": "stream",
     "text": [
      "День  23\n",
      "Месяц  11\n",
      "Ваш знак зодиака:  Стрелец\n"
     ]
    }
   ],
   "source": [
    "day = int(input('День  '))\n",
    "month = int(input('Месяц  '))\n",
    "if month == 12 and day >= 22 or month == 1 and day <= 19 : \n",
    "    z = 'Козерог'\n",
    "elif month == 1 and day >= 20 or month == 2 and day <= 18 : \n",
    "    z = 'Водолей'\n",
    "elif month == 2 and day >= 19 or month == 3 and day <= 20 : \n",
    "    z = 'Рыбы'\n",
    "elif month == 3 and day >= 21 or month == 4 and day <= 19 : \n",
    "    z = 'Овен'\n",
    "elif month == 4 and day >= 20 or month == 5 and day <= 20 : \n",
    "    z = 'Телец'\n",
    "elif month == 5 and day >= 21 or month == 6 and day <= 20 : \n",
    "    z = 'Близнецы'\n",
    "elif month == 6 and day >= 21 or month == 7 and day <= 22 : \n",
    "    z = 'Рак'\n",
    "elif month == 7 and day >= 23 or month == 8 and day <= 22 : \n",
    "    z = 'Лев'\n",
    "elif month == 8 and day >= 23 or month == 9 and day <= 22 : \n",
    "    z = 'Дева'\n",
    "elif month == 9 and day >= 23 or month == 10 and day <= 22 : \n",
    "    z = 'Весы'\n",
    "elif month == 10 and day >= 23 or month == 11 and day <= 21 : \n",
    "    z = 'Скорпион'\n",
    "else:\n",
    "    z = 'Стрелец'\n",
    "print('Ваш знак зодиака: ', z)"
   ]
  },
  {
   "cell_type": "markdown",
   "metadata": {},
   "source": [
    "### Задание 4\n",
    "\n",
    "Вам нужно написать программу для подбора упаковок по размерам товара. Размеры (ширина, длина, высота) хранятся в переменных (в сантиметрах):\n",
    "\n",
    "Используйте следующие правила:\n",
    "\n",
    "если каждое из трех измерений менее 15 сантиметров, то выведите на экран \"Коробка №1\";\n",
    "если хотя бы одно из измерений больше 15 сантиметров, но менее 50 сантиметров, то выводите \"Коробка №2\";\n",
    "если длина товара больше 2 метров, то выводите \"Упаковка для лыж\";\n",
    "во всех остальных случаях выводите \"Стандартная коробка №3\"."
   ]
  },
  {
   "cell_type": "code",
   "execution_count": 44,
   "metadata": {},
   "outputs": [
    {
     "name": "stdout",
     "output_type": "stream",
     "text": [
      "Длина,см  50\n",
      "Ширина,см  15\n",
      "Высота,см  15\n",
      "Стандартная коробка №3\n"
     ]
    }
   ],
   "source": [
    "length = int(input('Длина,см  '))\n",
    "width = int(input('Ширина,см  '))\n",
    "height = int(input('Высота,см  '))\n",
    "if length < 15 and width < 15 and height < 15: \n",
    "    print('Коробка №1')\n",
    "elif length > 200: \n",
    "    print('Упаковка для лыж')\n",
    "elif 50 > length > 15 or 50 > width > 15 or 50 > height > 15: \n",
    "    print('Коробка №2')    \n",
    "else:\n",
    "    print('Стандартная коробка №3')"
   ]
  },
  {
   "cell_type": "markdown",
   "metadata": {},
   "source": [
    "### Задание 5\n",
    "\n",
    "Дана переменная, в которой хранится шестизначное число (номер проездного билета). Напишите программу, которая будет определять, является ли данный билет \"счастливым\". Билет считается счастливым, если сумма первых трех цифр совпадает с суммой последних трех цифр номера."
   ]
  },
  {
   "cell_type": "markdown",
   "metadata": {},
   "source": [
    "1ый способ только через арифметические операции"
   ]
  },
  {
   "cell_type": "code",
   "execution_count": 15,
   "metadata": {},
   "outputs": [
    {
     "name": "stdout",
     "output_type": "stream",
     "text": [
      "Номер билета  532352\n",
      "Счастливый билет!!!\n"
     ]
    }
   ],
   "source": [
    "number = int(input('Номер билета  '))\n",
    "if 100000 <= number <= 999999: \n",
    "    if ((number // 1000)//100 + (number // 1000)%100//10 + (number // 1000)%100%10) ==\\\n",
    "    ((number % 1000)//100 + (number % 1000)%100//10 + (number % 1000)%100%10) : \n",
    "        print('Счастливый билет!')   \n",
    "    else:\n",
    "        print('Обычный билет')\n",
    "else:\n",
    "    print('Введите шестизначный номер билета!')"
   ]
  },
  {
   "cell_type": "markdown",
   "metadata": {},
   "source": [
    "2ой способ через строки"
   ]
  },
  {
   "cell_type": "code",
   "execution_count": 35,
   "metadata": {},
   "outputs": [
    {
     "name": "stdout",
     "output_type": "stream",
     "text": [
      "Номер билета  123231\n",
      "Счастливый билет!\n"
     ]
    }
   ],
   "source": [
    "number = str(input('Номер билета  '))\n",
    "if len(number) ==6 : \n",
    "    if int(number[0])+int(number[1])+int(number[2]) == int(number[5])+int(number[4])+int(number[3]): \n",
    "        print('Счастливый билет!')   \n",
    "    else:\n",
    "        print('Обычный билет')\n",
    "else:\n",
    "    print('Введите шестизначный номер билета!')"
   ]
  },
  {
   "cell_type": "markdown",
   "metadata": {},
   "source": [
    "### Задание 6\n",
    "\n",
    "Напишите программу, которая сможет вычислять площади трех фигур (круг, треугольник и прямоугольник). Тип фигуры запрашиваем через пользовательский ввод, после чего делаем запрос характеристик фигуры:\n",
    "\n",
    "если пользователь выбрал круг, запрашиваем его радиус,\n",
    "если треугольник – длины трех его сторон;\n",
    "если прямоугольник – длины двух его сторон"
   ]
  },
  {
   "cell_type": "code",
   "execution_count": 16,
   "metadata": {},
   "outputs": [],
   "source": [
    "import math"
   ]
  },
  {
   "cell_type": "code",
   "execution_count": 50,
   "metadata": {},
   "outputs": [
    {
     "name": "stdout",
     "output_type": "stream",
     "text": [
      "Введите тип фигуры (круг,треугольник или прямоугольник)  треугольник\n",
      "Введите длину сторону A   2\n",
      "Введите длину сторону B   2\n",
      "Введите длину сторону C   3\n",
      "Площадь треугольника:  1.98\n"
     ]
    }
   ],
   "source": [
    "fig = str(input('Введите тип фигуры (круг,треугольник или прямоугольник)  '))\n",
    "if fig == 'круг' : \n",
    "    rad = int(input('Введите радиус   '))\n",
    "    print('Площадь круга: ', round((math.pi*(rad**2)),2) )\n",
    "elif fig == 'треугольник' : \n",
    "    A = int(input('Введите длину сторону A   '))\n",
    "    B = int(input('Введите длину сторону B   '))\n",
    "    C = int(input('Введите длину сторону C   '))\n",
    "    P = (A+B+C)/2\n",
    "    print('Площадь треугольника: ', round(((P*(P-A)*(P-B)*(P-C))**0.5),2) )\n",
    "elif fig == 'прямоугольник' : \n",
    "    A = int(input('Введите длину сторону A   '))\n",
    "    B = int(input('Введите длину сторону B   '))\n",
    "    print('Площадь прямоугольника: ', A*B)\n",
    "else:\n",
    "    print('Неверный ввод')"
   ]
  }
 ],
 "metadata": {
  "kernelspec": {
   "display_name": "Python 3",
   "language": "python",
   "name": "python3"
  },
  "language_info": {
   "codemirror_mode": {
    "name": "ipython",
    "version": 3
   },
   "file_extension": ".py",
   "mimetype": "text/x-python",
   "name": "python",
   "nbconvert_exporter": "python",
   "pygments_lexer": "ipython3",
   "version": "3.8.5"
  }
 },
 "nbformat": 4,
 "nbformat_minor": 4
}
