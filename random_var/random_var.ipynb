{
 "cells": [
  {
   "cell_type": "markdown",
   "metadata": {},
   "source": [
    "## Домашнее задание к лекции «Случайные события. Случайные величины»"
   ]
  },
  {
   "cell_type": "markdown",
   "metadata": {},
   "source": [
    "Смоделировать игру против лотерейного автомата типа “777”. Игрок платит 1 руб., после чего выпадает случайное целое число, равномерно распределенное от 0 до 999. При некоторых значениях числа игрок получает выигрыш.\n",
    "\n",
    "777: 200 руб.  \n",
    "999: 100 руб.  \n",
    "555: 50 руб.  \n",
    "333: 15 руб.  \n",
    "111: 10 руб.  \n",
    "*77: 5 руб.  \n",
    "**7: 3 руб.  \n",
    "*00: 2 руб.  \n",
    "**0: 1 руб.  \n",
    "– любая цифра\n",
    "\n",
    "#### Вопросы:\n",
    "\n",
    "Выгодна ли игра игроку?  \n",
    "Сколько в среднем приобретает или теряет игрок за одну игру?"
   ]
  },
  {
   "cell_type": "code",
   "execution_count": 1,
   "metadata": {},
   "outputs": [],
   "source": [
    "import numpy as np"
   ]
  },
  {
   "cell_type": "code",
   "execution_count": 246,
   "metadata": {},
   "outputs": [
    {
     "name": "stdout",
     "output_type": "stream",
     "text": [
      "Заплатил: 2500000\n",
      "Выиграл: 2014654\n",
      "Не выгодно!\n",
      "В среднем игрок приобретает/теряет за одну игру: -0.1941384\n"
     ]
    }
   ],
   "source": [
    "trials = 2500000\n",
    "payment = 0\n",
    "win = 0\n",
    "# nums = []\n",
    "\n",
    "for i in range(trials):\n",
    "    payment += 1\n",
    "    num = np.random.randint(0, 1000)\n",
    "#     print(num)\n",
    "#     nums.append(num)\n",
    "    if num == 777:\n",
    "        win += 200\n",
    "    elif num == 999:\n",
    "        win += 100\n",
    "    elif num == 555:\n",
    "        win += 50\n",
    "    elif num == 333:\n",
    "        win += 15\n",
    "    elif num == 111:\n",
    "        win += 10\n",
    "    elif num % 100 == 77 and num != 777:\n",
    "        win += 5\n",
    "    elif num % 10 == 7 and num != 777 and num % 100 != 77:\n",
    "        win += 3\n",
    "    elif num % 100 == 0 :\n",
    "        win += 2\n",
    "    elif num % 10 == 0 and num % 100 != 0 and num != 0 :\n",
    "        win += 1\n",
    "#     else:\n",
    "#         continue\n",
    "# print(nums)\n",
    "print(f'Заплатил: {payment}')\n",
    "print(f'Выиграл: {win}')\n",
    "if payment <= win:\n",
    "    print('Выгодно!')\n",
    "else:\n",
    "    print('Не выгодно!')\n",
    "print(f'В среднем игрок приобретает/теряет за одну игру: {(win-payment)/trials}')"
   ]
  },
  {
   "cell_type": "code",
   "execution_count": null,
   "metadata": {},
   "outputs": [],
   "source": [
    "# при большом кол-ве попыток получаем средний проигрыш за игру около 0,2 руб."
   ]
  },
  {
   "cell_type": "markdown",
   "metadata": {},
   "source": [
    "**Дополнительное задание повышенной сложности. **\n",
    "\n",
    "Теоретически рассчитать средний выигрыш (проигрыш) и сравнить с результатами моделирования\n",
    "\n"
   ]
  },
  {
   "cell_type": "code",
   "execution_count": null,
   "metadata": {},
   "outputs": [],
   "source": [
    "# в опыте возможно 1000 разных исходов\n",
    "# расчитаем теоретические вероятности тех из них, которые приводят к выигрышу, а затем среднюю величину выигрыша"
   ]
  },
  {
   "cell_type": "markdown",
   "metadata": {},
   "source": [
    "777: 200 руб.  \n",
    "999: 100 руб.  \n",
    "555: 50 руб.  \n",
    "333: 15 руб.  \n",
    "111: 10 руб.  \n",
    "*77: 5 руб.  \n",
    "**7: 3 руб.  \n",
    "*00: 2 руб.  \n",
    "**0: 1 руб.   \n",
    "– любая цифра"
   ]
  },
  {
   "cell_type": "code",
   "execution_count": 129,
   "metadata": {},
   "outputs": [
    {
     "data": {
      "text/plain": [
       "205"
      ]
     },
     "execution_count": 129,
     "metadata": {},
     "output_type": "execute_result"
    }
   ],
   "source": [
    "# кол-во выигрышных исходов\n",
    "win_count = 5 + 10 + 9*10 + 10 + 9*10\n",
    "win_count"
   ]
  },
  {
   "cell_type": "code",
   "execution_count": 141,
   "metadata": {},
   "outputs": [
    {
     "data": {
      "text/plain": [
       "795"
      ]
     },
     "execution_count": 141,
     "metadata": {},
     "output_type": "execute_result"
    }
   ],
   "source": [
    "# кол-во проигрышных исходов, при каждом из которых теряем 1 руб.\n",
    "var = 1000\n",
    "loss_count = var - win_count\n",
    "loss_count"
   ]
  },
  {
   "cell_type": "code",
   "execution_count": 16,
   "metadata": {},
   "outputs": [
    {
     "name": "stdout",
     "output_type": "stream",
     "text": [
      "Вероятность выигрыша 20.5%\n",
      "Вероятность проигрыша 79.5%\n",
      "Средний чистый выигрыш 0.805 руб.\n",
      "Но! теряем при любом исходе всё равно теряем 1 руб.\n"
     ]
    }
   ],
   "source": [
    "# вероятности каждого типа выигрышных исходов\n",
    "p_777 = 0.001\n",
    "p_999 = 0.001\n",
    "p_555 = 0.001\n",
    "p_333 = 0.001\n",
    "p_111 = 0.001\n",
    "p_77 = 0.01\n",
    "p_7 = 0.09\n",
    "p_00 = 0.01\n",
    "p_0 = 0.09\n",
    "\n",
    "p_win = p_777+p_999+p_555+p_333+p_111+p_77+p_7+p_00+p_0\n",
    "print(f'Вероятность выигрыша {p_win*100}%')\n",
    "print(f'Вероятность проигрыша {(1-p_win)*100}%')\n",
    "\n",
    "\n",
    "win_mean = p_777*200 + p_999*100 + p_555*50 + p_333*15 + p_111*10 + p_77*5 + p_7*3 + p_00*2 + p_0*1\n",
    "print(f'Средний чистый выигрыш {win_mean} руб.')\n",
    "loss = 1\n",
    "print(f'Но! теряем при любом исходе всё равно теряем {loss} руб.')"
   ]
  },
  {
   "cell_type": "code",
   "execution_count": 13,
   "metadata": {},
   "outputs": [
    {
     "name": "stdout",
     "output_type": "stream",
     "text": [
      "-0.19499999999999995\n"
     ]
    },
    {
     "data": {
      "text/plain": [
       "-0.19499999999999995"
      ]
     },
     "execution_count": 13,
     "metadata": {},
     "output_type": "execute_result"
    }
   ],
   "source": [
    "# итого средний результат одной игры\n",
    "game_mean_res = p_777*(200-1) + p_999*(100-1) + p_555*(50-1) + p_333*(15-1) + p_111*(10-1) + p_77*(5-1) + p_7*(3-1) + p_00*(2-1) + p_0*(1-1)+(1-p_win)*(-loss)\n",
    "print(game_mean_res)\n",
    "# проверка\n",
    "win_mean - loss"
   ]
  },
  {
   "cell_type": "code",
   "execution_count": 11,
   "metadata": {},
   "outputs": [
    {
     "name": "stdout",
     "output_type": "stream",
     "text": [
      "В среднем игрок теряет за одну произвольную попытку: -0.195 руб.\n"
     ]
    }
   ],
   "source": [
    "print(f'В среднем игрок теряет за одну произвольную попытку: {round(game_mean_res, 3)} руб.')"
   ]
  }
 ],
 "metadata": {
  "kernelspec": {
   "display_name": "Python 3",
   "language": "python",
   "name": "python3"
  },
  "language_info": {
   "codemirror_mode": {
    "name": "ipython",
    "version": 3
   },
   "file_extension": ".py",
   "mimetype": "text/x-python",
   "name": "python",
   "nbconvert_exporter": "python",
   "pygments_lexer": "ipython3",
   "version": "3.8.5"
  }
 },
 "nbformat": 4,
 "nbformat_minor": 4
}
